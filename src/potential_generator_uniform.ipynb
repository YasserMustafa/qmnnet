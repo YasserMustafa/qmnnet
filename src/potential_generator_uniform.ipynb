{
 "cells": [
  {
   "cell_type": "code",
   "execution_count": 1,
   "metadata": {
    "ExecuteTime": {
     "end_time": "2016-07-28T23:26:57.389239",
     "start_time": "2016-07-28T23:26:56.518659"
    },
    "collapsed": true
   },
   "outputs": [],
   "source": [
    "%matplotlib inline\n",
    "import numpy as np\n",
    "from numpy.random import normal, randint\n",
    "import matplotlib.pyplot as plt\n",
    "from scipy.interpolate import interp1d\n",
    "from scipy.integrate import quad, simps\n",
    "import sys, os, gc\n",
    "from sklearn.model_selection import train_test_split\n",
    "from sklearn.neural_network import MLPRegressor\n",
    "import tisesolve as ts\n",
    "import time"
   ]
  },
  {
   "cell_type": "markdown",
   "metadata": {},
   "source": [
    "# Inputs"
   ]
  },
  {
   "cell_type": "code",
   "execution_count": 2,
   "metadata": {
    "ExecuteTime": {
     "end_time": "2016-07-28T23:26:57.404133",
     "start_time": "2016-07-28T23:26:57.390952"
    },
    "collapsed": false
   },
   "outputs": [
    {
     "name": "stdout",
     "output_type": "stream",
     "text": [
      "Input parameters:\n",
      "  n_V= 100000\n",
      "  x_i= -1.00\n",
      "  x_f= 1.00\n",
      "  n_x= 100\n",
      "  n_xpot= 10\n",
      "  lamb= 0.80\n",
      "  sigma= 7.50\n",
      "  n_basis= 20\n",
      "  n_eig= 10\n",
      "\n"
     ]
    }
   ],
   "source": [
    "# Number of potentials:\n",
    "n_V = int(1e5)\n",
    "# x limits:\n",
    "x_i = -1\n",
    "x_f = 1\n",
    "# Number of x coordinates for spline:\n",
    "n_x = 100\n",
    "x_vec = np.linspace(x_i, x_f, n_x)\n",
    "# Number of x coordinates for potential generation\n",
    "n_xpot = 10\n",
    "xpot_vec = np.linspace(x_i,x_f,n_xpot)\n",
    "# Damping factor\n",
    "lamb = 0.8\n",
    "# Potential standard deviation\n",
    "sigma = 30/(x_f-x_i)**2\n",
    "# Number of basis wavefunctions\n",
    "n_basis = 20\n",
    "basis_vec = np.arange(1,n_basis+1)\n",
    "# Number of eigenvalues to train the neural network to predict\n",
    "n_eig = 10\n",
    "# Neural network architecture:\n",
    "arch = (50,50)\n",
    "\n",
    "print(\"Input parameters:\\n\"\n",
    "      \"  n_V= %i\\n\"\n",
    "      \"  x_i= %0.2f\\n\"\n",
    "      \"  x_f= %0.2f\\n\"\n",
    "      \"  n_x= %i\\n\"\n",
    "      \"  n_xpot= %i\\n\"\n",
    "      \"  lamb= %0.2f\\n\"\n",
    "      \"  sigma= %0.2f\\n\"\n",
    "      \"  n_basis= %i\\n\"\n",
    "      \"  n_eig= %i\\n\"\n",
    "      % (n_V,x_i, x_f, n_x, n_xpot, lamb, sigma, n_basis, n_eig))"
   ]
  },
  {
   "cell_type": "markdown",
   "metadata": {},
   "source": [
    "# Generate the potentials"
   ]
  },
  {
   "cell_type": "code",
   "execution_count": 3,
   "metadata": {
    "collapsed": true
   },
   "outputs": [],
   "source": [
    "# Randomly select the value of the potential at the selected points\n",
    "V_xpot = normal(loc=0, scale=sigma, size=(n_V,n_xpot))"
   ]
  },
  {
   "cell_type": "code",
   "execution_count": 4,
   "metadata": {
    "collapsed": true
   },
   "outputs": [],
   "source": [
    "# Form a cubic spline for each potential\n",
    "V_interp = interp1d(xpot_vec, V_xpot, kind=\"cubic\", axis=1)"
   ]
  },
  {
   "cell_type": "code",
   "execution_count": 5,
   "metadata": {
    "collapsed": false
   },
   "outputs": [],
   "source": [
    "# Evaluate the cubic spline at the grid\n",
    "V_grid = V_interp(x_vec)"
   ]
  },
  {
   "cell_type": "code",
   "execution_count": 6,
   "metadata": {
    "collapsed": true
   },
   "outputs": [],
   "source": [
    "# Calculate the average of each potential\n",
    "V_avg = simps(x=x_vec, y=V_grid)/2"
   ]
  },
  {
   "cell_type": "code",
   "execution_count": 7,
   "metadata": {
    "collapsed": true
   },
   "outputs": [],
   "source": [
    "# Remove the average\n",
    "#V_grid = V_grid - np.outer(V_avg, np.ones(n_x))"
   ]
  },
  {
   "cell_type": "code",
   "execution_count": 8,
   "metadata": {
    "ExecuteTime": {
     "end_time": "2016-07-28T23:26:59.278083",
     "start_time": "2016-07-28T23:26:57.407042"
    },
    "collapsed": false
   },
   "outputs": [],
   "source": [
    "# Life is messy. Add some noise\n",
    "V_grid = V_grid + np.random.normal(0,sigma/5, V_grid.shape)"
   ]
  },
  {
   "cell_type": "code",
   "execution_count": 9,
   "metadata": {
    "ExecuteTime": {
     "end_time": "2016-07-28T23:26:59.593941",
     "start_time": "2016-07-28T23:26:59.280518"
    },
    "collapsed": false
   },
   "outputs": [
    {
     "data": {
      "text/plain": [
       "[<matplotlib.lines.Line2D at 0x7fe78b23f8d0>]"
      ]
     },
     "execution_count": 9,
     "metadata": {},
     "output_type": "execute_result"
    },
    {
     "data": {
      "image/png": "[encoded data removed]",
      "text/plain": [
       "<matplotlib.figure.Figure at 0x7fe78b9efba8>"
      ]
     },
     "metadata": {},
     "output_type": "display_data"
    }
   ],
   "source": [
    "plt.clf()\n",
    "plt.plot(x_vec, np.mean(V_grid, axis=0), 'b-', lw=2, label=\"\\mu(x)\")\n",
    "plt.plot(x_vec, np.mean(V_grid, axis=0)+np.std(V_grid, axis=0), 'k--', lw=2, label=\"$\\mu(x)\\pm\\sigma(x)$\")\n",
    "plt.plot(x_vec, np.mean(V_grid, axis=0)-np.std(V_grid, axis=0), 'k--', lw=2)"
   ]
  },
  {
   "cell_type": "markdown",
   "metadata": {},
   "source": [
    "# Plot some random potentials"
   ]
  },
  {
   "cell_type": "code",
   "execution_count": 10,
   "metadata": {
    "ExecuteTime": {
     "end_time": "2016-07-28T23:27:00.168874",
     "start_time": "2016-07-28T23:26:59.595725"
    },
    "collapsed": false
   },
   "outputs": [
    {
     "data": {
      "text/plain": [
       "<matplotlib.figure.Figure at 0x7fe78b1b02b0>"
      ]
     },
     "metadata": {},
     "output_type": "display_data"
    },
    {
     "data": {
      "image/png": "[encoded data removed]",
      "text/plain": [
       "<matplotlib.figure.Figure at 0x7fe78b1b0320>"
      ]
     },
     "metadata": {},
     "output_type": "display_data"
    }
   ],
   "source": [
    "nrows = 2\n",
    "ncols = 2\n",
    "nplot = nrows * ncols\n",
    "Vints = randint(0,n_V, nplot)\n",
    "Vplot = V_grid[Vints,::]\n",
    "\n",
    "plt.clf()\n",
    "fig, axes = plt.subplots(nrows = nrows, ncols = ncols)\n",
    "fig.set_size_inches(7,7)\n",
    "subax = axes.flat\n",
    "\n",
    "for i in range(0,nplot):\n",
    "        subax[i].plot(x_vec, Vplot[i], linewidth = 2)\n",
    "        subax[i].axhline(y=0,xmin=-1,xmax=1, linestyle='dashed' ,color = 'k')\n",
    "        subax[i].axvline(x=0,ymin=-10,ymax=10, linestyle='dashed' ,color = 'k')\n",
    "        subax[i].set_xlabel(\"x\")\n",
    "        subax[i].set_ylabel(\"V(x)\")\n",
    "        subax[i].set_ylim((-2*sigma,2*sigma))\n",
    "\n",
    "plt.tight_layout()\n",
    "plt.show()\n",
    "plt.close()"
   ]
  },
  {
   "cell_type": "markdown",
   "metadata": {},
   "source": [
    "# Solve the eigensystem"
   ]
  },
  {
   "cell_type": "code",
   "execution_count": 12,
   "metadata": {
    "ExecuteTime": {
     "end_time": "2016-07-28T23:28:23.267042",
     "start_time": "2016-07-28T23:27:00.170883"
    },
    "collapsed": false
   },
   "outputs": [
    {
     "name": "stdout",
     "output_type": "stream",
     "text": [
      "Calculating Hamiltonian matrices...\n",
      "Status: 100.00 % complete\n",
      "Eigenvalues shape: (100000, 20)\n",
      "54.003294229507446\n",
      "Eigenvectors shape: (100000, 20, 20)\n"
     ]
    }
   ],
   "source": [
    "t1=time.time()\n",
    "eigvals, eigvecs = ts.eigsys(n_basis, x_vec, V_grid)\n",
    "print(\"Eigenvalues shape:\", eigvals.shape)\n",
    "tise_time = time.time()-t1\n",
    "print(tise_time)\n",
    "print(\"Eigenvectors shape:\", eigvecs.shape)"
   ]
  },
  {
   "cell_type": "markdown",
   "metadata": {},
   "source": [
    "# Visualize the solutions"
   ]
  },
  {
   "cell_type": "code",
   "execution_count": 13,
   "metadata": {
    "ExecuteTime": {
     "end_time": "2016-07-28T23:28:35.285582",
     "start_time": "2016-07-28T23:28:23.269114"
    },
    "collapsed": false
   },
   "outputs": [
    {
     "name": "stdout",
     "output_type": "stream",
     "text": [
      "Size of data: 1600.00013 MB\n"
     ]
    }
   ],
   "source": [
    "# Calculate the probability distribution\n",
    "prob = ts.prob_dist(eigvecs, x_vec)\n",
    "print(\"Size of data: %0.5f MB\" % (sys.getsizeof(prob)/1e6))"
   ]
  },
  {
   "cell_type": "code",
   "execution_count": 14,
   "metadata": {
    "ExecuteTime": {
     "end_time": "2016-07-28T23:28:36.653687",
     "start_time": "2016-07-28T23:28:35.287882"
    },
    "collapsed": false
   },
   "outputs": [
    {
     "data": {
      "text/plain": [
       "<matplotlib.figure.Figure at 0x7fe78b0850f0>"
      ]
     },
     "metadata": {},
     "output_type": "display_data"
    },
    {
     "data": {
      "image/png": "[encoded data removed]",
      "text/plain": [
       "<matplotlib.figure.Figure at 0x7fe78b0853c8>"
      ]
     },
     "metadata": {},
     "output_type": "display_data"
    }
   ],
   "source": [
    "# Plot some random probability distributions\n",
    "nrows = 1\n",
    "ncols = 4\n",
    "nplot = nrows * ncols\n",
    "i_plt = randint(0,n_V, nplot)\n",
    "numeigs = 4\n",
    "\n",
    "V_grid_plt = V_grid[i_plt]\n",
    "eigvals_plt = eigvals[i_plt]\n",
    "prob_plt = prob[i_plt]\n",
    "\n",
    "plt.clf()\n",
    "fig, axes = plt.subplots(nrows = nrows, ncols = ncols, sharey='all', sharex='all')\n",
    "fig.set_size_inches(8+8./3.,5)\n",
    "subax = axes.flat\n",
    "\n",
    "for i in range(nplot):\n",
    "    subax[i].plot(x_vec, V_grid[i_plt[i]], linewidth = 2)\n",
    "    for j in range(numeigs):\n",
    "        subax[i].fill_between(x_vec, eigvals_plt[i,j], eigvals_plt[i,j]+1.5*prob_plt[i,j], lw=2, color='r')\n",
    "        subax[i].get_xaxis().set_ticks([-1,0,1])\n",
    "        subax[i].axhline(y=eigvals_plt[i,j], xmin = -1, xmax = 1, \n",
    "                         ls = 'dashed', color = 'k', lw =3)\n",
    "        subax[i].vlines(x=-1, ymin = V_grid[i_plt[i],0], ymax = 3*ts.E0(numeigs), lw=2, color='b')\n",
    "        subax[i].vlines(x=1, ymin = V_grid[i_plt[i],-1], ymax = 3*ts.E0(numeigs), lw=2, color='b')\n",
    "    if i >= (nrows-1)*ncols:\n",
    "        subax[i].set_xlabel(\"$x$\")\n",
    "    if i is 0 or i is ncols:\n",
    "        subax[i].set_ylabel(\"$V(x)$\")\n",
    "    subax[i].set_ylim((-2*sigma,1.4*ts.E0(numeigs)))\n",
    "    subax[i].set_xlim(1.2*x_i,1.2*x_f)\n",
    "\n",
    "#plt.tight_layout()\n",
    "plt.show()\n",
    "plt.close()"
   ]
  },
  {
   "cell_type": "markdown",
   "metadata": {},
   "source": [
    "# Scaled eigenvalues"
   ]
  },
  {
   "cell_type": "code",
   "execution_count": 15,
   "metadata": {
    "ExecuteTime": {
     "end_time": "2016-07-28T23:28:36.731840",
     "start_time": "2016-07-28T23:28:36.655924"
    },
    "collapsed": true
   },
   "outputs": [],
   "source": [
    "eig_mu = np.mean(eigvals, axis = 0)\n",
    "eig_std = np.std(eigvals, axis = 0)\n",
    "eig_scaled = (eigvals - eig_mu) / eig_std"
   ]
  },
  {
   "cell_type": "code",
   "execution_count": 16,
   "metadata": {
    "ExecuteTime": {
     "end_time": "2016-07-28T23:28:37.968940",
     "start_time": "2016-07-28T23:28:36.735266"
    },
    "collapsed": false
   },
   "outputs": [
    {
     "data": {
      "text/plain": [
       "<matplotlib.figure.Figure at 0x7fe78b1126d8>"
      ]
     },
     "metadata": {},
     "output_type": "display_data"
    },
    {
     "data": {
      "image/png": "[encoded data removed]",
      "text/plain": [
       "<matplotlib.figure.Figure at 0x7fe78b1129e8>"
      ]
     },
     "metadata": {},
     "output_type": "display_data"
    }
   ],
   "source": [
    "nrows = 3\n",
    "ncols = 1\n",
    "nplots = nrows*ncols\n",
    "plt.clf()\n",
    "fig, axes = plt.subplots(nrows, ncols)\n",
    "fig.set_size_inches(8*ncols,1.5*nrows)\n",
    "subax = axes.flat\n",
    "\n",
    "nbins = 60\n",
    "for i in range(0, nrows):\n",
    "    subax[i].hist(eig_scaled[::,i], nbins, normed = 1, facecolor = 'green', \n",
    "                  alpha = 1, range = [-3,3])\n",
    "\n",
    "plt.tight_layout()\n",
    "plt.show()\n",
    "plt.close()"
   ]
  },
  {
   "cell_type": "markdown",
   "metadata": {},
   "source": [
    "# Neural Network"
   ]
  },
  {
   "cell_type": "code",
   "execution_count": 17,
   "metadata": {
    "ExecuteTime": {
     "end_time": "2016-07-28T23:28:38.111285",
     "start_time": "2016-07-28T23:28:37.970755"
    },
    "collapsed": false
   },
   "outputs": [
    {
     "name": "stdout",
     "output_type": "stream",
     "text": [
      "[ 6.00576012  3.1204077   6.55469513]\n",
      "[ 6.55469513  3.1204077   6.00576012]\n"
     ]
    }
   ],
   "source": [
    "# Double the dataset using reflection symmetry\n",
    "V_grid_flipped = V_grid[:,::-1]\n",
    "\n",
    "# Quick and dirty test:\n",
    "print(V_grid[2,0:3])\n",
    "print(V_grid_flipped[2,-3:])\n",
    "\n",
    "X = np.concatenate( (V_grid, V_grid_flipped) )\n",
    "y = np.concatenate( (eig_scaled, eig_scaled) )[::,0:n_eig]"
   ]
  },
  {
   "cell_type": "code",
   "execution_count": 18,
   "metadata": {
    "ExecuteTime": {
     "end_time": "2016-07-28T23:28:38.291073",
     "start_time": "2016-07-28T23:28:38.113136"
    },
    "collapsed": false
   },
   "outputs": [
    {
     "name": "stdout",
     "output_type": "stream",
     "text": [
      "X shape, y shape:  (200000, 100) (200000, 10)\n",
      "X_train shape, y_train shape:  (140000, 100) (140000, 10)\n",
      "X_test shape, y_test shape:  (60000, 100) (60000, 10)\n"
     ]
    }
   ],
   "source": [
    "# Split test and train\n",
    "test_frac = 0.3\n",
    "random_state = 6\n",
    "X_train, X_test, y_train, y_test = train_test_split(\n",
    "    X, y, test_size=test_frac, random_state=random_state\n",
    ")\n",
    "print(\"X shape, y shape: \", X.shape, y.shape)\n",
    "print(\"X_train shape, y_train shape: \", X_train.shape, y_train.shape)\n",
    "print(\"X_test shape, y_test shape: \", X_test.shape, y_test.shape)"
   ]
  },
  {
   "cell_type": "code",
   "execution_count": null,
   "metadata": {
    "ExecuteTime": {
     "end_time": "2016-07-28T23:28:38.298251",
     "start_time": "2016-07-28T23:28:38.293125"
    },
    "collapsed": false
   },
   "outputs": [],
   "source": [
    "model =MLPRegressor(hidden_layer_sizes=arch,\n",
    "                    activation = 'tanh',\n",
    "                    algorithm = 'adam',\n",
    "                    alpha = 0.001,\n",
    "                    beta_1 = 0.85,\n",
    "                    beta_2 = 0.9,\n",
    "                    batch_size = 'auto',\n",
    "                    max_iter = 2000,\n",
    "                    tol = 1e-8,\n",
    "                    learning_rate_init = 0.0001,\n",
    "                    verbose = True\n",
    "                 )"
   ]
  },
  {
   "cell_type": "code",
   "execution_count": null,
   "metadata": {
    "ExecuteTime": {
     "end_time": "2016-07-28T23:36:53.966117",
     "start_time": "2016-07-28T23:28:38.300112"
    },
    "collapsed": false
   },
   "outputs": [
    {
     "name": "stdout",
     "output_type": "stream",
     "text": [
      "Iteration 1, loss = 0.23281157\n",
      "Iteration 2, loss = 0.08570366\n"
     ]
    }
   ],
   "source": [
    "# Train the network\n",
    "model.fit(X_train,y_train)"
   ]
  },
  {
   "cell_type": "markdown",
   "metadata": {},
   "source": [
    "# Testing the NN"
   ]
  },
  {
   "cell_type": "markdown",
   "metadata": {},
   "source": [
    "### Calculate errors on the training set as a reference point"
   ]
  },
  {
   "cell_type": "code",
   "execution_count": null,
   "metadata": {
    "ExecuteTime": {
     "end_time": "2016-07-28T23:36:54.845479",
     "start_time": "2016-07-28T23:36:53.967802"
    },
    "collapsed": false
   },
   "outputs": [],
   "source": [
    "# eigenvalue prediction\n",
    "y_pred_train = model.predict(X_train)\n",
    "err_train = np.sqrt(np.mean((y_pred_train - y_train)**2, axis=0))\n",
    "print(\"Prediction error for each eigenvalue in the training set as ratio of std. dev.: \\n\", err_train)\n",
    "print(\"Uniform average of prediction errors:\\n %0.3f\" % np.mean(err_train))\n",
    "\n",
    "# Relative error\n",
    "eig_pred_train = y_pred_train*eig_std[0:n_eig]+eig_mu[0:n_eig]\n",
    "eig_train = y_train*eig_std[0:n_eig]+eig_mu[0:n_eig]\n",
    "rel_err_train = np.mean(np.abs((eig_pred_train - eig_train)/eig_train), axis=0)\n",
    "print(\"Prediction error for each eigenvalue in the training set as ratio of true value (rel. err.):\\n\", rel_err_train)"
   ]
  },
  {
   "cell_type": "markdown",
   "metadata": {},
   "source": [
    "### Calculate errors on the test set"
   ]
  },
  {
   "cell_type": "code",
   "execution_count": null,
   "metadata": {
    "ExecuteTime": {
     "end_time": "2016-07-28T23:36:55.269080",
     "start_time": "2016-07-28T23:36:54.847738"
    },
    "collapsed": false
   },
   "outputs": [],
   "source": [
    "# eigenvalue prediction\n",
    "y_pred_test = model.predict(X_test)\n",
    "err_test = np.sqrt(np.mean((y_pred_test - y_test)**2, axis=0))\n",
    "print(\"Prediction error for each eigenvalue in the testing set as ratio of std. dev.: \\n\", err_test)\n",
    "print(\"Uniform average of prediction errors:\\n %0.3f\" % np.mean(err_test))\n",
    "\n",
    "# Relative error\n",
    "eig_pred_test = y_pred_test*eig_std[0:n_eig]+eig_mu[0:n_eig]\n",
    "eig_test = y_test*eig_std[0:n_eig]+eig_mu[0:n_eig]\n",
    "rel_err_test = np.mean(np.abs((eig_pred_test - eig_test)/eig_test), axis=0)\n",
    "print(\"Prediction error for each eigenvalue in the testing set as ratio of true value (rel. err.):\\n\", rel_err_test)"
   ]
  },
  {
   "cell_type": "markdown",
   "metadata": {},
   "source": [
    "## Visualize the predictions"
   ]
  },
  {
   "cell_type": "code",
   "execution_count": null,
   "metadata": {
    "ExecuteTime": {
     "end_time": "2016-07-28T23:36:55.970329",
     "start_time": "2016-07-28T23:36:55.271418"
    },
    "collapsed": false
   },
   "outputs": [],
   "source": [
    "nrows = 1\n",
    "ncols = 4\n",
    "nplot = nrows * ncols\n",
    "indplt = randint(0,X_test.shape[0], nplot)\n",
    "numeigsplt = 5\n",
    "\n",
    "plt.clf()\n",
    "fig, axes = plt.subplots(nrows = nrows, ncols = ncols, sharey=True)\n",
    "fig.set_size_inches(12,6)\n",
    "subax = axes.flat\n",
    "\n",
    "for i in range(0, len(indplt)):\n",
    "        subax[i].plot(x_vec, X_test[indplt[i]], linewidth = 2, label='$V(x)$')\n",
    "        subax[i].axhline(y=0,xmin=-1,xmax=1, linestyle='solid' ,color = 'k', lw=0.5)\n",
    "        for j in range(0, numeigsplt):\n",
    "            lastaxNN = subax[i].axhline(y=eig_pred_test[indplt[i],j], xmin = -1, xmax = 1, \n",
    "                             ls = 'solid', color = 'r', lw = 3, label = 'Neural Network')\n",
    "            lastaxSE = subax[i].axhline(y=eig_test[indplt[i],j], xmin = -1, xmax = 1, \n",
    "                             ls = 'dashed', color = 'k', lw =3, label = 'Schr. Eqn.')\n",
    "\n",
    "        subax[i].set_xlabel(\"x\")\n",
    "        if i==0:\n",
    "            subax[i].set_ylabel(\"V(x)\")\n",
    "        subax[i].set_ylim((-2*sigma, 1.4*ts.E0(numeigsplt)))\n",
    "        subax[i].legend([lastaxNN, lastaxSE], [\"Neural Network\", \"Schr. Eqn.\"], fontsize=12)\n",
    "\n",
    "# plt.tight_layout();\n",
    "plt.show();\n",
    "plt.draw()"
   ]
  },
  {
   "cell_type": "markdown",
   "metadata": {},
   "source": [
    "## Test Cases"
   ]
  },
  {
   "cell_type": "markdown",
   "metadata": {},
   "source": [
    "### Square well"
   ]
  },
  {
   "cell_type": "code",
   "execution_count": null,
   "metadata": {
    "ExecuteTime": {
     "end_time": "2016-07-28T23:36:55.984423",
     "start_time": "2016-07-28T23:36:55.971998"
    },
    "collapsed": false
   },
   "outputs": [],
   "source": [
    "V_square = np.asarray([np.zeros(n_x)])\n",
    "\n",
    "# eigenvalue prediction\n",
    "y_square_pred = model.predict(V_square)[0]\n",
    "y_square_test = (ts.E0(np.arange(1,n_eig+1)) - eig_mu[0:n_eig])/eig_std[0:n_eig]\n",
    "err_square = np.sqrt((y_square_pred - y_square_test)**2)\n",
    "print(\"Prediction error for each eigenvalue as ratio of std. dev.: \\n\", err_square)\n",
    "print(\"Uniform average of prediction errors:\\n %0.3f\" % np.mean(err_square))\n",
    "\n",
    "# Relative error\n",
    "eig_square_pred = y_square_pred*eig_std[0:n_eig]+eig_mu[0:n_eig]\n",
    "eig_square_test = y_square_test*eig_std[0:n_eig]+eig_mu[0:n_eig]\n",
    "rel_err = np.abs((eig_square_pred - eig_square_test)/eig_square_test)\n",
    "print(\"Prediction error for each eigenvalue as ratio of true value (rel. err.):\\n\", rel_err)"
   ]
  },
  {
   "cell_type": "code",
   "execution_count": null,
   "metadata": {
    "ExecuteTime": {
     "end_time": "2016-07-28T23:36:56.194235",
     "start_time": "2016-07-28T23:36:55.986227"
    },
    "collapsed": false
   },
   "outputs": [],
   "source": [
    "plt.clf()\n",
    "plt.plot(x_vec, V_square[0], 'b-', lw=2)\n",
    "for i in range(numeigs):\n",
    "    plt.axhline(eig_square_pred[i], lw=2, ls='solid', color='r')\n",
    "    plt.axhline(eig_square_test[i], lw=2, ls='dashed', color='k')"
   ]
  },
  {
   "cell_type": "markdown",
   "metadata": {},
   "source": [
    "### Harmonic oscillator"
   ]
  },
  {
   "cell_type": "code",
   "execution_count": null,
   "metadata": {
    "ExecuteTime": {
     "end_time": "2016-07-28T23:36:56.201486",
     "start_time": "2016-07-28T23:36:56.195792"
    },
    "collapsed": true
   },
   "outputs": [],
   "source": [
    "# The harmonic oscillator potential with zero average value\n",
    "def V_ho(A,x):\n",
    "    return A*(x**2-1./3.)\n",
    "\n",
    "# The energy levels\n",
    "def E_ho(A,n):\n",
    "    return -A/3. + (1 + 2*n)*np.sqrt(A/2)"
   ]
  },
  {
   "cell_type": "code",
   "execution_count": null,
   "metadata": {
    "ExecuteTime": {
     "end_time": "2016-07-28T23:36:56.275191",
     "start_time": "2016-07-28T23:36:56.203828"
    },
    "collapsed": false
   },
   "outputs": [],
   "source": [
    "A = 5*sigma\n",
    "V_hos = [np.asarray(V_ho(A, x_vec))]\n",
    "y_ho_pred = model.predict(V_hos)[0]\n",
    "eig_ho_pred = y_ho_pred*eig_std[0:n_eig]+eig_mu[0:n_eig]\n",
    "eig_ho_test, _ = ts.eigsys(n_basis, x_vec, np.asarray(V_hos))"
   ]
  },
  {
   "cell_type": "code",
   "execution_count": null,
   "metadata": {
    "ExecuteTime": {
     "end_time": "2016-07-28T23:36:56.479966",
     "start_time": "2016-07-28T23:36:56.277174"
    },
    "collapsed": false
   },
   "outputs": [],
   "source": [
    "plt.clf()\n",
    "plt.plot(x_vec, V_hos[0], 'b-', lw=2)\n",
    "for i in range(5):\n",
    "    plt.axhline(eig_ho_pred[i], lw=2, ls='solid', color='r')\n",
    "    plt.axhline(eig_ho_test[0,i], lw=2, ls='dashed', color='k')"
   ]
  },
  {
   "cell_type": "markdown",
   "metadata": {},
   "source": [
    "### Linear potential and symmetry test"
   ]
  },
  {
   "cell_type": "code",
   "execution_count": null,
   "metadata": {
    "ExecuteTime": {
     "end_time": "2016-07-28T23:36:56.485418",
     "start_time": "2016-07-28T23:36:56.481745"
    },
    "collapsed": true
   },
   "outputs": [],
   "source": [
    "# The harmonic oscillator potential with zero average value\n",
    "A = 20\n",
    "V_lin_p = [np.linspace(-A,A,n_x)]\n",
    "V_lin_m = [np.linspace(A,-A,n_x)]"
   ]
  },
  {
   "cell_type": "code",
   "execution_count": null,
   "metadata": {
    "ExecuteTime": {
     "end_time": "2016-07-28T23:36:56.558577",
     "start_time": "2016-07-28T23:36:56.487252"
    },
    "collapsed": false
   },
   "outputs": [],
   "source": [
    "y_lin_p_pred = model.predict(V_lin_p)[0]\n",
    "eig_lin_p_pred = y_lin_p_pred*eig_std[0:n_eig]+eig_mu[0:n_eig]\n",
    "eig_lin_test, _ = ts.eigsys(n_basis, x_vec, np.asarray(V_lin_p))\n",
    "\n",
    "y_lin_m_pred = model.predict(V_lin_m)[0]\n",
    "eig_lin_m_pred = y_lin_m_pred*eig_std[0:n_eig]+eig_mu[0:n_eig]"
   ]
  },
  {
   "cell_type": "code",
   "execution_count": null,
   "metadata": {
    "ExecuteTime": {
     "end_time": "2016-07-28T23:36:56.804462",
     "start_time": "2016-07-28T23:36:56.560816"
    },
    "collapsed": false
   },
   "outputs": [],
   "source": [
    "plt.clf()\n",
    "plt.plot(x_vec, V_lin_p[0], 'b-', lw=2)\n",
    "plt.plot(x_vec, V_lin_m[0], 'b--', lw=2)\n",
    "plt.axvline(ls=':',lw=2,color='k')\n",
    "for i in range(numeigs):\n",
    "    plt.axhline(eig_lin_p_pred[i], lw=2, ls='solid', color='r')\n",
    "    plt.axhline(eig_lin_m_pred[i], lw=2, ls='dashed', color='r')\n",
    "    plt.axhline(eig_lin_test[0,i], lw=2, ls='dashed', color='k')"
   ]
  },
  {
   "cell_type": "markdown",
   "metadata": {},
   "source": [
    "### Shifted square well"
   ]
  },
  {
   "cell_type": "code",
   "execution_count": null,
   "metadata": {
    "ExecuteTime": {
     "end_time": "2016-07-28T23:36:56.828467",
     "start_time": "2016-07-28T23:36:56.806531"
    },
    "collapsed": false
   },
   "outputs": [],
   "source": [
    "shift = 5\n",
    "V_square = shift + np.asarray([np.zeros(n_x)])\n",
    "\n",
    "\n",
    "# eigenvalue prediction\n",
    "y_square_pred = model.predict(V_square)[0]\n",
    "y_square_test = (shift+ts.E0(np.arange(1,n_eig+1)) - eig_mu[0:n_eig])/eig_std[0:n_eig]\n",
    "err_square = np.sqrt((y_square_pred - y_square_test)**2)\n",
    "print(\"Prediction error for each eigenvalue as ratio of std. dev.: \\n\", err_square)\n",
    "print(\"Uniform average of prediction errors:\\n %0.3f\" % np.mean(err_square))\n",
    "\n",
    "# Relative error\n",
    "eig_square_pred = y_square_pred*eig_std[0:n_eig]+eig_mu[0:n_eig]\n",
    "eig_square_test = y_square_test*eig_std[0:n_eig]+eig_mu[0:n_eig]\n",
    "rel_err = np.abs((eig_square_pred - eig_square_test)/eig_square_test)\n",
    "print(\"Prediction error for each eigenvalue as ratio of true value (rel. err.):\\n\", rel_err)"
   ]
  },
  {
   "cell_type": "code",
   "execution_count": null,
   "metadata": {
    "ExecuteTime": {
     "end_time": "2016-07-28T23:36:57.143565",
     "start_time": "2016-07-28T23:36:56.831955"
    },
    "collapsed": false
   },
   "outputs": [],
   "source": [
    "plt.clf()\n",
    "plt.plot(x_vec, V_square[0], 'b-', lw=2)\n",
    "for i in range(numeigs):\n",
    "    plt.axhline(eig_square_pred[i], lw=2, ls='solid', color='r')\n",
    "    plt.axhline(eig_square_test[i], lw=2, ls='dashed', color='k')"
   ]
  },
  {
   "cell_type": "markdown",
   "metadata": {
    "collapsed": true
   },
   "source": [
    "### Noisy ho"
   ]
  },
  {
   "cell_type": "code",
   "execution_count": null,
   "metadata": {
    "ExecuteTime": {
     "end_time": "2016-07-28T23:38:42.416442",
     "start_time": "2016-07-28T23:38:42.150709"
    },
    "collapsed": false
   },
   "outputs": [],
   "source": [
    "A = 10*sigma\n",
    "V_hos = [np.asarray(V_ho(A, x_vec))+np.random.normal(0,2*sigma, n_x)]\n",
    "y_ho_pred = model.predict(V_hos)[0]\n",
    "eig_ho_pred = y_ho_pred*eig_std[0:n_eig]+eig_mu[0:n_eig]\n",
    "eig_ho_test, _ = ts.eigsys(n_basis, x_vec, np.asarray(V_hos))\n",
    "\n",
    "plt.clf()\n",
    "plt.plot(x_vec, V_hos[0], 'b-', lw=2)\n",
    "for i in range(5):\n",
    "    plt.axhline(eig_ho_pred[i], lw=2, ls='solid', color='r')\n",
    "    plt.axhline(eig_ho_test[0,i], lw=2, ls='dashed', color='k')"
   ]
  },
  {
   "cell_type": "code",
   "execution_count": null,
   "metadata": {
    "collapsed": true
   },
   "outputs": [],
   "source": []
  },
  {
   "cell_type": "code",
   "execution_count": null,
   "metadata": {
    "collapsed": true
   },
   "outputs": [],
   "source": []
  }
 ],
 "metadata": {
  "anaconda-cloud": {},
  "kernelspec": {
   "display_name": "Python [Root]",
   "language": "python",
   "name": "Python [Root]"
  },
  "language_info": {
   "codemirror_mode": {
    "name": "ipython",
    "version": 3
   },
   "file_extension": ".py",
   "mimetype": "text/x-python",
   "name": "python",
   "nbconvert_exporter": "python",
   "pygments_lexer": "ipython3",
   "version": "3.5.2"
  },
  "nav_menu": {},
  "toc": {
   "navigate_menu": true,
   "number_sections": true,
   "sideBar": true,
   "threshold": 6,
   "toc_cell": false,
   "toc_section_display": "block",
   "toc_window_display": false
  }
 },
 "nbformat": 4,
 "nbformat_minor": 0
}
