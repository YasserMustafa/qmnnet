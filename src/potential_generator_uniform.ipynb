{
 "cells": [
  {
   "cell_type": "code",
   "execution_count": 1,
   "metadata": {
    "ExecuteTime": {
     "end_time": "2016-07-28T17:25:06.520471",
     "start_time": "2016-07-28T17:25:05.507129"
    },
    "collapsed": true
   },
   "outputs": [],
   "source": [
    "%matplotlib inline\n",
    "import numpy as np\n",
    "from numpy.random import normal, randint\n",
    "import matplotlib.pyplot as plt\n",
    "from scipy.interpolate import interp1d\n",
    "from scipy.integrate import quad, simps\n",
    "import sys, os, gc\n",
    "from sklearn.model_selection import train_test_split\n",
    "from sklearn.neural_network import MLPRegressor"
   ]
  },
  {
   "cell_type": "markdown",
   "metadata": {},
   "source": [
    "# Inputs"
   ]
  },
  {
   "cell_type": "code",
   "execution_count": 2,
   "metadata": {
    "ExecuteTime": {
     "end_time": "2016-07-28T17:25:06.562886",
     "start_time": "2016-07-28T17:25:06.522280"
    },
    "collapsed": false
   },
   "outputs": [
    {
     "name": "stdout",
     "output_type": "stream",
     "text": [
      "Input parameters:\n",
      "  n_V= 100000\n",
      "  x_i= -1.00\n",
      "  x_f= 1.00\n",
      "  n_x= 100\n",
      "  n_xpot= 10\n",
      "  lamb= 0.80\n",
      "  sigma= 7.50\n",
      "  n_basis= 20\n",
      "  n_eig= 10\n",
      "\n"
     ]
    }
   ],
   "source": [
    "# Number of potentials:\n",
    "n_V = int(1e5)\n",
    "# x limits:\n",
    "x_i = -1\n",
    "x_f = 1\n",
    "# Number of x coordinates for spline:\n",
    "n_x = 100\n",
    "x_vec = np.linspace(x_i, x_f, n_x)\n",
    "# Number of x coordinates for potential generation\n",
    "n_xpot = 10\n",
    "xpot_vec = np.linspace(x_i,x_f,n_xpot)\n",
    "# Damping factor\n",
    "lamb = 0.8\n",
    "# Potential standard deviation\n",
    "sigma = 30/(x_f-x_i)**2\n",
    "# Number of basis wavefunctions\n",
    "n_basis = 20\n",
    "basis_vec = np.arange(1,n_basis+1)\n",
    "# Number of eigenvalues to train the neural network to predict\n",
    "n_eig = 10\n",
    "\n",
    "print(\"Input parameters:\\n\"\n",
    "      \"  n_V= %i\\n\"\n",
    "      \"  x_i= %0.2f\\n\"\n",
    "      \"  x_f= %0.2f\\n\"\n",
    "      \"  n_x= %i\\n\"\n",
    "      \"  n_xpot= %i\\n\"\n",
    "      \"  lamb= %0.2f\\n\"\n",
    "      \"  sigma= %0.2f\\n\"\n",
    "      \"  n_basis= %i\\n\"\n",
    "      \"  n_eig= %i\\n\"\n",
    "      % (n_V,x_i, x_f, n_x, n_xpot, lamb, sigma, n_basis, n_eig))"
   ]
  },
  {
   "cell_type": "markdown",
   "metadata": {},
   "source": [
    "# Generate the potentials"
   ]
  },
  {
   "cell_type": "code",
   "execution_count": 3,
   "metadata": {
    "ExecuteTime": {
     "end_time": "2016-07-28T17:25:08.286207",
     "start_time": "2016-07-28T17:25:06.574540"
    },
    "collapsed": false
   },
   "outputs": [],
   "source": [
    "# Randomly select the value of the potential at the selected points\n",
    "V_xpot = normal(loc=0, scale=sigma, size=(n_V,n_xpot))\n",
    "\n",
    "# Form a cubic spline for each potential\n",
    "V_interp = interp1d(xpot_vec, V_xpot, kind=\"cubic\", axis=1)\n",
    "\n",
    "# Evaluate the cubic spline at the grid\n",
    "V_grid = V_interp(x_vec)\n",
    "\n",
    "# Calculate the average of each potential\n",
    "V_avg = simps(x=x_vec, y=V_grid)/2\n",
    "\n",
    "# Remove the average\n",
    "V_grid = V_grid# - np.outer(V_avg, np.ones(n_x))"
   ]
  },
  {
   "cell_type": "code",
   "execution_count": 4,
   "metadata": {
    "ExecuteTime": {
     "end_time": "2016-07-28T17:25:08.651976",
     "start_time": "2016-07-28T17:25:08.288395"
    },
    "collapsed": false
   },
   "outputs": [
    {
     "data": {
      "text/plain": [
       "[<matplotlib.lines.Line2D at 0x1109a3a58>]"
      ]
     },
     "execution_count": 4,
     "metadata": {},
     "output_type": "execute_result"
    },
    {
     "data": {
      "image/png": "[encoded data removed]",
      "text/plain": [
       "<matplotlib.figure.Figure at 0x10c559780>"
      ]
     },
     "metadata": {},
     "output_type": "display_data"
    }
   ],
   "source": [
    "plt.clf()\n",
    "plt.plot(x_vec, np.mean(V_grid, axis=0), 'b-', lw=2)\n",
    "plt.plot(x_vec, np.mean(V_grid, axis=0)+np.std(V_grid, axis=0), 'k--', lw=2)\n",
    "plt.plot(x_vec, np.mean(V_grid, axis=0)-np.std(V_grid, axis=0), 'k--', lw=2)"
   ]
  },
  {
   "cell_type": "markdown",
   "metadata": {},
   "source": [
    "# Plot some random potentials"
   ]
  },
  {
   "cell_type": "code",
   "execution_count": 5,
   "metadata": {
    "ExecuteTime": {
     "end_time": "2016-07-28T17:25:09.295930",
     "start_time": "2016-07-28T17:25:08.653878"
    },
    "collapsed": false
   },
   "outputs": [
    {
     "data": {
      "text/plain": [
       "<matplotlib.figure.Figure at 0x121de6358>"
      ]
     },
     "metadata": {},
     "output_type": "display_data"
    },
    {
     "data": {
      "image/png": "[encoded data removed]",
      "text/plain": [
       "<matplotlib.figure.Figure at 0x121de63c8>"
      ]
     },
     "metadata": {},
     "output_type": "display_data"
    }
   ],
   "source": [
    "nrows = 2\n",
    "ncols = 2\n",
    "nplot = nrows * ncols\n",
    "Vints = randint(0,n_V, nplot)\n",
    "Vplot = V_grid[Vints,::]\n",
    "\n",
    "plt.clf()\n",
    "fig, axes = plt.subplots(nrows = nrows, ncols = ncols)\n",
    "fig.set_size_inches(7,7)\n",
    "subax = axes.flat\n",
    "\n",
    "for i in range(0,nplot):\n",
    "        subax[i].plot(x_vec, Vplot[i], linewidth = 2)\n",
    "        subax[i].axhline(y=0,xmin=-1,xmax=1, linestyle='dashed' ,color = 'k')\n",
    "        subax[i].axvline(x=0,ymin=-10,ymax=10, linestyle='dashed' ,color = 'k')\n",
    "        subax[i].set_xlabel(\"x\")\n",
    "        subax[i].set_ylabel(\"V(x)\")\n",
    "        subax[i].set_ylim((-2*sigma,2*sigma))\n",
    "\n",
    "plt.tight_layout()\n",
    "plt.show()\n",
    "plt.close()"
   ]
  },
  {
   "cell_type": "markdown",
   "metadata": {
    "collapsed": true
   },
   "source": [
    "# Calculate potential matrix elements"
   ]
  },
  {
   "cell_type": "code",
   "execution_count": 6,
   "metadata": {
    "ExecuteTime": {
     "end_time": "2016-07-28T17:25:09.312570",
     "start_time": "2016-07-28T17:25:09.298753"
    },
    "collapsed": false
   },
   "outputs": [],
   "source": [
    "def psi0(n,x):\n",
    "    '''\n",
    "    n -- state index: starts from 1\n",
    "    x -- position\n",
    "    '''\n",
    "    return np.sin(np.pi/2*np.outer(n,x+1))\n",
    "def matel_integrand(n,m,x):\n",
    "    return psi0(n+1,x) * psi0(m+1,x) * V_interp(x)\n",
    "def matel(n,m):\n",
    "    return simps(x=x_vec, y=matel_integrand(n,m,x_vec), axis=1)"
   ]
  },
  {
   "cell_type": "code",
   "execution_count": 7,
   "metadata": {
    "ExecuteTime": {
     "end_time": "2016-07-28T17:34:54.667207",
     "start_time": "2016-07-28T17:25:09.314803"
    },
    "collapsed": false
   },
   "outputs": [
    {
     "name": "stdout",
     "output_type": "stream",
     "text": [
      "Status: 100.00 % complete"
     ]
    }
   ],
   "source": [
    "Vmn=np.zeros((n_V,n_basis,n_basis))\n",
    "for n in range(0,n_basis):\n",
    "    for m in range(0,n_basis):\n",
    "        Vmn[:,n,m] =matel(n,m)\n",
    "        percent = (n*n_basis + m+1)/n_basis**2*100\n",
    "        print(\"\\rStatus: %0.2f %% complete\" % percent, end='')"
   ]
  },
  {
   "cell_type": "markdown",
   "metadata": {},
   "source": [
    "# Visualize the potential matrix elements"
   ]
  },
  {
   "cell_type": "code",
   "execution_count": 8,
   "metadata": {
    "ExecuteTime": {
     "end_time": "2016-07-28T17:34:55.506111",
     "start_time": "2016-07-28T17:34:54.669271"
    },
    "collapsed": false
   },
   "outputs": [
    {
     "data": {
      "text/plain": [
       "<matplotlib.figure.Figure at 0x11099d048>"
      ]
     },
     "metadata": {},
     "output_type": "display_data"
    },
    {
     "data": {
      "image/png": "[encoded data removed]",
      "text/plain": [
       "<matplotlib.figure.Figure at 0x11099d400>"
      ]
     },
     "metadata": {},
     "output_type": "display_data"
    }
   ],
   "source": [
    "nrows = 2\n",
    "ncols = 2\n",
    "nplot = nrows * ncols\n",
    "Vints = randint(0,n_V, nplot)\n",
    "Vplot = Vmn[Vints]\n",
    "z_min, z_max = -np.abs(Vplot).max(), np.abs(Vplot).max()\n",
    "\n",
    "X,Y= np.meshgrid(basis_vec,basis_vec)\n",
    "\n",
    "plt.clf()\n",
    "fig, axes = plt.subplots(nrows = nrows, ncols = ncols)\n",
    "fig.subplots_adjust(hspace=0.3)\n",
    "fig.set_size_inches(4*ncols,4*nrows)\n",
    "subax = axes.flat\n",
    "\n",
    "for i in range(0,nplot):\n",
    "        im = subax[i].pcolor(X,Y, Vplot[i], cmap = 'RdBu', vmin = z_min, vmax = z_max)\n",
    "        subax[i].set_title(\"V, i=\"+str(Vints[i]))\n",
    "\n",
    "fig.subplots_adjust(right=0.8)\n",
    "cbar_ax = fig.add_axes([0.85, 0.15, 0.05, 0.7])\n",
    "fig.colorbar(im, cax=cbar_ax)\n",
    "        \n",
    "#plt.tight_layout()\n",
    "plt.show()\n",
    "plt.close()"
   ]
  },
  {
   "cell_type": "markdown",
   "metadata": {
    "collapsed": true
   },
   "source": [
    "# Construct the Hamiltonian matrices"
   ]
  },
  {
   "cell_type": "code",
   "execution_count": 9,
   "metadata": {
    "ExecuteTime": {
     "end_time": "2016-07-28T17:34:55.810406",
     "start_time": "2016-07-28T17:34:55.508010"
    },
    "collapsed": false
   },
   "outputs": [],
   "source": [
    "def E0(n):\n",
    "    return n**2 * np.pi**2 / 8.\n",
    "\n",
    "E0ns = E0(basis_vec)\n",
    "\n",
    "Hmn = np.diag(E0ns) + Vmn"
   ]
  },
  {
   "cell_type": "code",
   "execution_count": 10,
   "metadata": {
    "ExecuteTime": {
     "end_time": "2016-07-28T17:34:55.817879",
     "start_time": "2016-07-28T17:34:55.812529"
    },
    "collapsed": false
   },
   "outputs": [
    {
     "data": {
      "text/plain": [
       "(20, 20)"
      ]
     },
     "execution_count": 10,
     "metadata": {},
     "output_type": "execute_result"
    }
   ],
   "source": [
    "np.diag(E0ns).shape"
   ]
  },
  {
   "cell_type": "code",
   "execution_count": 11,
   "metadata": {
    "ExecuteTime": {
     "end_time": "2016-07-28T17:34:55.830447",
     "start_time": "2016-07-28T17:34:55.819751"
    },
    "collapsed": false
   },
   "outputs": [
    {
     "data": {
      "text/plain": [
       "(100000, 20, 20)"
      ]
     },
     "execution_count": 11,
     "metadata": {},
     "output_type": "execute_result"
    }
   ],
   "source": [
    "Vmn.shape"
   ]
  },
  {
   "cell_type": "markdown",
   "metadata": {},
   "source": [
    "# Solve the eigensystem"
   ]
  },
  {
   "cell_type": "code",
   "execution_count": 12,
   "metadata": {
    "ExecuteTime": {
     "end_time": "2016-07-28T17:35:03.324301",
     "start_time": "2016-07-28T17:34:55.832428"
    },
    "collapsed": false
   },
   "outputs": [
    {
     "name": "stdout",
     "output_type": "stream",
     "text": [
      "Eigenvalues shape: (100000, 20)\n",
      "7.482261896133423\n",
      "Eigenvectors shape: (100000, 20, 20)\n"
     ]
    }
   ],
   "source": [
    "import time\n",
    "t1=time.time()\n",
    "eigvals, eigvecs = np.linalg.eigh(Hmn)\n",
    "print(\"Eigenvalues shape:\", eigvals.shape)\n",
    "print(time.time()-t1)\n",
    "print(\"Eigenvectors shape:\", eigvecs.shape)"
   ]
  },
  {
   "cell_type": "markdown",
   "metadata": {},
   "source": [
    "# Visualize the solutions"
   ]
  },
  {
   "cell_type": "code",
   "execution_count": 13,
   "metadata": {
    "ExecuteTime": {
     "end_time": "2016-07-28T17:35:16.075983",
     "start_time": "2016-07-28T17:35:03.329611"
    },
    "collapsed": false
   },
   "outputs": [
    {
     "name": "stdout",
     "output_type": "stream",
     "text": [
      "psiComp.shape: (20, 100)\n",
      "Size of data: 1600.00013 MB\n"
     ]
    }
   ],
   "source": [
    "# Calculate the probability distribution\n",
    "psiComp = psi0(basis_vec,x_vec)\n",
    "print(\"psiComp.shape:\", psiComp.shape)\n",
    "psi=np.dot(eigvecs.transpose((0,2,1)),psiComp)\n",
    "prob = psi**2\n",
    "print(\"Size of data: %0.5f MB\" % (sys.getsizeof(prob)/1e6))"
   ]
  },
  {
   "cell_type": "code",
   "execution_count": 14,
   "metadata": {
    "ExecuteTime": {
     "end_time": "2016-07-28T17:35:17.889247",
     "start_time": "2016-07-28T17:35:16.091055"
    },
    "collapsed": false
   },
   "outputs": [
    {
     "data": {
      "text/plain": [
       "<matplotlib.figure.Figure at 0x1109e5f60>"
      ]
     },
     "metadata": {},
     "output_type": "display_data"
    },
    {
     "data": {
      "image/png": "[encoded data removed]",
      "text/plain": [
       "<matplotlib.figure.Figure at 0x1109e5e10>"
      ]
     },
     "metadata": {},
     "output_type": "display_data"
    }
   ],
   "source": [
    "# Plot some random probability distributions\n",
    "nrows = 1\n",
    "ncols = 4\n",
    "nplot = nrows * ncols\n",
    "i_plt = randint(0,n_V, nplot)\n",
    "numeigs = 5\n",
    "\n",
    "V_grid_plt = V_grid[i_plt]\n",
    "eigvals_plt = eigvals[i_plt]\n",
    "prob_plt = prob[i_plt]\n",
    "\n",
    "plt.clf()\n",
    "fig, axes = plt.subplots(nrows = nrows, ncols = ncols, sharey='all', sharex='all')\n",
    "fig.set_size_inches(8+8./3.,5)\n",
    "subax = axes.flat\n",
    "\n",
    "for i in range(nplot):\n",
    "    subax[i].plot(x_vec, V_grid[i_plt[i]], linewidth = 2)\n",
    "    for j in range(numeigs):\n",
    "        subax[i].fill_between(x_vec, eigvals_plt[i,j], eigvals_plt[i,j]+1.5*prob_plt[i,j], lw=2, color='r')\n",
    "        subax[i].get_xaxis().set_ticks([-1,0,1])\n",
    "        subax[i].axhline(y=eigvals_plt[i,j], xmin = -1, xmax = 1, \n",
    "                         ls = 'dashed', color = 'k', lw =3)\n",
    "        subax[i].vlines(x=-1, ymin = V_grid[i_plt[i],0], ymax = 3*E0(numeigs), lw=2, color='b')\n",
    "        subax[i].vlines(x=1, ymin = V_grid[i_plt[i],-1], ymax = 3*E0(numeigs), lw=2, color='b')\n",
    "    if i >= (nrows-1)*ncols:\n",
    "        subax[i].set_xlabel(\"$x$\")\n",
    "    if i is 0 or i is ncols:\n",
    "        subax[i].set_ylabel(\"$V(x)$\")\n",
    "    subax[i].set_ylim((-2*sigma,1.4*E0(numeigs)))\n",
    "    subax[i].set_xlim(1.2*x_i,1.2*x_f)\n",
    "\n",
    "#plt.tight_layout()\n",
    "plt.show()\n",
    "plt.close()"
   ]
  },
  {
   "cell_type": "markdown",
   "metadata": {},
   "source": [
    "# Scaled eigenvalues"
   ]
  },
  {
   "cell_type": "code",
   "execution_count": 15,
   "metadata": {
    "ExecuteTime": {
     "end_time": "2016-07-28T17:35:18.161138",
     "start_time": "2016-07-28T17:35:17.892752"
    },
    "collapsed": true
   },
   "outputs": [],
   "source": [
    "eig_mu = np.mean(eigvals, axis = 0)\n",
    "eig_std = np.std(eigvals, axis = 0)\n",
    "eig_scaled = (eigvals - eig_mu) / eig_std"
   ]
  },
  {
   "cell_type": "code",
   "execution_count": 16,
   "metadata": {
    "ExecuteTime": {
     "end_time": "2016-07-28T17:35:19.454754",
     "start_time": "2016-07-28T17:35:18.163642"
    },
    "collapsed": false
   },
   "outputs": [
    {
     "data": {
      "text/plain": [
       "<matplotlib.figure.Figure at 0x22069de80>"
      ]
     },
     "metadata": {},
     "output_type": "display_data"
    },
    {
     "data": {
      "image/png": "[encoded data removed]",
      "text/plain": [
       "<matplotlib.figure.Figure at 0x22069d5c0>"
      ]
     },
     "metadata": {},
     "output_type": "display_data"
    }
   ],
   "source": [
    "nrows = 3\n",
    "ncols = 1\n",
    "nplots = nrows*ncols\n",
    "plt.clf()\n",
    "fig, axes = plt.subplots(nrows, ncols)\n",
    "fig.set_size_inches(8*ncols,1.5*nrows)\n",
    "subax = axes.flat\n",
    "\n",
    "nbins = 60\n",
    "for i in range(0, nrows):\n",
    "    subax[i].hist(eig_scaled[::,i], nbins, normed = 1, facecolor = 'green', \n",
    "                  alpha = 1, range = [-3,3])\n",
    "\n",
    "plt.tight_layout()\n",
    "plt.show()\n",
    "plt.close()"
   ]
  },
  {
   "cell_type": "markdown",
   "metadata": {},
   "source": [
    "# Neural Network"
   ]
  },
  {
   "cell_type": "code",
   "execution_count": 17,
   "metadata": {
    "ExecuteTime": {
     "end_time": "2016-07-28T17:35:20.666256",
     "start_time": "2016-07-28T17:35:19.456722"
    },
    "collapsed": false
   },
   "outputs": [
    {
     "name": "stdout",
     "output_type": "stream",
     "text": [
      "[ 8.01366162  7.24890351  6.42697854]\n",
      "[ 6.42697854  7.24890351  8.01366162]\n"
     ]
    }
   ],
   "source": [
    "# Double the dataset using reflection symmetry\n",
    "V_grid_flipped = V_grid[:,::-1]\n",
    "\n",
    "# Quick and dirty test:\n",
    "print(V_grid[2,0:3])\n",
    "print(V_grid_flipped[2,-3:])\n",
    "\n",
    "X = np.concatenate( (V_grid, V_grid_flipped) )\n",
    "y = np.concatenate( (eig_scaled, eig_scaled) )[::,0:n_eig]"
   ]
  },
  {
   "cell_type": "code",
   "execution_count": 18,
   "metadata": {
    "ExecuteTime": {
     "end_time": "2016-07-28T17:35:22.550267",
     "start_time": "2016-07-28T17:35:20.681435"
    },
    "collapsed": false
   },
   "outputs": [
    {
     "name": "stdout",
     "output_type": "stream",
     "text": [
      "X shape, y shape:  (200000, 100) (200000, 10)\n",
      "X_train shape, y_train shape:  (140000, 100) (140000, 10)\n",
      "X_test shape, y_test shape:  (60000, 100) (60000, 10)\n"
     ]
    }
   ],
   "source": [
    "# Split test and train\n",
    "test_frac = 0.3\n",
    "random_state = 6\n",
    "X_train, X_test, y_train, y_test = train_test_split(\n",
    "    X, y, test_size=test_frac, random_state=random_state\n",
    ")\n",
    "print(\"X shape, y shape: \", X.shape, y.shape)\n",
    "print(\"X_train shape, y_train shape: \", X_train.shape, y_train.shape)\n",
    "print(\"X_test shape, y_test shape: \", X_test.shape, y_test.shape)"
   ]
  },
  {
   "cell_type": "code",
   "execution_count": 19,
   "metadata": {
    "ExecuteTime": {
     "end_time": "2016-07-28T17:35:22.558768",
     "start_time": "2016-07-28T17:35:22.552378"
    },
    "collapsed": false
   },
   "outputs": [],
   "source": [
    "hidden_layers = (100,100)\n",
    "model =MLPRegressor(hidden_layer_sizes=hidden_layers,\n",
    "                    activation = 'tanh',\n",
    "                    algorithm = 'adam',\n",
    "                    alpha = 0.001,\n",
    "                    beta_1 = 0.85,\n",
    "                    beta_2 = 0.9,\n",
    "                    batch_size = 'auto',\n",
    "                    max_iter = 500,\n",
    "                    tol = 1e-8,\n",
    "                    learning_rate_init = 0.0001,\n",
    "                    verbose = True\n",
    "                 )"
   ]
  },
  {
   "cell_type": "code",
   "execution_count": 20,
   "metadata": {
    "ExecuteTime": {
     "end_time": "2016-07-28T17:40:18.759535",
     "start_time": "2016-07-28T17:35:22.560579"
    },
    "collapsed": false
   },
   "outputs": [
    {
     "name": "stdout",
     "output_type": "stream",
     "text": [
      "Iteration 1, loss = 0.13353104\n",
      "Iteration 2, loss = 0.06491459\n",
      "Iteration 3, loss = 0.04523105\n",
      "Iteration 4, loss = 0.02959635\n",
      "Iteration 5, loss = 0.02030843\n",
      "Iteration 6, loss = 0.01463684\n",
      "Iteration 7, loss = 0.01070997\n",
      "Iteration 8, loss = 0.00792298\n",
      "Iteration 9, loss = 0.00611526\n",
      "Iteration 10, loss = 0.00492482\n",
      "Iteration 11, loss = 0.00412834\n",
      "Iteration 12, loss = 0.00358866\n",
      "Iteration 13, loss = 0.00322030\n",
      "Iteration 14, loss = 0.00294026\n",
      "Iteration 15, loss = 0.00275274\n",
      "Iteration 16, loss = 0.00260146\n",
      "Iteration 17, loss = 0.00249061\n",
      "Iteration 18, loss = 0.00237880\n",
      "Iteration 19, loss = 0.00228896\n",
      "Iteration 20, loss = 0.00223226\n",
      "Iteration 21, loss = 0.00216603\n",
      "Iteration 22, loss = 0.00210090\n",
      "Iteration 23, loss = 0.00205642\n",
      "Iteration 24, loss = 0.00202327\n",
      "Iteration 25, loss = 0.00197857\n",
      "Iteration 26, loss = 0.00194923\n",
      "Iteration 27, loss = 0.00190899\n",
      "Iteration 28, loss = 0.00187877\n",
      "Iteration 29, loss = 0.00185329\n",
      "Iteration 30, loss = 0.00182680\n",
      "Iteration 31, loss = 0.00180197\n",
      "Iteration 32, loss = 0.00178567\n",
      "Iteration 33, loss = 0.00175984\n",
      "Iteration 34, loss = 0.00173420\n",
      "Iteration 35, loss = 0.00172414\n",
      "Iteration 36, loss = 0.00170618\n",
      "Iteration 37, loss = 0.00169169\n",
      "Iteration 38, loss = 0.00167899\n",
      "Iteration 39, loss = 0.00165486\n",
      "Iteration 40, loss = 0.00164707\n",
      "Iteration 41, loss = 0.00162850\n",
      "Iteration 42, loss = 0.00162427\n",
      "Iteration 43, loss = 0.00160176\n",
      "Iteration 44, loss = 0.00159177\n",
      "Iteration 45, loss = 0.00157815\n",
      "Iteration 46, loss = 0.00157048\n",
      "Iteration 47, loss = 0.00156017\n",
      "Iteration 48, loss = 0.00154850\n",
      "Iteration 49, loss = 0.00153641\n",
      "Iteration 50, loss = 0.00152476\n",
      "Iteration 51, loss = 0.00151632\n",
      "Iteration 52, loss = 0.00149796\n",
      "Iteration 53, loss = 0.00149857\n",
      "Iteration 54, loss = 0.00148611\n",
      "Iteration 55, loss = 0.00148135\n",
      "Iteration 56, loss = 0.00147485\n",
      "Iteration 57, loss = 0.00146781\n",
      "Iteration 58, loss = 0.00144718\n",
      "Iteration 59, loss = 0.00144773\n",
      "Iteration 60, loss = 0.00143742\n",
      "Iteration 61, loss = 0.00143402\n",
      "Iteration 62, loss = 0.00142068\n",
      "Iteration 63, loss = 0.00141429\n",
      "Iteration 64, loss = 0.00142169\n",
      "Iteration 65, loss = 0.00140128\n",
      "Iteration 66, loss = 0.00139809\n",
      "Iteration 67, loss = 0.00139141\n",
      "Iteration 68, loss = 0.00138826\n",
      "Iteration 69, loss = 0.00137739\n",
      "Iteration 70, loss = 0.00137880\n",
      "Iteration 71, loss = 0.00137028\n",
      "Iteration 72, loss = 0.00136397\n",
      "Iteration 73, loss = 0.00136118\n",
      "Iteration 74, loss = 0.00134849\n",
      "Iteration 75, loss = 0.00134379\n",
      "Iteration 76, loss = 0.00134679\n",
      "Iteration 77, loss = 0.00134371\n",
      "Iteration 78, loss = 0.00133381\n",
      "Iteration 79, loss = 0.00133338\n",
      "Iteration 80, loss = 0.00132223\n",
      "Iteration 81, loss = 0.00132983\n",
      "Iteration 82, loss = 0.00130961\n",
      "Iteration 83, loss = 0.00130979\n",
      "Iteration 84, loss = 0.00130582\n",
      "Iteration 85, loss = 0.00130590\n",
      "Iteration 86, loss = 0.00129952\n",
      "Iteration 87, loss = 0.00129250\n",
      "Iteration 88, loss = 0.00128202\n",
      "Iteration 89, loss = 0.00128741\n",
      "Iteration 90, loss = 0.00129006\n",
      "Iteration 91, loss = 0.00127262\n",
      "Iteration 92, loss = 0.00127619\n",
      "Iteration 93, loss = 0.00126539\n",
      "Iteration 94, loss = 0.00125567\n",
      "Iteration 95, loss = 0.00125933\n",
      "Iteration 96, loss = 0.00125283\n",
      "Iteration 97, loss = 0.00126110\n",
      "Iteration 98, loss = 0.00125162\n",
      "Iteration 99, loss = 0.00124694\n",
      "Iteration 100, loss = 0.00124439\n",
      "Iteration 101, loss = 0.00123317\n",
      "Iteration 102, loss = 0.00123298\n",
      "Iteration 103, loss = 0.00122978\n",
      "Iteration 104, loss = 0.00123335\n",
      "Iteration 105, loss = 0.00122401\n",
      "Iteration 106, loss = 0.00122942\n",
      "Iteration 107, loss = 0.00121310\n",
      "Iteration 108, loss = 0.00121405\n",
      "Iteration 109, loss = 0.00121216\n",
      "Iteration 110, loss = 0.00120880\n",
      "Iteration 111, loss = 0.00121087\n",
      "Iteration 112, loss = 0.00120768\n",
      "Iteration 113, loss = 0.00120281\n",
      "Iteration 114, loss = 0.00119440\n",
      "Iteration 115, loss = 0.00119292\n",
      "Iteration 116, loss = 0.00119085\n",
      "Iteration 117, loss = 0.00118137\n",
      "Iteration 118, loss = 0.00118492\n",
      "Iteration 119, loss = 0.00117985\n",
      "Iteration 120, loss = 0.00117650\n",
      "Iteration 121, loss = 0.00117559\n",
      "Iteration 122, loss = 0.00117497\n",
      "Iteration 123, loss = 0.00116858\n",
      "Iteration 124, loss = 0.00116400\n",
      "Iteration 125, loss = 0.00116126\n",
      "Iteration 126, loss = 0.00116076\n",
      "Iteration 127, loss = 0.00115925\n",
      "Iteration 128, loss = 0.00115641\n",
      "Iteration 129, loss = 0.00115294\n",
      "Iteration 130, loss = 0.00115241\n",
      "Iteration 131, loss = 0.00114395\n",
      "Iteration 132, loss = 0.00114604\n",
      "Iteration 133, loss = 0.00114157\n",
      "Iteration 134, loss = 0.00114366\n",
      "Iteration 135, loss = 0.00113444\n",
      "Iteration 136, loss = 0.00113341\n",
      "Iteration 137, loss = 0.00113240\n",
      "Iteration 138, loss = 0.00112307\n",
      "Iteration 139, loss = 0.00113063\n",
      "Iteration 140, loss = 0.00112672\n",
      "Iteration 141, loss = 0.00112848\n",
      "Training loss did not improve more than tol=0.000000 for two consecutive epochs. Stopping.\n"
     ]
    },
    {
     "data": {
      "text/plain": [
       "MLPRegressor(activation='tanh', algorithm='adam', alpha=0.001,\n",
       "       batch_size='auto', beta_1=0.85, beta_2=0.9, early_stopping=False,\n",
       "       epsilon=1e-08, hidden_layer_sizes=(100, 100),\n",
       "       learning_rate='constant', learning_rate_init=0.0001, max_iter=500,\n",
       "       momentum=0.9, nesterovs_momentum=True, power_t=0.5,\n",
       "       random_state=None, shuffle=True, tol=1e-08, validation_fraction=0.1,\n",
       "       verbose=True, warm_start=False)"
      ]
     },
     "execution_count": 20,
     "metadata": {},
     "output_type": "execute_result"
    }
   ],
   "source": [
    "# Train the network\n",
    "model.fit(X_train,y_train)"
   ]
  },
  {
   "cell_type": "markdown",
   "metadata": {},
   "source": [
    "# Testing the NN"
   ]
  },
  {
   "cell_type": "markdown",
   "metadata": {},
   "source": [
    "### Calculate errors on the training set as a reference point"
   ]
  },
  {
   "cell_type": "code",
   "execution_count": 21,
   "metadata": {
    "ExecuteTime": {
     "end_time": "2016-07-28T17:40:19.728628",
     "start_time": "2016-07-28T17:40:18.763321"
    },
    "collapsed": false
   },
   "outputs": [
    {
     "name": "stdout",
     "output_type": "stream",
     "text": [
      "Prediction error for each eigenvalue in the training set as ratio of std. dev.: \n",
      " [ 0.04500149  0.04731539  0.04290614  0.03211942  0.02904675  0.02479514\n",
      "  0.01871034  0.01707215  0.01602649  0.01607324]\n",
      "Uniform average of prediction errors:\n",
      " 0.029\n",
      "Prediction error for each eigenvalue in the training set as ratio of true value (rel. err.):\n",
      " [ 0.19838057  0.09862181  0.00928357  0.0032075   0.0017825   0.00104299\n",
      "  0.00057715  0.00040942  0.00030125  0.00024756]\n"
     ]
    }
   ],
   "source": [
    "# eigenvalue prediction\n",
    "y_pred_train = model.predict(X_train)\n",
    "err_train = np.sqrt(np.mean((y_pred_train - y_train)**2, axis=0))\n",
    "print(\"Prediction error for each eigenvalue in the training set as ratio of std. dev.: \\n\", err_train)\n",
    "print(\"Uniform average of prediction errors:\\n %0.3f\" % np.mean(err_train))\n",
    "\n",
    "# Relative error\n",
    "eig_pred_train = y_pred_train*eig_std[0:n_eig]+eig_mu[0:n_eig]\n",
    "eig_train = y_train*eig_std[0:n_eig]+eig_mu[0:n_eig]\n",
    "rel_err_train = np.mean(np.abs((eig_pred_train - eig_train)/eig_train), axis=0)\n",
    "print(\"Prediction error for each eigenvalue in the training set as ratio of true value (rel. err.):\\n\", rel_err_train)"
   ]
  },
  {
   "cell_type": "markdown",
   "metadata": {},
   "source": [
    "### Calculate errors on the test set"
   ]
  },
  {
   "cell_type": "code",
   "execution_count": 22,
   "metadata": {
    "ExecuteTime": {
     "end_time": "2016-07-28T17:40:20.161381",
     "start_time": "2016-07-28T17:40:19.730634"
    },
    "collapsed": false
   },
   "outputs": [
    {
     "name": "stdout",
     "output_type": "stream",
     "text": [
      "Prediction error for each eigenvalue in the testing set as ratio of std. dev.: \n",
      " [ 0.04579331  0.04843257  0.04414138  0.03258973  0.0294536   0.02481463\n",
      "  0.01875819  0.01720542  0.01606158  0.01617524]\n",
      "Uniform average of prediction errors:\n",
      " 0.029\n",
      "Prediction error for each eigenvalue in the testing set as ratio of true value (rel. err.):\n",
      " [ 0.17122075  0.1381382   0.00967067  0.0032104   0.0017963   0.00104642\n",
      "  0.00057658  0.00040896  0.00030041  0.00024787]\n"
     ]
    }
   ],
   "source": [
    "# eigenvalue prediction\n",
    "y_pred_test = model.predict(X_test)\n",
    "err_test = np.sqrt(np.mean((y_pred_test - y_test)**2, axis=0))\n",
    "print(\"Prediction error for each eigenvalue in the testing set as ratio of std. dev.: \\n\", err_test)\n",
    "print(\"Uniform average of prediction errors:\\n %0.3f\" % np.mean(err_test))\n",
    "\n",
    "# Relative error\n",
    "eig_pred_test = y_pred_test*eig_std[0:n_eig]+eig_mu[0:n_eig]\n",
    "eig_test = y_test*eig_std[0:n_eig]+eig_mu[0:n_eig]\n",
    "rel_err_test = np.mean(np.abs((eig_pred_test - eig_test)/eig_test), axis=0)\n",
    "print(\"Prediction error for each eigenvalue in the testing set as ratio of true value (rel. err.):\\n\", rel_err_test)"
   ]
  },
  {
   "cell_type": "markdown",
   "metadata": {},
   "source": [
    "## Visualize the predictions"
   ]
  },
  {
   "cell_type": "code",
   "execution_count": 23,
   "metadata": {
    "ExecuteTime": {
     "end_time": "2016-07-28T17:40:20.807226",
     "start_time": "2016-07-28T17:40:20.163124"
    },
    "collapsed": false
   },
   "outputs": [
    {
     "data": {
      "text/plain": [
       "<matplotlib.figure.Figure at 0x121ea95f8>"
      ]
     },
     "metadata": {},
     "output_type": "display_data"
    },
    {
     "data": {
      "image/png": "[encoded data removed]",
      "text/plain": [
       "<matplotlib.figure.Figure at 0x121ea95c0>"
      ]
     },
     "metadata": {},
     "output_type": "display_data"
    },
    {
     "data": {
      "text/plain": [
       "<matplotlib.figure.Figure at 0x11cf59588>"
      ]
     },
     "metadata": {},
     "output_type": "display_data"
    }
   ],
   "source": [
    "nrows = 1\n",
    "ncols = 4\n",
    "nplot = nrows * ncols\n",
    "indplt = randint(0,X_test.shape[0], nplot)\n",
    "numeigsplt = 5\n",
    "\n",
    "plt.clf()\n",
    "fig, axes = plt.subplots(nrows = nrows, ncols = ncols, sharey=True)\n",
    "fig.set_size_inches(12,6)\n",
    "subax = axes.flat\n",
    "\n",
    "for i in range(0, len(indplt)):\n",
    "        subax[i].plot(x_vec, X_test[indplt[i]], linewidth = 2, label='$V(x)$')\n",
    "        subax[i].axhline(y=0,xmin=-1,xmax=1, linestyle='solid' ,color = 'k', lw=0.5)\n",
    "        for j in range(0, numeigsplt):\n",
    "            lastaxNN = subax[i].axhline(y=eig_pred_test[indplt[i],j], xmin = -1, xmax = 1, \n",
    "                             ls = 'solid', color = 'r', lw = 3, label = 'Neural Network')\n",
    "            lastaxSE = subax[i].axhline(y=eig_test[indplt[i],j], xmin = -1, xmax = 1, \n",
    "                             ls = 'dashed', color = 'k', lw =3, label = 'Schr. Eqn.')\n",
    "\n",
    "        subax[i].set_xlabel(\"x\")\n",
    "        if i==0:\n",
    "            subax[i].set_ylabel(\"V(x)\")\n",
    "        subax[i].set_ylim((-2*sigma, 1.4*E0(numeigsplt)))\n",
    "        subax[i].legend([lastaxNN, lastaxSE], [\"Neural Network\", \"Schr. Eqn.\"], fontsize=12)\n",
    "\n",
    "# plt.tight_layout();\n",
    "plt.show();\n",
    "plt.draw()"
   ]
  },
  {
   "cell_type": "markdown",
   "metadata": {},
   "source": [
    "## Test Cases"
   ]
  },
  {
   "cell_type": "markdown",
   "metadata": {},
   "source": [
    "### Square well"
   ]
  },
  {
   "cell_type": "code",
   "execution_count": 24,
   "metadata": {
    "ExecuteTime": {
     "end_time": "2016-07-28T17:40:20.824013",
     "start_time": "2016-07-28T17:40:20.809606"
    },
    "collapsed": false
   },
   "outputs": [
    {
     "name": "stdout",
     "output_type": "stream",
     "text": [
      "Prediction error for each eigenvalue as ratio of std. dev.: \n",
      " [ 0.01281532  0.00512193  0.00463723  0.00872663  0.00252205  0.00611742\n",
      "  0.00797149  0.0078901   0.0009765   0.00284957]\n",
      "Uniform average of prediction errors:\n",
      " 0.006\n",
      "Prediction error for each eigenvalue as ratio of true value (rel. err.):\n",
      " [  3.43937563e-02   3.16572657e-03   1.25101668e-03   1.28971960e-03\n",
      "   2.23547460e-04   3.62173734e-04   3.44702089e-04   2.59508412e-04\n",
      "   2.52116285e-05   5.93194402e-05]\n"
     ]
    }
   ],
   "source": [
    "V_square = np.asarray([np.zeros(n_x)])\n",
    "\n",
    "# eigenvalue prediction\n",
    "y_square_pred = model.predict(V_square)[0]\n",
    "y_square_test = (E0ns[0:n_eig] - eig_mu[0:n_eig])/eig_std[0:n_eig]\n",
    "err_square = np.sqrt((y_square_pred - y_square_test)**2)\n",
    "print(\"Prediction error for each eigenvalue as ratio of std. dev.: \\n\", err_square)\n",
    "print(\"Uniform average of prediction errors:\\n %0.3f\" % np.mean(err_square))\n",
    "\n",
    "# Relative error\n",
    "eig_square_pred = y_square_pred*eig_std[0:n_eig]+eig_mu[0:n_eig]\n",
    "eig_square_test = y_square_test*eig_std[0:n_eig]+eig_mu[0:n_eig]\n",
    "rel_err = np.abs((eig_square_pred - eig_square_test)/eig_square_test)\n",
    "print(\"Prediction error for each eigenvalue as ratio of true value (rel. err.):\\n\", rel_err)"
   ]
  },
  {
   "cell_type": "code",
   "execution_count": 25,
   "metadata": {
    "ExecuteTime": {
     "end_time": "2016-07-28T17:40:21.256648",
     "start_time": "2016-07-28T17:40:20.825730"
    },
    "collapsed": false
   },
   "outputs": [
    {
     "data": {
      "image/png": "[encoded data removed]",
      "text/plain": [
       "<matplotlib.figure.Figure at 0x121e8b320>"
      ]
     },
     "metadata": {},
     "output_type": "display_data"
    }
   ],
   "source": [
    "plt.clf()\n",
    "plt.plot(x_vec, V_square[0], 'b-', lw=2)\n",
    "for i in range(numeigs):\n",
    "    plt.axhline(eig_square_pred[i], lw=2, ls='solid', color='r')\n",
    "    plt.axhline(eig_square_test[i], lw=2, ls='dashed', color='k')"
   ]
  },
  {
   "cell_type": "markdown",
   "metadata": {},
   "source": [
    "### Harmonic oscillator"
   ]
  },
  {
   "cell_type": "code",
   "execution_count": 26,
   "metadata": {
    "ExecuteTime": {
     "end_time": "2016-07-28T17:40:21.262807",
     "start_time": "2016-07-28T17:40:21.258851"
    },
    "collapsed": true
   },
   "outputs": [],
   "source": [
    "# The harmonic oscillator potential with zero average value\n",
    "def V_ho(A,x):\n",
    "    return A*(x**2-1./3.)\n",
    "\n",
    "# The energy levels\n",
    "def E_ho(A,n):\n",
    "    return -A/3. + (1 + 2*n)*np.sqrt(A/2)"
   ]
  },
  {
   "cell_type": "code",
   "execution_count": 34,
   "metadata": {
    "ExecuteTime": {
     "end_time": "2016-07-28T17:41:42.063126",
     "start_time": "2016-07-28T17:41:42.052180"
    },
    "collapsed": false
   },
   "outputs": [],
   "source": [
    "A = 50\n",
    "V_hos = [np.asarray(V_ho(A, x_vec))]\n",
    "y_ho_pred = model.predict(V_hos)[0]\n",
    "eig_ho_pred = y_ho_pred*eig_std[0:n_eig]+eig_mu[0:n_eig]"
   ]
  },
  {
   "cell_type": "code",
   "execution_count": 35,
   "metadata": {
    "ExecuteTime": {
     "end_time": "2016-07-28T17:41:42.935427",
     "start_time": "2016-07-28T17:41:42.748186"
    },
    "collapsed": false
   },
   "outputs": [
    {
     "data": {
      "image/png": "[encoded data removed]",
      "text/plain": [
       "<matplotlib.figure.Figure at 0x222d3cac8>"
      ]
     },
     "metadata": {},
     "output_type": "display_data"
    }
   ],
   "source": [
    "plt.clf()\n",
    "plt.plot(x_vec, V_hos[0], 'b-', lw=2)\n",
    "for i in range(numeigs):\n",
    "    plt.axhline(eig_ho_pred[i], lw=2, ls='solid', color='r')\n",
    "    plt.axhline(E_ho(A,i), lw=2, ls='dashed', color='k')"
   ]
  },
  {
   "cell_type": "markdown",
   "metadata": {},
   "source": [
    "### Linear potential and symmetry test"
   ]
  },
  {
   "cell_type": "code",
   "execution_count": 36,
   "metadata": {
    "ExecuteTime": {
     "end_time": "2016-07-28T17:41:54.078925",
     "start_time": "2016-07-28T17:41:54.074674"
    },
    "collapsed": true
   },
   "outputs": [],
   "source": [
    "# The harmonic oscillator potential with zero average value\n",
    "A = 10\n",
    "V_lin_p = [np.linspace(-A,A,n_x)]\n",
    "V_lin_m = [np.linspace(A,-A,n_x)]"
   ]
  },
  {
   "cell_type": "code",
   "execution_count": 37,
   "metadata": {
    "ExecuteTime": {
     "end_time": "2016-07-28T17:41:54.776006",
     "start_time": "2016-07-28T17:41:54.770081"
    },
    "collapsed": false
   },
   "outputs": [],
   "source": [
    "y_lin_p_pred = model.predict(V_lin_p)[0]\n",
    "eig_lin_p_pred = y_lin_p_pred*eig_std[0:n_eig]+eig_mu[0:n_eig]\n",
    "\n",
    "y_lin_m_pred = model.predict(V_lin_m)[0]\n",
    "eig_lin_m_pred = y_lin_m_pred*eig_std[0:n_eig]+eig_mu[0:n_eig]"
   ]
  },
  {
   "cell_type": "code",
   "execution_count": 39,
   "metadata": {
    "ExecuteTime": {
     "end_time": "2016-07-28T17:42:10.608052",
     "start_time": "2016-07-28T17:42:10.385734"
    },
    "collapsed": false
   },
   "outputs": [
    {
     "data": {
      "image/png": "[encoded data removed]",
      "text/plain": [
       "<matplotlib.figure.Figure at 0x13a496320>"
      ]
     },
     "metadata": {},
     "output_type": "display_data"
    }
   ],
   "source": [
    "plt.clf()\n",
    "plt.plot(x_vec, V_lin_p[0], 'b-', lw=2)\n",
    "plt.plot(x_vec, V_lin_m[0], 'b--', lw=2)\n",
    "plt.axvline(ls=':',lw=2,color='k')\n",
    "for i in range(numeigs):\n",
    "    plt.axhline(eig_lin_p_pred[i], lw=2, ls='solid', color='r')\n",
    "    plt.axhline(eig_lin_m_pred[i], lw=2, ls='dashed', color='k')"
   ]
  },
  {
   "cell_type": "markdown",
   "metadata": {},
   "source": [
    "### Shifted square well"
   ]
  },
  {
   "cell_type": "code",
   "execution_count": 54,
   "metadata": {
    "ExecuteTime": {
     "end_time": "2016-07-28T17:48:10.090871",
     "start_time": "2016-07-28T17:48:10.076683"
    },
    "collapsed": false
   },
   "outputs": [
    {
     "name": "stdout",
     "output_type": "stream",
     "text": [
      "Prediction error for each eigenvalue as ratio of std. dev.: \n",
      " [ 0.03439826  0.01541198  0.00738205  0.00992539  0.02826247  0.02069948\n",
      "  0.0085855   0.01493865  0.00100939  0.0052593 ]\n",
      "Uniform average of prediction errors:\n",
      " 0.015\n",
      "Prediction error for each eigenvalue as ratio of true value (rel. err.):\n",
      " [  1.82705046e-02   4.73161016e-03   1.37315181e-03   1.17041585e-03\n",
      "   2.15564590e-03   1.10148222e-03   3.42892346e-04   4.62076421e-04\n",
      "   2.48189158e-05   1.05218319e-04]\n"
     ]
    }
   ],
   "source": [
    "shift = 5\n",
    "V_square = shift + np.asarray([np.zeros(n_x)])\n",
    "\n",
    "\n",
    "# eigenvalue prediction\n",
    "y_square_pred = model.predict(V_square)[0]\n",
    "y_square_test = (shift+E0ns[0:n_eig] - eig_mu[0:n_eig])/eig_std[0:n_eig]\n",
    "err_square = np.sqrt((y_square_pred - y_square_test)**2)\n",
    "print(\"Prediction error for each eigenvalue as ratio of std. dev.: \\n\", err_square)\n",
    "print(\"Uniform average of prediction errors:\\n %0.3f\" % np.mean(err_square))\n",
    "\n",
    "# Relative error\n",
    "eig_square_pred = y_square_pred*eig_std[0:n_eig]+eig_mu[0:n_eig]\n",
    "eig_square_test = y_square_test*eig_std[0:n_eig]+eig_mu[0:n_eig]\n",
    "rel_err = np.abs((eig_square_pred - eig_square_test)/eig_square_test)\n",
    "print(\"Prediction error for each eigenvalue as ratio of true value (rel. err.):\\n\", rel_err)"
   ]
  },
  {
   "cell_type": "code",
   "execution_count": 55,
   "metadata": {
    "ExecuteTime": {
     "end_time": "2016-07-28T17:48:10.814778",
     "start_time": "2016-07-28T17:48:10.600980"
    },
    "collapsed": false
   },
   "outputs": [
    {
     "data": {
      "image/png": "[encoded data removed]",
      "text/plain": [
       "<matplotlib.figure.Figure at 0x10598a8d0>"
      ]
     },
     "metadata": {},
     "output_type": "display_data"
    }
   ],
   "source": [
    "plt.clf()\n",
    "plt.plot(x_vec, V_square[0], 'b-', lw=2)\n",
    "for i in range(numeigs):\n",
    "    plt.axhline(eig_square_pred[i], lw=2, ls='solid', color='r')\n",
    "    plt.axhline(eig_square_test[i], lw=2, ls='dashed', color='k')"
   ]
  },
  {
   "cell_type": "code",
   "execution_count": null,
   "metadata": {
    "collapsed": true
   },
   "outputs": [],
   "source": []
  }
 ],
 "metadata": {
  "anaconda-cloud": {},
  "kernelspec": {
   "display_name": "Python [Root]",
   "language": "python",
   "name": "Python [Root]"
  },
  "language_info": {
   "codemirror_mode": {
    "name": "ipython",
    "version": 3
   },
   "file_extension": ".py",
   "mimetype": "text/x-python",
   "name": "python",
   "nbconvert_exporter": "python",
   "pygments_lexer": "ipython3",
   "version": "3.5.1"
  },
  "nav_menu": {},
  "toc": {
   "navigate_menu": true,
   "number_sections": true,
   "sideBar": true,
   "threshold": 6,
   "toc_cell": false,
   "toc_section_display": "block",
   "toc_window_display": false
  }
 },
 "nbformat": 4,
 "nbformat_minor": 0
}
