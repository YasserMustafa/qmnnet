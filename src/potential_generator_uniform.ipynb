{
 "cells": [
  {
   "cell_type": "code",
   "execution_count": 1,
   "metadata": {
    "ExecuteTime": {
     "end_time": "2016-07-28T17:25:06.520471",
     "start_time": "2016-07-28T17:25:05.507129"
    },
    "collapsed": true
   },
   "outputs": [],
   "source": [
    "%matplotlib inline\n",
    "import numpy as np\n",
    "from numpy.random import normal, randint\n",
    "import matplotlib.pyplot as plt\n",
    "from scipy.interpolate import interp1d\n",
    "from scipy.integrate import quad, simps\n",
    "import sys, os, gc\n",
    "from sklearn.model_selection import train_test_split\n",
    "from sklearn.neural_network import MLPRegressor"
   ]
  },
  {
   "cell_type": "markdown",
   "metadata": {},
   "source": [
    "# Inputs"
   ]
  },
  {
   "cell_type": "code",
   "execution_count": 2,
   "metadata": {
    "ExecuteTime": {
     "end_time": "2016-07-28T17:25:06.562886",
     "start_time": "2016-07-28T17:25:06.522280"
    },
    "collapsed": false
   },
   "outputs": [
    {
     "name": "stdout",
     "output_type": "stream",
     "text": [
      "Input parameters:\n",
      "  n_V= 100000\n",
      "  x_i= -1.00\n",
      "  x_f= 1.00\n",
      "  n_x= 100\n",
      "  n_xpot= 10\n",
      "  lamb= 0.80\n",
      "  sigma= 7.50\n",
      "  n_basis= 20\n",
      "  n_eig= 10\n",
      "\n"
     ]
    }
   ],
   "source": [
    "# Number of potentials:\n",
    "n_V = int(1e5)\n",
    "# x limits:\n",
    "x_i = -1\n",
    "x_f = 1\n",
    "# Number of x coordinates for spline:\n",
    "n_x = 100\n",
    "x_vec = np.linspace(x_i, x_f, n_x)\n",
    "# Number of x coordinates for potential generation\n",
    "n_xpot = 10\n",
    "xpot_vec = np.linspace(x_i,x_f,n_xpot)\n",
    "# Damping factor\n",
    "lamb = 0.8\n",
    "# Potential standard deviation\n",
    "sigma = 30/(x_f-x_i)**2\n",
    "# Number of basis wavefunctions\n",
    "n_basis = 20\n",
    "basis_vec = np.arange(1,n_basis+1)\n",
    "# Number of eigenvalues to train the neural network to predict\n",
    "n_eig = 10\n",
    "\n",
    "print(\"Input parameters:\\n\"\n",
    "      \"  n_V= %i\\n\"\n",
    "      \"  x_i= %0.2f\\n\"\n",
    "      \"  x_f= %0.2f\\n\"\n",
    "      \"  n_x= %i\\n\"\n",
    "      \"  n_xpot= %i\\n\"\n",
    "      \"  lamb= %0.2f\\n\"\n",
    "      \"  sigma= %0.2f\\n\"\n",
    "      \"  n_basis= %i\\n\"\n",
    "      \"  n_eig= %i\\n\"\n",
    "      % (n_V,x_i, x_f, n_x, n_xpot, lamb, sigma, n_basis, n_eig))"
   ]
  },
  {
   "cell_type": "markdown",
   "metadata": {},
   "source": [
    "# Generate the potentials"
   ]
  },
  {
   "cell_type": "code",
   "execution_count": 3,
   "metadata": {
    "ExecuteTime": {
     "end_time": "2016-07-28T17:25:08.286207",
     "start_time": "2016-07-28T17:25:06.574540"
    },
    "collapsed": false
   },
   "outputs": [],
   "source": [
    "# Randomly select the value of the potential at the selected points\n",
    "V_xpot = normal(loc=0, scale=sigma, size=(n_V,n_xpot))\n",
    "\n",
    "# Form a cubic spline for each potential\n",
    "V_interp = interp1d(xpot_vec, V_xpot, kind=\"cubic\", axis=1)\n",
    "\n",
    "# Evaluate the cubic spline at the grid\n",
    "V_grid = V_interp(x_vec)\n",
    "\n",
    "# Calculate the average of each potential\n",
    "V_avg = simps(x=x_vec, y=V_grid)/2\n",
    "\n",
    "# Remove the average\n",
    "V_grid = V_grid# - np.outer(V_avg, np.ones(n_x))"
   ]
  },
  {
   "cell_type": "code",
   "execution_count": 4,
   "metadata": {
    "ExecuteTime": {
     "end_time": "2016-07-28T17:25:08.651976",
     "start_time": "2016-07-28T17:25:08.288395"
    },
    "collapsed": false
   },
   "outputs": [
    {
     "data": {
      "text/plain": [
       "[<matplotlib.lines.Line2D at 0x1109a3a58>]"
      ]
     },
     "execution_count": 4,
     "metadata": {},
     "output_type": "execute_result"
    },
    {
     "data": {
      "image/png": "[encoded data removed]",
      "text/plain": [
       "<matplotlib.figure.Figure at 0x10c559780>"
      ]
     },
     "metadata": {},
     "output_type": "display_data"
    }
   ],
   "source": [
    "plt.clf()\n",
    "plt.plot(x_vec, np.mean(V_grid, axis=0), 'b-', lw=2)\n",
    "plt.plot(x_vec, np.mean(V_grid, axis=0)+np.std(V_grid, axis=0), 'k--', lw=2)\n",
    "plt.plot(x_vec, np.mean(V_grid, axis=0)-np.std(V_grid, axis=0), 'k--', lw=2)"
   ]
  },
  {
   "cell_type": "markdown",
   "metadata": {},
   "source": [
    "# Plot some random potentials"
   ]
  },
  {
   "cell_type": "code",
   "execution_count": 5,
   "metadata": {
    "ExecuteTime": {
     "end_time": "2016-07-28T17:25:09.295930",
     "start_time": "2016-07-28T17:25:08.653878"
    },
    "collapsed": false
   },
   "outputs": [
    {
     "data": {
      "text/plain": [
       "<matplotlib.figure.Figure at 0x121de6358>"
      ]
     },
     "metadata": {},
     "output_type": "display_data"
    },
    {
     "data": {
      "image/png": "[encoded data removed]",
      "text/plain": [
       "<matplotlib.figure.Figure at 0x121de63c8>"
      ]
     },
     "metadata": {},
     "output_type": "display_data"
    }
   ],
   "source": [
    "nrows = 2\n",
    "ncols = 2\n",
    "nplot = nrows * ncols\n",
    "Vints = randint(0,n_V, nplot)\n",
    "Vplot = V_grid[Vints,::]\n",
    "\n",
    "plt.clf()\n",
    "fig, axes = plt.subplots(nrows = nrows, ncols = ncols)\n",
    "fig.set_size_inches(7,7)\n",
    "subax = axes.flat\n",
    "\n",
    "for i in range(0,nplot):\n",
    "        subax[i].plot(x_vec, Vplot[i], linewidth = 2)\n",
    "        subax[i].axhline(y=0,xmin=-1,xmax=1, linestyle='dashed' ,color = 'k')\n",
    "        subax[i].axvline(x=0,ymin=-10,ymax=10, linestyle='dashed' ,color = 'k')\n",
    "        subax[i].set_xlabel(\"x\")\n",
    "        subax[i].set_ylabel(\"V(x)\")\n",
    "        subax[i].set_ylim((-2*sigma,2*sigma))\n",
    "\n",
    "plt.tight_layout()\n",
    "plt.show()\n",
    "plt.close()"
   ]
  },
  {
   "cell_type": "markdown",
   "metadata": {
    "collapsed": true
   },
   "source": [
    "# Calculate potential matrix elements"
   ]
  },
  {
   "cell_type": "code",
   "execution_count": null,
   "metadata": {
    "ExecuteTime": {
     "start_time": "2016-07-28T21:25:05.518Z"
    },
    "collapsed": false
   },
   "outputs": [],
   "source": [
    "def psi0(n,x):\n",
    "    '''\n",
    "    n -- state index: starts from 1\n",
    "    x -- position\n",
    "    '''\n",
    "    return np.sin(np.pi/2*np.outer(n,x+1))\n",
    "def matel_integrand(n,m,x):\n",
    "    return psi0(n+1,x) * psi0(m+1,x) * V_interp(x)\n",
    "def matel(n,m):\n",
    "    return simps(x=x_vec, y=matel_integrand(n,m,x_vec), axis=1)"
   ]
  },
  {
   "cell_type": "code",
   "execution_count": null,
   "metadata": {
    "ExecuteTime": {
     "start_time": "2016-07-28T21:25:05.520Z"
    },
    "collapsed": false
   },
   "outputs": [
    {
     "name": "stdout",
     "output_type": "stream",
     "text": [
      "Status: 40.25 % complete"
     ]
    }
   ],
   "source": [
    "Vmn=np.zeros((n_V,n_basis,n_basis))\n",
    "for n in range(0,n_basis):\n",
    "    for m in range(0,n_basis):\n",
    "        Vmn[:,n,m] =matel(n,m)\n",
    "        percent = (n*n_basis + m+1)/n_basis**2*100\n",
    "        print(\"\\rStatus: %0.2f %% complete\" % percent, end='')"
   ]
  },
  {
   "cell_type": "markdown",
   "metadata": {},
   "source": [
    "# Visualize the potential matrix elements"
   ]
  },
  {
   "cell_type": "code",
   "execution_count": null,
   "metadata": {
    "ExecuteTime": {
     "start_time": "2016-07-28T21:25:05.523Z"
    },
    "collapsed": false
   },
   "outputs": [],
   "source": [
    "nrows = 2\n",
    "ncols = 2\n",
    "nplot = nrows * ncols\n",
    "Vints = randint(0,n_V, nplot)\n",
    "Vplot = Vmn[Vints]\n",
    "z_min, z_max = -np.abs(Vplot).max(), np.abs(Vplot).max()\n",
    "\n",
    "X,Y= np.meshgrid(basis_vec,basis_vec)\n",
    "\n",
    "plt.clf()\n",
    "fig, axes = plt.subplots(nrows = nrows, ncols = ncols)\n",
    "fig.subplots_adjust(hspace=0.3)\n",
    "fig.set_size_inches(4*ncols,4*nrows)\n",
    "subax = axes.flat\n",
    "\n",
    "for i in range(0,nplot):\n",
    "        im = subax[i].pcolor(X,Y, Vplot[i], cmap = 'RdBu', vmin = z_min, vmax = z_max)\n",
    "        subax[i].set_title(\"V, i=\"+str(Vints[i]))\n",
    "\n",
    "fig.subplots_adjust(right=0.8)\n",
    "cbar_ax = fig.add_axes([0.85, 0.15, 0.05, 0.7])\n",
    "fig.colorbar(im, cax=cbar_ax)\n",
    "        \n",
    "#plt.tight_layout()\n",
    "plt.show()\n",
    "plt.close()"
   ]
  },
  {
   "cell_type": "markdown",
   "metadata": {
    "collapsed": true
   },
   "source": [
    "# Construct the Hamiltonian matrices"
   ]
  },
  {
   "cell_type": "code",
   "execution_count": null,
   "metadata": {
    "ExecuteTime": {
     "start_time": "2016-07-28T21:25:05.526Z"
    },
    "collapsed": false
   },
   "outputs": [],
   "source": [
    "def E0(n):\n",
    "    return n**2 * np.pi**2 / 8.\n",
    "\n",
    "E0ns = E0(basis_vec)\n",
    "\n",
    "Hmn = np.diag(E0ns) + Vmn"
   ]
  },
  {
   "cell_type": "code",
   "execution_count": null,
   "metadata": {
    "ExecuteTime": {
     "start_time": "2016-07-28T21:25:05.528Z"
    },
    "collapsed": false
   },
   "outputs": [],
   "source": [
    "np.diag(E0ns).shape"
   ]
  },
  {
   "cell_type": "code",
   "execution_count": null,
   "metadata": {
    "ExecuteTime": {
     "start_time": "2016-07-28T21:25:05.531Z"
    },
    "collapsed": false
   },
   "outputs": [],
   "source": [
    "Vmn.shape"
   ]
  },
  {
   "cell_type": "markdown",
   "metadata": {},
   "source": [
    "# Solve the eigensystem"
   ]
  },
  {
   "cell_type": "code",
   "execution_count": null,
   "metadata": {
    "ExecuteTime": {
     "start_time": "2016-07-28T21:25:05.534Z"
    },
    "collapsed": false
   },
   "outputs": [],
   "source": [
    "import time\n",
    "t1=time.time()\n",
    "eigvals, eigvecs = np.linalg.eigh(Hmn)\n",
    "print(\"Eigenvalues shape:\", eigvals.shape)\n",
    "print(time.time()-t1)\n",
    "print(\"Eigenvectors shape:\", eigvecs.shape)"
   ]
  },
  {
   "cell_type": "markdown",
   "metadata": {},
   "source": [
    "# Visualize the solutions"
   ]
  },
  {
   "cell_type": "code",
   "execution_count": null,
   "metadata": {
    "ExecuteTime": {
     "start_time": "2016-07-28T21:25:05.538Z"
    },
    "collapsed": false
   },
   "outputs": [],
   "source": [
    "# Calculate the probability distribution\n",
    "psiComp = psi0(basis_vec,x_vec)\n",
    "print(\"psiComp.shape:\", psiComp.shape)\n",
    "psi=np.dot(eigvecs.transpose((0,2,1)),psiComp)\n",
    "prob = psi**2\n",
    "print(\"Size of data: %0.5f MB\" % (sys.getsizeof(prob)/1e6))"
   ]
  },
  {
   "cell_type": "code",
   "execution_count": null,
   "metadata": {
    "ExecuteTime": {
     "start_time": "2016-07-28T21:25:05.541Z"
    },
    "collapsed": false
   },
   "outputs": [],
   "source": [
    "# Plot some random probability distributions\n",
    "nrows = 1\n",
    "ncols = 4\n",
    "nplot = nrows * ncols\n",
    "i_plt = randint(0,n_V, nplot)\n",
    "numeigs = 5\n",
    "\n",
    "V_grid_plt = V_grid[i_plt]\n",
    "eigvals_plt = eigvals[i_plt]\n",
    "prob_plt = prob[i_plt]\n",
    "\n",
    "plt.clf()\n",
    "fig, axes = plt.subplots(nrows = nrows, ncols = ncols, sharey='all', sharex='all')\n",
    "fig.set_size_inches(8+8./3.,5)\n",
    "subax = axes.flat\n",
    "\n",
    "for i in range(nplot):\n",
    "    subax[i].plot(x_vec, V_grid[i_plt[i]], linewidth = 2)\n",
    "    for j in range(numeigs):\n",
    "        subax[i].fill_between(x_vec, eigvals_plt[i,j], eigvals_plt[i,j]+1.5*prob_plt[i,j], lw=2, color='r')\n",
    "        subax[i].get_xaxis().set_ticks([-1,0,1])\n",
    "        subax[i].axhline(y=eigvals_plt[i,j], xmin = -1, xmax = 1, \n",
    "                         ls = 'dashed', color = 'k', lw =3)\n",
    "        subax[i].vlines(x=-1, ymin = V_grid[i_plt[i],0], ymax = 3*E0(numeigs), lw=2, color='b')\n",
    "        subax[i].vlines(x=1, ymin = V_grid[i_plt[i],-1], ymax = 3*E0(numeigs), lw=2, color='b')\n",
    "    if i >= (nrows-1)*ncols:\n",
    "        subax[i].set_xlabel(\"$x$\")\n",
    "    if i is 0 or i is ncols:\n",
    "        subax[i].set_ylabel(\"$V(x)$\")\n",
    "    subax[i].set_ylim((-2*sigma,1.4*E0(numeigs)))\n",
    "    subax[i].set_xlim(1.2*x_i,1.2*x_f)\n",
    "\n",
    "#plt.tight_layout()\n",
    "plt.show()\n",
    "plt.close()"
   ]
  },
  {
   "cell_type": "markdown",
   "metadata": {},
   "source": [
    "# Scaled eigenvalues"
   ]
  },
  {
   "cell_type": "code",
   "execution_count": null,
   "metadata": {
    "ExecuteTime": {
     "start_time": "2016-07-28T21:25:05.544Z"
    },
    "collapsed": true
   },
   "outputs": [],
   "source": [
    "eig_mu = np.mean(eigvals, axis = 0)\n",
    "eig_std = np.std(eigvals, axis = 0)\n",
    "eig_scaled = (eigvals - eig_mu) / eig_std"
   ]
  },
  {
   "cell_type": "code",
   "execution_count": null,
   "metadata": {
    "ExecuteTime": {
     "start_time": "2016-07-28T21:25:05.547Z"
    },
    "collapsed": false
   },
   "outputs": [],
   "source": [
    "nrows = 3\n",
    "ncols = 1\n",
    "nplots = nrows*ncols\n",
    "plt.clf()\n",
    "fig, axes = plt.subplots(nrows, ncols)\n",
    "fig.set_size_inches(8*ncols,1.5*nrows)\n",
    "subax = axes.flat\n",
    "\n",
    "nbins = 60\n",
    "for i in range(0, nrows):\n",
    "    subax[i].hist(eig_scaled[::,i], nbins, normed = 1, facecolor = 'green', \n",
    "                  alpha = 1, range = [-3,3])\n",
    "\n",
    "plt.tight_layout()\n",
    "plt.show()\n",
    "plt.close()"
   ]
  },
  {
   "cell_type": "markdown",
   "metadata": {},
   "source": [
    "# Neural Network"
   ]
  },
  {
   "cell_type": "code",
   "execution_count": null,
   "metadata": {
    "ExecuteTime": {
     "start_time": "2016-07-28T21:25:05.550Z"
    },
    "collapsed": false
   },
   "outputs": [],
   "source": [
    "# Double the dataset using reflection symmetry\n",
    "V_grid_flipped = V_grid[:,::-1]\n",
    "\n",
    "# Quick and dirty test:\n",
    "print(V_grid[2,0:3])\n",
    "print(V_grid_flipped[2,-3:])\n",
    "\n",
    "X = np.concatenate( (V_grid, V_grid_flipped) )\n",
    "y = np.concatenate( (eig_scaled, eig_scaled) )[::,0:n_eig]"
   ]
  },
  {
   "cell_type": "code",
   "execution_count": null,
   "metadata": {
    "ExecuteTime": {
     "start_time": "2016-07-28T21:25:05.553Z"
    },
    "collapsed": false
   },
   "outputs": [],
   "source": [
    "# Split test and train\n",
    "test_frac = 0.3\n",
    "random_state = 6\n",
    "X_train, X_test, y_train, y_test = train_test_split(\n",
    "    X, y, test_size=test_frac, random_state=random_state\n",
    ")\n",
    "print(\"X shape, y shape: \", X.shape, y.shape)\n",
    "print(\"X_train shape, y_train shape: \", X_train.shape, y_train.shape)\n",
    "print(\"X_test shape, y_test shape: \", X_test.shape, y_test.shape)"
   ]
  },
  {
   "cell_type": "code",
   "execution_count": null,
   "metadata": {
    "ExecuteTime": {
     "start_time": "2016-07-28T21:25:05.555Z"
    },
    "collapsed": false
   },
   "outputs": [],
   "source": [
    "hidden_layers = (100,100)\n",
    "model =MLPRegressor(hidden_layer_sizes=hidden_layers,\n",
    "                    activation = 'tanh',\n",
    "                    algorithm = 'adam',\n",
    "                    alpha = 0.001,\n",
    "                    beta_1 = 0.85,\n",
    "                    beta_2 = 0.9,\n",
    "                    batch_size = 'auto',\n",
    "                    max_iter = 500,\n",
    "                    tol = 1e-8,\n",
    "                    learning_rate_init = 0.0001,\n",
    "                    verbose = True\n",
    "                 )"
   ]
  },
  {
   "cell_type": "code",
   "execution_count": null,
   "metadata": {
    "ExecuteTime": {
     "start_time": "2016-07-28T21:25:05.557Z"
    },
    "collapsed": false
   },
   "outputs": [],
   "source": [
    "# Train the network\n",
    "model.fit(X_train,y_train)"
   ]
  },
  {
   "cell_type": "markdown",
   "metadata": {},
   "source": [
    "# Testing the NN"
   ]
  },
  {
   "cell_type": "markdown",
   "metadata": {},
   "source": [
    "### Calculate errors on the training set as a reference point"
   ]
  },
  {
   "cell_type": "code",
   "execution_count": null,
   "metadata": {
    "ExecuteTime": {
     "start_time": "2016-07-28T21:25:05.560Z"
    },
    "collapsed": false
   },
   "outputs": [],
   "source": [
    "# eigenvalue prediction\n",
    "y_pred_train = model.predict(X_train)\n",
    "err_train = np.sqrt(np.mean((y_pred_train - y_train)**2, axis=0))\n",
    "print(\"Prediction error for each eigenvalue in the training set as ratio of std. dev.: \\n\", err_train)\n",
    "print(\"Uniform average of prediction errors:\\n %0.3f\" % np.mean(err_train))\n",
    "\n",
    "# Relative error\n",
    "eig_pred_train = y_pred_train*eig_std[0:n_eig]+eig_mu[0:n_eig]\n",
    "eig_train = y_train*eig_std[0:n_eig]+eig_mu[0:n_eig]\n",
    "rel_err_train = np.mean(np.abs((eig_pred_train - eig_train)/eig_train), axis=0)\n",
    "print(\"Prediction error for each eigenvalue in the training set as ratio of true value (rel. err.):\\n\", rel_err_train)"
   ]
  },
  {
   "cell_type": "markdown",
   "metadata": {},
   "source": [
    "### Calculate errors on the test set"
   ]
  },
  {
   "cell_type": "code",
   "execution_count": null,
   "metadata": {
    "ExecuteTime": {
     "start_time": "2016-07-28T21:25:05.562Z"
    },
    "collapsed": false
   },
   "outputs": [],
   "source": [
    "# eigenvalue prediction\n",
    "y_pred_test = model.predict(X_test)\n",
    "err_test = np.sqrt(np.mean((y_pred_test - y_test)**2, axis=0))\n",
    "print(\"Prediction error for each eigenvalue in the testing set as ratio of std. dev.: \\n\", err_test)\n",
    "print(\"Uniform average of prediction errors:\\n %0.3f\" % np.mean(err_test))\n",
    "\n",
    "# Relative error\n",
    "eig_pred_test = y_pred_test*eig_std[0:n_eig]+eig_mu[0:n_eig]\n",
    "eig_test = y_test*eig_std[0:n_eig]+eig_mu[0:n_eig]\n",
    "rel_err_test = np.mean(np.abs((eig_pred_test - eig_test)/eig_test), axis=0)\n",
    "print(\"Prediction error for each eigenvalue in the testing set as ratio of true value (rel. err.):\\n\", rel_err_test)"
   ]
  },
  {
   "cell_type": "markdown",
   "metadata": {},
   "source": [
    "## Visualize the predictions"
   ]
  },
  {
   "cell_type": "code",
   "execution_count": null,
   "metadata": {
    "ExecuteTime": {
     "start_time": "2016-07-28T21:25:05.565Z"
    },
    "collapsed": false
   },
   "outputs": [],
   "source": [
    "nrows = 1\n",
    "ncols = 4\n",
    "nplot = nrows * ncols\n",
    "indplt = randint(0,X_test.shape[0], nplot)\n",
    "numeigsplt = 5\n",
    "\n",
    "plt.clf()\n",
    "fig, axes = plt.subplots(nrows = nrows, ncols = ncols, sharey=True)\n",
    "fig.set_size_inches(12,6)\n",
    "subax = axes.flat\n",
    "\n",
    "for i in range(0, len(indplt)):\n",
    "        subax[i].plot(x_vec, X_test[indplt[i]], linewidth = 2, label='$V(x)$')\n",
    "        subax[i].axhline(y=0,xmin=-1,xmax=1, linestyle='solid' ,color = 'k', lw=0.5)\n",
    "        for j in range(0, numeigsplt):\n",
    "            lastaxNN = subax[i].axhline(y=eig_pred_test[indplt[i],j], xmin = -1, xmax = 1, \n",
    "                             ls = 'solid', color = 'r', lw = 3, label = 'Neural Network')\n",
    "            lastaxSE = subax[i].axhline(y=eig_test[indplt[i],j], xmin = -1, xmax = 1, \n",
    "                             ls = 'dashed', color = 'k', lw =3, label = 'Schr. Eqn.')\n",
    "\n",
    "        subax[i].set_xlabel(\"x\")\n",
    "        if i==0:\n",
    "            subax[i].set_ylabel(\"V(x)\")\n",
    "        subax[i].set_ylim((-2*sigma, 1.4*E0(numeigsplt)))\n",
    "        subax[i].legend([lastaxNN, lastaxSE], [\"Neural Network\", \"Schr. Eqn.\"], fontsize=12)\n",
    "\n",
    "# plt.tight_layout();\n",
    "plt.show();\n",
    "plt.draw()"
   ]
  },
  {
   "cell_type": "markdown",
   "metadata": {},
   "source": [
    "## Test Cases"
   ]
  },
  {
   "cell_type": "markdown",
   "metadata": {},
   "source": [
    "### Square well"
   ]
  },
  {
   "cell_type": "code",
   "execution_count": null,
   "metadata": {
    "ExecuteTime": {
     "start_time": "2016-07-28T21:25:05.569Z"
    },
    "collapsed": false
   },
   "outputs": [],
   "source": [
    "V_square = np.asarray([np.zeros(n_x)])\n",
    "\n",
    "# eigenvalue prediction\n",
    "y_square_pred = model.predict(V_square)[0]\n",
    "y_square_test = (E0ns[0:n_eig] - eig_mu[0:n_eig])/eig_std[0:n_eig]\n",
    "err_square = np.sqrt((y_square_pred - y_square_test)**2)\n",
    "print(\"Prediction error for each eigenvalue as ratio of std. dev.: \\n\", err_square)\n",
    "print(\"Uniform average of prediction errors:\\n %0.3f\" % np.mean(err_square))\n",
    "\n",
    "# Relative error\n",
    "eig_square_pred = y_square_pred*eig_std[0:n_eig]+eig_mu[0:n_eig]\n",
    "eig_square_test = y_square_test*eig_std[0:n_eig]+eig_mu[0:n_eig]\n",
    "rel_err = np.abs((eig_square_pred - eig_square_test)/eig_square_test)\n",
    "print(\"Prediction error for each eigenvalue as ratio of true value (rel. err.):\\n\", rel_err)"
   ]
  },
  {
   "cell_type": "code",
   "execution_count": null,
   "metadata": {
    "ExecuteTime": {
     "start_time": "2016-07-28T21:25:05.571Z"
    },
    "collapsed": false
   },
   "outputs": [],
   "source": [
    "plt.clf()\n",
    "plt.plot(x_vec, V_square[0], 'b-', lw=2)\n",
    "for i in range(numeigs):\n",
    "    plt.axhline(eig_square_pred[i], lw=2, ls='solid', color='r')\n",
    "    plt.axhline(eig_square_test[i], lw=2, ls='dashed', color='k')"
   ]
  },
  {
   "cell_type": "markdown",
   "metadata": {},
   "source": [
    "### Harmonic oscillator"
   ]
  },
  {
   "cell_type": "code",
   "execution_count": null,
   "metadata": {
    "ExecuteTime": {
     "start_time": "2016-07-28T21:25:05.573Z"
    },
    "collapsed": true
   },
   "outputs": [],
   "source": [
    "# The harmonic oscillator potential with zero average value\n",
    "def V_ho(A,x):\n",
    "    return A*(x**2-1./3.)\n",
    "\n",
    "# The energy levels\n",
    "def E_ho(A,n):\n",
    "    return -A/3. + (1 + 2*n)*np.sqrt(A/2)"
   ]
  },
  {
   "cell_type": "code",
   "execution_count": null,
   "metadata": {
    "ExecuteTime": {
     "start_time": "2016-07-28T21:25:05.576Z"
    },
    "collapsed": false
   },
   "outputs": [],
   "source": [
    "A = 40\n",
    "V_hos = [np.asarray(V_ho(A, x_vec))]\n",
    "y_ho_pred = model.predict(V_hos)[0]\n",
    "eig_ho_pred = y_ho_pred*eig_std[0:n_eig]+eig_mu[0:n_eig]"
   ]
  },
  {
   "cell_type": "code",
   "execution_count": null,
   "metadata": {
    "ExecuteTime": {
     "start_time": "2016-07-28T21:25:05.578Z"
    },
    "collapsed": false
   },
   "outputs": [],
   "source": [
    "plt.clf()\n",
    "plt.plot(x_vec, V_hos[0], 'b-', lw=2)\n",
    "for i in range(numeigs):\n",
    "    plt.axhline(eig_ho_pred[i], lw=2, ls='solid', color='r')\n",
    "    plt.axhline(E_ho(A,i), lw=2, ls='dashed', color='k')"
   ]
  },
  {
   "cell_type": "markdown",
   "metadata": {},
   "source": [
    "### Linear potential and symmetry test"
   ]
  },
  {
   "cell_type": "code",
   "execution_count": null,
   "metadata": {
    "ExecuteTime": {
     "start_time": "2016-07-28T21:25:05.580Z"
    },
    "collapsed": true
   },
   "outputs": [],
   "source": [
    "# The harmonic oscillator potential with zero average value\n",
    "A = 10\n",
    "V_lin_p = [np.linspace(-A,A,n_x)]\n",
    "V_lin_m = [np.linspace(A,-A,n_x)]"
   ]
  },
  {
   "cell_type": "code",
   "execution_count": null,
   "metadata": {
    "ExecuteTime": {
     "start_time": "2016-07-28T21:25:05.582Z"
    },
    "collapsed": false
   },
   "outputs": [],
   "source": [
    "y_lin_p_pred = model.predict(V_lin_p)[0]\n",
    "eig_lin_p_pred = y_lin_p_pred*eig_std[0:n_eig]+eig_mu[0:n_eig]\n",
    "\n",
    "y_lin_m_pred = model.predict(V_lin_m)[0]\n",
    "eig_lin_m_pred = y_lin_m_pred*eig_std[0:n_eig]+eig_mu[0:n_eig]"
   ]
  },
  {
   "cell_type": "code",
   "execution_count": null,
   "metadata": {
    "ExecuteTime": {
     "start_time": "2016-07-28T21:25:05.584Z"
    },
    "collapsed": false
   },
   "outputs": [],
   "source": [
    "plt.clf()\n",
    "plt.plot(x_vec, V_lin_p[0], 'b-', lw=2)\n",
    "plt.plot(x_vec, V_lin_m[0], 'b--', lw=2)\n",
    "plt.axvline(ls=':',lw=2,color='k')\n",
    "for i in range(numeigs):\n",
    "    plt.axhline(eig_lin_p_pred[i], lw=2, ls='solid', color='r')\n",
    "    plt.axhline(eig_lin_m_pred[i], lw=2, ls='dashed', color='r')"
   ]
  },
  {
   "cell_type": "code",
   "execution_count": null,
   "metadata": {
    "collapsed": true
   },
   "outputs": [],
   "source": []
  }
 ],
 "metadata": {
  "anaconda-cloud": {},
  "kernelspec": {
   "display_name": "Python [Root]",
   "language": "python",
   "name": "Python [Root]"
  },
  "language_info": {
   "codemirror_mode": {
    "name": "ipython",
    "version": 3
   },
   "file_extension": ".py",
   "mimetype": "text/x-python",
   "name": "python",
   "nbconvert_exporter": "python",
   "pygments_lexer": "ipython3",
   "version": "3.5.1"
  },
  "nav_menu": {},
  "toc": {
   "navigate_menu": true,
   "number_sections": true,
   "sideBar": true,
   "threshold": 6,
   "toc_cell": false,
   "toc_section_display": "block",
   "toc_window_display": false
  }
 },
 "nbformat": 4,
 "nbformat_minor": 0
}
