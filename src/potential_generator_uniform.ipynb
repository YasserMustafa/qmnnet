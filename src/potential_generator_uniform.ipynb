{
 "cells": [
  {
   "cell_type": "code",
   "execution_count": 1,
   "metadata": {
    "ExecuteTime": {
     "end_time": "2016-07-28T23:26:57.389239",
     "start_time": "2016-07-28T23:26:56.518659"
    },
    "collapsed": true
   },
   "outputs": [],
   "source": [
    "%matplotlib inline\n",
    "import numpy as np\n",
    "from numpy.random import normal, randint\n",
    "import matplotlib.pyplot as plt\n",
    "from scipy.interpolate import interp1d\n",
    "from scipy.integrate import quad, simps\n",
    "import sys, os, gc\n",
    "from sklearn.model_selection import train_test_split\n",
    "from sklearn.neural_network import MLPRegressor\n",
    "import tisesolve as ts\n",
    "import time"
   ]
  },
  {
   "cell_type": "markdown",
   "metadata": {},
   "source": [
    "# Inputs"
   ]
  },
  {
   "cell_type": "code",
   "execution_count": 2,
   "metadata": {
    "ExecuteTime": {
     "end_time": "2016-07-28T23:26:57.404133",
     "start_time": "2016-07-28T23:26:57.390952"
    },
    "collapsed": false
   },
   "outputs": [
    {
     "name": "stdout",
     "output_type": "stream",
     "text": [
      "Input parameters:\n",
      "  n_V= 100000\n",
      "  x_i= -1.00\n",
      "  x_f= 1.00\n",
      "  n_x= 100\n",
      "  n_xpot= 10\n",
      "  lamb= 0.80\n",
      "  sigma= 7.50\n",
      "  n_basis= 20\n",
      "  n_eig= 10\n",
      "\n"
     ]
    }
   ],
   "source": [
    "# Number of potentials:\n",
    "n_V = int(1e5)\n",
    "# x limits:\n",
    "x_i = -1\n",
    "x_f = 1\n",
    "# Number of x coordinates for spline:\n",
    "n_x = 100\n",
    "x_vec = np.linspace(x_i, x_f, n_x)\n",
    "# Number of x coordinates for potential generation\n",
    "n_xpot = 10\n",
    "xpot_vec = np.linspace(x_i,x_f,n_xpot)\n",
    "# Damping factor\n",
    "lamb = 0.8\n",
    "# Potential standard deviation\n",
    "sigma = 30/(x_f-x_i)**2\n",
    "# Number of basis wavefunctions\n",
    "n_basis = 20\n",
    "basis_vec = np.arange(1,n_basis+1)\n",
    "# Number of eigenvalues to train the neural network to predict\n",
    "n_eig = 10\n",
    "\n",
    "print(\"Input parameters:\\n\"\n",
    "      \"  n_V= %i\\n\"\n",
    "      \"  x_i= %0.2f\\n\"\n",
    "      \"  x_f= %0.2f\\n\"\n",
    "      \"  n_x= %i\\n\"\n",
    "      \"  n_xpot= %i\\n\"\n",
    "      \"  lamb= %0.2f\\n\"\n",
    "      \"  sigma= %0.2f\\n\"\n",
    "      \"  n_basis= %i\\n\"\n",
    "      \"  n_eig= %i\\n\"\n",
    "      % (n_V,x_i, x_f, n_x, n_xpot, lamb, sigma, n_basis, n_eig))"
   ]
  },
  {
   "cell_type": "markdown",
   "metadata": {},
   "source": [
    "# Generate the potentials"
   ]
  },
  {
   "cell_type": "code",
   "execution_count": 3,
   "metadata": {
    "ExecuteTime": {
     "end_time": "2016-07-28T23:26:59.278083",
     "start_time": "2016-07-28T23:26:57.407042"
    },
    "collapsed": false
   },
   "outputs": [],
   "source": [
    "# Randomly select the value of the potential at the selected points\n",
    "V_xpot = normal(loc=0, scale=sigma, size=(n_V,n_xpot))\n",
    "\n",
    "# Form a cubic spline for each potential\n",
    "V_interp = interp1d(xpot_vec, V_xpot, kind=\"cubic\", axis=1)\n",
    "\n",
    "# Evaluate the cubic spline at the grid\n",
    "V_grid = V_interp(x_vec)\n",
    "\n",
    "# Calculate the average of each potential\n",
    "V_avg = simps(x=x_vec, y=V_grid)/2\n",
    "\n",
    "# Remove the average\n",
    "#V_grid = V_grid - np.outer(V_avg, np.ones(n_x))\n",
    "\n",
    "# Life is messy. Add some noise\n",
    "V_grid = V_grid + np.random.normal(0,sigma/5, V_grid.shape)"
   ]
  },
  {
   "cell_type": "code",
   "execution_count": 4,
   "metadata": {
    "ExecuteTime": {
     "end_time": "2016-07-28T23:26:59.593941",
     "start_time": "2016-07-28T23:26:59.280518"
    },
    "collapsed": false
   },
   "outputs": [
    {
     "data": {
      "text/plain": [
       "[<matplotlib.lines.Line2D at 0x10c43c6a0>]"
      ]
     },
     "execution_count": 4,
     "metadata": {},
     "output_type": "execute_result"
    },
    {
     "data": {
      "image/png": "[encoded data removed]",
      "text/plain": [
       "<matplotlib.figure.Figure at 0x10c43ca90>"
      ]
     },
     "metadata": {},
     "output_type": "display_data"
    }
   ],
   "source": [
    "plt.clf()\n",
    "plt.plot(x_vec, np.mean(V_grid, axis=0), 'b-', lw=2)\n",
    "plt.plot(x_vec, np.mean(V_grid, axis=0)+np.std(V_grid, axis=0), 'k--', lw=2)\n",
    "plt.plot(x_vec, np.mean(V_grid, axis=0)-np.std(V_grid, axis=0), 'k--', lw=2)"
   ]
  },
  {
   "cell_type": "markdown",
   "metadata": {},
   "source": [
    "# Plot some random potentials"
   ]
  },
  {
   "cell_type": "code",
   "execution_count": 5,
   "metadata": {
    "ExecuteTime": {
     "end_time": "2016-07-28T23:27:00.168874",
     "start_time": "2016-07-28T23:26:59.595725"
    },
    "collapsed": false
   },
   "outputs": [
    {
     "data": {
      "text/plain": [
       "<matplotlib.figure.Figure at 0x126a726d8>"
      ]
     },
     "metadata": {},
     "output_type": "display_data"
    },
    {
     "data": {
      "image/png": "[encoded data removed]",
      "text/plain": [
       "<matplotlib.figure.Figure at 0x126a72748>"
      ]
     },
     "metadata": {},
     "output_type": "display_data"
    }
   ],
   "source": [
    "nrows = 2\n",
    "ncols = 2\n",
    "nplot = nrows * ncols\n",
    "Vints = randint(0,n_V, nplot)\n",
    "Vplot = V_grid[Vints,::]\n",
    "\n",
    "plt.clf()\n",
    "fig, axes = plt.subplots(nrows = nrows, ncols = ncols)\n",
    "fig.set_size_inches(7,7)\n",
    "subax = axes.flat\n",
    "\n",
    "for i in range(0,nplot):\n",
    "        subax[i].plot(x_vec, Vplot[i], linewidth = 2)\n",
    "        subax[i].axhline(y=0,xmin=-1,xmax=1, linestyle='dashed' ,color = 'k')\n",
    "        subax[i].axvline(x=0,ymin=-10,ymax=10, linestyle='dashed' ,color = 'k')\n",
    "        subax[i].set_xlabel(\"x\")\n",
    "        subax[i].set_ylabel(\"V(x)\")\n",
    "        subax[i].set_ylim((-2*sigma,2*sigma))\n",
    "\n",
    "plt.tight_layout()\n",
    "plt.show()\n",
    "plt.close()"
   ]
  },
  {
   "cell_type": "markdown",
   "metadata": {},
   "source": [
    "# Solve the eigensystem"
   ]
  },
  {
   "cell_type": "code",
   "execution_count": 6,
   "metadata": {
    "ExecuteTime": {
     "end_time": "2016-07-28T23:28:23.267042",
     "start_time": "2016-07-28T23:27:00.170883"
    },
    "collapsed": false
   },
   "outputs": [
    {
     "name": "stdout",
     "output_type": "stream",
     "text": [
      "Calculating Hamiltonian matrices...\n",
      "Status: 100.00 % completeEigenvalues shape: (100000, 20)\n",
      "83.09197211265564\n",
      "Eigenvectors shape: (100000, 20, 20)\n"
     ]
    }
   ],
   "source": [
    "t1=time.time()\n",
    "eigvals, eigvecs = ts.eigsys(n_basis, x_vec, V_grid)\n",
    "print(\"Eigenvalues shape:\", eigvals.shape)\n",
    "print(time.time()-t1)\n",
    "print(\"Eigenvectors shape:\", eigvecs.shape)"
   ]
  },
  {
   "cell_type": "markdown",
   "metadata": {},
   "source": [
    "# Visualize the solutions"
   ]
  },
  {
   "cell_type": "code",
   "execution_count": 7,
   "metadata": {
    "ExecuteTime": {
     "end_time": "2016-07-28T23:28:35.285582",
     "start_time": "2016-07-28T23:28:23.269114"
    },
    "collapsed": false
   },
   "outputs": [
    {
     "name": "stdout",
     "output_type": "stream",
     "text": [
      "Size of data: 1600.00013 MB\n"
     ]
    }
   ],
   "source": [
    "# Calculate the probability distribution\n",
    "prob = ts.prob_dist(eigvecs, x_vec)\n",
    "print(\"Size of data: %0.5f MB\" % (sys.getsizeof(prob)/1e6))"
   ]
  },
  {
   "cell_type": "code",
   "execution_count": 8,
   "metadata": {
    "ExecuteTime": {
     "end_time": "2016-07-28T23:28:36.653687",
     "start_time": "2016-07-28T23:28:35.287882"
    },
    "collapsed": false
   },
   "outputs": [
    {
     "data": {
      "text/plain": [
       "<matplotlib.figure.Figure at 0x126eadd68>"
      ]
     },
     "metadata": {},
     "output_type": "display_data"
    },
    {
     "data": {
      "image/png": "[encoded data removed]",
      "text/plain": [
       "<matplotlib.figure.Figure at 0x126eadda0>"
      ]
     },
     "metadata": {},
     "output_type": "display_data"
    }
   ],
   "source": [
    "# Plot some random probability distributions\n",
    "nrows = 1\n",
    "ncols = 4\n",
    "nplot = nrows * ncols\n",
    "i_plt = randint(0,n_V, nplot)\n",
    "numeigs = 4\n",
    "\n",
    "V_grid_plt = V_grid[i_plt]\n",
    "eigvals_plt = eigvals[i_plt]\n",
    "prob_plt = prob[i_plt]\n",
    "\n",
    "plt.clf()\n",
    "fig, axes = plt.subplots(nrows = nrows, ncols = ncols, sharey='all', sharex='all')\n",
    "fig.set_size_inches(8+8./3.,5)\n",
    "subax = axes.flat\n",
    "\n",
    "for i in range(nplot):\n",
    "    subax[i].plot(x_vec, V_grid[i_plt[i]], linewidth = 2)\n",
    "    for j in range(numeigs):\n",
    "        subax[i].fill_between(x_vec, eigvals_plt[i,j], eigvals_plt[i,j]+1.5*prob_plt[i,j], lw=2, color='r')\n",
    "        subax[i].get_xaxis().set_ticks([-1,0,1])\n",
    "        subax[i].axhline(y=eigvals_plt[i,j], xmin = -1, xmax = 1, \n",
    "                         ls = 'dashed', color = 'k', lw =3)\n",
    "        subax[i].vlines(x=-1, ymin = V_grid[i_plt[i],0], ymax = 3*ts.E0(numeigs), lw=2, color='b')\n",
    "        subax[i].vlines(x=1, ymin = V_grid[i_plt[i],-1], ymax = 3*ts.E0(numeigs), lw=2, color='b')\n",
    "    if i >= (nrows-1)*ncols:\n",
    "        subax[i].set_xlabel(\"$x$\")\n",
    "    if i is 0 or i is ncols:\n",
    "        subax[i].set_ylabel(\"$V(x)$\")\n",
    "    subax[i].set_ylim((-2*sigma,1.4*ts.E0(numeigs)))\n",
    "    subax[i].set_xlim(1.2*x_i,1.2*x_f)\n",
    "\n",
    "#plt.tight_layout()\n",
    "plt.show()\n",
    "plt.close()"
   ]
  },
  {
   "cell_type": "markdown",
   "metadata": {},
   "source": [
    "# Scaled eigenvalues"
   ]
  },
  {
   "cell_type": "code",
   "execution_count": 9,
   "metadata": {
    "ExecuteTime": {
     "end_time": "2016-07-28T23:28:36.731840",
     "start_time": "2016-07-28T23:28:36.655924"
    },
    "collapsed": true
   },
   "outputs": [],
   "source": [
    "eig_mu = np.mean(eigvals, axis = 0)\n",
    "eig_std = np.std(eigvals, axis = 0)\n",
    "eig_scaled = (eigvals - eig_mu) / eig_std"
   ]
  },
  {
   "cell_type": "code",
   "execution_count": 10,
   "metadata": {
    "ExecuteTime": {
     "end_time": "2016-07-28T23:28:37.968940",
     "start_time": "2016-07-28T23:28:36.735266"
    },
    "collapsed": false
   },
   "outputs": [
    {
     "data": {
      "text/plain": [
       "<matplotlib.figure.Figure at 0x128622cf8>"
      ]
     },
     "metadata": {},
     "output_type": "display_data"
    },
    {
     "data": {
      "image/png": "[encoded data removed]",
      "text/plain": [
       "<matplotlib.figure.Figure at 0x1286228d0>"
      ]
     },
     "metadata": {},
     "output_type": "display_data"
    }
   ],
   "source": [
    "nrows = 3\n",
    "ncols = 1\n",
    "nplots = nrows*ncols\n",
    "plt.clf()\n",
    "fig, axes = plt.subplots(nrows, ncols)\n",
    "fig.set_size_inches(8*ncols,1.5*nrows)\n",
    "subax = axes.flat\n",
    "\n",
    "nbins = 60\n",
    "for i in range(0, nrows):\n",
    "    subax[i].hist(eig_scaled[::,i], nbins, normed = 1, facecolor = 'green', \n",
    "                  alpha = 1, range = [-3,3])\n",
    "\n",
    "plt.tight_layout()\n",
    "plt.show()\n",
    "plt.close()"
   ]
  },
  {
   "cell_type": "markdown",
   "metadata": {},
   "source": [
    "# Neural Network"
   ]
  },
  {
   "cell_type": "code",
   "execution_count": 11,
   "metadata": {
    "ExecuteTime": {
     "end_time": "2016-07-28T23:28:38.111285",
     "start_time": "2016-07-28T23:28:37.970755"
    },
    "collapsed": false
   },
   "outputs": [
    {
     "name": "stdout",
     "output_type": "stream",
     "text": [
      "[-16.35765155 -17.35866106 -14.77685401]\n",
      "[-14.77685401 -17.35866106 -16.35765155]\n"
     ]
    }
   ],
   "source": [
    "# Double the dataset using reflection symmetry\n",
    "V_grid_flipped = V_grid[:,::-1]\n",
    "\n",
    "# Quick and dirty test:\n",
    "print(V_grid[2,0:3])\n",
    "print(V_grid_flipped[2,-3:])\n",
    "\n",
    "X = np.concatenate( (V_grid, V_grid_flipped) )\n",
    "y = np.concatenate( (eig_scaled, eig_scaled) )[::,0:n_eig]"
   ]
  },
  {
   "cell_type": "code",
   "execution_count": 12,
   "metadata": {
    "ExecuteTime": {
     "end_time": "2016-07-28T23:28:38.291073",
     "start_time": "2016-07-28T23:28:38.113136"
    },
    "collapsed": false
   },
   "outputs": [
    {
     "name": "stdout",
     "output_type": "stream",
     "text": [
      "X shape, y shape:  (200000, 100) (200000, 10)\n",
      "X_train shape, y_train shape:  (140000, 100) (140000, 10)\n",
      "X_test shape, y_test shape:  (60000, 100) (60000, 10)\n"
     ]
    }
   ],
   "source": [
    "# Split test and train\n",
    "test_frac = 0.3\n",
    "random_state = 6\n",
    "X_train, X_test, y_train, y_test = train_test_split(\n",
    "    X, y, test_size=test_frac, random_state=random_state\n",
    ")\n",
    "print(\"X shape, y shape: \", X.shape, y.shape)\n",
    "print(\"X_train shape, y_train shape: \", X_train.shape, y_train.shape)\n",
    "print(\"X_test shape, y_test shape: \", X_test.shape, y_test.shape)"
   ]
  },
  {
   "cell_type": "code",
   "execution_count": 13,
   "metadata": {
    "ExecuteTime": {
     "end_time": "2016-07-28T23:28:38.298251",
     "start_time": "2016-07-28T23:28:38.293125"
    },
    "collapsed": false
   },
   "outputs": [],
   "source": [
    "hidden_layers = (100,100)\n",
    "model =MLPRegressor(hidden_layer_sizes=hidden_layers,\n",
    "                    activation = 'tanh',\n",
    "                    algorithm = 'adam',\n",
    "                    alpha = 0.001,\n",
    "                    beta_1 = 0.85,\n",
    "                    beta_2 = 0.9,\n",
    "                    batch_size = 'auto',\n",
    "                    max_iter = 2000,\n",
    "                    tol = 1e-8,\n",
    "                    learning_rate_init = 0.0001,\n",
    "                    verbose = True\n",
    "                 )"
   ]
  },
  {
   "cell_type": "code",
   "execution_count": 14,
   "metadata": {
    "ExecuteTime": {
     "end_time": "2016-07-28T23:36:53.966117",
     "start_time": "2016-07-28T23:28:38.300112"
    },
    "collapsed": false
   },
   "outputs": [
    {
     "name": "stdout",
     "output_type": "stream",
     "text": [
      "Iteration 1, loss = 0.15383097\n",
      "Iteration 2, loss = 0.07046625\n",
      "Iteration 3, loss = 0.06105464\n",
      "Iteration 4, loss = 0.05485586\n",
      "Iteration 5, loss = 0.04872840\n",
      "Iteration 6, loss = 0.04314035\n",
      "Iteration 7, loss = 0.03903253\n",
      "Iteration 8, loss = 0.03600662\n",
      "Iteration 9, loss = 0.03355657\n",
      "Iteration 10, loss = 0.03153875\n",
      "Iteration 11, loss = 0.02983044\n",
      "Iteration 12, loss = 0.02832851\n",
      "Iteration 13, loss = 0.02702511\n",
      "Iteration 14, loss = 0.02584218\n",
      "Iteration 15, loss = 0.02475498\n",
      "Iteration 16, loss = 0.02375063\n",
      "Iteration 17, loss = 0.02283114\n",
      "Iteration 18, loss = 0.02193846\n",
      "Iteration 19, loss = 0.02108557\n",
      "Iteration 20, loss = 0.02029290\n",
      "Iteration 21, loss = 0.01953677\n",
      "Iteration 22, loss = 0.01884051\n",
      "Iteration 23, loss = 0.01817442\n",
      "Iteration 24, loss = 0.01755844\n",
      "Iteration 25, loss = 0.01698093\n",
      "Iteration 26, loss = 0.01642724\n",
      "Iteration 27, loss = 0.01588792\n",
      "Iteration 28, loss = 0.01538963\n",
      "Iteration 29, loss = 0.01491828\n",
      "Iteration 30, loss = 0.01446558\n",
      "Iteration 31, loss = 0.01404083\n",
      "Iteration 32, loss = 0.01362677\n",
      "Iteration 33, loss = 0.01323682\n",
      "Iteration 34, loss = 0.01285575\n",
      "Iteration 35, loss = 0.01250060\n",
      "Iteration 36, loss = 0.01213407\n",
      "Iteration 37, loss = 0.01181293\n",
      "Iteration 38, loss = 0.01148807\n",
      "Iteration 39, loss = 0.01116327\n",
      "Iteration 40, loss = 0.01085770\n",
      "Iteration 41, loss = 0.01055598\n",
      "Iteration 42, loss = 0.01027224\n",
      "Iteration 43, loss = 0.00998797\n",
      "Iteration 44, loss = 0.00971778\n",
      "Iteration 45, loss = 0.00944285\n",
      "Iteration 46, loss = 0.00918440\n",
      "Iteration 47, loss = 0.00893618\n",
      "Iteration 48, loss = 0.00867945\n",
      "Iteration 49, loss = 0.00843474\n",
      "Iteration 50, loss = 0.00819663\n",
      "Iteration 51, loss = 0.00796158\n",
      "Iteration 52, loss = 0.00772613\n",
      "Iteration 53, loss = 0.00750658\n",
      "Iteration 54, loss = 0.00728618\n",
      "Iteration 55, loss = 0.00706116\n",
      "Iteration 56, loss = 0.00684698\n",
      "Iteration 57, loss = 0.00663783\n",
      "Iteration 58, loss = 0.00643296\n",
      "Iteration 59, loss = 0.00622030\n",
      "Iteration 60, loss = 0.00602585\n",
      "Iteration 61, loss = 0.00583375\n",
      "Iteration 62, loss = 0.00563856\n",
      "Iteration 63, loss = 0.00544658\n",
      "Iteration 64, loss = 0.00526227\n",
      "Iteration 65, loss = 0.00508058\n",
      "Iteration 66, loss = 0.00491203\n",
      "Iteration 67, loss = 0.00473290\n",
      "Iteration 68, loss = 0.00456682\n",
      "Iteration 69, loss = 0.00440331\n",
      "Iteration 70, loss = 0.00424295\n",
      "Iteration 71, loss = 0.00408269\n",
      "Iteration 72, loss = 0.00392900\n",
      "Iteration 73, loss = 0.00378363\n",
      "Iteration 74, loss = 0.00363940\n",
      "Iteration 75, loss = 0.00350562\n",
      "Iteration 76, loss = 0.00336681\n",
      "Iteration 77, loss = 0.00323998\n",
      "Iteration 78, loss = 0.00311336\n",
      "Iteration 79, loss = 0.00299430\n",
      "Iteration 80, loss = 0.00288122\n",
      "Iteration 81, loss = 0.00277422\n",
      "Iteration 82, loss = 0.00266612\n",
      "Iteration 83, loss = 0.00256832\n",
      "Iteration 84, loss = 0.00247051\n",
      "Iteration 85, loss = 0.00237740\n",
      "Iteration 86, loss = 0.00229537\n",
      "Iteration 87, loss = 0.00220808\n",
      "Iteration 88, loss = 0.00212831\n",
      "Iteration 89, loss = 0.00205631\n",
      "Iteration 90, loss = 0.00197904\n",
      "Iteration 91, loss = 0.00191234\n",
      "Iteration 92, loss = 0.00184608\n",
      "Iteration 93, loss = 0.00178820\n",
      "Iteration 94, loss = 0.00173323\n",
      "Iteration 95, loss = 0.00167630\n",
      "Iteration 96, loss = 0.00162437\n",
      "Iteration 97, loss = 0.00157564\n",
      "Iteration 98, loss = 0.00153023\n",
      "Iteration 99, loss = 0.00148674\n",
      "Iteration 100, loss = 0.00144474\n",
      "Iteration 101, loss = 0.00140667\n",
      "Iteration 102, loss = 0.00137250\n",
      "Iteration 103, loss = 0.00133541\n",
      "Iteration 104, loss = 0.00130381\n",
      "Iteration 105, loss = 0.00127143\n",
      "Iteration 106, loss = 0.00124156\n",
      "Iteration 107, loss = 0.00121443\n",
      "Iteration 108, loss = 0.00118747\n",
      "Iteration 109, loss = 0.00116226\n",
      "Iteration 110, loss = 0.00113868\n",
      "Iteration 111, loss = 0.00111440\n",
      "Iteration 112, loss = 0.00109202\n",
      "Iteration 113, loss = 0.00107456\n",
      "Iteration 114, loss = 0.00105232\n",
      "Iteration 115, loss = 0.00103319\n",
      "Iteration 116, loss = 0.00101349\n",
      "Iteration 117, loss = 0.00099778\n",
      "Iteration 118, loss = 0.00098218\n",
      "Iteration 119, loss = 0.00096561\n",
      "Iteration 120, loss = 0.00095219\n",
      "Iteration 121, loss = 0.00093635\n",
      "Iteration 122, loss = 0.00092171\n",
      "Iteration 123, loss = 0.00091023\n",
      "Iteration 124, loss = 0.00089840\n",
      "Iteration 125, loss = 0.00088606\n",
      "Iteration 126, loss = 0.00087624\n",
      "Iteration 127, loss = 0.00086167\n",
      "Iteration 128, loss = 0.00085272\n",
      "Iteration 129, loss = 0.00084456\n",
      "Iteration 130, loss = 0.00083310\n",
      "Iteration 131, loss = 0.00082177\n",
      "Iteration 132, loss = 0.00081532\n",
      "Iteration 133, loss = 0.00080750\n",
      "Iteration 134, loss = 0.00079949\n",
      "Iteration 135, loss = 0.00079168\n",
      "Iteration 136, loss = 0.00078322\n",
      "Iteration 137, loss = 0.00077540\n",
      "Iteration 138, loss = 0.00076992\n",
      "Iteration 139, loss = 0.00076165\n",
      "Iteration 140, loss = 0.00075463\n",
      "Iteration 141, loss = 0.00074915\n",
      "Iteration 142, loss = 0.00074188\n",
      "Iteration 143, loss = 0.00073918\n",
      "Iteration 144, loss = 0.00073163\n",
      "Iteration 145, loss = 0.00072822\n",
      "Iteration 146, loss = 0.00072183\n",
      "Iteration 147, loss = 0.00071671\n",
      "Iteration 148, loss = 0.00070935\n",
      "Iteration 149, loss = 0.00070687\n",
      "Iteration 150, loss = 0.00070144\n",
      "Iteration 151, loss = 0.00069754\n",
      "Iteration 152, loss = 0.00069357\n",
      "Iteration 153, loss = 0.00069020\n",
      "Iteration 154, loss = 0.00068506\n",
      "Iteration 155, loss = 0.00068121\n",
      "Iteration 156, loss = 0.00067690\n",
      "Iteration 157, loss = 0.00067361\n",
      "Iteration 158, loss = 0.00067043\n",
      "Iteration 159, loss = 0.00066548\n",
      "Iteration 160, loss = 0.00066275\n",
      "Iteration 161, loss = 0.00066099\n",
      "Iteration 162, loss = 0.00065513\n",
      "Iteration 163, loss = 0.00065380\n",
      "Iteration 164, loss = 0.00065047\n",
      "Iteration 165, loss = 0.00064764\n",
      "Iteration 166, loss = 0.00064644\n",
      "Iteration 167, loss = 0.00064252\n",
      "Iteration 168, loss = 0.00063708\n",
      "Iteration 169, loss = 0.00063642\n",
      "Iteration 170, loss = 0.00063512\n",
      "Iteration 171, loss = 0.00063106\n",
      "Iteration 172, loss = 0.00063176\n",
      "Iteration 173, loss = 0.00062709\n",
      "Iteration 174, loss = 0.00062451\n",
      "Iteration 175, loss = 0.00062182\n",
      "Iteration 176, loss = 0.00061985\n",
      "Iteration 177, loss = 0.00061595\n",
      "Iteration 178, loss = 0.00061695\n",
      "Iteration 179, loss = 0.00061390\n",
      "Iteration 180, loss = 0.00061107\n",
      "Iteration 181, loss = 0.00060918\n",
      "Iteration 182, loss = 0.00060629\n",
      "Iteration 183, loss = 0.00060690\n",
      "Iteration 184, loss = 0.00060440\n",
      "Iteration 185, loss = 0.00060347\n",
      "Iteration 186, loss = 0.00060167\n",
      "Iteration 187, loss = 0.00059890\n",
      "Iteration 188, loss = 0.00059795\n",
      "Iteration 189, loss = 0.00059596\n",
      "Iteration 190, loss = 0.00059503\n",
      "Iteration 191, loss = 0.00059196\n",
      "Iteration 192, loss = 0.00059249\n",
      "Iteration 193, loss = 0.00059142\n",
      "Iteration 194, loss = 0.00058854\n",
      "Iteration 195, loss = 0.00058802\n",
      "Iteration 196, loss = 0.00058630\n",
      "Iteration 197, loss = 0.00058676\n",
      "Iteration 198, loss = 0.00058362\n",
      "Iteration 199, loss = 0.00058319\n",
      "Iteration 200, loss = 0.00058052\n",
      "Iteration 201, loss = 0.00058043\n",
      "Iteration 202, loss = 0.00057925\n",
      "Iteration 203, loss = 0.00057708\n",
      "Iteration 204, loss = 0.00057605\n",
      "Iteration 205, loss = 0.00057500\n",
      "Iteration 206, loss = 0.00057510\n",
      "Iteration 207, loss = 0.00057412\n",
      "Iteration 208, loss = 0.00057209\n",
      "Iteration 209, loss = 0.00057012\n",
      "Iteration 210, loss = 0.00056983\n",
      "Iteration 211, loss = 0.00056916\n",
      "Iteration 212, loss = 0.00056893\n",
      "Iteration 213, loss = 0.00056767\n",
      "Iteration 214, loss = 0.00056710\n",
      "Iteration 215, loss = 0.00056506\n",
      "Iteration 216, loss = 0.00056319\n",
      "Iteration 217, loss = 0.00056233\n",
      "Iteration 218, loss = 0.00056240\n",
      "Iteration 219, loss = 0.00056237\n",
      "Iteration 220, loss = 0.00056123\n",
      "Iteration 221, loss = 0.00056012\n",
      "Iteration 222, loss = 0.00055982\n",
      "Iteration 223, loss = 0.00056029\n",
      "Iteration 224, loss = 0.00055734\n",
      "Iteration 225, loss = 0.00055691\n",
      "Iteration 226, loss = 0.00055707\n",
      "Iteration 227, loss = 0.00055507\n",
      "Iteration 228, loss = 0.00055485\n",
      "Iteration 229, loss = 0.00055280\n",
      "Iteration 230, loss = 0.00055445\n",
      "Iteration 231, loss = 0.00055288\n",
      "Iteration 232, loss = 0.00055150\n",
      "Iteration 233, loss = 0.00055226\n",
      "Iteration 234, loss = 0.00054954\n",
      "Iteration 235, loss = 0.00054970\n",
      "Iteration 236, loss = 0.00054933\n",
      "Iteration 237, loss = 0.00054912\n",
      "Iteration 238, loss = 0.00054748\n",
      "Iteration 239, loss = 0.00054774\n",
      "Iteration 240, loss = 0.00054702\n",
      "Iteration 241, loss = 0.00054550\n",
      "Iteration 242, loss = 0.00054607\n",
      "Iteration 243, loss = 0.00054702\n",
      "Iteration 244, loss = 0.00054486\n",
      "Iteration 245, loss = 0.00054340\n",
      "Iteration 246, loss = 0.00054406\n",
      "Iteration 247, loss = 0.00054357\n",
      "Iteration 248, loss = 0.00054195\n",
      "Iteration 249, loss = 0.00054285\n",
      "Iteration 250, loss = 0.00054184\n",
      "Iteration 251, loss = 0.00054188\n",
      "Iteration 252, loss = 0.00053989\n",
      "Iteration 253, loss = 0.00054081\n",
      "Iteration 254, loss = 0.00054039\n",
      "Iteration 255, loss = 0.00053882\n",
      "Iteration 256, loss = 0.00053910\n",
      "Iteration 257, loss = 0.00053662\n",
      "Iteration 258, loss = 0.00053728\n",
      "Iteration 259, loss = 0.00053697\n",
      "Iteration 260, loss = 0.00053704\n",
      "Training loss did not improve more than tol=0.000000 for two consecutive epochs. Stopping.\n"
     ]
    },
    {
     "data": {
      "text/plain": [
       "MLPRegressor(activation='tanh', algorithm='adam', alpha=0.001,\n",
       "       batch_size='auto', beta_1=0.85, beta_2=0.9, early_stopping=False,\n",
       "       epsilon=1e-08, hidden_layer_sizes=(100, 100),\n",
       "       learning_rate='constant', learning_rate_init=0.0001, max_iter=2000,\n",
       "       momentum=0.9, nesterovs_momentum=True, power_t=0.5,\n",
       "       random_state=None, shuffle=True, tol=1e-08, validation_fraction=0.1,\n",
       "       verbose=True, warm_start=False)"
      ]
     },
     "execution_count": 14,
     "metadata": {},
     "output_type": "execute_result"
    }
   ],
   "source": [
    "# Train the network\n",
    "model.fit(X_train,y_train)"
   ]
  },
  {
   "cell_type": "markdown",
   "metadata": {},
   "source": [
    "# Testing the NN"
   ]
  },
  {
   "cell_type": "markdown",
   "metadata": {},
   "source": [
    "### Calculate errors on the training set as a reference point"
   ]
  },
  {
   "cell_type": "code",
   "execution_count": 15,
   "metadata": {
    "ExecuteTime": {
     "end_time": "2016-07-28T23:36:54.845479",
     "start_time": "2016-07-28T23:36:53.967802"
    },
    "collapsed": false
   },
   "outputs": [
    {
     "name": "stdout",
     "output_type": "stream",
     "text": [
      "Prediction error for each eigenvalue in the training set as ratio of std. dev.: \n",
      " [ 0.02581857  0.02675187  0.02629889  0.02305643  0.02021618  0.01621437\n",
      "  0.01421465  0.01281611  0.01117344  0.01107328]\n",
      "Uniform average of prediction errors:\n",
      " 0.019\n",
      "Prediction error for each eigenvalue in the training set as ratio of true value (rel. err.):\n",
      " [ 0.13284192  0.07365168  0.00720109  0.00235972  0.00117734  0.00065142\n",
      "  0.00044131  0.00030682  0.00021709  0.00017299]\n"
     ]
    }
   ],
   "source": [
    "# eigenvalue prediction\n",
    "y_pred_train = model.predict(X_train)\n",
    "err_train = np.sqrt(np.mean((y_pred_train - y_train)**2, axis=0))\n",
    "print(\"Prediction error for each eigenvalue in the training set as ratio of std. dev.: \\n\", err_train)\n",
    "print(\"Uniform average of prediction errors:\\n %0.3f\" % np.mean(err_train))\n",
    "\n",
    "# Relative error\n",
    "eig_pred_train = y_pred_train*eig_std[0:n_eig]+eig_mu[0:n_eig]\n",
    "eig_train = y_train*eig_std[0:n_eig]+eig_mu[0:n_eig]\n",
    "rel_err_train = np.mean(np.abs((eig_pred_train - eig_train)/eig_train), axis=0)\n",
    "print(\"Prediction error for each eigenvalue in the training set as ratio of true value (rel. err.):\\n\", rel_err_train)"
   ]
  },
  {
   "cell_type": "markdown",
   "metadata": {},
   "source": [
    "### Calculate errors on the test set"
   ]
  },
  {
   "cell_type": "code",
   "execution_count": 16,
   "metadata": {
    "ExecuteTime": {
     "end_time": "2016-07-28T23:36:55.269080",
     "start_time": "2016-07-28T23:36:54.847738"
    },
    "collapsed": false
   },
   "outputs": [
    {
     "name": "stdout",
     "output_type": "stream",
     "text": [
      "Prediction error for each eigenvalue in the testing set as ratio of std. dev.: \n",
      " [ 0.02710743  0.0280182   0.02788999  0.02386713  0.02099968  0.01669709\n",
      "  0.01453709  0.01334371  0.01164625  0.01159899]\n",
      "Uniform average of prediction errors:\n",
      " 0.020\n",
      "Prediction error for each eigenvalue in the testing set as ratio of true value (rel. err.):\n",
      " [ 0.16908822  0.07065185  0.00561865  0.00240527  0.00120156  0.0006603\n",
      "  0.00044554  0.0003106   0.00021986  0.00017547]\n"
     ]
    }
   ],
   "source": [
    "# eigenvalue prediction\n",
    "y_pred_test = model.predict(X_test)\n",
    "err_test = np.sqrt(np.mean((y_pred_test - y_test)**2, axis=0))\n",
    "print(\"Prediction error for each eigenvalue in the testing set as ratio of std. dev.: \\n\", err_test)\n",
    "print(\"Uniform average of prediction errors:\\n %0.3f\" % np.mean(err_test))\n",
    "\n",
    "# Relative error\n",
    "eig_pred_test = y_pred_test*eig_std[0:n_eig]+eig_mu[0:n_eig]\n",
    "eig_test = y_test*eig_std[0:n_eig]+eig_mu[0:n_eig]\n",
    "rel_err_test = np.mean(np.abs((eig_pred_test - eig_test)/eig_test), axis=0)\n",
    "print(\"Prediction error for each eigenvalue in the testing set as ratio of true value (rel. err.):\\n\", rel_err_test)"
   ]
  },
  {
   "cell_type": "markdown",
   "metadata": {},
   "source": [
    "## Visualize the predictions"
   ]
  },
  {
   "cell_type": "code",
   "execution_count": 17,
   "metadata": {
    "ExecuteTime": {
     "end_time": "2016-07-28T23:36:55.970329",
     "start_time": "2016-07-28T23:36:55.271418"
    },
    "collapsed": false
   },
   "outputs": [
    {
     "data": {
      "text/plain": [
       "<matplotlib.figure.Figure at 0x128695160>"
      ]
     },
     "metadata": {},
     "output_type": "display_data"
    },
    {
     "data": {
      "image/png": "[encoded data removed]",
      "text/plain": [
       "<matplotlib.figure.Figure at 0x128695b70>"
      ]
     },
     "metadata": {},
     "output_type": "display_data"
    },
    {
     "data": {
      "text/plain": [
       "<matplotlib.figure.Figure at 0x128075a20>"
      ]
     },
     "metadata": {},
     "output_type": "display_data"
    }
   ],
   "source": [
    "nrows = 1\n",
    "ncols = 4\n",
    "nplot = nrows * ncols\n",
    "indplt = randint(0,X_test.shape[0], nplot)\n",
    "numeigsplt = 5\n",
    "\n",
    "plt.clf()\n",
    "fig, axes = plt.subplots(nrows = nrows, ncols = ncols, sharey=True)\n",
    "fig.set_size_inches(12,6)\n",
    "subax = axes.flat\n",
    "\n",
    "for i in range(0, len(indplt)):\n",
    "        subax[i].plot(x_vec, X_test[indplt[i]], linewidth = 2, label='$V(x)$')\n",
    "        subax[i].axhline(y=0,xmin=-1,xmax=1, linestyle='solid' ,color = 'k', lw=0.5)\n",
    "        for j in range(0, numeigsplt):\n",
    "            lastaxNN = subax[i].axhline(y=eig_pred_test[indplt[i],j], xmin = -1, xmax = 1, \n",
    "                             ls = 'solid', color = 'r', lw = 3, label = 'Neural Network')\n",
    "            lastaxSE = subax[i].axhline(y=eig_test[indplt[i],j], xmin = -1, xmax = 1, \n",
    "                             ls = 'dashed', color = 'k', lw =3, label = 'Schr. Eqn.')\n",
    "\n",
    "        subax[i].set_xlabel(\"x\")\n",
    "        if i==0:\n",
    "            subax[i].set_ylabel(\"V(x)\")\n",
    "        subax[i].set_ylim((-2*sigma, 1.4*ts.E0(numeigsplt)))\n",
    "        subax[i].legend([lastaxNN, lastaxSE], [\"Neural Network\", \"Schr. Eqn.\"], fontsize=12)\n",
    "\n",
    "# plt.tight_layout();\n",
    "plt.show();\n",
    "plt.draw()"
   ]
  },
  {
   "cell_type": "markdown",
   "metadata": {},
   "source": [
    "## Test Cases"
   ]
  },
  {
   "cell_type": "markdown",
   "metadata": {},
   "source": [
    "### Square well"
   ]
  },
  {
   "cell_type": "code",
   "execution_count": 18,
   "metadata": {
    "ExecuteTime": {
     "end_time": "2016-07-28T23:36:55.984423",
     "start_time": "2016-07-28T23:36:55.971998"
    },
    "collapsed": false
   },
   "outputs": [
    {
     "name": "stdout",
     "output_type": "stream",
     "text": [
      "Prediction error for each eigenvalue as ratio of std. dev.: \n",
      " [ 0.0113005   0.00605058  0.00064374  0.00180043  0.00225165  0.00795942\n",
      "  0.00250519  0.00238019  0.00723549  0.00642197]\n",
      "Uniform average of prediction errors:\n",
      " 0.005\n",
      "Prediction error for each eigenvalue as ratio of true value (rel. err.):\n",
      " [  3.04790469e-02   3.75205830e-03   1.73917457e-04   2.67389903e-04\n",
      "   2.00951431e-04   4.73845650e-04   1.08959889e-04   7.87578490e-05\n",
      "   1.87914374e-04   1.34473561e-04]\n"
     ]
    }
   ],
   "source": [
    "V_square = np.asarray([np.zeros(n_x)])\n",
    "\n",
    "# eigenvalue prediction\n",
    "y_square_pred = model.predict(V_square)[0]\n",
    "y_square_test = (ts.E0(np.arange(1,n_eig+1)) - eig_mu[0:n_eig])/eig_std[0:n_eig]\n",
    "err_square = np.sqrt((y_square_pred - y_square_test)**2)\n",
    "print(\"Prediction error for each eigenvalue as ratio of std. dev.: \\n\", err_square)\n",
    "print(\"Uniform average of prediction errors:\\n %0.3f\" % np.mean(err_square))\n",
    "\n",
    "# Relative error\n",
    "eig_square_pred = y_square_pred*eig_std[0:n_eig]+eig_mu[0:n_eig]\n",
    "eig_square_test = y_square_test*eig_std[0:n_eig]+eig_mu[0:n_eig]\n",
    "rel_err = np.abs((eig_square_pred - eig_square_test)/eig_square_test)\n",
    "print(\"Prediction error for each eigenvalue as ratio of true value (rel. err.):\\n\", rel_err)"
   ]
  },
  {
   "cell_type": "code",
   "execution_count": 19,
   "metadata": {
    "ExecuteTime": {
     "end_time": "2016-07-28T23:36:56.194235",
     "start_time": "2016-07-28T23:36:55.986227"
    },
    "collapsed": false
   },
   "outputs": [
    {
     "data": {
      "image/png": "[encoded data removed]",
      "text/plain": [
       "<matplotlib.figure.Figure at 0x12a8ff6a0>"
      ]
     },
     "metadata": {},
     "output_type": "display_data"
    }
   ],
   "source": [
    "plt.clf()\n",
    "plt.plot(x_vec, V_square[0], 'b-', lw=2)\n",
    "for i in range(numeigs):\n",
    "    plt.axhline(eig_square_pred[i], lw=2, ls='solid', color='r')\n",
    "    plt.axhline(eig_square_test[i], lw=2, ls='dashed', color='k')"
   ]
  },
  {
   "cell_type": "markdown",
   "metadata": {},
   "source": [
    "### Harmonic oscillator"
   ]
  },
  {
   "cell_type": "code",
   "execution_count": 20,
   "metadata": {
    "ExecuteTime": {
     "end_time": "2016-07-28T23:36:56.201486",
     "start_time": "2016-07-28T23:36:56.195792"
    },
    "collapsed": true
   },
   "outputs": [],
   "source": [
    "# The harmonic oscillator potential with zero average value\n",
    "def V_ho(A,x):\n",
    "    return A*(x**2-1./3.)\n",
    "\n",
    "# The energy levels\n",
    "def E_ho(A,n):\n",
    "    return -A/3. + (1 + 2*n)*np.sqrt(A/2)"
   ]
  },
  {
   "cell_type": "code",
   "execution_count": 21,
   "metadata": {
    "ExecuteTime": {
     "end_time": "2016-07-28T23:36:56.275191",
     "start_time": "2016-07-28T23:36:56.203828"
    },
    "collapsed": false
   },
   "outputs": [
    {
     "name": "stdout",
     "output_type": "stream",
     "text": [
      "Calculating Hamiltonian matrices...\n",
      "\r",
      "Status: 0.25 % complete\r",
      "Status: 0.50 % complete\r",
      "Status: 5.50 % complete\r",
      "Status: 0.75 % complete\r",
      "Status: 5.75 % complete\r",
      "Status: 10.75 % complete\r",
      "Status: 1.00 % complete\r",
      "Status: 6.00 % complete\r",
      "Status: 11.00 % complete\r",
      "Status: 16.00 % complete\r",
      "Status: 1.25 % complete\r",
      "Status: 6.25 % complete\r",
      "Status: 11.25 % complete\r",
      "Status: 16.25 % complete\r",
      "Status: 21.25 % complete\r",
      "Status: 1.50 % complete\r",
      "Status: 6.50 % complete\r",
      "Status: 11.50 % complete\r",
      "Status: 16.50 % complete\r",
      "Status: 21.50 % complete\r",
      "Status: 26.50 % complete\r",
      "Status: 1.75 % complete\r",
      "Status: 6.75 % complete\r",
      "Status: 11.75 % complete\r",
      "Status: 16.75 % complete\r",
      "Status: 21.75 % complete\r",
      "Status: 26.75 % complete\r",
      "Status: 31.75 % complete\r",
      "Status: 2.00 % complete\r",
      "Status: 7.00 % complete\r",
      "Status: 12.00 % complete\r",
      "Status: 17.00 % complete\r",
      "Status: 22.00 % complete\r",
      "Status: 27.00 % complete\r",
      "Status: 32.00 % complete\r",
      "Status: 37.00 % complete\r",
      "Status: 2.25 % complete\r",
      "Status: 7.25 % complete\r",
      "Status: 12.25 % complete\r",
      "Status: 17.25 % complete\r",
      "Status: 22.25 % complete\r",
      "Status: 27.25 % complete\r",
      "Status: 32.25 % complete\r",
      "Status: 37.25 % complete\r",
      "Status: 42.25 % complete\r",
      "Status: 2.50 % complete\r",
      "Status: 7.50 % complete\r",
      "Status: 12.50 % complete\r",
      "Status: 17.50 % complete\r",
      "Status: 22.50 % complete\r",
      "Status: 27.50 % complete\r",
      "Status: 32.50 % complete\r",
      "Status: 37.50 % complete\r",
      "Status: 42.50 % complete\r",
      "Status: 47.50 % complete\r",
      "Status: 2.75 % complete\r",
      "Status: 7.75 % complete\r",
      "Status: 12.75 % complete\r",
      "Status: 17.75 % complete\r",
      "Status: 22.75 % complete\r",
      "Status: 27.75 % complete\r",
      "Status: 32.75 % complete\r",
      "Status: 37.75 % complete\r",
      "Status: 42.75 % complete\r",
      "Status: 47.75 % complete\r",
      "Status: 52.75 % complete\r",
      "Status: 3.00 % complete\r",
      "Status: 8.00 % complete\r",
      "Status: 13.00 % complete\r",
      "Status: 18.00 % complete\r",
      "Status: 23.00 % complete\r",
      "Status: 28.00 % complete\r",
      "Status: 33.00 % complete\r",
      "Status: 38.00 % complete\r",
      "Status: 43.00 % complete\r",
      "Status: 48.00 % complete\r",
      "Status: 53.00 % complete\r",
      "Status: 58.00 % complete\r",
      "Status: 3.25 % complete\r",
      "Status: 8.25 % complete\r",
      "Status: 13.25 % complete\r",
      "Status: 18.25 % complete\r",
      "Status: 23.25 % complete\r",
      "Status: 28.25 % complete\r",
      "Status: 33.25 % complete\r",
      "Status: 38.25 % complete\r",
      "Status: 43.25 % complete\r",
      "Status: 48.25 % complete\r",
      "Status: 53.25 % complete\r",
      "Status: 58.25 % complete\r",
      "Status: 63.25 % complete\r",
      "Status: 3.50 % complete\r",
      "Status: 8.50 % complete\r",
      "Status: 13.50 % complete\r",
      "Status: 18.50 % complete\r",
      "Status: 23.50 % complete\r",
      "Status: 28.50 % complete\r",
      "Status: 33.50 % complete\r",
      "Status: 38.50 % complete\r",
      "Status: 43.50 % complete\r",
      "Status: 48.50 % complete\r",
      "Status: 53.50 % complete\r",
      "Status: 58.50 % complete\r",
      "Status: 63.50 % complete\r",
      "Status: 68.50 % complete\r",
      "Status: 3.75 % complete\r",
      "Status: 8.75 % complete\r",
      "Status: 13.75 % complete\r",
      "Status: 18.75 % complete\r",
      "Status: 23.75 % complete\r",
      "Status: 28.75 % complete\r",
      "Status: 33.75 % complete\r",
      "Status: 38.75 % complete\r",
      "Status: 43.75 % complete\r",
      "Status: 48.75 % complete\r",
      "Status: 53.75 % complete\r",
      "Status: 58.75 % complete\r",
      "Status: 63.75 % complete\r",
      "Status: 68.75 % complete\r",
      "Status: 73.75 % complete\r",
      "Status: 4.00 % complete\r",
      "Status: 9.00 % complete\r",
      "Status: 14.00 % complete\r",
      "Status: 19.00 % complete\r",
      "Status: 24.00 % complete\r",
      "Status: 29.00 % complete\r",
      "Status: 34.00 % complete\r",
      "Status: 39.00 % complete\r",
      "Status: 44.00 % complete\r",
      "Status: 49.00 % complete\r",
      "Status: 54.00 % complete\r",
      "Status: 59.00 % complete\r",
      "Status: 64.00 % complete\r",
      "Status: 69.00 % complete\r",
      "Status: 74.00 % complete\r",
      "Status: 79.00 % complete\r",
      "Status: 4.25 % complete\r",
      "Status: 9.25 % complete\r",
      "Status: 14.25 % complete\r",
      "Status: 19.25 % complete\r",
      "Status: 24.25 % complete\r",
      "Status: 29.25 % complete\r",
      "Status: 34.25 % complete\r",
      "Status: 39.25 % complete\r",
      "Status: 44.25 % complete\r",
      "Status: 49.25 % complete\r",
      "Status: 54.25 % complete\r",
      "Status: 59.25 % complete\r",
      "Status: 64.25 % complete\r",
      "Status: 69.25 % complete\r",
      "Status: 74.25 % complete\r",
      "Status: 79.25 % complete\r",
      "Status: 84.25 % complete\r",
      "Status: 4.50 % complete\r",
      "Status: 9.50 % complete\r",
      "Status: 14.50 % complete\r",
      "Status: 19.50 % complete\r",
      "Status: 24.50 % complete\r",
      "Status: 29.50 % complete\r",
      "Status: 34.50 % complete\r",
      "Status: 39.50 % complete\r",
      "Status: 44.50 % complete\r",
      "Status: 49.50 % complete\r",
      "Status: 54.50 % complete\r",
      "Status: 59.50 % complete\r",
      "Status: 64.50 % complete\r",
      "Status: 69.50 % complete\r",
      "Status: 74.50 % complete\r",
      "Status: 79.50 % complete\r",
      "Status: 84.50 % complete\r",
      "Status: 89.50 % complete\r",
      "Status: 4.75 % complete\r",
      "Status: 9.75 % complete\r",
      "Status: 14.75 % complete\r",
      "Status: 19.75 % complete\r",
      "Status: 24.75 % complete\r",
      "Status: 29.75 % complete\r",
      "Status: 34.75 % complete\r",
      "Status: 39.75 % complete\r",
      "Status: 44.75 % complete\r",
      "Status: 49.75 % complete\r",
      "Status: 54.75 % complete\r",
      "Status: 59.75 % complete\r",
      "Status: 64.75 % complete\r",
      "Status: 69.75 % complete\r",
      "Status: 74.75 % complete\r",
      "Status: 79.75 % complete\r",
      "Status: 84.75 % complete\r",
      "Status: 89.75 % complete\r",
      "Status: 94.75 % complete\r",
      "Status: 5.00 % complete\r",
      "Status: 10.00 % complete\r",
      "Status: 15.00 % complete\r",
      "Status: 20.00 % complete\r",
      "Status: 25.00 % complete\r",
      "Status: 30.00 % complete\r",
      "Status: 35.00 % complete\r",
      "Status: 40.00 % complete\r",
      "Status: 45.00 % complete\r",
      "Status: 50.00 % complete\r",
      "Status: 55.00 % complete\r",
      "Status: 60.00 % complete\r",
      "Status: 65.00 % complete\r",
      "Status: 70.00 % complete\r",
      "Status: 75.00 % complete\r",
      "Status: 80.00 % complete\r",
      "Status: 85.00 % complete\r",
      "Status: 90.00 % complete\r",
      "Status: 95.00 % complete\r",
      "Status: 100.00 % complete"
     ]
    }
   ],
   "source": [
    "A = 5*sigma\n",
    "V_hos = [np.asarray(V_ho(A, x_vec))]\n",
    "y_ho_pred = model.predict(V_hos)[0]\n",
    "eig_ho_pred = y_ho_pred*eig_std[0:n_eig]+eig_mu[0:n_eig]\n",
    "eig_ho_test, _ = ts.eigsys(n_basis, x_vec, np.asarray(V_hos))"
   ]
  },
  {
   "cell_type": "code",
   "execution_count": 22,
   "metadata": {
    "ExecuteTime": {
     "end_time": "2016-07-28T23:36:56.479966",
     "start_time": "2016-07-28T23:36:56.277174"
    },
    "collapsed": false
   },
   "outputs": [
    {
     "data": {
      "image/png": "[encoded data removed]",
      "text/plain": [
       "<matplotlib.figure.Figure at 0x12802f588>"
      ]
     },
     "metadata": {},
     "output_type": "display_data"
    }
   ],
   "source": [
    "plt.clf()\n",
    "plt.plot(x_vec, V_hos[0], 'b-', lw=2)\n",
    "for i in range(5):\n",
    "    plt.axhline(eig_ho_pred[i], lw=2, ls='solid', color='r')\n",
    "    plt.axhline(eig_ho_test[0,i], lw=2, ls='dashed', color='k')"
   ]
  },
  {
   "cell_type": "markdown",
   "metadata": {},
   "source": [
    "### Linear potential and symmetry test"
   ]
  },
  {
   "cell_type": "code",
   "execution_count": 23,
   "metadata": {
    "ExecuteTime": {
     "end_time": "2016-07-28T23:36:56.485418",
     "start_time": "2016-07-28T23:36:56.481745"
    },
    "collapsed": true
   },
   "outputs": [],
   "source": [
    "# The harmonic oscillator potential with zero average value\n",
    "A = 20\n",
    "V_lin_p = [np.linspace(-A,A,n_x)]\n",
    "V_lin_m = [np.linspace(A,-A,n_x)]"
   ]
  },
  {
   "cell_type": "code",
   "execution_count": 24,
   "metadata": {
    "ExecuteTime": {
     "end_time": "2016-07-28T23:36:56.558577",
     "start_time": "2016-07-28T23:36:56.487252"
    },
    "collapsed": false
   },
   "outputs": [
    {
     "name": "stdout",
     "output_type": "stream",
     "text": [
      "Calculating Hamiltonian matrices...\n",
      "\r",
      "Status: 0.25 % complete\r",
      "Status: 0.50 % complete\r",
      "Status: 5.50 % complete\r",
      "Status: 0.75 % complete\r",
      "Status: 5.75 % complete\r",
      "Status: 10.75 % complete\r",
      "Status: 1.00 % complete\r",
      "Status: 6.00 % complete\r",
      "Status: 11.00 % complete\r",
      "Status: 16.00 % complete\r",
      "Status: 1.25 % complete\r",
      "Status: 6.25 % complete\r",
      "Status: 11.25 % complete\r",
      "Status: 16.25 % complete\r",
      "Status: 21.25 % complete\r",
      "Status: 1.50 % complete\r",
      "Status: 6.50 % complete\r",
      "Status: 11.50 % complete\r",
      "Status: 16.50 % complete\r",
      "Status: 21.50 % complete\r",
      "Status: 26.50 % complete\r",
      "Status: 1.75 % complete\r",
      "Status: 6.75 % complete\r",
      "Status: 11.75 % complete\r",
      "Status: 16.75 % complete\r",
      "Status: 21.75 % complete\r",
      "Status: 26.75 % complete\r",
      "Status: 31.75 % complete\r",
      "Status: 2.00 % complete\r",
      "Status: 7.00 % complete\r",
      "Status: 12.00 % complete\r",
      "Status: 17.00 % complete\r",
      "Status: 22.00 % complete\r",
      "Status: 27.00 % complete\r",
      "Status: 32.00 % complete\r",
      "Status: 37.00 % complete\r",
      "Status: 2.25 % complete\r",
      "Status: 7.25 % complete\r",
      "Status: 12.25 % complete\r",
      "Status: 17.25 % complete\r",
      "Status: 22.25 % complete\r",
      "Status: 27.25 % complete\r",
      "Status: 32.25 % complete\r",
      "Status: 37.25 % complete\r",
      "Status: 42.25 % complete\r",
      "Status: 2.50 % complete\r",
      "Status: 7.50 % complete\r",
      "Status: 12.50 % complete\r",
      "Status: 17.50 % complete\r",
      "Status: 22.50 % complete\r",
      "Status: 27.50 % complete\r",
      "Status: 32.50 % complete\r",
      "Status: 37.50 % complete\r",
      "Status: 42.50 % complete\r",
      "Status: 47.50 % complete\r",
      "Status: 2.75 % complete\r",
      "Status: 7.75 % complete\r",
      "Status: 12.75 % complete\r",
      "Status: 17.75 % complete\r",
      "Status: 22.75 % complete\r",
      "Status: 27.75 % complete\r",
      "Status: 32.75 % complete\r",
      "Status: 37.75 % complete\r",
      "Status: 42.75 % complete\r",
      "Status: 47.75 % complete\r",
      "Status: 52.75 % complete\r",
      "Status: 3.00 % complete\r",
      "Status: 8.00 % complete\r",
      "Status: 13.00 % complete\r",
      "Status: 18.00 % complete\r",
      "Status: 23.00 % complete\r",
      "Status: 28.00 % complete\r",
      "Status: 33.00 % complete\r",
      "Status: 38.00 % complete\r",
      "Status: 43.00 % complete\r",
      "Status: 48.00 % complete\r",
      "Status: 53.00 % complete\r",
      "Status: 58.00 % complete\r",
      "Status: 3.25 % complete\r",
      "Status: 8.25 % complete\r",
      "Status: 13.25 % complete\r",
      "Status: 18.25 % complete\r",
      "Status: 23.25 % complete\r",
      "Status: 28.25 % complete\r",
      "Status: 33.25 % complete\r",
      "Status: 38.25 % complete\r",
      "Status: 43.25 % complete\r",
      "Status: 48.25 % complete\r",
      "Status: 53.25 % complete\r",
      "Status: 58.25 % complete\r",
      "Status: 63.25 % complete\r",
      "Status: 3.50 % complete\r",
      "Status: 8.50 % complete\r",
      "Status: 13.50 % complete\r",
      "Status: 18.50 % complete\r",
      "Status: 23.50 % complete\r",
      "Status: 28.50 % complete\r",
      "Status: 33.50 % complete\r",
      "Status: 38.50 % complete\r",
      "Status: 43.50 % complete\r",
      "Status: 48.50 % complete\r",
      "Status: 53.50 % complete\r",
      "Status: 58.50 % complete\r",
      "Status: 63.50 % complete\r",
      "Status: 68.50 % complete\r",
      "Status: 3.75 % complete\r",
      "Status: 8.75 % complete\r",
      "Status: 13.75 % complete\r",
      "Status: 18.75 % complete\r",
      "Status: 23.75 % complete\r",
      "Status: 28.75 % complete\r",
      "Status: 33.75 % complete\r",
      "Status: 38.75 % complete\r",
      "Status: 43.75 % complete\r",
      "Status: 48.75 % complete\r",
      "Status: 53.75 % complete\r",
      "Status: 58.75 % complete\r",
      "Status: 63.75 % complete\r",
      "Status: 68.75 % complete\r",
      "Status: 73.75 % complete\r",
      "Status: 4.00 % complete\r",
      "Status: 9.00 % complete\r",
      "Status: 14.00 % complete\r",
      "Status: 19.00 % complete\r",
      "Status: 24.00 % complete\r",
      "Status: 29.00 % complete\r",
      "Status: 34.00 % complete\r",
      "Status: 39.00 % complete\r",
      "Status: 44.00 % complete\r",
      "Status: 49.00 % complete\r",
      "Status: 54.00 % complete\r",
      "Status: 59.00 % complete\r",
      "Status: 64.00 % complete\r",
      "Status: 69.00 % complete\r",
      "Status: 74.00 % complete\r",
      "Status: 79.00 % complete\r",
      "Status: 4.25 % complete\r",
      "Status: 9.25 % complete\r",
      "Status: 14.25 % complete\r",
      "Status: 19.25 % complete\r",
      "Status: 24.25 % complete\r",
      "Status: 29.25 % complete\r",
      "Status: 34.25 % complete\r",
      "Status: 39.25 % complete\r",
      "Status: 44.25 % complete\r",
      "Status: 49.25 % complete\r",
      "Status: 54.25 % complete\r",
      "Status: 59.25 % complete\r",
      "Status: 64.25 % complete\r",
      "Status: 69.25 % complete\r",
      "Status: 74.25 % complete\r",
      "Status: 79.25 % complete\r",
      "Status: 84.25 % complete\r",
      "Status: 4.50 % complete\r",
      "Status: 9.50 % complete\r",
      "Status: 14.50 % complete\r",
      "Status: 19.50 % complete\r",
      "Status: 24.50 % complete\r",
      "Status: 29.50 % complete\r",
      "Status: 34.50 % complete\r",
      "Status: 39.50 % complete\r",
      "Status: 44.50 % complete\r",
      "Status: 49.50 % complete\r",
      "Status: 54.50 % complete\r",
      "Status: 59.50 % complete\r",
      "Status: 64.50 % complete\r",
      "Status: 69.50 % complete\r",
      "Status: 74.50 % complete\r",
      "Status: 79.50 % complete\r",
      "Status: 84.50 % complete\r",
      "Status: 89.50 % complete\r",
      "Status: 4.75 % complete\r",
      "Status: 9.75 % complete\r",
      "Status: 14.75 % complete\r",
      "Status: 19.75 % complete\r",
      "Status: 24.75 % complete\r",
      "Status: 29.75 % complete\r",
      "Status: 34.75 % complete\r",
      "Status: 39.75 % complete\r",
      "Status: 44.75 % complete\r",
      "Status: 49.75 % complete\r",
      "Status: 54.75 % complete\r",
      "Status: 59.75 % complete\r",
      "Status: 64.75 % complete\r",
      "Status: 69.75 % complete\r",
      "Status: 74.75 % complete\r",
      "Status: 79.75 % complete\r",
      "Status: 84.75 % complete\r",
      "Status: 89.75 % complete\r",
      "Status: 94.75 % complete\r",
      "Status: 5.00 % complete\r",
      "Status: 10.00 % complete\r",
      "Status: 15.00 % complete\r",
      "Status: 20.00 % complete\r",
      "Status: 25.00 % complete\r",
      "Status: 30.00 % complete\r",
      "Status: 35.00 % complete\r",
      "Status: 40.00 % complete\r",
      "Status: 45.00 % complete\r",
      "Status: 50.00 % complete\r",
      "Status: 55.00 % complete\r",
      "Status: 60.00 % complete\r",
      "Status: 65.00 % complete\r",
      "Status: 70.00 % complete\r",
      "Status: 75.00 % complete\r",
      "Status: 80.00 % complete\r",
      "Status: 85.00 % complete\r",
      "Status: 90.00 % complete\r",
      "Status: 95.00 % complete\r",
      "Status: 100.00 % complete"
     ]
    }
   ],
   "source": [
    "y_lin_p_pred = model.predict(V_lin_p)[0]\n",
    "eig_lin_p_pred = y_lin_p_pred*eig_std[0:n_eig]+eig_mu[0:n_eig]\n",
    "eig_lin_test, _ = ts.eigsys(n_basis, x_vec, np.asarray(V_lin_p))\n",
    "\n",
    "y_lin_m_pred = model.predict(V_lin_m)[0]\n",
    "eig_lin_m_pred = y_lin_m_pred*eig_std[0:n_eig]+eig_mu[0:n_eig]"
   ]
  },
  {
   "cell_type": "code",
   "execution_count": 25,
   "metadata": {
    "ExecuteTime": {
     "end_time": "2016-07-28T23:36:56.804462",
     "start_time": "2016-07-28T23:36:56.560816"
    },
    "collapsed": false
   },
   "outputs": [
    {
     "data": {
      "image/png": "[encoded data removed]",
      "text/plain": [
       "<matplotlib.figure.Figure at 0x127f68fd0>"
      ]
     },
     "metadata": {},
     "output_type": "display_data"
    }
   ],
   "source": [
    "plt.clf()\n",
    "plt.plot(x_vec, V_lin_p[0], 'b-', lw=2)\n",
    "plt.plot(x_vec, V_lin_m[0], 'b--', lw=2)\n",
    "plt.axvline(ls=':',lw=2,color='k')\n",
    "for i in range(numeigs):\n",
    "    plt.axhline(eig_lin_p_pred[i], lw=2, ls='solid', color='r')\n",
    "    plt.axhline(eig_lin_m_pred[i], lw=2, ls='dashed', color='r')\n",
    "    plt.axhline(eig_lin_test[0,i], lw=2, ls='dashed', color='k')"
   ]
  },
  {
   "cell_type": "markdown",
   "metadata": {},
   "source": [
    "### Shifted square well"
   ]
  },
  {
   "cell_type": "code",
   "execution_count": 26,
   "metadata": {
    "ExecuteTime": {
     "end_time": "2016-07-28T23:36:56.828467",
     "start_time": "2016-07-28T23:36:56.806531"
    },
    "collapsed": false
   },
   "outputs": [
    {
     "name": "stdout",
     "output_type": "stream",
     "text": [
      "Prediction error for each eigenvalue as ratio of std. dev.: \n",
      " [ 0.0132667   0.00720606  0.00146452  0.01782829  0.0035235   0.00026059\n",
      "  0.00617638  0.00746318  0.01255998  0.00623674]\n",
      "Uniform average of prediction errors:\n",
      " 0.008\n",
      "Prediction error for each eigenvalue as ratio of true value (rel. err.):\n",
      " [  7.08158155e-03   2.21963195e-03   2.72812971e-04   2.11262152e-03\n",
      "   2.70592758e-04   1.39436243e-05   2.48111216e-04   2.32240970e-04\n",
      "   3.10654331e-04   1.25508383e-04]\n"
     ]
    }
   ],
   "source": [
    "shift = 5\n",
    "V_square = shift + np.asarray([np.zeros(n_x)])\n",
    "\n",
    "\n",
    "# eigenvalue prediction\n",
    "y_square_pred = model.predict(V_square)[0]\n",
    "y_square_test = (shift+ts.E0(np.arange(1,n_eig+1)) - eig_mu[0:n_eig])/eig_std[0:n_eig]\n",
    "err_square = np.sqrt((y_square_pred - y_square_test)**2)\n",
    "print(\"Prediction error for each eigenvalue as ratio of std. dev.: \\n\", err_square)\n",
    "print(\"Uniform average of prediction errors:\\n %0.3f\" % np.mean(err_square))\n",
    "\n",
    "# Relative error\n",
    "eig_square_pred = y_square_pred*eig_std[0:n_eig]+eig_mu[0:n_eig]\n",
    "eig_square_test = y_square_test*eig_std[0:n_eig]+eig_mu[0:n_eig]\n",
    "rel_err = np.abs((eig_square_pred - eig_square_test)/eig_square_test)\n",
    "print(\"Prediction error for each eigenvalue as ratio of true value (rel. err.):\\n\", rel_err)"
   ]
  },
  {
   "cell_type": "code",
   "execution_count": 27,
   "metadata": {
    "ExecuteTime": {
     "end_time": "2016-07-28T23:36:57.143565",
     "start_time": "2016-07-28T23:36:56.831955"
    },
    "collapsed": false
   },
   "outputs": [
    {
     "data": {
      "image/png": "[encoded data removed]",
      "text/plain": [
       "<matplotlib.figure.Figure at 0x12a9495c0>"
      ]
     },
     "metadata": {},
     "output_type": "display_data"
    }
   ],
   "source": [
    "plt.clf()\n",
    "plt.plot(x_vec, V_square[0], 'b-', lw=2)\n",
    "for i in range(numeigs):\n",
    "    plt.axhline(eig_square_pred[i], lw=2, ls='solid', color='r')\n",
    "    plt.axhline(eig_square_test[i], lw=2, ls='dashed', color='k')"
   ]
  },
  {
   "cell_type": "markdown",
   "metadata": {
    "collapsed": true
   },
   "source": [
    "### Noisy ho"
   ]
  },
  {
   "cell_type": "code",
   "execution_count": 34,
   "metadata": {
    "ExecuteTime": {
     "end_time": "2016-07-28T23:38:42.416442",
     "start_time": "2016-07-28T23:38:42.150709"
    },
    "collapsed": false
   },
   "outputs": [
    {
     "name": "stdout",
     "output_type": "stream",
     "text": [
      "Calculating Hamiltonian matrices...\n",
      "\r",
      "Status: 0.25 % complete\r",
      "Status: 0.50 % complete\r",
      "Status: 5.50 % complete\r",
      "Status: 0.75 % complete\r",
      "Status: 5.75 % complete\r",
      "Status: 10.75 % complete\r",
      "Status: 1.00 % complete\r",
      "Status: 6.00 % complete\r",
      "Status: 11.00 % complete\r",
      "Status: 16.00 % complete\r",
      "Status: 1.25 % complete\r",
      "Status: 6.25 % complete\r",
      "Status: 11.25 % complete\r",
      "Status: 16.25 % complete\r",
      "Status: 21.25 % complete\r",
      "Status: 1.50 % complete\r",
      "Status: 6.50 % complete\r",
      "Status: 11.50 % complete\r",
      "Status: 16.50 % complete\r",
      "Status: 21.50 % complete\r",
      "Status: 26.50 % complete\r",
      "Status: 1.75 % complete\r",
      "Status: 6.75 % complete\r",
      "Status: 11.75 % complete\r",
      "Status: 16.75 % complete\r",
      "Status: 21.75 % complete\r",
      "Status: 26.75 % complete\r",
      "Status: 31.75 % complete\r",
      "Status: 2.00 % complete\r",
      "Status: 7.00 % complete\r",
      "Status: 12.00 % complete\r",
      "Status: 17.00 % complete\r",
      "Status: 22.00 % complete\r",
      "Status: 27.00 % complete\r",
      "Status: 32.00 % complete\r",
      "Status: 37.00 % complete\r",
      "Status: 2.25 % complete\r",
      "Status: 7.25 % complete\r",
      "Status: 12.25 % complete\r",
      "Status: 17.25 % complete\r",
      "Status: 22.25 % complete\r",
      "Status: 27.25 % complete\r",
      "Status: 32.25 % complete\r",
      "Status: 37.25 % complete\r",
      "Status: 42.25 % complete\r",
      "Status: 2.50 % complete\r",
      "Status: 7.50 % complete\r",
      "Status: 12.50 % complete\r",
      "Status: 17.50 % complete\r",
      "Status: 22.50 % complete\r",
      "Status: 27.50 % complete\r",
      "Status: 32.50 % complete\r",
      "Status: 37.50 % complete\r",
      "Status: 42.50 % complete\r",
      "Status: 47.50 % complete\r",
      "Status: 2.75 % complete\r",
      "Status: 7.75 % complete\r",
      "Status: 12.75 % complete\r",
      "Status: 17.75 % complete\r",
      "Status: 22.75 % complete\r",
      "Status: 27.75 % complete\r",
      "Status: 32.75 % complete\r",
      "Status: 37.75 % complete\r",
      "Status: 42.75 % complete\r",
      "Status: 47.75 % complete\r",
      "Status: 52.75 % complete\r",
      "Status: 3.00 % complete\r",
      "Status: 8.00 % complete\r",
      "Status: 13.00 % complete\r",
      "Status: 18.00 % complete\r",
      "Status: 23.00 % complete\r",
      "Status: 28.00 % complete\r",
      "Status: 33.00 % complete\r",
      "Status: 38.00 % complete\r",
      "Status: 43.00 % complete\r",
      "Status: 48.00 % complete\r",
      "Status: 53.00 % complete\r",
      "Status: 58.00 % complete\r",
      "Status: 3.25 % complete\r",
      "Status: 8.25 % complete\r",
      "Status: 13.25 % complete\r",
      "Status: 18.25 % complete\r",
      "Status: 23.25 % complete\r",
      "Status: 28.25 % complete\r",
      "Status: 33.25 % complete\r",
      "Status: 38.25 % complete\r",
      "Status: 43.25 % complete\r",
      "Status: 48.25 % complete\r",
      "Status: 53.25 % complete\r",
      "Status: 58.25 % complete\r",
      "Status: 63.25 % complete\r",
      "Status: 3.50 % complete\r",
      "Status: 8.50 % complete\r",
      "Status: 13.50 % complete\r",
      "Status: 18.50 % complete\r",
      "Status: 23.50 % complete\r",
      "Status: 28.50 % complete\r",
      "Status: 33.50 % complete\r",
      "Status: 38.50 % complete\r",
      "Status: 43.50 % complete\r",
      "Status: 48.50 % complete\r",
      "Status: 53.50 % complete\r",
      "Status: 58.50 % complete\r",
      "Status: 63.50 % complete\r",
      "Status: 68.50 % complete\r",
      "Status: 3.75 % complete\r",
      "Status: 8.75 % complete\r",
      "Status: 13.75 % complete\r",
      "Status: 18.75 % complete\r",
      "Status: 23.75 % complete\r",
      "Status: 28.75 % complete\r",
      "Status: 33.75 % complete\r",
      "Status: 38.75 % complete\r",
      "Status: 43.75 % complete\r",
      "Status: 48.75 % complete\r",
      "Status: 53.75 % complete\r",
      "Status: 58.75 % complete\r",
      "Status: 63.75 % complete\r",
      "Status: 68.75 % complete\r",
      "Status: 73.75 % complete\r",
      "Status: 4.00 % complete\r",
      "Status: 9.00 % complete\r",
      "Status: 14.00 % complete\r",
      "Status: 19.00 % complete\r",
      "Status: 24.00 % complete\r",
      "Status: 29.00 % complete\r",
      "Status: 34.00 % complete\r",
      "Status: 39.00 % complete\r",
      "Status: 44.00 % complete\r",
      "Status: 49.00 % complete\r",
      "Status: 54.00 % complete\r",
      "Status: 59.00 % complete\r",
      "Status: 64.00 % complete\r",
      "Status: 69.00 % complete\r",
      "Status: 74.00 % complete\r",
      "Status: 79.00 % complete\r",
      "Status: 4.25 % complete\r",
      "Status: 9.25 % complete\r",
      "Status: 14.25 % complete\r",
      "Status: 19.25 % complete\r",
      "Status: 24.25 % complete\r",
      "Status: 29.25 % complete\r",
      "Status: 34.25 % complete\r",
      "Status: 39.25 % complete\r",
      "Status: 44.25 % complete\r",
      "Status: 49.25 % complete\r",
      "Status: 54.25 % complete\r",
      "Status: 59.25 % complete\r",
      "Status: 64.25 % complete\r",
      "Status: 69.25 % complete\r",
      "Status: 74.25 % complete\r",
      "Status: 79.25 % complete\r",
      "Status: 84.25 % complete\r",
      "Status: 4.50 % complete\r",
      "Status: 9.50 % complete\r",
      "Status: 14.50 % complete\r",
      "Status: 19.50 % complete\r",
      "Status: 24.50 % complete\r",
      "Status: 29.50 % complete\r",
      "Status: 34.50 % complete\r",
      "Status: 39.50 % complete\r",
      "Status: 44.50 % complete\r",
      "Status: 49.50 % complete\r",
      "Status: 54.50 % complete\r",
      "Status: 59.50 % complete\r",
      "Status: 64.50 % complete\r",
      "Status: 69.50 % complete\r",
      "Status: 74.50 % complete\r",
      "Status: 79.50 % complete\r",
      "Status: 84.50 % complete\r",
      "Status: 89.50 % complete\r",
      "Status: 4.75 % complete\r",
      "Status: 9.75 % complete\r",
      "Status: 14.75 % complete\r",
      "Status: 19.75 % complete\r",
      "Status: 24.75 % complete\r",
      "Status: 29.75 % complete\r",
      "Status: 34.75 % complete\r",
      "Status: 39.75 % complete\r",
      "Status: 44.75 % complete\r",
      "Status: 49.75 % complete\r",
      "Status: 54.75 % complete\r",
      "Status: 59.75 % complete\r",
      "Status: 64.75 % complete\r",
      "Status: 69.75 % complete\r",
      "Status: 74.75 % complete\r",
      "Status: 79.75 % complete\r",
      "Status: 84.75 % complete\r",
      "Status: 89.75 % complete\r",
      "Status: 94.75 % complete\r",
      "Status: 5.00 % complete\r",
      "Status: 10.00 % complete\r",
      "Status: 15.00 % complete\r",
      "Status: 20.00 % complete\r",
      "Status: 25.00 % complete\r",
      "Status: 30.00 % complete\r",
      "Status: 35.00 % complete\r",
      "Status: 40.00 % complete\r",
      "Status: 45.00 % complete\r",
      "Status: 50.00 % complete\r",
      "Status: 55.00 % complete\r",
      "Status: 60.00 % complete\r",
      "Status: 65.00 % complete\r",
      "Status: 70.00 % complete\r",
      "Status: 75.00 % complete\r",
      "Status: 80.00 % complete\r",
      "Status: 85.00 % complete\r",
      "Status: 90.00 % complete\r",
      "Status: 95.00 % complete\r",
      "Status: 100.00 % complete"
     ]
    },
    {
     "data": {
      "image/png": "[encoded data removed]",
      "text/plain": [
       "<matplotlib.figure.Figure at 0x10c416668>"
      ]
     },
     "metadata": {},
     "output_type": "display_data"
    }
   ],
   "source": [
    "A = 10*sigma\n",
    "V_hos = [np.asarray(V_ho(A, x_vec))+np.random.normal(0,2*sigma, n_x)]\n",
    "y_ho_pred = model.predict(V_hos)[0]\n",
    "eig_ho_pred = y_ho_pred*eig_std[0:n_eig]+eig_mu[0:n_eig]\n",
    "eig_ho_test, _ = ts.eigsys(n_basis, x_vec, np.asarray(V_hos))\n",
    "\n",
    "plt.clf()\n",
    "plt.plot(x_vec, V_hos[0], 'b-', lw=2)\n",
    "for i in range(5):\n",
    "    plt.axhline(eig_ho_pred[i], lw=2, ls='solid', color='r')\n",
    "    plt.axhline(eig_ho_test[0,i], lw=2, ls='dashed', color='k')"
   ]
  },
  {
   "cell_type": "code",
   "execution_count": null,
   "metadata": {
    "collapsed": true
   },
   "outputs": [],
   "source": []
  },
  {
   "cell_type": "code",
   "execution_count": null,
   "metadata": {
    "collapsed": true
   },
   "outputs": [],
   "source": []
  }
 ],
 "metadata": {
  "anaconda-cloud": {},
  "kernelspec": {
   "display_name": "Python [Root]",
   "language": "python",
   "name": "Python [Root]"
  },
  "language_info": {
   "codemirror_mode": {
    "name": "ipython",
    "version": 3
   },
   "file_extension": ".py",
   "mimetype": "text/x-python",
   "name": "python",
   "nbconvert_exporter": "python",
   "pygments_lexer": "ipython3",
   "version": "3.5.1"
  },
  "nav_menu": {},
  "toc": {
   "navigate_menu": true,
   "number_sections": true,
   "sideBar": true,
   "threshold": 6,
   "toc_cell": false,
   "toc_section_display": "block",
   "toc_window_display": false
  }
 },
 "nbformat": 4,
 "nbformat_minor": 0
}
