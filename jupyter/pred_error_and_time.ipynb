{
 "cells": [
  {
   "cell_type": "markdown",
   "metadata": {},
   "source": [
    "# Introduction\n",
    "\n",
    "Using the development version of [scikit-learn](http://scikit-learn.org/dev/documentation.html), we construct a neural network (NN) regression model to map from a quantum mechanical potential to the energy levels (eigenvalues) for the single-particle system. The potential $V(x)$ is defined in the range $x\\in [-1,1]$ and has the boundary conditions $V(\\pm 1) = \\infty$. The primary purpose of this notebook is to determine the optimal parameters of the NN. We do this using $10^4$ training examples. We train using these parameters. \n",
    "\n",
    "The potentials used for training and testing are generated in [potentials.ipynb](potentials.ipynb). The eigenvalues for all potentials are calculated in [eigenvalues.ipynb](eigenvalues.ipynb).\n",
    "\n",
    "Documentation for `sklearn`'s supervised NN tools can be found here: http://scikit-learn.org/dev/modules/neural_networks_supervised.html. While already quite good, this documentation still appears to be \"under construction\"."
   ]
  },
  {
   "cell_type": "markdown",
   "metadata": {},
   "source": [
    "# Preliminaries"
   ]
  },
  {
   "cell_type": "code",
   "execution_count": 1,
   "metadata": {
    "ExecuteTime": {
     "end_time": "2016-07-15T23:24:05.071958",
     "start_time": "2016-07-15T23:24:02.611509"
    },
    "collapsed": false
   },
   "outputs": [],
   "source": [
    "%matplotlib inline\n",
    "import numpy as np\n",
    "from numpy.random import randint\n",
    "import matplotlib.pyplot as plt\n",
    "import pprint\n",
    "from sklearn.model_selection import train_test_split\n",
    "import pandas as pd\n",
    "from sklearn.preprocessing import StandardScaler\n",
    "from sklearn.neural_network import MLPRegressor\n",
    "from sklearn.pipeline import Pipeline\n",
    "from sklearn.externals import joblib\n",
    "from sklearn.metrics import mean_squared_error\n",
    "import time"
   ]
  },
  {
   "cell_type": "code",
   "execution_count": 2,
   "metadata": {
    "ExecuteTime": {
     "end_time": "2016-07-15T23:24:05.184990",
     "start_time": "2016-07-15T23:24:05.074823"
    },
    "collapsed": false
   },
   "outputs": [],
   "source": [
    "# Number of basis states for the wavefunctions\n",
    "NBW = 50\n",
    "nbws = np.arange(1, NBW+1)\n",
    "# Number of potentials:\n",
    "NV = int(1E5)\n",
    "# Number of basis states in the potential:\n",
    "NB = 10\n",
    "ns = np.arange(1, NB+1)\n",
    "# lambda (variance of Legendre coefficients):\n",
    "lam = 0.75\n",
    "# The variance of the n=0 legendre coefficient V_0:\n",
    "V20 = 10\n",
    "\n",
    "# Input file:\n",
    "filepath = \"../Data/eigenvalues_NV\" + str(NV) \\\n",
    "    + \"_NB\" + str(NB) + \"_lam\" \\\n",
    "    + str(lam) + \"_V20\" + str(V20) + \".npy\"\n",
    "filepathSD = \"../Data/eigenvaluesSD_NV\" + str(NV) \\\n",
    "    + \"_NB\" + str(NB) + \"_lam\" \\\n",
    "    + str(lam) + \"_V20\" + str(V20) + \".npy\"\n",
    "data = np.load(filepath)\n",
    "dataSD = np.load(filepathSD)\n",
    "VSns = data[::,0:10]\n",
    "VCns = data[::,10:20]\n",
    "eigs = data[::,20::]\n",
    "\n",
    "# We define functios that help us map the Fourier-space potentials into coordinate space.\n",
    "def VS(ns, xs):\n",
    "    return np.sin(np.pi*np.outer(ns,xs))\n",
    "def VC(ns, xs):\n",
    "    return np.cos(np.pi*np.outer(ns,xs))"
   ]
  },
  {
   "cell_type": "code",
   "execution_count": 3,
   "metadata": {
    "ExecuteTime": {
     "end_time": "2016-07-15T23:24:05.191907",
     "start_time": "2016-07-15T23:24:05.187509"
    },
    "collapsed": false
   },
   "outputs": [
    {
     "name": "stdout",
     "output_type": "stream",
     "text": [
      "Data shape:  (100000, 60) \n",
      "Sine coefficients shape:  (100000, 10) \n",
      "Cosine coefficients shape:  (100000, 10) (100000, 40) \n",
      "Std. dev. shape:  (40,)\n"
     ]
    }
   ],
   "source": [
    "print(\"Data shape: \", data.shape, \n",
    "      \"\\nSine coefficients shape: \", VSns.shape,\n",
    "      \"\\nCosine coefficients shape: \", VCns.shape, eigs.shape,\n",
    "      \"\\nStd. dev. shape: \", dataSD.shape\n",
    "     )"
   ]
  },
  {
   "cell_type": "markdown",
   "metadata": {},
   "source": [
    "# Preprocessing"
   ]
  },
  {
   "cell_type": "code",
   "execution_count": 4,
   "metadata": {
    "ExecuteTime": {
     "end_time": "2016-07-15T23:24:05.629124",
     "start_time": "2016-07-15T23:24:05.193930"
    },
    "collapsed": false
   },
   "outputs": [
    {
     "name": "stdout",
     "output_type": "stream",
     "text": [
      "First 4 values of Vgrid[55210]: [-3.32248103 -3.66582718 -3.99017676 -4.28879556]\n",
      "Last 4 values of VgridFlipped[55210]: [-4.28879556 -3.99017676 -3.66582718 -3.32248103]\n"
     ]
    }
   ],
   "source": [
    "# Number of x coordinates:\n",
    "Nx = 100\n",
    "xs = np.linspace(-1,1,Nx)\n",
    "\n",
    "# The coordinate space potentials:\n",
    "VSs = VS(ns,xs)\n",
    "VCs = VC(ns,xs)\n",
    "Vgrid = np.dot(VSns,VSs) + np.dot(VCns,VCs)\n",
    "VgridFlipped = np.dot(-VSns,VSs) + np.dot(VCns,VCs)\n",
    "\n",
    "# Make sure the flip worked by looking at a random potential:\n",
    "rint = randint(0, NV)\n",
    "print(\"First 4 values of Vgrid[\" +\n",
    "      str(rint) + \n",
    "      \"]:\" , Vgrid[rint][0:4])\n",
    "print(\"Last 4 values of VgridFlipped[\" +\n",
    "      str(rint) + \n",
    "      \"]:\", VgridFlipped[rint][-4::])"
   ]
  },
  {
   "cell_type": "code",
   "execution_count": 5,
   "metadata": {
    "ExecuteTime": {
     "end_time": "2016-07-15T23:24:05.783997",
     "start_time": "2016-07-15T23:24:05.631362"
    },
    "collapsed": false
   },
   "outputs": [],
   "source": [
    "numeigs = 10\n",
    "X = np.concatenate( (Vgrid, VgridFlipped) )\n",
    "y = np.concatenate( (eigs, eigs) )[::,1:numeigs+1]"
   ]
  },
  {
   "cell_type": "code",
   "execution_count": 6,
   "metadata": {
    "ExecuteTime": {
     "end_time": "2016-07-15T23:24:05.958249",
     "start_time": "2016-07-15T23:24:05.787074"
    },
    "collapsed": false
   },
   "outputs": [
    {
     "name": "stdout",
     "output_type": "stream",
     "text": [
      "X shape, y shape:  (200000, 100) (200000, 10)\n",
      "X_train shape, y_train shape:  (120000, 100) (120000, 10)\n",
      "X_test shape, y_test shape:  (80000, 100) (80000, 10)\n"
     ]
    }
   ],
   "source": [
    "# Split test and train\n",
    "test_frac = 0.4\n",
    "random_state = 5\n",
    "X_train, X_test, y_train, y_test = train_test_split(\n",
    "    X, y, test_size=test_frac, random_state=random_state\n",
    ")\n",
    "print(\"X shape, y shape: \", X.shape, y.shape)\n",
    "print(\"X_train shape, y_train shape: \", X_train.shape, y_train.shape)\n",
    "print(\"X_test shape, y_test shape: \", X_test.shape, y_test.shape)"
   ]
  },
  {
   "cell_type": "markdown",
   "metadata": {},
   "source": [
    "# Neural network"
   ]
  },
  {
   "cell_type": "code",
   "execution_count": 7,
   "metadata": {
    "collapsed": false
   },
   "outputs": [],
   "source": [
    "# The Scaler\n",
    "scale = StandardScaler(with_std=False)\n",
    "\n",
    "# The NN regression model\n",
    "from sklearn.neural_network import MLPRegressor\n",
    "from sklearn.preprocessing import StandardScaler\n",
    "hidden_layers = (100,)\n",
    "regr =MLPRegressor(hidden_layer_sizes=hidden_layers,\n",
    "                   activation = 'tanh',\n",
    "                   algorithm = 'adam',\n",
    "                   alpha = 0.0001,\n",
    "#                    beta_1 = 0.85,\n",
    "#                    beta_2 = 0.9,\n",
    "                   batch_size = 'auto',\n",
    "                   max_iter = 500,\n",
    "                   tol = 1e-9,\n",
    "                   learning_rate='constant',\n",
    "                   learning_rate_init = 0.0008,\n",
    "                   verbose = False,\n",
    "                   warm_start =False\n",
    "                 )\n",
    "\n",
    "steps = [('scale', scale), ('regr', regr)]\n",
    "model = Pipeline(steps)"
   ]
  },
  {
   "cell_type": "markdown",
   "metadata": {},
   "source": [
    "## Looping over network architecture"
   ]
  },
  {
   "cell_type": "markdown",
   "metadata": {},
   "source": [
    "### Single hidden layer"
   ]
  },
  {
   "cell_type": "code",
   "execution_count": 8,
   "metadata": {
    "collapsed": false
   },
   "outputs": [
    {
     "name": "stdout",
     "output_type": "stream",
     "text": [
      "[(10,), (13,), (17,), (22,), (28,), (36,), (46,), (60,), (77,), (100,)]\n"
     ]
    }
   ],
   "source": [
    "architecture_1 = [(int(x),) for x in np.round(np.logspace(1,2,10))]\n",
    "print(architecture_1)"
   ]
  },
  {
   "cell_type": "code",
   "execution_count": 9,
   "metadata": {
    "collapsed": false
   },
   "outputs": [
    {
     "name": "stdout",
     "output_type": "stream",
     "text": [
      "Running for architecture:  (10,)\n",
      "  * Average train time per input: 0.0001824447 seconds\n",
      "  * Average pred time per output: 0.0000001168 seconds\n",
      "  * Training RMS error: 0.0600662801\n",
      "  * Running time: 23.873543 seconds\n",
      "Running for architecture:  (13,)\n",
      "  * Average train time per input: 0.0001557257 seconds\n",
      "  * Average pred time per output: 0.0000001195 seconds\n",
      "  * Training RMS error: 0.0517987260\n",
      "  * Running time: 20.702610 seconds\n",
      "Running for architecture:  (17,)\n",
      "  * Average train time per input: 0.0000921335 seconds\n",
      "  * Average pred time per output: 0.0000001311 seconds\n",
      "  * Training RMS error: 0.0471915083\n",
      "  * Running time: 13.264529 seconds\n",
      "Running for architecture:  (22,)\n",
      "  * Average train time per input: 0.0000947142 seconds\n",
      "  * Average pred time per output: 0.0000001394 seconds\n",
      "  * Training RMS error: 0.0385236569\n",
      "  * Running time: 13.714970 seconds\n",
      "Running for architecture:  (28,)\n",
      "  * Average train time per input: 0.0001745256 seconds\n",
      "  * Average pred time per output: 0.0000002218 seconds\n",
      "  * Training RMS error: 0.0362443100\n",
      "  * Running time: 24.652369 seconds\n",
      "Running for architecture:  (36,)\n",
      "  * Average train time per input: 0.0002629041 seconds\n",
      "  * Average pred time per output: 0.0000001872 seconds\n",
      "  * Training RMS error: 0.0349117848\n",
      "  * Running time: 34.699632 seconds\n",
      "Running for architecture:  (46,)\n",
      "  * Average train time per input: 0.0002825426 seconds\n",
      "  * Average pred time per output: 0.0000002788 seconds\n",
      "  * Training RMS error: 0.0289037072\n",
      "  * Running time: 38.539225 seconds\n",
      "Running for architecture:  (60,)\n",
      "  * Average train time per input: 0.0002465932 seconds\n",
      "  * Average pred time per output: 0.0000002439 seconds\n",
      "  * Training RMS error: 0.0304207565\n",
      "  * Running time: 33.696100 seconds\n",
      "Running for architecture:  (77,)\n",
      "  * Average train time per input: 0.0004904980 seconds\n",
      "  * Average pred time per output: 0.0000002942 seconds\n",
      "  * Training RMS error: 0.0276182380\n",
      "  * Running time: 63.805789 seconds\n",
      "Running for architecture:  (100,)\n",
      "  * Average train time per input: 0.0003204787 seconds\n",
      "  * Average pred time per output: 0.0000003944 seconds\n",
      "  * Training RMS error: 0.0242259348\n",
      "  * Running time: 45.100501 seconds\n"
     ]
    }
   ],
   "source": [
    "avg_train_time_1 = []\n",
    "avg_pred_time_1 = []\n",
    "avg_pred_err_1 = []\n",
    "for arch in architecture_1:\n",
    "    print(\"Running for architecture: \", arch)\n",
    "    total_time_start = time.time()\n",
    "    \n",
    "    # Set the model architecture\n",
    "    model.set_params(regr__hidden_layer_sizes = arch)\n",
    "    \n",
    "    # Train the model\n",
    "    train_start_time = time.time()\n",
    "    model.fit(X_train, y_train)\n",
    "    train_stop_time = time.time()\n",
    "    t_train = (train_stop_time-train_start_time)/(X_train.shape[0])\n",
    "    avg_train_time_1.append(t_train)\n",
    "    print(\"  * Average train time per input: %0.10f seconds\" % t_train)\n",
    "    \n",
    "    # Calculate prediction speed\n",
    "    Npred = 20\n",
    "    t_test_avg = 0\n",
    "    for i in range(Npred):\n",
    "        test_start_time = time.time()\n",
    "        model.predict(X_test)      \n",
    "        test_stop_time = time.time()\n",
    "        t_test_avg += (test_stop_time - test_start_time)/(X_test.shape[0]*numeigs) / Npred\n",
    "    avg_pred_time_1.append(t_test_avg)\n",
    "    print(\"  * Average pred time per output: %0.10f seconds\" % t_test_avg)\n",
    "    \n",
    "    # Calculate the RMS prediction error on the test set\n",
    "    y_pred = model.predict(X_test)\n",
    "    err = np.sqrt(mean_squared_error(y_test, y_pred))\n",
    "    avg_pred_err_1.append(err)\n",
    "    print(\"  * Training RMS error: %0.10f\" % err)\n",
    "    \n",
    "    total_time_stop = time.time()\n",
    "    print(\"  * Running time: %f seconds\" % (total_time_stop - total_time_start))\n",
    "    \n",
    "    "
   ]
  },
  {
   "cell_type": "markdown",
   "metadata": {},
   "source": [
    "### Two hidden layers"
   ]
  },
  {
   "cell_type": "code",
   "execution_count": 10,
   "metadata": {
    "collapsed": false
   },
   "outputs": [
    {
     "name": "stdout",
     "output_type": "stream",
     "text": [
      "[(10, 10), (13, 13), (17, 17), (22, 22), (28, 28), (36, 36), (46, 46), (60, 60), (77, 77), (100, 100)]\n"
     ]
    }
   ],
   "source": [
    "architecture = [(int(x),int(x)) for x in np.round(np.logspace(1,2,10))]\n",
    "print(architecture)"
   ]
  },
  {
   "cell_type": "code",
   "execution_count": 11,
   "metadata": {
    "collapsed": false
   },
   "outputs": [
    {
     "name": "stdout",
     "output_type": "stream",
     "text": [
      "Running for architecture:  (10, 10)\n",
      "  * Average train time per input: 0.0001808423 seconds\n",
      "  * Average pred time per output: 0.0000001590 seconds\n",
      "  * Training RMS error: 0.0518342574\n",
      "  * Running time: 24.377329 seconds\n",
      "Running for architecture:  (13, 13)\n",
      "  * Average train time per input: 0.0002003299 seconds\n",
      "  * Average pred time per output: 0.0000001582 seconds\n",
      "  * Training RMS error: 0.0409545642\n",
      "  * Running time: 26.704161 seconds\n",
      "Running for architecture:  (17, 17)\n",
      "  * Average train time per input: 0.0004080713 seconds\n",
      "  * Average pred time per output: 0.0000001751 seconds\n",
      "  * Training RMS error: 0.0312106077\n",
      "  * Running time: 51.926375 seconds\n",
      "Running for architecture:  (22, 22)\n",
      "  * Average train time per input: 0.0002728429 seconds\n",
      "  * Average pred time per output: 0.0000002308 seconds\n",
      "  * Training RMS error: 0.0293930820\n",
      "  * Running time: 36.625074 seconds\n",
      "Running for architecture:  (28, 28)\n",
      "  * Average train time per input: 0.0006284740 seconds\n",
      "  * Average pred time per output: 0.0000002545 seconds\n",
      "  * Training RMS error: 0.0223850708\n",
      "  * Running time: 79.721927 seconds\n",
      "Running for architecture:  (36, 36)\n",
      "  * Average train time per input: 0.0005504427 seconds\n",
      "  * Average pred time per output: 0.0000002715 seconds\n",
      "  * Training RMS error: 0.0200594103\n",
      "  * Running time: 70.626119 seconds\n",
      "Running for architecture:  (46, 46)\n",
      "  * Average train time per input: 0.0005028775 seconds\n",
      "  * Average pred time per output: 0.0000002999 seconds\n",
      "  * Training RMS error: 0.0174063157\n",
      "  * Running time: 65.392750 seconds\n",
      "Running for architecture:  (60, 60)\n",
      "  * Average train time per input: 0.0003728000 seconds\n",
      "  * Average pred time per output: 0.0000003689 seconds\n",
      "  * Training RMS error: 0.0162358780\n",
      "  * Running time: 50.943375 seconds\n",
      "Running for architecture:  (77, 77)\n",
      "  * Average train time per input: 0.0006039976 seconds\n",
      "  * Average pred time per output: 0.0000005258 seconds\n",
      "  * Training RMS error: 0.0142296442\n",
      "  * Running time: 81.362511 seconds\n",
      "Running for architecture:  (100, 100)\n",
      "  * Average train time per input: 0.0006429878 seconds\n",
      "  * Average pred time per output: 0.0000005460 seconds\n",
      "  * Training RMS error: 0.0128984338\n",
      "  * Running time: 86.337177 seconds\n"
     ]
    }
   ],
   "source": [
    "avg_train_time = []\n",
    "avg_pred_time = []\n",
    "avg_pred_err = []\n",
    "for arch in architecture:\n",
    "    print(\"Running for architecture: \", arch)\n",
    "    total_time_start = time.time()\n",
    "    \n",
    "    # Set the model architecture\n",
    "    model.set_params(regr__hidden_layer_sizes = arch)\n",
    "    \n",
    "    # Train the model\n",
    "    train_start_time = time.time()\n",
    "    model.fit(X_train, y_train)\n",
    "    train_stop_time = time.time()\n",
    "    t_train = (train_stop_time-train_start_time)/(X_train.shape[0])\n",
    "    avg_train_time.append(t_train)\n",
    "    print(\"  * Average train time per input: %0.10f seconds\" % t_train)\n",
    "    \n",
    "    # Calculate prediction speed\n",
    "    Npred = 20\n",
    "    t_test_avg = 0\n",
    "    for i in range(Npred):\n",
    "        test_start_time = time.time()\n",
    "        model.predict(X_test)      \n",
    "        test_stop_time = time.time()\n",
    "        t_test_avg += (test_stop_time - test_start_time)/(X_test.shape[0]*numeigs) / Npred\n",
    "    avg_pred_time.append(t_test_avg)\n",
    "    print(\"  * Average pred time per output: %0.10f seconds\" % t_test_avg)\n",
    "    \n",
    "    # Calculate the RMS prediction error on the test set\n",
    "    y_pred = model.predict(X_test)\n",
    "    err = np.sqrt(mean_squared_error(y_test, y_pred))\n",
    "    avg_pred_err.append(err)\n",
    "    print(\"  * Training RMS error: %0.10f\" % err)\n",
    "    \n",
    "    total_time_stop = time.time()\n",
    "    print(\"  * Running time: %f seconds\" % (total_time_stop - total_time_start))"
   ]
  },
  {
   "cell_type": "markdown",
   "metadata": {},
   "source": [
    "### Plots of architecture dependence"
   ]
  },
  {
   "cell_type": "code",
   "execution_count": 15,
   "metadata": {
    "collapsed": false
   },
   "outputs": [
    {
     "name": "stdout",
     "output_type": "stream",
     "text": [
      "[10, 13, 17, 22, 28, 36, 46, 60, 77, 100]\n"
     ]
    }
   ],
   "source": [
    "numNodes = [int(x) for x in np.round(np.logspace(1,2,10))]\n",
    "print(numNodes)"
   ]
  },
  {
   "cell_type": "code",
   "execution_count": 58,
   "metadata": {
    "collapsed": false
   },
   "outputs": [
    {
     "data": {
      "text/plain": [
       "<matplotlib.figure.Figure at 0x10591e780>"
      ]
     },
     "metadata": {},
     "output_type": "display_data"
    },
    {
     "data": {
      "image/png": "[encoded data removed]",
      "text/plain": [
       "<matplotlib.figure.Figure at 0x11e270550>"
      ]
     },
     "metadata": {},
     "output_type": "display_data"
    },
    {
     "data": {
      "text/plain": [
       "<matplotlib.figure.Figure at 0x11d9e9da0>"
      ]
     },
     "metadata": {},
     "output_type": "display_data"
    }
   ],
   "source": [
    "font = {'family': 'normal',\n",
    "        'weight': 'normal',\n",
    "        'size': 22}\n",
    "\n",
    "plt.rc('font', **font)\n",
    "\n",
    "\n",
    "nrows = 2\n",
    "ncols = 1\n",
    "nplot = nrows * ncols\n",
    "\n",
    "plt.clf()\n",
    "fig, axes = plt.subplots(nrows = nrows, ncols = ncols)\n",
    "fig.set_size_inches(8,10)\n",
    "# ax_time_train, ax_time_pred, ax_pred_err = axes.flat\n",
    "ax_pred_err,ax_time_pred = axes.flat\n",
    "\n",
    "# # Training time\n",
    "# ax_time_train.set_ylabel(\"Mean training time (s)\")\n",
    "# ax_time_train.set_yscale('log')\n",
    "# ax_time_train.set_xscale(\"log\")\n",
    "# ax_time_train.plot(numNodes, avg_train_time_1, 'bo-', lw=2, label = \"Single hidden layer\")\n",
    "# ax_time_train.plot(numNodes, avg_train_time, 'ro-', lw=2, label = \"Two hidden layers\")\n",
    "# ax_time_train.legend(loc=2, fontsize=16)\n",
    "# ax_time_train.set_xticks(numNodes)\n",
    "# ax_time_train.set_xticklabels(numNodes)\n",
    "# ax_time_train.set_xlim((numNodes[0]*(1-0.1),numNodes[-1]*(1+0.1)))\n",
    "# ax_time_train.set_ylim((8e-5,2e-3))\n",
    "\n",
    "# Prediction error\n",
    "# ax_pred_err.set_yscale(\"log\")\n",
    "ax_pred_err.set_xscale(\"log\")\n",
    "ax_pred_err.set_ylabel(\"RMS error (% of std. dev.)\")\n",
    "ax_pred_err.set_xlabel(\"Nodes per layer\")\n",
    "ax_pred_err.plot(numNodes, np.asarray(avg_pred_err_1)*100, 'bo-', lw=2, label = \"Single hidden layer\")\n",
    "ax_pred_err.plot(numNodes, np.asarray(avg_pred_err)*100, 'ro-', lw=2, label = \"Two hidden layers\")\n",
    "ax_pred_err.legend(loc=1, fontsize=16)\n",
    "ax_pred_err.set_xticks(numNodes)\n",
    "ax_pred_err.set_xticklabels(numNodes)\n",
    "ax_pred_err.set_xlim((numNodes[0]*(1-0.1),numNodes[-1]*(1+0.1)))\n",
    "ax_pred_err.set_ylim(1,7)\n",
    "\n",
    "\n",
    "# Prediction time\n",
    "# ax_time_pred.set_yscale(\"log\")\n",
    "ax_time_pred.set_xscale(\"log\")\n",
    "ax_time_pred.set_xlabel(\"Nodes per layer\")\n",
    "ax_time_pred.set_ylabel(\"Mean prediction time (s)\")\n",
    "ax_time_pred.plot(numNodes, avg_pred_time_1, 'bo-', lw=2, label = \"Single hidden layer\")\n",
    "ax_time_pred.plot(numNodes, avg_pred_time, 'ro-', lw=2, label = \"Two hidden layers\")\n",
    "# ax_time_pred.axhline(y=1.6e-5, lw=2, ls='dashed', color='k', label= \"Schr. Eqn.\")\n",
    "ax_time_pred.set_ylim((1e-7,3e-5))\n",
    "ax_time_pred.legend(loc=2, fontsize=16)\n",
    "ax_time_pred.set_xticks(numNodes)\n",
    "ax_time_pred.set_xticklabels(numNodes)\n",
    "ax_time_pred.set_xlim((numNodes[0]*(1-0.1),numNodes[-1]*(1+0.1)))\n",
    "ax_time_pred.set_ylim((5e-8,6e-7))\n",
    "\n",
    "\n",
    "\n",
    "plt.tight_layout();\n",
    "plt.show();\n",
    "plt.draw()\n",
    "fig.savefig(\"../Presentation/Plots/archDep.png\")"
   ]
  },
  {
   "cell_type": "code",
   "execution_count": 26,
   "metadata": {
    "collapsed": false
   },
   "outputs": [
    {
     "data": {
      "text/plain": [
       "<matplotlib.figure.Figure at 0x1267a07b8>"
      ]
     },
     "metadata": {},
     "output_type": "display_data"
    },
    {
     "data": {
      "image/png": "[encoded data removed]",
      "text/plain": [
       "<matplotlib.figure.Figure at 0x104ae75f8>"
      ]
     },
     "metadata": {},
     "output_type": "display_data"
    },
    {
     "data": {
      "text/plain": [
       "<matplotlib.figure.Figure at 0x104aad390>"
      ]
     },
     "metadata": {},
     "output_type": "display_data"
    }
   ],
   "source": [
    "plt.clf()\n",
    "plt.figure(figsize=(10,5))\n",
    "\n",
    "# Set up the axes\n",
    "ax = plt.axes()\n",
    "ax.set_xscale('log')\n",
    "ax.set_xlabel('Mean prediction time (s)')\n",
    "ax.set_ylabel('RMS error (% of std. dev.)')\n",
    "ax.set_xlim((1e-7,8e-7))\n",
    "ax.set_xticks([1e-7,2e-7,4e-7,8e-7])\n",
    "ax.set_xticklabels([1e-7,2e-7,4e-7,8e-7])\n",
    "\n",
    "# Draw the points\n",
    "plt.plot(avg_pred_time_1, np.asarray(avg_pred_err_1)*100, 'bo-',lw=2, label='Single hidden layer')\n",
    "plt.plot(avg_pred_time, np.asarray(avg_pred_err)*100, 'ro-', lw=2, label='Two hidden layer')\n",
    "\n",
    "# plt.tight_layout();\n",
    "plt.show();\n",
    "plt.draw()\n",
    "#fig.savefig(\"../Plots/NNPred.png\")"
   ]
  },
  {
   "cell_type": "code",
   "execution_count": null,
   "metadata": {
    "collapsed": true
   },
   "outputs": [],
   "source": []
  }
 ],
 "metadata": {
  "anaconda-cloud": {},
  "kernelspec": {
   "display_name": "Python [Root]",
   "language": "python",
   "name": "Python [Root]"
  },
  "language_info": {
   "codemirror_mode": {
    "name": "ipython",
    "version": 3
   },
   "file_extension": ".py",
   "mimetype": "text/x-python",
   "name": "python",
   "nbconvert_exporter": "python",
   "pygments_lexer": "ipython3",
   "version": "3.5.1"
  },
  "toc": {
   "toc_cell": false,
   "toc_number_sections": true,
   "toc_threshold": 6,
   "toc_window_display": false
  }
 },
 "nbformat": 4,
 "nbformat_minor": 0
}
