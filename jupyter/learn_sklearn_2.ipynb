{
 "cells": [
  {
   "cell_type": "markdown",
   "metadata": {},
   "source": [
    "# Introduction\n",
    "\n",
    "Using the development version of [scikit-learn](http://scikit-learn.org/dev/documentation.html), we construct a neural network (NN) regression model to map from a quantum mechanical potential to the energy levels (eigenvalues) for the single-particle system. The potential $V(x)$ is defined in the range $x\\in [-1,1]$ and has the boundary conditions $V(\\pm 1) = \\infty$. The primary purpose of this notebook is to determine the optimal parameters of the NN. We do this using $10^4$ training examples. We train using these parameters. \n",
    "\n",
    "The potentials used for training and testing are generated in [potentials.ipynb](potentials.ipynb). The eigenvalues for all potentials are calculated in [eigenvalues.ipynb](eigenvalues.ipynb).\n",
    "\n",
    "Documentation for `sklearn`'s supervised NN tools can be found here: http://scikit-learn.org/dev/modules/neural_networks_supervised.html. While already quite good, this documentation still appears to be \"under construction\"."
   ]
  },
  {
   "cell_type": "markdown",
   "metadata": {},
   "source": [
    "# Preliminaries"
   ]
  },
  {
   "cell_type": "code",
   "execution_count": 1,
   "metadata": {
    "ExecuteTime": {
     "end_time": "2016-07-12T16:48:49.974926",
     "start_time": "2016-07-12T16:48:48.618380"
    },
    "collapsed": false
   },
   "outputs": [],
   "source": [
    "%matplotlib inline\n",
    "import numpy as np\n",
    "from numpy.random import randint\n",
    "import matplotlib.pyplot as plt\n",
    "import pprint\n",
    "from sklearn.model_selection import train_test_split\n",
    "import pandas as pd\n",
    "from sklearn.preprocessing import StandardScaler\n",
    "from sklearn.neural_network import MLPRegressor\n",
    "from sklearn.pipeline import Pipeline\n",
    "from sklearn.externals import joblib"
   ]
  },
  {
   "cell_type": "code",
   "execution_count": 10,
   "metadata": {
    "ExecuteTime": {
     "end_time": "2016-07-12T16:50:44.544720",
     "start_time": "2016-07-12T16:50:44.470943"
    },
    "collapsed": false
   },
   "outputs": [],
   "source": [
    "# Number of basis states for the wavefunctions\n",
    "NBW = 50\n",
    "nbws = np.arange(1, NBW+1)\n",
    "# Number of potentials:\n",
    "NV = int(1E5)\n",
    "# Number of basis states in the potential:\n",
    "NB = 10\n",
    "ns = np.arange(1, NB+1)\n",
    "# lambda (variance of Legendre coefficients):\n",
    "lam = 0.75\n",
    "# The variance of the n=0 legendre coefficient V_0:\n",
    "V20 = 10\n",
    "\n",
    "# Input file:\n",
    "filepath = \"../Data/eigenvalues_NV\" + str(NV) \\\n",
    "    + \"_NB\" + str(NB) + \"_lam\" \\\n",
    "    + str(lam) + \"_V20\" + str(V20) + \".npy\"\n",
    "filepathSD = \"../Data/eigenvaluesSD_NV\" + str(NV) \\\n",
    "    + \"_NB\" + str(NB) + \"_lam\" \\\n",
    "    + str(lam) + \"_V20\" + str(V20) + \".npy\"\n",
    "data = np.load(filepath)\n",
    "dataSD = np.load(filepathSD)\n",
    "VSns = data[::,0:10]\n",
    "VCns = data[::,10:20]\n",
    "eigs = data[::,20::]\n",
    "\n",
    "# Load the pretrained net:\n",
    "filepathNN = \"../Data/NN/NN\" + str(int(1E4)) \\\n",
    "    + \"_NB\" + str(NB) + \"_lam\" \\\n",
    "    + str(lam) + \"_V20\" + str(V20) + \".pkl\"\n",
    "model = joblib.load(filepathNN);\n",
    "\n",
    "# We define functios that help us map the Fourier-space potentials into coordinate space.\n",
    "def VS(ns, xs):\n",
    "    return np.sin(np.pi*np.outer(ns,xs))\n",
    "def VC(ns, xs):\n",
    "    return np.cos(np.pi*np.outer(ns,xs))"
   ]
  },
  {
   "cell_type": "code",
   "execution_count": 11,
   "metadata": {
    "ExecuteTime": {
     "end_time": "2016-07-12T16:50:46.998227",
     "start_time": "2016-07-12T16:50:46.994642"
    },
    "collapsed": false
   },
   "outputs": [
    {
     "name": "stdout",
     "output_type": "stream",
     "text": [
      "Data shape:  (100000, 60) \n",
      "Sine coefficients shape:  (100000, 10) \n",
      "Cosine coefficients shape:  (100000, 10) (100000, 40) \n",
      "Std. dev. sh`ape:  (40,)\n"
     ]
    }
   ],
   "source": [
    "print(\"Data shape: \", data.shape, \n",
    "      \"\\nSine coefficients shape: \", VSns.shape,\n",
    "      \"\\nCosine coefficients shape: \", VCns.shape, eigs.shape,\n",
    "      \"\\nStd. dev. sh`ape: \", dataSD.shape\n",
    "     )"
   ]
  },
  {
   "cell_type": "markdown",
   "metadata": {},
   "source": [
    "# Preprocessing"
   ]
  },
  {
   "cell_type": "code",
   "execution_count": 12,
   "metadata": {
    "ExecuteTime": {
     "end_time": "2016-07-12T16:50:48.387453",
     "start_time": "2016-07-12T16:50:47.990541"
    },
    "collapsed": false
   },
   "outputs": [
    {
     "name": "stdout",
     "output_type": "stream",
     "text": [
      "First 4 values of Vgrid[85491]: [ 1.57538182  1.46923037  1.05629623  0.36207931]\n",
      "Last 4 values of VgridFlipped[85491]: [ 0.36207931  1.05629623  1.46923037  1.57538182]\n"
     ]
    }
   ],
   "source": [
    "# Number of x coordinates:\n",
    "Nx = 100\n",
    "xs = np.linspace(-1,1,Nx)\n",
    "\n",
    "# The coordinate space potentials:\n",
    "VSs = VS(ns,xs)\n",
    "VCs = VC(ns,xs)\n",
    "Vgrid = np.dot(VSns,VSs) + np.dot(VCns,VCs)\n",
    "VgridFlipped = np.dot(-VSns,VSs) + np.dot(VCns,VCs)\n",
    "\n",
    "# Make sure the flip worked by looking at a random potential:\n",
    "rint = randint(0, NV)\n",
    "print(\"First 4 values of Vgrid[\" +\n",
    "      str(rint) + \n",
    "      \"]:\" , Vgrid[rint][0:4])\n",
    "print(\"Last 4 values of VgridFlipped[\" +\n",
    "      str(rint) + \n",
    "      \"]:\", VgridFlipped[rint][-4::])"
   ]
  },
  {
   "cell_type": "code",
   "execution_count": 13,
   "metadata": {
    "ExecuteTime": {
     "end_time": "2016-07-12T16:50:48.761606",
     "start_time": "2016-07-12T16:50:48.424189"
    },
    "collapsed": false
   },
   "outputs": [],
   "source": [
    "numeigs = 10\n",
    "X = np.concatenate( (Vgrid, VgridFlipped) )\n",
    "y = np.concatenate( (eigs, eigs) )[::,1:numeigs+1]"
   ]
  },
  {
   "cell_type": "code",
   "execution_count": 14,
   "metadata": {
    "ExecuteTime": {
     "end_time": "2016-07-12T16:50:49.421413",
     "start_time": "2016-07-12T16:50:49.223213"
    },
    "collapsed": false
   },
   "outputs": [
    {
     "name": "stdout",
     "output_type": "stream",
     "text": [
      "X shape, y shape:  (200000, 100) (200000, 10)\n",
      "X_train shape, y_train shape:  (120000, 100) (120000, 10)\n",
      "X_test shape, y_test shape:  (80000, 100) (80000, 10)\n"
     ]
    }
   ],
   "source": [
    "# Split test and train\n",
    "test_frac = 0.4\n",
    "random_state = 5\n",
    "X_train, X_test, y_train, y_test = train_test_split(\n",
    "    X, y, test_size=test_frac, random_state=random_state\n",
    ")\n",
    "print(\"X shape, y shape: \", X.shape, y.shape)\n",
    "print(\"X_train shape, y_train shape: \", X_train.shape, y_train.shape)\n",
    "print(\"X_test shape, y_test shape: \", X_test.shape, y_test.shape)"
   ]
  },
  {
   "cell_type": "markdown",
   "metadata": {},
   "source": [
    "# Neural network"
   ]
  },
  {
   "cell_type": "markdown",
   "metadata": {},
   "source": [
    "## Training"
   ]
  },
  {
   "cell_type": "code",
   "execution_count": 21,
   "metadata": {
    "ExecuteTime": {
     "end_time": "2016-07-12T16:53:48.215502",
     "start_time": "2016-07-12T16:53:07.135834"
    },
    "collapsed": false
   },
   "outputs": [
    {
     "name": "stdout",
     "output_type": "stream",
     "text": [
      "Iteration 1, loss = 0.07152610\n",
      "Iteration 2, loss = 0.02527513\n",
      "Iteration 3, loss = 0.02080435\n",
      "Iteration 4, loss = 0.01783359\n",
      "Iteration 5, loss = 0.01564004\n",
      "Iteration 6, loss = 0.01386662\n",
      "Iteration 7, loss = 0.01234290\n",
      "Iteration 8, loss = 0.01102033\n",
      "Iteration 9, loss = 0.00989461\n",
      "Iteration 10, loss = 0.00893498\n",
      "Iteration 11, loss = 0.00809139\n",
      "Iteration 12, loss = 0.00734271\n",
      "Iteration 13, loss = 0.00670713\n",
      "Iteration 14, loss = 0.00613876\n",
      "Iteration 15, loss = 0.00565168\n",
      "Iteration 16, loss = 0.00521775\n",
      "Iteration 17, loss = 0.00483988\n",
      "Iteration 18, loss = 0.00449717\n",
      "Iteration 19, loss = 0.00418296\n",
      "Iteration 20, loss = 0.00390585\n",
      "Iteration 21, loss = 0.00364653\n",
      "Iteration 22, loss = 0.00341457\n",
      "Iteration 23, loss = 0.00319597\n",
      "Iteration 24, loss = 0.00300566\n",
      "Iteration 25, loss = 0.00282662\n",
      "Iteration 26, loss = 0.00266167\n",
      "Iteration 27, loss = 0.00251302\n",
      "Iteration 28, loss = 0.00236938\n",
      "Iteration 29, loss = 0.00224545\n",
      "Iteration 30, loss = 0.00212254\n",
      "Iteration 31, loss = 0.00201752\n",
      "Iteration 32, loss = 0.00191739\n",
      "Iteration 33, loss = 0.00182187\n",
      "Iteration 34, loss = 0.00173960\n",
      "Iteration 35, loss = 0.00166092\n",
      "Iteration 36, loss = 0.00158584\n",
      "Iteration 37, loss = 0.00152875\n",
      "Iteration 38, loss = 0.00146931\n",
      "Iteration 39, loss = 0.00141026\n",
      "Iteration 40, loss = 0.00136190\n",
      "Iteration 41, loss = 0.00131743\n",
      "Iteration 42, loss = 0.00127449\n",
      "Iteration 43, loss = 0.00123853\n",
      "Iteration 44, loss = 0.00120120\n",
      "Iteration 45, loss = 0.00117144\n",
      "Iteration 46, loss = 0.00114570\n",
      "Iteration 47, loss = 0.00111952\n",
      "Iteration 48, loss = 0.00110110\n",
      "Iteration 49, loss = 0.00107183\n",
      "Iteration 50, loss = 0.00105466\n",
      "Iteration 51, loss = 0.00103803\n",
      "Iteration 52, loss = 0.00102341\n",
      "Iteration 53, loss = 0.00101472\n",
      "Iteration 54, loss = 0.00099772\n",
      "Iteration 55, loss = 0.00098641\n",
      "Iteration 56, loss = 0.00097796\n",
      "Iteration 57, loss = 0.00096565\n",
      "Iteration 58, loss = 0.00095998\n",
      "Iteration 59, loss = 0.00095543\n",
      "Iteration 60, loss = 0.00094678\n",
      "Iteration 61, loss = 0.00093685\n",
      "Iteration 62, loss = 0.00093434\n",
      "Iteration 63, loss = 0.00092890\n",
      "Iteration 64, loss = 0.00092191\n",
      "Iteration 65, loss = 0.00092497\n",
      "Iteration 66, loss = 0.00092238\n",
      "Iteration 67, loss = 0.00091630\n",
      "Iteration 68, loss = 0.00091394\n",
      "Iteration 69, loss = 0.00091577\n",
      "Iteration 70, loss = 0.00091177\n",
      "Iteration 71, loss = 0.00090913\n",
      "Iteration 72, loss = 0.00091104\n",
      "Iteration 73, loss = 0.00090389\n",
      "Iteration 74, loss = 0.00090204\n",
      "Iteration 75, loss = 0.00090463\n",
      "Iteration 76, loss = 0.00090275\n",
      "Iteration 77, loss = 0.00090206\n",
      "Training loss did not improve more than tol=0.000000 for two consecutive epochs. Stopping.\n"
     ]
    }
   ],
   "source": [
    "model.set_params(regr__hidden_layerregr__tol = 0, regr__warm_start = False)\n",
    "model.fit(X_test, y_test);"
   ]
  },
  {
   "cell_type": "markdown",
   "metadata": {},
   "source": [
    "## Testing"
   ]
  },
  {
   "cell_type": "markdown",
   "metadata": {},
   "source": [
    "We now test the NN on the test set. We measure the error for each eigenvalue relative to the width of the distribution of that eigenvalue over all of the generated potentials. Alternatively (and similarly) one could measure the error relative to the error incurred by simply guessing that the correct value equaled the uniform square-well value."
   ]
  },
  {
   "cell_type": "code",
   "execution_count": 22,
   "metadata": {
    "ExecuteTime": {
     "end_time": "2016-07-12T16:54:04.613894",
     "start_time": "2016-07-12T16:54:04.379010"
    },
    "collapsed": false
   },
   "outputs": [
    {
     "name": "stdout",
     "output_type": "stream",
     "text": [
      "Scaled RMS error by eigenvalue:\n",
      " [ 0.07447183  0.10996657  0.10168047  0.11666781  0.12931188  0.15653012\n",
      "  0.22512875  0.23665072  0.18052929  0.15873454]\n",
      "Average of scaled RMS errors:\n",
      "  0.148967197643\n"
     ]
    }
   ],
   "source": [
    "y_pred = model.predict(X_test)\n",
    "y_scaled_err = np.sqrt(np.mean((y_pred - y_test)**2/dataSD[0:numeigs]**2, axis = 0))\n",
    "print(\"Scaled RMS error by eigenvalue:\\n\", y_scaled_err)\n",
    "print(\"Average of scaled RMS errors:\\n \", np.mean(np.abs(y_scaled_err)))"
   ]
  },
  {
   "cell_type": "markdown",
   "metadata": {},
   "source": [
    "# Visualizing the results"
   ]
  },
  {
   "cell_type": "code",
   "execution_count": null,
   "metadata": {
    "ExecuteTime": {
     "start_time": "2016-07-12T20:47:12.499Z"
    },
    "collapsed": false
   },
   "outputs": [],
   "source": [
    "nrows = 1\n",
    "ncols = 4\n",
    "nplot = nrows * ncols\n",
    "indplt = randint(0,X_test.shape[0], nplot)\n",
    "numeigsplt = 4\n",
    "\n",
    "def E0(n):\n",
    "    return n**2 * np.pi**2 / 8.\n",
    "\n",
    "plt.clf()\n",
    "fig, axes = plt.subplots(nrows = nrows, ncols = ncols)\n",
    "fig.set_size_inches(3*ncols,10*nrows)\n",
    "subax = axes.flat\n",
    "\n",
    "for i in range(0, len(indplt)):\n",
    "        subax[i].plot(xs, X_test[indplt[i]], linewidth = 2, label='$V(x)$')\n",
    "        subax[i].axhline(y=0,xmin=-1,xmax=1, linestyle='solid' ,color = 'k', lw=0.5)\n",
    "        for j in range(0, numeigsplt):\n",
    "            lastaxNN = subax[i].axhline(y=E0(j+1)+y_pred[indplt[i],j], xmin = -1, xmax = 1, \n",
    "                             ls = 'solid', color = 'r', lw = 3, label = 'Neural Network')\n",
    "            lastaxSE = subax[i].axhline(y=E0(j+1)+y_test[indplt[i],j], xmin = -1, xmax = 1, \n",
    "                             ls = 'dashed', color = 'k', lw =3, label = 'Schr. Eqn.')\n",
    "\n",
    "        subax[i].set_xlabel(\"x\")\n",
    "        subax[i].set_ylabel(\"V(x)\")\n",
    "        subax[i].set_ylim((-V20, 1.2*E0(numeigsplt)))\n",
    "        subax[i].legend([lastaxNN, lastaxSE], [\"Neural Network\", \"Schr. Eqn.\"])\n",
    "\n",
    "plt.tight_layout();\n",
    "plt.show();\n",
    "plt.draw()\n",
    "fig.savefig(\"../Plots/NNPred.png\")"
   ]
  }
 ],
 "metadata": {
  "anaconda-cloud": {},
  "kernelspec": {
   "display_name": "Python [Root]",
   "language": "python",
   "name": "Python [Root]"
  },
  "language_info": {
   "codemirror_mode": {
    "name": "ipython",
    "version": 3
   },
   "file_extension": ".py",
   "mimetype": "text/x-python",
   "name": "python",
   "nbconvert_exporter": "python",
   "pygments_lexer": "ipython3",
   "version": "3.5.1"
  },
  "toc": {
   "toc_cell": false,
   "toc_number_sections": true,
   "toc_threshold": 6,
   "toc_window_display": false
  }
 },
 "nbformat": 4,
 "nbformat_minor": 0
}
