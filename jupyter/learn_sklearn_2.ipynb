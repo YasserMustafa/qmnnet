{
 "cells": [
  {
   "cell_type": "markdown",
   "metadata": {},
   "source": [
    "# Introduction\n",
    "\n",
    "Using the development version of [scikit-learn](http://scikit-learn.org/dev/documentation.html), we construct a neural network (NN) regression model to map from a quantum mechanical potential to the energy levels (eigenvalues) for the single-particle system. The potential $V(x)$ is defined in the range $x\\in [-1,1]$ and has the boundary conditions $V(\\pm 1) = \\infty$. The primary purpose of this notebook is to determine the optimal parameters of the NN. We do this using $10^4$ training examples. We train using these parameters. \n",
    "\n",
    "The potentials used for training and testing are generated in [potentials.ipynb](potentials.ipynb). The eigenvalues for all potentials are calculated in [eigenvalues.ipynb](eigenvalues.ipynb).\n",
    "\n",
    "Documentation for `sklearn`'s supervised NN tools can be found here: http://scikit-learn.org/dev/modules/neural_networks_supervised.html. While already quite good, this documentation still appears to be \"under construction\"."
   ]
  },
  {
   "cell_type": "markdown",
   "metadata": {},
   "source": [
    "# Preliminaries"
   ]
  },
  {
   "cell_type": "code",
   "execution_count": 1,
   "metadata": {
    "ExecuteTime": {
     "end_time": "2016-07-15T23:24:05.071958",
     "start_time": "2016-07-15T23:24:02.611509"
    },
    "collapsed": false
   },
   "outputs": [],
   "source": [
    "%matplotlib inline\n",
    "import numpy as np\n",
    "from numpy.random import randint\n",
    "import matplotlib.pyplot as plt\n",
    "import pprint\n",
    "from sklearn.model_selection import train_test_split\n",
    "import pandas as pd\n",
    "from sklearn.preprocessing import StandardScaler\n",
    "from sklearn.neural_network import MLPRegressor\n",
    "from sklearn.pipeline import Pipeline\n",
    "from sklearn.externals import joblib"
   ]
  },
  {
   "cell_type": "code",
   "execution_count": 2,
   "metadata": {
    "ExecuteTime": {
     "end_time": "2016-07-15T23:24:05.184990",
     "start_time": "2016-07-15T23:24:05.074823"
    },
    "collapsed": false
   },
   "outputs": [],
   "source": [
    "# Number of basis states for the wavefunctions\n",
    "NBW = 50\n",
    "nbws = np.arange(1, NBW+1)\n",
    "# Number of potentials:\n",
    "NV = int(1E5)\n",
    "# Number of basis states in the potential:\n",
    "NB = 10\n",
    "ns = np.arange(1, NB+1)\n",
    "# lambda (variance of Legendre coefficients):\n",
    "lam = 0.75\n",
    "# The variance of the n=0 legendre coefficient V_0:\n",
    "V20 = 10\n",
    "\n",
    "# Input file:\n",
    "filepath = \"../Data/eigenvalues_NV\" + str(NV) \\\n",
    "    + \"_NB\" + str(NB) + \"_lam\" \\\n",
    "    + str(lam) + \"_V20\" + str(V20) + \".npy\"\n",
    "filepathSD = \"../Data/eigenvaluesSD_NV\" + str(NV) \\\n",
    "    + \"_NB\" + str(NB) + \"_lam\" \\\n",
    "    + str(lam) + \"_V20\" + str(V20) + \".npy\"\n",
    "data = np.load(filepath)\n",
    "dataSD = np.load(filepathSD)\n",
    "VSns = data[::,0:10]\n",
    "VCns = data[::,10:20]\n",
    "eigs = data[::,20::]\n",
    "\n",
    "# Load the pretrained net:\n",
    "filepathNN = \"../Data/NN/NN\" + str(int(1E4)) \\\n",
    "    + \"_NB\" + str(NB) + \"_lam\" \\\n",
    "    + str(lam) + \"_V20\" + str(V20) + \".pkl\"\n",
    "model = joblib.load(filepathNN);\n",
    "\n",
    "# We define functios that help us map the Fourier-space potentials into coordinate space.\n",
    "def VS(ns, xs):\n",
    "    return np.sin(np.pi*np.outer(ns,xs))\n",
    "def VC(ns, xs):\n",
    "    return np.cos(np.pi*np.outer(ns,xs))"
   ]
  },
  {
   "cell_type": "code",
   "execution_count": 3,
   "metadata": {
    "ExecuteTime": {
     "end_time": "2016-07-15T23:24:05.191907",
     "start_time": "2016-07-15T23:24:05.187509"
    },
    "collapsed": false
   },
   "outputs": [
    {
     "name": "stdout",
     "output_type": "stream",
     "text": [
      "Data shape:  (100000, 60) \n",
      "Sine coefficients shape:  (100000, 10) \n",
      "Cosine coefficients shape:  (100000, 10) (100000, 40) \n",
      "Std. dev. sh`ape:  (40,)\n"
     ]
    }
   ],
   "source": [
    "print(\"Data shape: \", data.shape, \n",
    "      \"\\nSine coefficients shape: \", VSns.shape,\n",
    "      \"\\nCosine coefficients shape: \", VCns.shape, eigs.shape,\n",
    "      \"\\nStd. dev. sh`ape: \", dataSD.shape\n",
    "     )"
   ]
  },
  {
   "cell_type": "markdown",
   "metadata": {},
   "source": [
    "# Preprocessing"
   ]
  },
  {
   "cell_type": "code",
   "execution_count": 4,
   "metadata": {
    "ExecuteTime": {
     "end_time": "2016-07-15T23:24:05.629124",
     "start_time": "2016-07-15T23:24:05.193930"
    },
    "collapsed": false
   },
   "outputs": [
    {
     "name": "stdout",
     "output_type": "stream",
     "text": [
      "First 4 values of Vgrid[66659]: [-2.48042081 -2.9374298  -3.32585269 -3.59082927]\n",
      "Last 4 values of VgridFlipped[66659]: [-3.59082927 -3.32585269 -2.9374298  -2.48042081]\n"
     ]
    }
   ],
   "source": [
    "# Number of x coordinates:\n",
    "Nx = 100\n",
    "xs = np.linspace(-1,1,Nx)\n",
    "\n",
    "# The coordinate space potentials:\n",
    "VSs = VS(ns,xs)\n",
    "VCs = VC(ns,xs)\n",
    "Vgrid = np.dot(VSns,VSs) + np.dot(VCns,VCs)\n",
    "VgridFlipped = np.dot(-VSns,VSs) + np.dot(VCns,VCs)\n",
    "\n",
    "# Make sure the flip worked by looking at a random potential:\n",
    "rint = randint(0, NV)\n",
    "print(\"First 4 values of Vgrid[\" +\n",
    "      str(rint) + \n",
    "      \"]:\" , Vgrid[rint][0:4])\n",
    "print(\"Last 4 values of VgridFlipped[\" +\n",
    "      str(rint) + \n",
    "      \"]:\", VgridFlipped[rint][-4::])"
   ]
  },
  {
   "cell_type": "code",
   "execution_count": 5,
   "metadata": {
    "ExecuteTime": {
     "end_time": "2016-07-15T23:24:05.783997",
     "start_time": "2016-07-15T23:24:05.631362"
    },
    "collapsed": false
   },
   "outputs": [],
   "source": [
    "numeigs = 10\n",
    "X = np.concatenate( (Vgrid, VgridFlipped) )\n",
    "y = np.concatenate( (eigs, eigs) )[::,1:numeigs+1]"
   ]
  },
  {
   "cell_type": "code",
   "execution_count": 6,
   "metadata": {
    "ExecuteTime": {
     "end_time": "2016-07-15T23:24:05.958249",
     "start_time": "2016-07-15T23:24:05.787074"
    },
    "collapsed": false
   },
   "outputs": [
    {
     "name": "stdout",
     "output_type": "stream",
     "text": [
      "X shape, y shape:  (200000, 100) (200000, 10)\n",
      "X_train shape, y_train shape:  (120000, 100) (120000, 10)\n",
      "X_test shape, y_test shape:  (80000, 100) (80000, 10)\n"
     ]
    }
   ],
   "source": [
    "# Split test and train\n",
    "test_frac = 0.4\n",
    "random_state = 5\n",
    "X_train, X_test, y_train, y_test = train_test_split(\n",
    "    X, y, test_size=test_frac, random_state=random_state\n",
    ")\n",
    "print(\"X shape, y shape: \", X.shape, y.shape)\n",
    "print(\"X_train shape, y_train shape: \", X_train.shape, y_train.shape)\n",
    "print(\"X_test shape, y_test shape: \", X_test.shape, y_test.shape)"
   ]
  },
  {
   "cell_type": "markdown",
   "metadata": {},
   "source": [
    "# Neural network"
   ]
  },
  {
   "cell_type": "markdown",
   "metadata": {},
   "source": [
    "## Training"
   ]
  },
  {
   "cell_type": "code",
   "execution_count": 7,
   "metadata": {
    "ExecuteTime": {
     "end_time": "2016-07-15T23:24:58.650125",
     "start_time": "2016-07-15T23:24:05.960654"
    },
    "collapsed": false
   },
   "outputs": [
    {
     "name": "stdout",
     "output_type": "stream",
     "text": [
      "Iteration 1, loss = 0.04722137\n",
      "Iteration 2, loss = 0.01949562\n",
      "Iteration 3, loss = 0.01565071\n",
      "Iteration 4, loss = 0.01356339\n",
      "Iteration 5, loss = 0.01207864\n",
      "Iteration 6, loss = 0.01090287\n",
      "Iteration 7, loss = 0.00989551\n",
      "Iteration 8, loss = 0.00904416\n",
      "Iteration 9, loss = 0.00830559\n",
      "Iteration 10, loss = 0.00765040\n",
      "Iteration 11, loss = 0.00706903\n",
      "Iteration 12, loss = 0.00655598\n",
      "Iteration 13, loss = 0.00610527\n",
      "Iteration 14, loss = 0.00569418\n",
      "Iteration 15, loss = 0.00533895\n",
      "Iteration 16, loss = 0.00501572\n",
      "Iteration 17, loss = 0.00474127\n",
      "Iteration 18, loss = 0.00448928\n",
      "Iteration 19, loss = 0.00427168\n",
      "Iteration 20, loss = 0.00407932\n",
      "Iteration 21, loss = 0.00391016\n",
      "Iteration 22, loss = 0.00375487\n",
      "Iteration 23, loss = 0.00362340\n",
      "Iteration 24, loss = 0.00350967\n",
      "Iteration 25, loss = 0.00339994\n",
      "Iteration 26, loss = 0.00331341\n",
      "Iteration 27, loss = 0.00322969\n",
      "Iteration 28, loss = 0.00315608\n",
      "Iteration 29, loss = 0.00309320\n",
      "Iteration 30, loss = 0.00303729\n",
      "Iteration 31, loss = 0.00298432\n",
      "Iteration 32, loss = 0.00294159\n",
      "Iteration 33, loss = 0.00290338\n",
      "Iteration 34, loss = 0.00286684\n",
      "Iteration 35, loss = 0.00283608\n",
      "Iteration 36, loss = 0.00280852\n",
      "Iteration 37, loss = 0.00278431\n",
      "Iteration 38, loss = 0.00275967\n",
      "Iteration 39, loss = 0.00273663\n",
      "Iteration 40, loss = 0.00271607\n",
      "Iteration 41, loss = 0.00270287\n",
      "Iteration 42, loss = 0.00268480\n",
      "Iteration 43, loss = 0.00267435\n",
      "Iteration 44, loss = 0.00266063\n",
      "Iteration 45, loss = 0.00265011\n",
      "Iteration 46, loss = 0.00264186\n",
      "Iteration 47, loss = 0.00263279\n",
      "Iteration 48, loss = 0.00262245\n",
      "Iteration 49, loss = 0.00261629\n",
      "Iteration 50, loss = 0.00260851\n",
      "Iteration 51, loss = 0.00260206\n",
      "Iteration 52, loss = 0.00259573\n",
      "Iteration 53, loss = 0.00258908\n",
      "Iteration 54, loss = 0.00258532\n",
      "Iteration 55, loss = 0.00258193\n",
      "Iteration 56, loss = 0.00257505\n",
      "Iteration 57, loss = 0.00257304\n",
      "Iteration 58, loss = 0.00257017\n",
      "Iteration 59, loss = 0.00256591\n",
      "Iteration 60, loss = 0.00256133\n",
      "Iteration 61, loss = 0.00255711\n",
      "Iteration 62, loss = 0.00255350\n",
      "Iteration 63, loss = 0.00255088\n",
      "Iteration 64, loss = 0.00254653\n",
      "Iteration 65, loss = 0.00254394\n",
      "Iteration 66, loss = 0.00254378\n",
      "Iteration 67, loss = 0.00253711\n",
      "Iteration 68, loss = 0.00253565\n",
      "Iteration 69, loss = 0.00253099\n",
      "Iteration 70, loss = 0.00253043\n",
      "Iteration 71, loss = 0.00252832\n",
      "Iteration 72, loss = 0.00252935\n",
      "Iteration 73, loss = 0.00252624\n",
      "Iteration 74, loss = 0.00252165\n",
      "Iteration 75, loss = 0.00252218\n",
      "Iteration 76, loss = 0.00251917\n",
      "Iteration 77, loss = 0.00251672\n",
      "Iteration 78, loss = 0.00251263\n",
      "Iteration 79, loss = 0.00251130\n",
      "Iteration 80, loss = 0.00251193\n",
      "Iteration 81, loss = 0.00250790\n",
      "Iteration 82, loss = 0.00250364\n",
      "Iteration 83, loss = 0.00250559\n",
      "Iteration 84, loss = 0.00250429\n",
      "Iteration 85, loss = 0.00250467\n",
      "Training loss did not improve more than tol=0.000001 for two consecutive epochs. Stopping.\n"
     ]
    }
   ],
   "source": [
    "model.set_params(regr__hidden_layer_sizes = (50,30), regr__tol = 0.000001, regr__warm_start = False)\n",
    "model.fit(X_test, y_test);"
   ]
  },
  {
   "cell_type": "markdown",
   "metadata": {},
   "source": [
    "## Testing"
   ]
  },
  {
   "cell_type": "markdown",
   "metadata": {},
   "source": [
    "We now test the NN on the test set. We measure the error for each eigenvalue relative to the width of the distribution of that eigenvalue over all of the generated potentials. Alternatively (and similarly) one could measure the error relative to the error incurred by simply guessing that the correct value equaled the uniform square-well value."
   ]
  },
  {
   "cell_type": "code",
   "execution_count": 8,
   "metadata": {
    "ExecuteTime": {
     "end_time": "2016-07-15T23:24:58.957140",
     "start_time": "2016-07-15T23:24:58.651824"
    },
    "collapsed": false
   },
   "outputs": [
    {
     "name": "stdout",
     "output_type": "stream",
     "text": [
      "Scaled RMS error by eigenvalue:\n",
      " [ 0.0628793   0.0943808   0.10644885  0.11793691  0.15665449  0.19869109\n",
      "  0.21554513  0.22513697  0.22895893  0.15356781]\n",
      "Average of scaled RMS errors:\n",
      "  0.156020028283\n"
     ]
    }
   ],
   "source": [
    "y_pred = model.predict(X_test)\n",
    "y_scaled_err = np.sqrt(np.mean((y_pred - y_test)**2/dataSD[0:numeigs]**2, axis = 0))\n",
    "print(\"Scaled RMS error by eigenvalue:\\n\", y_scaled_err)\n",
    "print(\"Average of scaled RMS errors:\\n \", np.mean(np.abs(y_scaled_err)))"
   ]
  },
  {
   "cell_type": "markdown",
   "metadata": {},
   "source": [
    "# Visualizing the results"
   ]
  },
  {
   "cell_type": "code",
   "execution_count": 9,
   "metadata": {
    "ExecuteTime": {
     "end_time": "2016-07-15T23:24:59.872261",
     "start_time": "2016-07-15T23:24:58.959990"
    },
    "collapsed": false
   },
   "outputs": [
    {
     "data": {
      "text/plain": [
       "<matplotlib.figure.Figure at 0x1143dc5c0>"
      ]
     },
     "metadata": {},
     "output_type": "display_data"
    },
    {
     "data": {
      "image/png": "[encoded data removed]",
      "text/plain": [
       "<matplotlib.figure.Figure at 0x1143dc518>"
      ]
     },
     "metadata": {},
     "output_type": "display_data"
    },
    {
     "data": {
      "text/plain": [
       "<matplotlib.figure.Figure at 0x104940320>"
      ]
     },
     "metadata": {},
     "output_type": "display_data"
    }
   ],
   "source": [
    "nrows = 1\n",
    "ncols = 4\n",
    "nplot = nrows * ncols\n",
    "indplt = randint(0,X_test.shape[0], nplot)\n",
    "numeigsplt = 4\n",
    "\n",
    "def E0(n):\n",
    "    return n**2 * np.pi**2 / 8.\n",
    "\n",
    "plt.clf()\n",
    "fig, axes = plt.subplots(nrows = nrows, ncols = ncols)\n",
    "fig.set_size_inches(3*ncols,10*nrows)\n",
    "subax = axes.flat\n",
    "\n",
    "for i in range(0, len(indplt)):\n",
    "        subax[i].plot(xs, X_test[indplt[i]], linewidth = 2, label='$V(x)$')\n",
    "        subax[i].axhline(y=0,xmin=-1,xmax=1, linestyle='solid' ,color = 'k', lw=0.5)\n",
    "        for j in range(0, numeigsplt):\n",
    "            lastaxNN = subax[i].axhline(y=E0(j+1)+y_pred[indplt[i],j], xmin = -1, xmax = 1, \n",
    "                             ls = 'solid', color = 'r', lw = 3, label = 'Neural Network')\n",
    "            lastaxSE = subax[i].axhline(y=E0(j+1)+y_test[indplt[i],j], xmin = -1, xmax = 1, \n",
    "                             ls = 'dashed', color = 'k', lw =3, label = 'Schr. Eqn.')\n",
    "\n",
    "        subax[i].set_xlabel(\"x\")\n",
    "        subax[i].set_ylabel(\"V(x)\")\n",
    "        subax[i].set_ylim((-V20, 1.2*E0(numeigsplt)))\n",
    "        subax[i].legend([lastaxNN, lastaxSE], [\"Neural Network\", \"Schr. Eqn.\"])\n",
    "\n",
    "plt.tight_layout();\n",
    "plt.show();\n",
    "plt.draw()\n",
    "fig.savefig(\"../Plots/NNPred.png\")"
   ]
  }
 ],
 "metadata": {
  "anaconda-cloud": {},
  "kernelspec": {
   "display_name": "Python [Root]",
   "language": "python",
   "name": "Python [Root]"
  },
  "language_info": {
   "codemirror_mode": {
    "name": "ipython",
    "version": 3
   },
   "file_extension": ".py",
   "mimetype": "text/x-python",
   "name": "python",
   "nbconvert_exporter": "python",
   "pygments_lexer": "ipython3",
   "version": "3.5.1"
  },
  "toc": {
   "toc_cell": false,
   "toc_number_sections": true,
   "toc_threshold": 6,
   "toc_window_display": false
  }
 },
 "nbformat": 4,
 "nbformat_minor": 0
}
