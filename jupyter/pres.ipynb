{
 "cells": [
  {
   "cell_type": "markdown",
   "metadata": {
    "nbpresent": {
     "id": "1f9bd3a8-505d-4c95-9157-f681a6b48bc4"
    }
   },
   "source": [
    "<h1 align=\"center\">Quantum mechanics with neural networks</h1> \n",
    "<h3 align=\"center\"> Dane Hudson Smith </h3>\n",
    "<h4 align=\"center\"> [dhudsmith@gmail.com](dane.hudson.smith@gmail.com) | [linkedin.com/in/dhudsmith](https://www.linkedin.com/in/dhudsmith) | [github.com/dhudsmith](https://github.com/dhudsmith)</h4>"
   ]
  },
  {
   "cell_type": "markdown",
   "metadata": {
    "collapsed": true,
    "nbpresent": {
     "id": "47cbf07e-28e6-47cf-bcec-d45a6371c213"
    }
   },
   "source": [
    "# A crash course in quantum mechanics"
   ]
  },
  {
   "cell_type": "markdown",
   "metadata": {},
   "source": [
    "# Solving Schroedinger's equation"
   ]
  },
  {
   "cell_type": "markdown",
   "metadata": {
    "nbpresent": {
     "id": "e8f19404-3421-4fd2-8019-a10e828245ec"
    }
   },
   "source": [
    "# Training a nueral network"
   ]
  },
  {
   "cell_type": "markdown",
   "metadata": {
    "nbpresent": {
     "id": "9c0ec601-c1a0-49aa-9fa5-e4607c7c5b4b"
    }
   },
   "source": [
    "# Results"
   ]
  },
  {
   "cell_type": "markdown",
   "metadata": {
    "nbpresent": {
     "id": "4b44fca8-44e4-4e22-a63a-488e96dddd85"
    }
   },
   "source": [
    "# Conclusions"
   ]
  },
  {
   "cell_type": "code",
   "execution_count": null,
   "metadata": {
    "collapsed": true
   },
   "outputs": [],
   "source": []
  }
 ],
 "metadata": {
  "anaconda-cloud": {},
  "kernelspec": {
   "display_name": "Python [Root]",
   "language": "python",
   "name": "Python [Root]"
  },
  "language_info": {
   "codemirror_mode": {
    "name": "ipython",
    "version": 3
   },
   "file_extension": ".py",
   "mimetype": "text/x-python",
   "name": "python",
   "nbconvert_exporter": "python",
   "pygments_lexer": "ipython3",
   "version": "3.5.1"
  },
  "nbpresent": {
   "slides": {
    "57e2a807-58f8-4ef3-a883-bd954ed67641": {
     "id": "57e2a807-58f8-4ef3-a883-bd954ed67641",
     "layout": "manual",
     "prev": null,
     "regions": {
      "9ef74b21-52b0-418d-8b2f-db1e660b2db6": {
       "attrs": {
        "height": 0.44999999999999984,
        "width": 0.8,
        "x": 0.09999999999999994,
        "y": 0.2417442207350969
       },
       "content": {
        "cell": "1f9bd3a8-505d-4c95-9157-f681a6b48bc4",
        "part": "source"
       },
       "id": "9ef74b21-52b0-418d-8b2f-db1e660b2db6"
      }
     },
     "theme": "a1a3c1ac-9709-4189-827e-1766ac58f6f6"
    },
    "9ed3e35e-3205-4b43-9b4f-b85f160975cb": {
     "id": "9ed3e35e-3205-4b43-9b4f-b85f160975cb",
     "layout": "manual",
     "prev": "57e2a807-58f8-4ef3-a883-bd954ed67641",
     "regions": {
      "60967ac1-9d93-4b2e-aaad-697343d8de3f": {
       "attrs": {
        "height": 0.16559526473059394,
        "width": 0.9296785593910781,
        "x": 0.03658055854596919,
        "y": 0.056731084996779466
       },
       "content": {
        "cell": "47cbf07e-28e6-47cf-bcec-d45a6371c213",
        "part": "source"
       },
       "id": "60967ac1-9d93-4b2e-aaad-697343d8de3f"
      },
      "7eea0330-3b6d-49b9-9401-43c4ed16a042": {
       "attrs": {
        "height": 0.6718596035985771,
        "width": 0.9301814129909415,
        "x": 0.036915794279211975,
        "y": 0.26587786018121345
       },
       "id": "7eea0330-3b6d-49b9-9401-43c4ed16a042"
      }
     }
    }
   },
   "themes": {
    "default": "24afece2-9a12-4b49-99f3-0c9635d2c147",
    "theme": {
     "24afece2-9a12-4b49-99f3-0c9635d2c147": {
      "backgrounds": {
       "backgroundColor": {
        "background-color": "backgroundColor",
        "id": "backgroundColor"
       }
      },
      "id": "24afece2-9a12-4b49-99f3-0c9635d2c147",
      "palette": {
       "backgroundColor": {
        "id": "backgroundColor",
        "rgb": [
         34,
         34,
         34
        ]
       },
       "headingColor": {
        "id": "headingColor",
        "rgb": [
         238,
         238,
         238
        ]
       },
       "linkColor": {
        "id": "linkColor",
        "rgb": [
         170,
         34,
         51
        ]
       },
       "mainColor": {
        "id": "mainColor",
        "rgb": [
         238,
         238,
         238
        ]
       }
      },
      "rules": {
       "a": {
        "color": "linkColor"
       },
       "h1": {
        "color": "headingColor",
        "font-family": "Ubuntu",
        "font-size": 7
       },
       "h2": {
        "color": "headingColor",
        "font-family": "Ubuntu",
        "font-size": 5
       },
       "h3": {
        "color": "headingColor",
        "font-family": "Ubuntu",
        "font-size": 3.75
       },
       "h4": {
        "color": "headingColor",
        "font-family": "Ubuntu",
        "font-size": 3
       },
       "h5": {
        "color": "headingColor",
        "font-family": "Ubuntu"
       },
       "h6": {
        "color": "headingColor",
        "font-family": "Ubuntu"
       },
       "h7": {
        "color": "headingColor",
        "font-family": "Ubuntu"
       },
       "li": {
        "color": "mainColor",
        "font-family": "Ubuntu",
        "font-size": 5
       },
       "p": {
        "color": "mainColor",
        "font-family": "Ubuntu",
        "font-size": 5
       }
      },
      "text-base": {
       "color": "mainColor",
       "font-family": "Ubuntu",
       "font-size": 5
      }
     },
     "3661a8db-804d-4688-b877-032d5aad3115": {
      "backgrounds": {
       "backgroundColor": {
        "background-color": "backgroundColor",
        "id": "backgroundColor"
       }
      },
      "id": "3661a8db-804d-4688-b877-032d5aad3115",
      "palette": {
       "backgroundColor": {
        "id": "backgroundColor",
        "rgb": [
         247,
         251,
         252
        ]
       },
       "headingColor": {
        "id": "headingColor",
        "rgb": [
         51,
         51,
         51
        ]
       },
       "linkColor": {
        "id": "linkColor",
        "rgb": [
         59,
         117,
         158
        ]
       },
       "mainColor": {
        "id": "mainColor",
        "rgb": [
         51,
         51,
         51
        ]
       }
      },
      "rules": {
       "a": {
        "color": "linkColor"
       },
       "h1": {
        "color": "headingColor",
        "font-family": "Quicksand",
        "font-size": 7
       },
       "h2": {
        "color": "headingColor",
        "font-family": "Quicksand",
        "font-size": 5
       },
       "h3": {
        "color": "headingColor",
        "font-family": "Quicksand",
        "font-size": 3.75
       },
       "h4": {
        "color": "headingColor",
        "font-family": "Quicksand",
        "font-size": 3
       },
       "h5": {
        "color": "headingColor",
        "font-family": "Quicksand"
       },
       "h6": {
        "color": "headingColor",
        "font-family": "Quicksand"
       },
       "h7": {
        "color": "headingColor",
        "font-family": "Quicksand"
       },
       "li": {
        "color": "mainColor",
        "font-family": "Open Sans",
        "font-size": 5
       },
       "p": {
        "color": "mainColor",
        "font-family": "Open Sans",
        "font-size": 5
       }
      },
      "text-base": {
       "color": "mainColor",
       "font-family": "Open Sans",
       "font-size": 5
      }
     }
    }
   }
  },
  "toc": {
   "toc_cell": false,
   "toc_number_sections": false,
   "toc_threshold": 6,
   "toc_window_display": false
  }
 },
 "nbformat": 4,
 "nbformat_minor": 0
}
