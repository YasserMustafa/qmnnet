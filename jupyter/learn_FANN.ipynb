{
 "cells": [
  {
   "cell_type": "markdown",
   "metadata": {},
   "source": [
    "# Introduction\n",
    "\n",
    "We will use the python bindings for the [FANN](http://leenissen.dk/fann/wp/) (Fast Artificial Neural Networks) C-library to construct a neural network to map from the potential (represented by Fourier components, see [potentials.ipynb](potentials.ipynb)) to the eigenvalues (really, the difference between the eigenvalues and the square-well eigenvalues normalized by $\\sqrt{\\langle V_0^2 \\rangle}$, see [eigenvalues.ipynb](eigenvalues.ipynb)). For FANN documentation, see [http://libfann.github.io/fann/docs/files/fann-h.html](http://libfann.github.io/fann/docs/files/fann-h.html)."
   ]
  },
  {
   "cell_type": "markdown",
   "metadata": {},
   "source": [
    "# Preliminaries"
   ]
  },
  {
   "cell_type": "code",
   "execution_count": 1,
   "metadata": {
    "ExecuteTime": {
     "end_time": "2016-07-10T21:51:23.541899",
     "start_time": "2016-07-10T21:51:23.431446"
    },
    "collapsed": false
   },
   "outputs": [],
   "source": [
    "%matplotlib inline\n",
    "import numpy as np\n",
    "from numpy.random import normal, randint\n",
    "import matplotlib.pyplot as plt\n",
    "from fann2 import libfann\n",
    "from sklearn.cross_validation import train_test_split\n",
    "\n",
    "# Number of basis states for the wavefunctions\n",
    "NBW = 50\n",
    "nbws = np.arange(1, NBW+1)\n",
    "# Number of potentials:\n",
    "NV = int(1E5)\n",
    "# Number of basis states in the potential:\n",
    "NB = 10\n",
    "ns = np.arange(1, NB+1)\n",
    "# lambda (variance of Legendre coefficients):\n",
    "lam = 0.75\n",
    "# The variance of the n=0 legendre coefficient V_0:\n",
    "V20 = 10\n",
    "\n",
    "# Input file:\n",
    "filepath = \"../Data/eigenvalues_NV\" + str(NV) \\\n",
    "    + \"_NB\" + str(NB) + \"_lam\" \\\n",
    "    + str(lam) + \"_V20\" + str(V20) + \".npy\"\n",
    "filepathSD = \"../Data/eigenvaluesSD_NV\" + str(NV) \\\n",
    "    + \"_NB\" + str(NB) + \"_lam\" \\\n",
    "    + str(lam) + \"_V20\" + str(V20) + \".npy\"\n",
    "data = np.load(filepath)\n",
    "dataSD = np.load(filepathSD)\n",
    "VSns = data[::,0:10]\n",
    "VCns = data[::,10:20]\n",
    "eigs = data[::,20::]"
   ]
  },
  {
   "cell_type": "code",
   "execution_count": 2,
   "metadata": {
    "ExecuteTime": {
     "end_time": "2016-07-10T21:51:23.547353",
     "start_time": "2016-07-10T21:51:23.543823"
    },
    "collapsed": false
   },
   "outputs": [
    {
     "name": "stdout",
     "output_type": "stream",
     "text": [
      "(100000, 60) (100000, 10) (100000, 10) (100000, 40)\n",
      "(40,)\n"
     ]
    }
   ],
   "source": [
    "print(data.shape, VSns.shape, VCns.shape, eigs.shape)\n",
    "print(dataSD.shape)"
   ]
  },
  {
   "cell_type": "markdown",
   "metadata": {},
   "source": [
    "# Preprocessing\n",
    "We know that the spectrum is symmetric under $x\\to -x$. We can build this into our dataset. We can duplicate the entire dataset but set all the Sine coefficients to their negative value. This effectively reflects the potential around the $y$-axis."
   ]
  },
  {
   "cell_type": "code",
   "execution_count": 3,
   "metadata": {
    "ExecuteTime": {
     "end_time": "2016-07-10T21:51:23.857246",
     "start_time": "2016-07-10T21:51:23.549713"
    },
    "collapsed": false
   },
   "outputs": [
    {
     "name": "stdout",
     "output_type": "stream",
     "text": [
      "(100000, 100)\n"
     ]
    }
   ],
   "source": [
    "def VS(ns, xs):\n",
    "    return np.sin(np.pi*np.outer(ns,xs))\n",
    "def VC(ns, xs):\n",
    "    return np.cos(np.pi*np.outer(ns,xs))\n",
    "Nx = 100\n",
    "xs = np.linspace(-1,1,Nx)\n",
    "#Vgrid = legval(xs, np.transpose(Vns))\n",
    "VSs = VS(ns,xs)\n",
    "VCs = VC(ns,xs)\n",
    "\n",
    "Vgrid = np.dot(VSns,VSs) + np.dot(VCns,VCs)\n",
    "VgridFlipped = Vgrid[::,::-1]\n",
    "print(Vgrid.shape)"
   ]
  },
  {
   "cell_type": "code",
   "execution_count": 4,
   "metadata": {
    "ExecuteTime": {
     "end_time": "2016-07-10T21:51:24.067493",
     "start_time": "2016-07-10T21:51:23.858721"
    },
    "collapsed": false
   },
   "outputs": [],
   "source": [
    "numeigs = 10\n",
    "X = np.concatenate( (np.concatenate((VSns, VCns), axis = 1), np.concatenate((-VSns, VCns), axis =1)) )\n",
    "Xgrid = np.concatenate( (Vgrid, Vgrid[::,::-1]) )\n",
    "y = np.concatenate( (eigs, eigs) )[::,1:numeigs+1]"
   ]
  },
  {
   "cell_type": "code",
   "execution_count": 5,
   "metadata": {
    "ExecuteTime": {
     "end_time": "2016-07-10T21:51:24.346137",
     "start_time": "2016-07-10T21:51:24.069927"
    },
    "collapsed": false
   },
   "outputs": [],
   "source": [
    "# Split test and train\n",
    "test_frac = 0.4\n",
    "X_train, X_test, y_train, y_test = train_test_split(\n",
    "    X, y, test_size=test_frac, random_state=7\n",
    ")\n",
    "test_frac = 0.4\n",
    "X_train_grid, X_test_grid, y_train, y_test = train_test_split(\n",
    "    Xgrid, y, test_size=test_frac, random_state=7\n",
    ")"
   ]
  },
  {
   "cell_type": "code",
   "execution_count": 6,
   "metadata": {
    "ExecuteTime": {
     "end_time": "2016-07-10T21:51:24.353763",
     "start_time": "2016-07-10T21:51:24.348553"
    },
    "collapsed": false
   },
   "outputs": [
    {
     "name": "stdout",
     "output_type": "stream",
     "text": [
      "(200000, 20) (200000, 10)\n",
      "(120000, 20) (120000, 10)\n",
      "(80000, 20) (80000, 10)\n",
      "(200000, 100) (200000, 10)\n",
      "(120000, 100) (120000, 10)\n",
      "(80000, 100) (80000, 10)\n"
     ]
    }
   ],
   "source": [
    "print(X.shape, y.shape)\n",
    "print(X_train.shape, y_train.shape)\n",
    "print(X_test.shape, y_test.shape)\n",
    "\n",
    "print(Xgrid.shape, y.shape)\n",
    "print(X_train_grid.shape, y_train.shape)\n",
    "print(X_test_grid.shape, y_test.shape)"
   ]
  },
  {
   "cell_type": "markdown",
   "metadata": {
    "collapsed": true
   },
   "source": [
    "# Neural network"
   ]
  },
  {
   "cell_type": "code",
   "execution_count": null,
   "metadata": {
    "ExecuteTime": {
     "end_time": "2016-07-10T21:51:25.502548",
     "start_time": "2016-07-10T21:51:24.355452"
    },
    "collapsed": false
   },
   "outputs": [],
   "source": [
    "# Model parameters\n",
    "connection_rate = 1\n",
    "learning_rate = 1\n",
    "desired_error = 0.0002\n",
    "max_iterations = 5000\n",
    "iterations_between_reports = 20\n",
    "num_train = X_train.shape[0]\n",
    "num_input = X_train[1].size\n",
    "num_output = numeigs\n",
    "network = (num_input, 30, num_output)\n",
    "\n",
    "# Initialize the neural network\n",
    "ann = libfann.neural_net()\n",
    "ann.create_sparse_array(connection_rate, network)\n",
    "ann.set_learning_rate(learning_rate)\n",
    "ann.set_activation_function_output(libfann.SIGMOID_SYMMETRIC_STEPWISE)\n",
    "\n",
    "# Specify the training data\n",
    "fann_train = libfann.training_data()\n",
    "fann_train.set_train_data(X_train.tolist(), y_train.tolist())\n",
    "\n",
    "# Specify the test data\n",
    "fann_test = libfann.training_data()\n",
    "fann_test.set_train_data(X_test.tolist(), y_test.tolist())"
   ]
  },
  {
   "cell_type": "code",
   "execution_count": null,
   "metadata": {
    "ExecuteTime": {
     "end_time": "2016-07-10T23:46:06.124691",
     "start_time": "2016-07-10T21:51:25.504810"
    },
    "collapsed": false
   },
   "outputs": [],
   "source": [
    "# Training the network on the train data\n",
    "ann.train_on_data(fann_train, max_iterations, iterations_between_reports, desired_error)"
   ]
  },
  {
   "cell_type": "code",
   "execution_count": null,
   "metadata": {
    "ExecuteTime": {
     "end_time": "2016-07-10T23:46:06.584677",
     "start_time": "2016-07-10T23:46:06.126535"
    },
    "collapsed": false
   },
   "outputs": [],
   "source": [
    "# Testing the network on the test data\n",
    "y_pred = []\n",
    "for x in X_test:\n",
    "    y_pred.append(ann.run(x))\n",
    "y_pred = np.asarray(y_pred)\n",
    "y_rel_err = np.abs((y_pred - y_test)/y_test)\n",
    "y_scaled_err = np.abs((y_pred - y_test)/dataSD[0:numeigs])"
   ]
  },
  {
   "cell_type": "code",
   "execution_count": null,
   "metadata": {
    "ExecuteTime": {
     "end_time": "2016-07-10T23:46:06.705515",
     "start_time": "2016-07-10T23:46:06.586869"
    },
    "collapsed": false
   },
   "outputs": [],
   "source": [
    "ann.reset_MSE()\n",
    "ann.test_data(fann_test)\n",
    "print(ann.get_MSE())\n",
    "print(np.mean(y_rel_err, axis = 0))\n",
    "print(np.mean(y_scaled_err, axis = 0))"
   ]
  },
  {
   "cell_type": "markdown",
   "metadata": {},
   "source": [
    "# Visualizing the results"
   ]
  },
  {
   "cell_type": "code",
   "execution_count": null,
   "metadata": {
    "ExecuteTime": {
     "end_time": "2016-07-10T23:46:06.711732",
     "start_time": "2016-07-10T23:46:06.707104"
    },
    "collapsed": true
   },
   "outputs": [],
   "source": [
    "def VS(ns, xs):\n",
    "    return np.sin(np.pi*np.outer(ns,xs))\n",
    "def VC(ns, xs):\n",
    "    return np.cos(np.pi*np.outer(ns,xs))\n",
    "def E0(n):\n",
    "    return n**2 * np.pi**2 / 8."
   ]
  },
  {
   "cell_type": "code",
   "execution_count": null,
   "metadata": {
    "ExecuteTime": {
     "end_time": "2016-07-10T23:46:06.873710",
     "start_time": "2016-07-10T23:46:06.713501"
    },
    "collapsed": false
   },
   "outputs": [],
   "source": [
    "Nx = 100\n",
    "xs = np.linspace(-1,1,100)\n",
    "#Vgrid = legval(xs, np.transpose(Vns))\n",
    "VSs = VS(ns,xs)\n",
    "VCs = VC(ns,xs)\n",
    "\n",
    "Vgrid = np.dot(X_test[::,0:10],VSs) + np.dot(X_test[::,10::],VCs)"
   ]
  },
  {
   "cell_type": "code",
   "execution_count": null,
   "metadata": {
    "ExecuteTime": {
     "end_time": "2016-07-10T23:46:08.415377",
     "start_time": "2016-07-10T23:46:06.875581"
    },
    "collapsed": false
   },
   "outputs": [],
   "source": [
    "nrows = 3\n",
    "ncols = 4\n",
    "nplot = nrows * ncols\n",
    "Vints = randint(0,X_test.shape[0], nplot)\n",
    "Vplot = Vgrid[Vints,::]\n",
    "\n",
    "plt.clf()\n",
    "fig, axes = plt.subplots(nrows = nrows, ncols = ncols)\n",
    "fig.set_size_inches(3*ncols,6*nrows)\n",
    "subax = axes.flat\n",
    "\n",
    "for i in range(0,nplot):\n",
    "        subax[i].plot(xs, Vplot[i], linewidth = 2)\n",
    "        subax[i].axhline(y=0,xmin=-1,xmax=1, linestyle='solid' ,color = 'k', lw=0.5)\n",
    "        for j in range(0, 4):\n",
    "            subax[i].axhline(y=E0(j+1)+y_pred[i,j], xmin = -1, xmax = 1, \n",
    "                             ls = 'solid', color = 'r', lw = 3)\n",
    "            subax[i].axhline(y=E0(j+1)+y_test[i,j], xmin = -1, xmax = 1, \n",
    "                             ls = 'dashed', color = 'k', lw =3)\n",
    "\n",
    "        subax[i].set_xlabel(\"x\")\n",
    "        subax[i].set_ylabel(\"V(x)\")\n",
    "        subax[i].set_ylim((-3*np.sqrt(V20),7*np.sqrt(V20)))\n",
    "\n",
    "plt.tight_layout()\n",
    "plt.show()"
   ]
  }
 ],
 "metadata": {
  "anaconda-cloud": {},
  "kernelspec": {
   "display_name": "Python [Root]",
   "language": "python",
   "name": "Python [Root]"
  },
  "language_info": {
   "codemirror_mode": {
    "name": "ipython",
    "version": 3
   },
   "file_extension": ".py",
   "mimetype": "text/x-python",
   "name": "python",
   "nbconvert_exporter": "python",
   "pygments_lexer": "ipython3",
   "version": "3.5.1"
  },
  "toc": {
   "toc_cell": false,
   "toc_number_sections": true,
   "toc_threshold": 6,
   "toc_window_display": false
  }
 },
 "nbformat": 4,
 "nbformat_minor": 0
}
