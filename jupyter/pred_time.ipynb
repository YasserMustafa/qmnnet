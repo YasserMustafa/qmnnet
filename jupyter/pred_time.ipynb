{
 "cells": [
  {
   "cell_type": "markdown",
   "metadata": {},
   "source": [
    "# Introduction\n",
    "\n",
    "Using the development version of [scikit-learn](http://scikit-learn.org/dev/documentation.html), we construct a neural network (NN) regression model to map from a quantum mechanical potential to the energy levels (eigenvalues) for the single-particle system. The potential $V(x)$ is defined in the range $x\\in [-1,1]$ and has the boundary conditions $V(\\pm 1) = \\infty$. The primary purpose of this notebook is to determine the optimal parameters of the NN. We do this using $10^4$ training examples. We train using these parameters. \n",
    "\n",
    "The potentials used for training and testing are generated in [potentials.ipynb](potentials.ipynb). The eigenvalues for all potentials are calculated in [eigenvalues.ipynb](eigenvalues.ipynb).\n",
    "\n",
    "Documentation for `sklearn`'s supervised NN tools can be found here: http://scikit-learn.org/dev/modules/neural_networks_supervised.html. While already quite good, this documentation still appears to be \"under construction\"."
   ]
  },
  {
   "cell_type": "markdown",
   "metadata": {},
   "source": [
    "# Preliminaries"
   ]
  },
  {
   "cell_type": "code",
   "execution_count": 14,
   "metadata": {
    "ExecuteTime": {
     "end_time": "2016-07-14T15:30:34.903365",
     "start_time": "2016-07-14T15:30:34.876723"
    },
    "collapsed": false
   },
   "outputs": [],
   "source": [
    "%matplotlib inline\n",
    "import numpy as np\n",
    "from numpy.random import randint\n",
    "import matplotlib.pyplot as plt\n",
    "import pprint\n",
    "from sklearn.model_selection import train_test_split\n",
    "import pandas as pd"
   ]
  },
  {
   "cell_type": "code",
   "execution_count": 15,
   "metadata": {
    "ExecuteTime": {
     "end_time": "2016-07-14T15:30:35.088151",
     "start_time": "2016-07-14T15:30:34.905153"
    },
    "collapsed": false
   },
   "outputs": [],
   "source": [
    "# Number of basis states for the wavefunctions\n",
    "NBW = 50\n",
    "nbws = np.arange(1, NBW+1)\n",
    "# Number of potentials:\n",
    "NV = int(1E5)\n",
    "# Number of basis states in the potential:\n",
    "NB = 10\n",
    "ns = np.arange(1, NB+1)\n",
    "# lambda (variance of Legendre coefficients):\n",
    "lam = 0.75\n",
    "# The variance of the n=0 legendre coefficient V_0:\n",
    "V20 = 10\n",
    "\n",
    "# Input file:\n",
    "filepath = \"../Data/eigenvalues_NV\" + str(NV) \\\n",
    "    + \"_NB\" + str(NB) + \"_lam\" \\\n",
    "    + str(lam) + \"_V20\" + str(V20) + \".npy\"\n",
    "filepathSD = \"../Data/eigenvaluesSD_NV\" + str(NV) \\\n",
    "    + \"_NB\" + str(NB) + \"_lam\" \\\n",
    "    + str(lam) + \"_V20\" + str(V20) + \".npy\"\n",
    "data = np.load(filepath)\n",
    "dataSD = np.load(filepathSD)\n",
    "VSns = data[::,0:10]\n",
    "VCns = data[::,10:20]\n",
    "eigs = data[::,20::]"
   ]
  },
  {
   "cell_type": "code",
   "execution_count": 16,
   "metadata": {
    "ExecuteTime": {
     "end_time": "2016-07-14T15:30:35.098721",
     "start_time": "2016-07-14T15:30:35.090000"
    },
    "collapsed": false
   },
   "outputs": [
    {
     "name": "stdout",
     "output_type": "stream",
     "text": [
      "Data shape:  (100000, 60) \n",
      "Sine coefficients shape:  (100000, 10) \n",
      "Cosine coefficients shape:  (100000, 10) (100000, 40) \n",
      "Std. dev. shape:  (40,)\n"
     ]
    }
   ],
   "source": [
    "print(\"Data shape: \", data.shape, \n",
    "      \"\\nSine coefficients shape: \", VSns.shape,\n",
    "      \"\\nCosine coefficients shape: \", VCns.shape, eigs.shape,\n",
    "      \"\\nStd. dev. shape: \", dataSD.shape\n",
    "     )"
   ]
  },
  {
   "cell_type": "markdown",
   "metadata": {},
   "source": [
    "# Preprocessing\n",
    "\n",
    "We know that the spectrum is symmetric under $x\\to -x$. We can build this into our dataset. To do this, we duplicate the entire dataset but set all the Sine coefficients to their negative value. This is equivalent to taking $x\\to-x$.\n",
    "\n",
    "We extract the values of the potentials at a discreet, linear grid of $x$ points: $\\left\\{V(x) \\,\\, \\mid \\,\\, x \\in \\{x_1,\\,x_2,\\ldots,x_{N_x}\\}\\right\\}$. This grid of potential values will serve as the input to our NN model."
   ]
  },
  {
   "cell_type": "code",
   "execution_count": 17,
   "metadata": {
    "ExecuteTime": {
     "end_time": "2016-07-14T15:30:35.126358",
     "start_time": "2016-07-14T15:30:35.116107"
    },
    "collapsed": true
   },
   "outputs": [],
   "source": [
    "# We first define functios that help us map the Fourier-space potentials into coordinate space.\n",
    "def VS(ns, xs):\n",
    "    return np.sin(np.pi*np.outer(ns,xs))\n",
    "def VC(ns, xs):\n",
    "    return np.cos(np.pi*np.outer(ns,xs))"
   ]
  },
  {
   "cell_type": "code",
   "execution_count": 18,
   "metadata": {
    "ExecuteTime": {
     "end_time": "2016-07-14T15:30:35.550859",
     "start_time": "2016-07-14T15:30:35.130412"
    },
    "collapsed": false
   },
   "outputs": [
    {
     "name": "stdout",
     "output_type": "stream",
     "text": [
      "First 4 values of Vgrid[99584]: [-1.30229167 -2.15068768 -2.91993572 -3.5383973 ]\n",
      "Last 4 values of VgridFlipped[99584]: [-3.5383973  -2.91993572 -2.15068768 -1.30229167]\n"
     ]
    }
   ],
   "source": [
    "# Number of x coordinates:\n",
    "Nx = 100\n",
    "xs = np.linspace(-1,1,Nx)\n",
    "\n",
    "# The coordinate space potentials:\n",
    "VSs = VS(ns,xs)\n",
    "VCs = VC(ns,xs)\n",
    "Vgrid = np.dot(VSns,VSs) + np.dot(VCns,VCs)\n",
    "VgridFlipped = np.dot(-VSns,VSs) + np.dot(VCns,VCs)\n",
    "\n",
    "# Make sure the flip worked by looking at a random potential:\n",
    "rint = randint(0, NV)\n",
    "print(\"First 4 values of Vgrid[\"+str(rint)+\"]:\" , Vgrid[rint][0:4])\n",
    "print(\"Last 4 values of VgridFlipped[\"+str(rint)+\"]:\", VgridFlipped[rint][-4::])"
   ]
  },
  {
   "cell_type": "code",
   "execution_count": 19,
   "metadata": {
    "ExecuteTime": {
     "end_time": "2016-07-14T15:30:35.795204",
     "start_time": "2016-07-14T15:30:35.553216"
    },
    "collapsed": false
   },
   "outputs": [],
   "source": [
    "numeigs = 10\n",
    "X = np.concatenate( (Vgrid, VgridFlipped) )\n",
    "y = np.concatenate( (eigs, eigs) )[::,1:numeigs+1]"
   ]
  },
  {
   "cell_type": "code",
   "execution_count": 20,
   "metadata": {
    "ExecuteTime": {
     "end_time": "2016-07-14T15:30:35.980896",
     "start_time": "2016-07-14T15:30:35.797768"
    },
    "collapsed": false
   },
   "outputs": [
    {
     "name": "stdout",
     "output_type": "stream",
     "text": [
      "X shape, y shape:  (200000, 100) (200000, 10)\n",
      "X_train shape, y_train shape:  (120000, 100) (120000, 10)\n",
      "X_test shape, y_test shape:  (80000, 100) (80000, 10)\n"
     ]
    }
   ],
   "source": [
    "# Split test and train\n",
    "test_frac = 0.4\n",
    "random_state = 5\n",
    "X_train, X_test, y_train, y_test = train_test_split(\n",
    "    X, y, test_size=test_frac, random_state=random_state\n",
    ")\n",
    "print(\"X shape, y shape: \", X.shape, y.shape)\n",
    "print(\"X_train shape, y_train shape: \", X_train.shape, y_train.shape)\n",
    "print(\"X_test shape, y_test shape: \", X_test.shape, y_test.shape)"
   ]
  },
  {
   "cell_type": "markdown",
   "metadata": {},
   "source": [
    "# Neural network"
   ]
  },
  {
   "cell_type": "markdown",
   "metadata": {
    "collapsed": true
   },
   "source": [
    "## Pipeline\n",
    "We build a pipeline with 2 steps:\n",
    "\n",
    "1. Scale the inputs.\n",
    "2. Train the Neural network."
   ]
  },
  {
   "cell_type": "code",
   "execution_count": 21,
   "metadata": {
    "ExecuteTime": {
     "end_time": "2016-07-14T15:30:35.985909",
     "start_time": "2016-07-14T15:30:35.982668"
    },
    "collapsed": true
   },
   "outputs": [],
   "source": [
    "from sklearn.preprocessing import StandardScaler\n",
    "from sklearn.neural_network import MLPRegressor\n",
    "from sklearn.pipeline import Pipeline"
   ]
  },
  {
   "cell_type": "code",
   "execution_count": 22,
   "metadata": {
    "ExecuteTime": {
     "end_time": "2016-07-14T15:30:36.011762",
     "start_time": "2016-07-14T15:30:35.987714"
    },
    "collapsed": false
   },
   "outputs": [],
   "source": [
    "# The Scaler\n",
    "scale = StandardScaler(with_std=False)\n",
    "\n",
    "# The NN regression model\n",
    "from sklearn.neural_network import MLPRegressor\n",
    "from sklearn.preprocessing import StandardScaler\n",
    "hidden_layers = (100,40)\n",
    "regr =MLPRegressor(hidden_layer_sizes=hidden_layers,\n",
    "                  activation = 'tanh',\n",
    "                  algorithm = 'adam',\n",
    "                  alpha = 0.01,\n",
    "                  beta_1 = 0.85,\n",
    "                  beta_2 = 0.9,\n",
    "                  batch_size = 'auto',\n",
    "                  max_iter = 1000,\n",
    "                  tol = 1e-7,\n",
    "                  learning_rate_init = 0.001,\n",
    "                  verbose = True\n",
    "                 )\n",
    "\n",
    "steps = [('scale', scale), ('regr', regr)]\n",
    "model = Pipeline(steps)\n",
    "#pprint.pprint(model.get_params())"
   ]
  },
  {
   "cell_type": "code",
   "execution_count": 23,
   "metadata": {
    "ExecuteTime": {
     "end_time": "2016-07-14T15:32:59.534032",
     "start_time": "2016-07-14T15:30:36.017152"
    },
    "collapsed": false
   },
   "outputs": [
    {
     "name": "stdout",
     "output_type": "stream",
     "text": [
      "Iteration 1, loss = 0.01708640\n",
      "Iteration 2, loss = 0.00479993\n",
      "Iteration 3, loss = 0.00387746\n",
      "Iteration 4, loss = 0.00349103\n",
      "Iteration 5, loss = 0.00322438\n",
      "Iteration 6, loss = 0.00301327\n",
      "Iteration 7, loss = 0.00283696\n",
      "Iteration 8, loss = 0.00267229\n",
      "Iteration 9, loss = 0.00254557\n",
      "Iteration 10, loss = 0.00242484\n",
      "Iteration 11, loss = 0.00230843\n",
      "Iteration 12, loss = 0.00220770\n",
      "Iteration 13, loss = 0.00211250\n",
      "Iteration 14, loss = 0.00202158\n",
      "Iteration 15, loss = 0.00193451\n",
      "Iteration 16, loss = 0.00185065\n",
      "Iteration 17, loss = 0.00177210\n",
      "Iteration 18, loss = 0.00170343\n",
      "Iteration 19, loss = 0.00162687\n",
      "Iteration 20, loss = 0.00155950\n",
      "Iteration 21, loss = 0.00149603\n",
      "Iteration 22, loss = 0.00143534\n",
      "Iteration 23, loss = 0.00137889\n",
      "Iteration 24, loss = 0.00132286\n",
      "Iteration 25, loss = 0.00127129\n",
      "Iteration 26, loss = 0.00122027\n",
      "Iteration 27, loss = 0.00117450\n",
      "Iteration 28, loss = 0.00113570\n",
      "Iteration 29, loss = 0.00109239\n",
      "Iteration 30, loss = 0.00105664\n",
      "Iteration 31, loss = 0.00102028\n",
      "Iteration 32, loss = 0.00098899\n",
      "Iteration 33, loss = 0.00095906\n",
      "Iteration 34, loss = 0.00093054\n",
      "Iteration 35, loss = 0.00090433\n",
      "Iteration 36, loss = 0.00087875\n",
      "Iteration 37, loss = 0.00085507\n",
      "Iteration 38, loss = 0.00083264\n",
      "Iteration 39, loss = 0.00081330\n",
      "Iteration 40, loss = 0.00079679\n",
      "Iteration 41, loss = 0.00077665\n",
      "Iteration 42, loss = 0.00076248\n",
      "Iteration 43, loss = 0.00074582\n",
      "Iteration 44, loss = 0.00073443\n",
      "Iteration 45, loss = 0.00072050\n",
      "Iteration 46, loss = 0.00070719\n",
      "Iteration 47, loss = 0.00069733\n",
      "Iteration 48, loss = 0.00068348\n",
      "Iteration 49, loss = 0.00067484\n",
      "Iteration 50, loss = 0.00066549\n",
      "Iteration 51, loss = 0.00065489\n",
      "Iteration 52, loss = 0.00064707\n",
      "Iteration 53, loss = 0.00064135\n",
      "Iteration 54, loss = 0.00063422\n",
      "Iteration 55, loss = 0.00062584\n",
      "Iteration 56, loss = 0.00062205\n",
      "Iteration 57, loss = 0.00061422\n",
      "Iteration 58, loss = 0.00060876\n",
      "Iteration 59, loss = 0.00059977\n",
      "Iteration 60, loss = 0.00059615\n",
      "Iteration 61, loss = 0.00059485\n",
      "Iteration 62, loss = 0.00058801\n",
      "Iteration 63, loss = 0.00058241\n",
      "Iteration 64, loss = 0.00058069\n",
      "Iteration 65, loss = 0.00057623\n",
      "Iteration 66, loss = 0.00057405\n",
      "Iteration 67, loss = 0.00056971\n",
      "Iteration 68, loss = 0.00056667\n",
      "Iteration 69, loss = 0.00056609\n",
      "Iteration 70, loss = 0.00056157\n",
      "Iteration 71, loss = 0.00055899\n",
      "Iteration 72, loss = 0.00055620\n",
      "Iteration 73, loss = 0.00055404\n",
      "Iteration 74, loss = 0.00055411\n",
      "Iteration 75, loss = 0.00055133\n",
      "Iteration 76, loss = 0.00054922\n",
      "Iteration 77, loss = 0.00054616\n",
      "Iteration 78, loss = 0.00054606\n",
      "Iteration 79, loss = 0.00054344\n",
      "Iteration 80, loss = 0.00054127\n",
      "Iteration 81, loss = 0.00053992\n",
      "Iteration 82, loss = 0.00053986\n",
      "Iteration 83, loss = 0.00053820\n",
      "Iteration 84, loss = 0.00053913\n",
      "Iteration 85, loss = 0.00053602\n",
      "Iteration 86, loss = 0.00053467\n",
      "Iteration 87, loss = 0.00053291\n",
      "Iteration 88, loss = 0.00053291\n",
      "Iteration 89, loss = 0.00053013\n",
      "Iteration 90, loss = 0.00053040\n",
      "Iteration 91, loss = 0.00053044\n",
      "Iteration 92, loss = 0.00052798\n",
      "Iteration 93, loss = 0.00052829\n",
      "Iteration 94, loss = 0.00052919\n",
      "Iteration 95, loss = 0.00052633\n",
      "Iteration 96, loss = 0.00052746\n",
      "Iteration 97, loss = 0.00052387\n",
      "Iteration 98, loss = 0.00052655\n",
      "Iteration 99, loss = 0.00052466\n",
      "Iteration 100, loss = 0.00052424\n",
      "Training loss did not improve more than tol=0.000000 for two consecutive epochs. Stopping.\n"
     ]
    },
    {
     "data": {
      "text/plain": [
       "Pipeline(steps=[('scale', StandardScaler(copy=True, with_mean=True, with_std=False)), ('regr', MLPRegressor(activation='tanh', algorithm='adam', alpha=0.01,\n",
       "       batch_size='auto', beta_1=0.85, beta_2=0.9, early_stopping=False,\n",
       "       epsilon=1e-08, hidden_layer_sizes=(100, 40),\n",
       "       learning_rate='const...ate=None, shuffle=True, tol=1e-07, validation_fraction=0.1,\n",
       "       verbose=True, warm_start=False))])"
      ]
     },
     "execution_count": 23,
     "metadata": {},
     "output_type": "execute_result"
    }
   ],
   "source": [
    "model.fit(X_train, y_train)"
   ]
  },
  {
   "cell_type": "markdown",
   "metadata": {},
   "source": [
    "# Error"
   ]
  },
  {
   "cell_type": "markdown",
   "metadata": {},
   "source": [
    "We now test the NN on the test set. We measure the error for each eigenvalue relative to the width of the distribution of that eigenvalue over all of the generated potentials. Alternatively (and similarly) one could measure the error relative to the error incurred by simply guessing that the correct value equaled the uniform square-well value."
   ]
  },
  {
   "cell_type": "code",
   "execution_count": 24,
   "metadata": {
    "ExecuteTime": {
     "end_time": "2016-07-14T15:33:00.075706",
     "start_time": "2016-07-14T15:32:59.537768"
    },
    "collapsed": false
   },
   "outputs": [
    {
     "name": "stdout",
     "output_type": "stream",
     "text": [
      "Scaled RMS error by eigenvalue:\n",
      " [ 0.0523901   0.06854653  0.07216696  0.09018038  0.08977839  0.11709738\n",
      "  0.1448088   0.18151185  0.17096907  0.12731708]\n",
      "Average of scaled RMS errors:\n",
      "  0.111476652911\n",
      "Relative RMS error by eigenvalue:\n",
      " [ 0.02600364  0.01124613  0.00567299  0.00362047  0.00194747  0.00144095\n",
      "  0.00104226  0.00078793  0.00045897  0.00021392]\n",
      "Average of relative RMS errors:\n",
      "  0.00524347178507\n"
     ]
    }
   ],
   "source": [
    "y_pred = model.predict(X_test)\n",
    "y_scaled_err = np.sqrt(np.mean((y_pred - y_test)**2/dataSD[0:numeigs]**2, axis = 0))\n",
    "print(\"Scaled RMS error by eigenvalue:\\n\", y_scaled_err)\n",
    "print(\"Average of scaled RMS errors:\\n \", np.mean(np.abs(y_scaled_err)))\n",
    "\n",
    "Es = ns**2 * np.pi**2 / 8.\n",
    "y_rel_err = np.sqrt(np.mean((y_pred - y_test)**2/Es, axis = 0))\n",
    "print(\"Relative RMS error by eigenvalue:\\n\", y_rel_err)\n",
    "print(\"Average of relative RMS errors:\\n \", np.mean(np.abs(y_rel_err)))"
   ]
  },
  {
   "cell_type": "markdown",
   "metadata": {},
   "source": [
    "# Timing"
   ]
  },
  {
   "cell_type": "code",
   "execution_count": 25,
   "metadata": {
    "ExecuteTime": {
     "end_time": "2016-07-14T15:33:00.707443",
     "start_time": "2016-07-14T15:33:00.077947"
    },
    "collapsed": false
   },
   "outputs": [
    {
     "name": "stdout",
     "output_type": "stream",
     "text": [
      "Eigenvalues shape: (100000, 10)\n",
      "Elapsed time: 0.6253499984741211 seconds\n"
     ]
    }
   ],
   "source": [
    "import time\n",
    "start = time.time()\n",
    "eigvals_pred = model.predict(Vgrid)\n",
    "end = time.time()\n",
    "print(\"Eigenvalues shape:\", eigvals_pred.shape)\n",
    "print(\"Elapsed time:\", end-start, \"seconds\")"
   ]
  },
  {
   "cell_type": "code",
   "execution_count": 27,
   "metadata": {
    "ExecuteTime": {
     "end_time": "2016-07-14T15:55:40.041395",
     "start_time": "2016-07-14T15:55:40.037292"
    },
    "collapsed": false
   },
   "outputs": [
    {
     "data": {
      "text/plain": [
       "95.94627032286301"
      ]
     },
     "execution_count": 27,
     "metadata": {},
     "output_type": "execute_result"
    }
   ],
   "source": [
    "60/(end-start)"
   ]
  },
  {
   "cell_type": "code",
   "execution_count": null,
   "metadata": {
    "collapsed": true
   },
   "outputs": [],
   "source": []
  }
 ],
 "metadata": {
  "anaconda-cloud": {},
  "kernelspec": {
   "display_name": "Python [Root]",
   "language": "python",
   "name": "Python [Root]"
  },
  "language_info": {
   "codemirror_mode": {
    "name": "ipython",
    "version": 3
   },
   "file_extension": ".py",
   "mimetype": "text/x-python",
   "name": "python",
   "nbconvert_exporter": "python",
   "pygments_lexer": "ipython3",
   "version": "3.5.1"
  },
  "toc": {
   "toc_cell": false,
   "toc_number_sections": true,
   "toc_threshold": 6,
   "toc_window_display": false
  }
 },
 "nbformat": 4,
 "nbformat_minor": 0
}
