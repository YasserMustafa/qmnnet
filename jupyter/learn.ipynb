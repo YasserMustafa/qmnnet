{
 "cells": [
  {
   "cell_type": "markdown",
   "metadata": {},
   "source": [
    "# Introduction"
   ]
  },
  {
   "cell_type": "markdown",
   "metadata": {},
   "source": [
    "# Preliminaries"
   ]
  },
  {
   "cell_type": "code",
   "execution_count": 138,
   "metadata": {
    "ExecuteTime": {
     "end_time": "2016-07-09T21:42:38.906902",
     "start_time": "2016-07-09T21:42:38.873464"
    },
    "collapsed": true
   },
   "outputs": [],
   "source": [
    "%matplotlib inline\n",
    "import numpy as np\n",
    "from numpy.random import normal, randint\n",
    "import matplotlib.pyplot as plt\n",
    "import pprint\n",
    "from sklearn import linear_model\n",
    "from sklearn.cross_validation import train_test_split\n",
    "\n",
    "logistic = linear_model.LogisticRegression()\n",
    "\n",
    "# Number of basis states for the wavefunctions\n",
    "NBW = 40\n",
    "nbws = np.arange(1, NBW+1)\n",
    "# Number of potentials:\n",
    "NV = int(1E4)\n",
    "# Number of basis states in the potential:\n",
    "NB = 10\n",
    "ns = np.arange(1, NB+1)\n",
    "# lambda (variance of Legendre coefficients):\n",
    "lam = 0.75\n",
    "# The variance of the n=0 legendre coefficient V_0:\n",
    "V20 = 10\n",
    "\n",
    "# Input file:\n",
    "filepath = \"../Data/eigenvalues_NV\" + str(NV) \\\n",
    "    + \"_NB\" + str(NB) + \"_lam\" \\\n",
    "    + str(lam) + \"_V20\" + str(V20) + \".npy\"\n",
    "filepathSD = \"../Data/eigenvaluesSD_NV\" + str(NV) \\\n",
    "    + \"_NB\" + str(NB) + \"_lam\" \\\n",
    "    + str(lam) + \"_V20\" + str(V20) + \".npy\"\n",
    "data = np.load(filepath)\n",
    "dataSD = np.load(filepathSD)\n",
    "VSns = data[::,0:10]\n",
    "VCns = data[::,10:20]\n",
    "eigs = data[::,20::]"
   ]
  },
  {
   "cell_type": "code",
   "execution_count": 139,
   "metadata": {
    "ExecuteTime": {
     "end_time": "2016-07-09T21:42:38.916463",
     "start_time": "2016-07-09T21:42:38.908701"
    },
    "collapsed": false
   },
   "outputs": [
    {
     "name": "stdout",
     "output_type": "stream",
     "text": [
      "(10000, 60) (10000, 10) (10000, 10) (10000, 40)\n",
      "(40,)\n"
     ]
    }
   ],
   "source": [
    "print(data.shape, VSns.shape, VCns.shape, eigs.shape)\n",
    "print(dataSD.shape)"
   ]
  },
  {
   "cell_type": "markdown",
   "metadata": {},
   "source": [
    "# Preprocessing\n",
    "We know that the spectrum is symmetric under $x\\to -x$. We can build this into our dataset. We can duplicate the entire dataset but set all the Sine coefficients to their negative value. This effectively reflects the potential around the $y$-axis."
   ]
  },
  {
   "cell_type": "code",
   "execution_count": 140,
   "metadata": {
    "ExecuteTime": {
     "end_time": "2016-07-09T21:42:38.986321",
     "start_time": "2016-07-09T21:42:38.918296"
    },
    "collapsed": false
   },
   "outputs": [
    {
     "name": "stdout",
     "output_type": "stream",
     "text": [
      "(10000, 100)\n"
     ]
    }
   ],
   "source": [
    "def VS(ns, xs):\n",
    "    return np.sin(np.pi*np.outer(ns,xs))\n",
    "def VC(ns, xs):\n",
    "    return np.cos(np.pi*np.outer(ns,xs))\n",
    "Nx = 100\n",
    "xs = np.linspace(-1,1,Nx)\n",
    "#Vgrid = legval(xs, np.transpose(Vns))\n",
    "VSs = VS(ns,xs)\n",
    "VCs = VC(ns,xs)\n",
    "\n",
    "Vgrid = np.dot(VSns,VSs) + np.dot(VCns,VCs)\n",
    "VgridFlipped = Vgrid[::,::-1]\n",
    "print(Vgrid.shape)"
   ]
  },
  {
   "cell_type": "code",
   "execution_count": 141,
   "metadata": {
    "ExecuteTime": {
     "end_time": "2016-07-09T21:42:39.036631",
     "start_time": "2016-07-09T21:42:38.988460"
    },
    "collapsed": false
   },
   "outputs": [],
   "source": [
    "numeigs = 10\n",
    "X = np.concatenate( (np.concatenate((VSns, VCns), axis = 1), np.concatenate((-VSns, VCns), axis =1)) )\n",
    "Xgrid = np.concatenate( (Vgrid, Vgrid[::,::-1]) )\n",
    "y = np.concatenate( (eigs, eigs) )[::,1:numeigs+1]"
   ]
  },
  {
   "cell_type": "code",
   "execution_count": 142,
   "metadata": {
    "ExecuteTime": {
     "end_time": "2016-07-09T21:42:39.061245",
     "start_time": "2016-07-09T21:42:39.044169"
    },
    "collapsed": false
   },
   "outputs": [],
   "source": [
    "# Split test and train\n",
    "test_frac = 0.4\n",
    "X_train, X_test, y_train, y_test = train_test_split(\n",
    "    X, y, test_size=test_frac, random_state=7\n",
    ")"
   ]
  },
  {
   "cell_type": "code",
   "execution_count": 143,
   "metadata": {
    "ExecuteTime": {
     "end_time": "2016-07-09T21:42:39.074238",
     "start_time": "2016-07-09T21:42:39.064390"
    },
    "collapsed": false
   },
   "outputs": [
    {
     "name": "stdout",
     "output_type": "stream",
     "text": [
      "(20000, 20) (20000, 10)\n",
      "(12000, 20) (12000, 10)\n",
      "(8000, 20) (8000, 10)\n"
     ]
    }
   ],
   "source": [
    "print(X.shape, y.shape)\n",
    "print(X_train.shape, y_train.shape)\n",
    "print(X_test.shape, y_test.shape)"
   ]
  },
  {
   "cell_type": "markdown",
   "metadata": {},
   "source": [
    "# Training the model and predicting on the test set"
   ]
  },
  {
   "cell_type": "code",
   "execution_count": 144,
   "metadata": {
    "ExecuteTime": {
     "end_time": "2016-07-09T21:42:39.097254",
     "start_time": "2016-07-09T21:42:39.076658"
    },
    "collapsed": true
   },
   "outputs": [],
   "source": [
    "from sklearn import linear_model\n",
    "from sklearn.ensemble import RandomForestRegressor\n",
    "lm = linear_model.Ridge()\n",
    "rf = RandomForestRegressor()\n",
    "specFit = lm.fit(X_train,y_train)"
   ]
  },
  {
   "cell_type": "code",
   "execution_count": 145,
   "metadata": {
    "ExecuteTime": {
     "end_time": "2016-07-09T21:42:39.109126",
     "start_time": "2016-07-09T21:42:39.099881"
    },
    "collapsed": false
   },
   "outputs": [],
   "source": [
    "# Test on the training set:\n",
    "y_test_pred = lm.predict(X_test)"
   ]
  },
  {
   "cell_type": "code",
   "execution_count": 146,
   "metadata": {
    "ExecuteTime": {
     "end_time": "2016-07-09T21:42:39.121809",
     "start_time": "2016-07-09T21:42:39.111906"
    },
    "collapsed": false
   },
   "outputs": [
    {
     "data": {
      "text/plain": [
       "array([[-0.01106067, -0.38588974,  0.18099106,  0.10960405, -0.08684193,\n",
       "         0.08342672,  0.03164771,  0.04529693,  0.00191228,  0.00850912],\n",
       "       [-0.02947834,  0.09098351,  0.19304551,  0.11089545,  0.03844527,\n",
       "         0.04317426,  0.10302539,  0.04361396,  0.00960283,  0.01905374],\n",
       "       [-0.10329386,  0.44973147, -0.1431563 , -0.08362555,  0.05966746,\n",
       "         0.0079617 ,  0.07294833,  0.0263731 ,  0.00443459,  0.00709695],\n",
       "       [ 0.19885799,  0.12739127,  0.00340198,  0.14662022,  0.13056632,\n",
       "         0.02542335, -0.01728318,  0.05876616,  0.03818774,  0.00654564],\n",
       "       [-0.29377236,  0.05516022, -0.12140063,  0.0590401 , -0.17562988,\n",
       "         0.06735603, -0.05646346,  0.02113549,  0.02599634,  0.00995357]])"
      ]
     },
     "execution_count": 146,
     "metadata": {},
     "output_type": "execute_result"
    }
   ],
   "source": [
    "y_test[0:5]"
   ]
  },
  {
   "cell_type": "code",
   "execution_count": 147,
   "metadata": {
    "ExecuteTime": {
     "end_time": "2016-07-09T21:42:39.128452",
     "start_time": "2016-07-09T21:42:39.123894"
    },
    "collapsed": false
   },
   "outputs": [],
   "source": [
    "#yerr = np.abs((y_test_pred - y_test) / dataSD[0:10])\n",
    "yerr = np.abs((y_test_pred - y_test) / y_test)"
   ]
  },
  {
   "cell_type": "code",
   "execution_count": 148,
   "metadata": {
    "ExecuteTime": {
     "end_time": "2016-07-09T21:42:39.136292",
     "start_time": "2016-07-09T21:42:39.130672"
    },
    "collapsed": false
   },
   "outputs": [
    {
     "name": "stdout",
     "output_type": "stream",
     "text": [
      "[ 3.30561028  5.23053714  6.15690467  1.85309155  2.44344774  2.2230578\n",
      "  1.53408985  2.27419336  1.74101695  0.76691475]\n"
     ]
    }
   ],
   "source": [
    "muerr = np.mean(yerr, axis = 0)\n",
    "print(muerr)"
   ]
  },
  {
   "cell_type": "markdown",
   "metadata": {
    "collapsed": true
   },
   "source": [
    "# Neural network"
   ]
  },
  {
   "cell_type": "code",
   "execution_count": 149,
   "metadata": {
    "ExecuteTime": {
     "end_time": "2016-07-09T21:42:39.160802",
     "start_time": "2016-07-09T21:42:39.138337"
    },
    "collapsed": false
   },
   "outputs": [],
   "source": [
    "from fann2 import libfann\n",
    "\n",
    "# Model parameters\n",
    "connection_rate = 1\n",
    "learning_rate = 0.7\n",
    "num_hidden = 100\n",
    "desired_error = 0.0001\n",
    "max_iterations = 10000\n",
    "iterations_between_reports = 100\n",
    "\n",
    "# Data parameters\n",
    "num_train = X_train.shape[0]\n",
    "num_input = X_train[1].size\n",
    "num_output = numeigs\n",
    "\n",
    "# Initialize the neural network\n",
    "ann = libfann.neural_net()\n",
    "ann.create_sparse_array(connection_rate, (num_input, num_hidden, num_output))\n",
    "ann.set_learning_rate(learning_rate)\n",
    "ann.set_activation_function_output(libfann.SIGMOID_SYMMETRIC_STEPWISE)"
   ]
  },
  {
   "cell_type": "code",
   "execution_count": null,
   "metadata": {
    "ExecuteTime": {
     "start_time": "2016-07-10T01:42:38.901Z"
    },
    "collapsed": false
   },
   "outputs": [],
   "source": [
    "fann_train = libfann.training_data()\n",
    "fann_train.set_train_data(X_train.tolist(), y_train.tolist())"
   ]
  },
  {
   "cell_type": "code",
   "execution_count": null,
   "metadata": {
    "ExecuteTime": {
     "start_time": "2016-07-10T01:42:38.905Z"
    },
    "collapsed": false
   },
   "outputs": [],
   "source": [
    "# Training the network\n",
    "ann.train_on_data(fann_train, max_iterations, iterations_between_reports, desired_error)"
   ]
  },
  {
   "cell_type": "code",
   "execution_count": null,
   "metadata": {
    "ExecuteTime": {
     "start_time": "2016-07-10T01:42:38.907Z"
    },
    "collapsed": false
   },
   "outputs": [],
   "source": [
    "case = 14;\n",
    "print((ann.run(X_test[case].tolist())-y_test[case])/y_test[case])"
   ]
  },
  {
   "cell_type": "code",
   "execution_count": null,
   "metadata": {
    "collapsed": true
   },
   "outputs": [],
   "source": []
  }
 ],
 "metadata": {
  "anaconda-cloud": {},
  "kernelspec": {
   "display_name": "Python [Root]",
   "language": "python",
   "name": "Python [Root]"
  },
  "language_info": {
   "codemirror_mode": {
    "name": "ipython",
    "version": 3
   },
   "file_extension": ".py",
   "mimetype": "text/x-python",
   "name": "python",
   "nbconvert_exporter": "python",
   "pygments_lexer": "ipython3",
   "version": "3.5.1"
  },
  "toc": {
   "toc_cell": false,
   "toc_number_sections": true,
   "toc_threshold": 6,
   "toc_window_display": false
  }
 },
 "nbformat": 4,
 "nbformat_minor": 0
}
