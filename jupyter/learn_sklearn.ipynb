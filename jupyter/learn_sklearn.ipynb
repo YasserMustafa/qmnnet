{
 "cells": [
  {
   "cell_type": "markdown",
   "metadata": {},
   "source": [
    "# Introduction\n",
    "\n",
    "Using the development version of [scikit-learn](http://scikit-learn.org/dev/documentation.html), we construct a neural network (NN) regression model to map from a quantum mechanical potential to the energy levels (eigenvalues) for the single-particle system. The potential $V(x)$ is defined in the range $x\\in [-1,1]$ and has the boundary conditions $V(\\pm 1) = \\infty$. \n",
    "\n",
    "The potentials used for training and testing are generated in [potentials.ipynb](potentials.ipynb). The eigenvalues for all potentials are calculated in [eigenvalues.ipynb](eigenvalues.ipynb)."
   ]
  },
  {
   "cell_type": "markdown",
   "metadata": {},
   "source": [
    "# Preliminaries"
   ]
  },
  {
   "cell_type": "code",
   "execution_count": null,
   "metadata": {
    "collapsed": true
   },
   "outputs": [],
   "source": [
    "%matplotlib inline\n",
    "import numpy as np\n",
    "from numpy.random import randint\n",
    "import matplotlib.pyplot as plt\n",
    "from sklearn.cross_validation import train_test_split"
   ]
  },
  {
   "cell_type": "code",
   "execution_count": 66,
   "metadata": {
    "ExecuteTime": {
     "end_time": "2016-07-12T06:34:38.660216",
     "start_time": "2016-07-12T06:34:38.545737"
    },
    "collapsed": false
   },
   "outputs": [],
   "source": [
    "# Number of basis states for the wavefunctions\n",
    "NBW = 50\n",
    "nbws = np.arange(1, NBW+1)\n",
    "# Number of potentials:\n",
    "NV = int(1E5)\n",
    "# Number of basis states in the potential:\n",
    "NB = 10\n",
    "ns = np.arange(1, NB+1)\n",
    "# lambda (variance of Legendre coefficients):\n",
    "lam = 0.75\n",
    "# The variance of the n=0 legendre coefficient V_0:\n",
    "V20 = 10\n",
    "\n",
    "# Input file:\n",
    "filepath = \"../Data/eigenvalues_NV\" + str(NV) \\\n",
    "    + \"_NB\" + str(NB) + \"_lam\" \\\n",
    "    + str(lam) + \"_V20\" + str(V20) + \".npy\"\n",
    "filepathSD = \"../Data/eigenvaluesSD_NV\" + str(NV) \\\n",
    "    + \"_NB\" + str(NB) + \"_lam\" \\\n",
    "    + str(lam) + \"_V20\" + str(V20) + \".npy\"\n",
    "data = np.load(filepath)\n",
    "dataSD = np.load(filepathSD)\n",
    "VSns = data[::,0:10]\n",
    "VCns = data[::,10:20]\n",
    "eigs = data[::,20::]"
   ]
  },
  {
   "cell_type": "code",
   "execution_count": 68,
   "metadata": {
    "ExecuteTime": {
     "end_time": "2016-07-12T06:39:51.914783",
     "start_time": "2016-07-12T06:39:51.909754"
    },
    "collapsed": false
   },
   "outputs": [
    {
     "name": "stdout",
     "output_type": "stream",
     "text": [
      "Data shape:  (100000, 60) \n",
      "Sine coefficients shape:  (100000, 10) \n",
      "Cosine coefficients shape:  (100000, 10) (100000, 40) \n",
      "Std. dev. shape:  (40,)\n"
     ]
    }
   ],
   "source": [
    "print(\"Data shape: \", data.shape, \n",
    "      \"\\nSine coefficients shape: \", VSns.shape,\n",
    "      \"\\nCosine coefficients shape: \", VCns.shape, eigs.shape,\n",
    "      \"\\nStd. dev. shape: \", dataSD.shape\n",
    "     )"
   ]
  },
  {
   "cell_type": "markdown",
   "metadata": {},
   "source": [
    "# Preprocessing\n",
    "\n",
    "We know that the spectrum is symmetric under $x\\to -x$. We can build this into our dataset. To do this, we duplicate the entire dataset but set all the Sine coefficients to their negative value. This is equivalent to taking $x\\to-x$.\n",
    "\n",
    "We extract the values of the potentials at a discreet, linear grid of $x$ points: $\\left\\{V(x) \\,\\, \\mid \\,\\, x \\in \\{x_1,\\,x_2,\\ldots,x_{N_x}\\}\\right\\}$. This grid of potential values will serve as the input to our NN model."
   ]
  },
  {
   "cell_type": "code",
   "execution_count": 102,
   "metadata": {
    "ExecuteTime": {
     "end_time": "2016-07-12T07:05:57.603909",
     "start_time": "2016-07-12T07:05:57.599490"
    },
    "collapsed": true
   },
   "outputs": [],
   "source": [
    "# We first define functios that help us map the Fourier-space potentials into coordinate space.\n",
    "def VS(ns, xs):\n",
    "    return np.sin(np.pi*np.outer(ns,xs))\n",
    "def VC(ns, xs):\n",
    "    return np.cos(np.pi*np.outer(ns,xs))"
   ]
  },
  {
   "cell_type": "code",
   "execution_count": 103,
   "metadata": {
    "ExecuteTime": {
     "end_time": "2016-07-12T07:06:01.864593",
     "start_time": "2016-07-12T07:06:01.502515"
    },
    "collapsed": false
   },
   "outputs": [
    {
     "name": "stdout",
     "output_type": "stream",
     "text": [
      "First 4 values of Vgrid[17176]: [ 6.6721974   6.40114595  6.21545834  6.1036904 ]\n",
      "Last 4 values of VgridFlipped[17176]: [ 6.1036904   6.21545834  6.40114595  6.6721974 ]\n"
     ]
    }
   ],
   "source": [
    "# Number of x coordinates:\n",
    "Nx = 100\n",
    "xs = np.linspace(-1,1,Nx)\n",
    "\n",
    "# The coordinate space potentials:\n",
    "VSs = VS(ns,xs)\n",
    "VCs = VC(ns,xs)\n",
    "Vgrid = np.dot(VSns,VSs) + np.dot(VCns,VCs)\n",
    "VgridFlipped = np.dot(-VSns,VSs) + np.dot(VCns,VCs)\n",
    "\n",
    "# Make sure the flip worked by looking at a random potential:\n",
    "rint = randint(0, NV)\n",
    "print(\"First 4 values of Vgrid[\"+str(rint)+\"]:\" , Vgrid[rint][0:4])\n",
    "print(\"Last 4 values of VgridFlipped[\"+str(rint)+\"]:\", VgridFlipped[rint][-4::])"
   ]
  },
  {
   "cell_type": "code",
   "execution_count": 104,
   "metadata": {
    "ExecuteTime": {
     "end_time": "2016-07-12T07:06:06.451492",
     "start_time": "2016-07-12T07:06:06.307035"
    },
    "collapsed": false
   },
   "outputs": [],
   "source": [
    "numeigs = 10\n",
    "X = np.concatenate( (Vgrid, VgridFlipped) )\n",
    "y = np.concatenate( (eigs, eigs) )[::,1:numeigs+1]"
   ]
  },
  {
   "cell_type": "code",
   "execution_count": 110,
   "metadata": {
    "ExecuteTime": {
     "end_time": "2016-07-12T07:07:59.005744",
     "start_time": "2016-07-12T07:07:58.853855"
    },
    "collapsed": false
   },
   "outputs": [
    {
     "name": "stdout",
     "output_type": "stream",
     "text": [
      "X shape, y shape:  (200000, 100) (200000, 10)\n",
      "X_train shape, y_train shape:  (120000, 100) (120000, 10)\n",
      "X_test shape, y_test shape:  (80000, 100) (80000, 10)\n"
     ]
    }
   ],
   "source": [
    "# Split test and train\n",
    "test_frac = 0.4\n",
    "random_state = 5\n",
    "X_train, X_test, y_train, y_test = train_test_split(\n",
    "    X, y, test_size=test_frac, random_state=random_state\n",
    ")\n",
    "print(\"X shape, y shape: \", X.shape, y.shape)\n",
    "print(\"X_train shape, y_train shape: \", X_train.shape, y_train.shape)\n",
    "print(\"X_test shape, y_test shape: \", X_test.shape, y_test.shape)"
   ]
  },
  {
   "cell_type": "markdown",
   "metadata": {
    "collapsed": true
   },
   "source": [
    "# Neural network\n",
    "\n",
    "Documentation for `sklearn`'s supervised NN tools can be found here: http://scikit-learn.org/dev/modules/neural_networks_supervised.html"
   ]
  },
  {
   "cell_type": "code",
   "execution_count": 116,
   "metadata": {
    "ExecuteTime": {
     "end_time": "2016-07-12T07:16:15.497718",
     "start_time": "2016-07-12T07:16:15.491590"
    },
    "collapsed": false
   },
   "outputs": [],
   "source": [
    "# Initialize the NN regression model\n",
    "from sklearn.neural_network import MLPRegressor\n",
    "hidden_layers = (50,30)\n",
    "regr =MLPRegressor(hidden_layer_sizes=hidden_layers,\n",
    "                  activation = 'tanh',\n",
    "                  algorithm = 'adam',\n",
    "                  alpha = 0.0001,\n",
    "                  batch_size = 'auto',\n",
    "                  #learning_rate = 'adaptive',\n",
    "                  max_iter = 2000,\n",
    "                  tol = 1e-7,\n",
    "                  learning_rate_init = 0.001,\n",
    "                  verbose = True\n",
    "                 )"
   ]
  },
  {
   "cell_type": "code",
   "execution_count": 117,
   "metadata": {
    "ExecuteTime": {
     "end_time": "2016-07-12T07:17:12.534950",
     "start_time": "2016-07-12T07:16:16.869837"
    },
    "collapsed": false
   },
   "outputs": [
    {
     "name": "stdout",
     "output_type": "stream",
     "text": [
      "Iteration 1, loss = 0.02760305\n",
      "Iteration 2, loss = 0.00519889\n",
      "Iteration 3, loss = 0.00308179\n",
      "Iteration 4, loss = 0.00207147\n",
      "Iteration 5, loss = 0.00146411\n",
      "Iteration 6, loss = 0.00110669\n",
      "Iteration 7, loss = 0.00090201\n",
      "Iteration 8, loss = 0.00074885\n",
      "Iteration 9, loss = 0.00065623\n",
      "Iteration 10, loss = 0.00058790\n",
      "Iteration 11, loss = 0.00053402\n",
      "Iteration 12, loss = 0.00049398\n",
      "Iteration 13, loss = 0.00046354\n",
      "Iteration 14, loss = 0.00043657\n",
      "Iteration 15, loss = 0.00041328\n",
      "Iteration 16, loss = 0.00040472\n",
      "Iteration 17, loss = 0.00039241\n",
      "Iteration 18, loss = 0.00037580\n",
      "Iteration 19, loss = 0.00037293\n",
      "Iteration 20, loss = 0.00035900\n",
      "Iteration 21, loss = 0.00035435\n",
      "Iteration 22, loss = 0.00034761\n",
      "Iteration 23, loss = 0.00033901\n",
      "Iteration 24, loss = 0.00032432\n",
      "Iteration 25, loss = 0.00031756\n",
      "Iteration 26, loss = 0.00032243\n",
      "Iteration 27, loss = 0.00031026\n",
      "Iteration 28, loss = 0.00030597\n",
      "Iteration 29, loss = 0.00029915\n",
      "Iteration 30, loss = 0.00029408\n",
      "Iteration 31, loss = 0.00028162\n",
      "Iteration 32, loss = 0.00028189\n",
      "Iteration 33, loss = 0.00027602\n",
      "Iteration 34, loss = 0.00026658\n",
      "Iteration 35, loss = 0.00027166\n",
      "Iteration 36, loss = 0.00026600\n",
      "Iteration 37, loss = 0.00025982\n",
      "Iteration 38, loss = 0.00025464\n",
      "Iteration 39, loss = 0.00025722\n",
      "Iteration 40, loss = 0.00025207\n",
      "Iteration 41, loss = 0.00024910\n",
      "Iteration 42, loss = 0.00024123\n",
      "Iteration 43, loss = 0.00024208\n",
      "Iteration 44, loss = 0.00023983\n",
      "Iteration 45, loss = 0.00023138\n",
      "Iteration 46, loss = 0.00023626\n",
      "Iteration 47, loss = 0.00022778\n",
      "Iteration 48, loss = 0.00023064\n",
      "Iteration 49, loss = 0.00022511\n",
      "Iteration 50, loss = 0.00022029\n",
      "Iteration 51, loss = 0.00022656\n",
      "Iteration 52, loss = 0.00022528\n",
      "Iteration 53, loss = 0.00021925\n",
      "Iteration 54, loss = 0.00021919\n",
      "Iteration 55, loss = 0.00021724\n",
      "Iteration 56, loss = 0.00022222\n",
      "Iteration 57, loss = 0.00021670\n",
      "Iteration 58, loss = 0.00021498\n",
      "Iteration 59, loss = 0.00021305\n",
      "Iteration 60, loss = 0.00021697\n",
      "Iteration 61, loss = 0.00021568\n",
      "Iteration 62, loss = 0.00021391\n",
      "Training loss did not improve more than tol=0.000000 for two consecutive epochs. Stopping.\n"
     ]
    }
   ],
   "source": [
    "regr.fit(X_train, y_train);"
   ]
  },
  {
   "cell_type": "markdown",
   "metadata": {},
   "source": [
    "We now test the NN on the test set. We measure the error for each eigenvalue relative to the width of the distribution of that eigenvalue over all of the generated potentials. Alternatively (and similarly) one could measure the error relative to the error incurred by simply guessing that the correct value equaled the uniform square-well value."
   ]
  },
  {
   "cell_type": "code",
   "execution_count": 118,
   "metadata": {
    "ExecuteTime": {
     "end_time": "2016-07-12T07:32:10.568388",
     "start_time": "2016-07-12T07:32:10.359644"
    },
    "collapsed": false
   },
   "outputs": [
    {
     "name": "stdout",
     "output_type": "stream",
     "text": [
      "Scaled RMS error by eigenvalue:\n",
      " [ 0.06609608  0.07229769  0.08769723  0.1075714   0.12855204  0.16505261\n",
      "  0.19767788  0.21197284  0.21532696  0.14533833]\n",
      "Average of scaled RMS errors:\n",
      "  0.13975830453\n"
     ]
    }
   ],
   "source": [
    "y_pred = regr.predict(X_test)\n",
    "y_scaled_err = np.sqrt(np.mean((y_pred - y_test)**2/dataSD[0:numeigs]**2, axis = 0))\n",
    "print(\"Scaled RMS error by eigenvalue:\\n\", y_scaled_err)\n",
    "print(\"Average of scaled RMS errors:\\n \", np.mean(np.abs(y_scaled_err)))"
   ]
  },
  {
   "cell_type": "markdown",
   "metadata": {},
   "source": [
    "Save the network:"
   ]
  },
  {
   "cell_type": "code",
   "execution_count": 100,
   "metadata": {
    "ExecuteTime": {
     "end_time": "2016-07-12T07:00:19.481986",
     "start_time": "2016-07-12T07:00:19.448044"
    },
    "collapsed": false
   },
   "outputs": [],
   "source": [
    "from sklearn.externals import joblib\n",
    "# Input file:\n",
    "filepath = \"../Data/NN/NN\" + str(NV) \\\n",
    "    + \"_NB\" + str(NB) + \"_lam\" \\\n",
    "    + str(lam) + \"_V20\" + str(V20) + \".pkl\"\n",
    "joblib.dump(regr, filepath);"
   ]
  },
  {
   "cell_type": "markdown",
   "metadata": {},
   "source": [
    "# Visualizing the results"
   ]
  },
  {
   "cell_type": "code",
   "execution_count": 101,
   "metadata": {
    "ExecuteTime": {
     "end_time": "2016-07-12T07:00:32.519169",
     "start_time": "2016-07-12T07:00:31.656340"
    },
    "collapsed": false
   },
   "outputs": [
    {
     "data": {
      "text/plain": [
       "<matplotlib.figure.Figure at 0x1476feda0>"
      ]
     },
     "metadata": {},
     "output_type": "display_data"
    },
    {
     "data": {
      "image/png": "[encoded data removed]",
      "text/plain": [
       "<matplotlib.figure.Figure at 0x14771b7f0>"
      ]
     },
     "metadata": {},
     "output_type": "display_data"
    },
    {
     "data": {
      "text/plain": [
       "<matplotlib.figure.Figure at 0x14f901160>"
      ]
     },
     "metadata": {},
     "output_type": "display_data"
    }
   ],
   "source": [
    "nrows = 1\n",
    "ncols = 4\n",
    "nplot = nrows * ncols\n",
    "indplt = randint(0,X_test.shape[0], nplot)\n",
    "numeigsplt = 4\n",
    "\n",
    "def E0(n):\n",
    "    return n**2 * np.pi**2 / 8.\n",
    "\n",
    "plt.clf()\n",
    "fig, axes = plt.subplots(nrows = nrows, ncols = ncols)\n",
    "fig.set_size_inches(3*ncols,10*nrows)\n",
    "subax = axes.flat\n",
    "\n",
    "for i in range(0, len(indplt)):\n",
    "        subax[i].plot(xs, X_test[indplt[i]], linewidth = 2, label='$V(x)$')\n",
    "        subax[i].axhline(y=0,xmin=-1,xmax=1, linestyle='solid' ,color = 'k', lw=0.5)\n",
    "        for j in range(0, numeigsplt):\n",
    "            lastaxNN = subax[i].axhline(y=E0(j+1)+y_pred[indplt[i],j], xmin = -1, xmax = 1, \n",
    "                             ls = 'solid', color = 'r', lw = 3, label = 'Neural Network')\n",
    "            lastaxSE = subax[i].axhline(y=E0(j+1)+y_test[indplt[i],j], xmin = -1, xmax = 1, \n",
    "                             ls = 'dashed', color = 'k', lw =3, label = 'Schr. Eqn.')\n",
    "\n",
    "        subax[i].set_xlabel(\"x\")\n",
    "        subax[i].set_ylabel(\"V(x)\")\n",
    "        subax[i].set_ylim((-V20, 1.2*E0(numeigsplt)))\n",
    "        subax[i].legend([lastaxNN, lastaxSE], [\"Neural Network\", \"Schr. Eqn.\"])\n",
    "\n",
    "plt.tight_layout();\n",
    "plt.show();\n",
    "plt.draw()\n",
    "fig.savefig(\"../Plots/NNPred.png\")"
   ]
  },
  {
   "cell_type": "code",
   "execution_count": null,
   "metadata": {
    "collapsed": true
   },
   "outputs": [],
   "source": []
  }
 ],
 "metadata": {
  "anaconda-cloud": {},
  "kernelspec": {
   "display_name": "Python [Root]",
   "language": "python",
   "name": "Python [Root]"
  },
  "language_info": {
   "codemirror_mode": {
    "name": "ipython",
    "version": 3
   },
   "file_extension": ".py",
   "mimetype": "text/x-python",
   "name": "python",
   "nbconvert_exporter": "python",
   "pygments_lexer": "ipython3",
   "version": "3.5.1"
  },
  "toc": {
   "toc_cell": false,
   "toc_number_sections": true,
   "toc_threshold": 6,
   "toc_window_display": false
  }
 },
 "nbformat": 4,
 "nbformat_minor": 0
}
