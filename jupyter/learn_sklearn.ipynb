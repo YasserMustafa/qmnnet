{
 "cells": [
  {
   "cell_type": "markdown",
   "metadata": {},
   "source": [
    "# Introduction\n",
    "\n",
    "Using the development version of [scikit-learn](http://scikit-learn.org/dev/documentation.html), we construct a neural network (NN) regression model to map from a quantum mechanical potential to the energy levels (eigenvalues) for the single-particle system. The potential $V(x)$ is defined in the range $x\\in [-1,1]$ and has the boundary conditions $V(\\pm 1) = \\infty$. The primary purpose of this notebook is to determine the optimal parameters of the NN. We do this using $10^4$ training examples. We train using these parameters. \n",
    "\n",
    "The potentials used for training and testing are generated in [potentials.ipynb](potentials.ipynb). The eigenvalues for all potentials are calculated in [eigenvalues.ipynb](eigenvalues.ipynb).\n",
    "\n",
    "Documentation for `sklearn`'s supervised NN tools can be found here: http://scikit-learn.org/dev/modules/neural_networks_supervised.html. While already quite good, this documentation still appears to be \"under construction\"."
   ]
  },
  {
   "cell_type": "markdown",
   "metadata": {},
   "source": [
    "# Preliminaries"
   ]
  },
  {
   "cell_type": "code",
<<<<<<< HEAD
   "execution_count": 14,
=======
   "execution_count": 24,
>>>>>>> 2d61cef066595bba7da1029f682daa266a9e0a78
   "metadata": {
    "ExecuteTime": {
     "end_time": "2016-07-15T21:54:03.271350",
     "start_time": "2016-07-15T21:54:03.063645"
    },
    "collapsed": false
   },
   "outputs": [],
   "source": [
    "%matplotlib inline\n",
    "import numpy as np\n",
    "from numpy.random import randint\n",
    "import matplotlib.pyplot as plt\n",
    "import pprint\n",
    "from sklearn.model_selection import train_test_split\n",
    "import pandas as pd\n",
    "\n",
    "import sys\n",
    "sys.path.append('/home/hudson/Development/Machine-Learns-Quantum/Utils')"
   ]
  },
  {
   "cell_type": "code",
<<<<<<< HEAD
   "execution_count": 15,
=======
   "execution_count": 25,
>>>>>>> 2d61cef066595bba7da1029f682daa266a9e0a78
   "metadata": {
    "ExecuteTime": {
     "end_time": "2016-07-15T21:54:03.388422",
     "start_time": "2016-07-15T21:54:03.274369"
    },
    "collapsed": false
   },
   "outputs": [],
   "source": [
    "# Number of basis states for the wavefunctions\n",
    "NBW = 50\n",
    "nbws = np.arange(1, NBW+1)\n",
    "# Number of potentials:\n",
    "NV = int(1E5)\n",
    "# Number of basis states in the potential:\n",
    "NB = 10\n",
    "ns = np.arange(1, NB+1)\n",
    "# Number of x coordinates:\n",
    "Nx = 50\n",
    "xs = np.linspace(-1,1,Nx)\n",
    "# lambda (variance of Legendre coefficients):\n",
    "lam = 0.75\n",
    "# The variance of the n=0 legendre coefficient V_0:\n",
    "V20 = 10\n",
    "\n",
    "# Input file:\n",
    "filepath = \"../Data/eigenvalues_NV\" + str(NV) \\\n",
    "    + \"_NB\" + str(NB) + \"_lam\" \\\n",
    "    + str(lam) + \"_V20\" + str(V20) + \".npy\"\n",
    "filepathSD = \"../Data/eigenvaluesSD_NV\" + str(NV) \\\n",
    "    + \"_NB\" + str(NB) + \"_lam\" \\\n",
    "    + str(lam) + \"_V20\" + str(V20) + \".npy\"\n",
    "data = np.load(filepath)\n",
    "dataSD = np.load(filepathSD)\n",
    "VSns = data[::,0:10]\n",
    "VCns = data[::,10:20]\n",
    "eigs = data[::,20::]"
   ]
  },
  {
   "cell_type": "code",
<<<<<<< HEAD
   "execution_count": 16,
=======
   "execution_count": 26,
>>>>>>> 2d61cef066595bba7da1029f682daa266a9e0a78
   "metadata": {
    "ExecuteTime": {
     "end_time": "2016-07-15T21:54:03.398689",
     "start_time": "2016-07-15T21:54:03.390822"
    },
    "collapsed": false
   },
   "outputs": [
    {
     "name": "stdout",
     "output_type": "stream",
     "text": [
      "Data shape:  (100000, 60) \n",
      "Sine coefficients shape:  (100000, 10) \n",
      "Cosine coefficients shape:  (100000, 10) (100000, 40) \n",
      "Std. dev. shape:  (40,)\n"
     ]
    }
   ],
   "source": [
    "print(\"Data shape: \", data.shape, \n",
    "      \"\\nSine coefficients shape: \", VSns.shape,\n",
    "      \"\\nCosine coefficients shape: \", VCns.shape, eigs.shape,\n",
    "      \"\\nStd. dev. shape: \", dataSD.shape\n",
    "     )"
   ]
  },
  {
   "cell_type": "markdown",
   "metadata": {},
   "source": [
    "# Preprocessing\n",
    "\n",
    "We know that the spectrum is symmetric under $x\\to -x$. We can build this into our dataset. To do this, we duplicate the entire dataset but set all the Sine coefficients to their negative value. This is equivalent to taking $x\\to-x$.\n",
    "\n",
    "We extract the values of the potentials at a discreet, linear grid of $x$ points: $\\left\\{V(x) \\,\\, \\mid \\,\\, x \\in \\{x_1,\\,x_2,\\ldots,x_{N_x}\\}\\right\\}$. This grid of potential values will serve as the input to our NN model."
   ]
  },
  {
   "cell_type": "code",
<<<<<<< HEAD
   "execution_count": 17,
   "metadata": {
    "ExecuteTime": {
     "end_time": "2016-07-15T21:54:03.409950",
     "start_time": "2016-07-15T21:54:03.401966"
    },
    "collapsed": true
=======
   "execution_count": 27,
   "metadata": {
    "collapsed": false
>>>>>>> 2d61cef066595bba7da1029f682daa266a9e0a78
   },
   "outputs": [],
   "source": [
    "import preproc"
   ]
  },
  {
   "cell_type": "code",
<<<<<<< HEAD
   "execution_count": 18,
   "metadata": {
    "ExecuteTime": {
     "end_time": "2016-07-15T21:54:04.177240",
     "start_time": "2016-07-15T21:54:03.413578"
    },
    "collapsed": false
   },
   "outputs": [
    {
     "name": "stdout",
     "output_type": "stream",
     "text": [
      "First 4 values of Vgrid[78696]: [-6.5365948  -6.97817217 -7.21272515 -7.1882941 ]\n",
      "Last 4 values of VgridFlipped[78696]: [-7.1882941  -7.21272515 -6.97817217 -6.5365948 ]\n"
     ]
    }
   ],
   "source": [
    "# Number of x coordinates:\n",
    "Nx = 100\n",
    "xs = np.linspace(-1,1,Nx)\n",
    "\n",
    "# The coordinate space potentials:\n",
    "VSs = VS(ns,xs)\n",
    "VCs = VC(ns,xs)\n",
    "Vgrid = np.dot(VSns,VSs) + np.dot(VCns,VCs)\n",
    "VgridFlipped = np.dot(-VSns,VSs) + np.dot(VCns,VCs)\n",
    "\n",
    "# Make sure the flip worked by looking at a random potential:\n",
    "rint = randint(0, NV)\n",
    "print(\"First 4 values of Vgrid[\"+str(rint)+\"]:\" , Vgrid[rint][0:4])\n",
    "print(\"Last 4 values of VgridFlipped[\"+str(rint)+\"]:\", VgridFlipped[rint][-4::])"
   ]
  },
  {
   "cell_type": "code",
   "execution_count": 19,
=======
   "execution_count": 28,
>>>>>>> 2d61cef066595bba7da1029f682daa266a9e0a78
   "metadata": {
    "ExecuteTime": {
     "end_time": "2016-07-15T21:54:05.491450",
     "start_time": "2016-07-15T21:54:04.179075"
    },
    "collapsed": false
   },
   "outputs": [],
   "source": [
    "numeigs = 10\n",
<<<<<<< HEAD
    "X = np.concatenate( (Vgrid, VgridFlipped) )\n",
    "y = np.concatenate( (eigs, eigs) )[::,1:numeigs+1]\n",
    "\n",
    "pathOut = \"../Data/potentialGrid_\" + str(NV) \\\n",
    "    + \"_NB\" + str(NB) + \"_lam\" \\\n",
    "    + str(lam) + \"_V20\" + str(V20) + \".npy\"\n",
    "    \n",
    "Vgridout = np.concatenate((X,y), axis = 1)\n",
    "np.save( pathOut, Vgridout )"
=======
    "Vgrid = preproc.potential_grid(ns, xs, VSns, VCns)\n",
    "X = preproc.reflect_then_cat(Vgrid)\n",
    "y = np.concatenate( (eigs, eigs) )[::,1:numeigs+1]"
>>>>>>> 2d61cef066595bba7da1029f682daa266a9e0a78
   ]
  },
  {
   "cell_type": "code",
<<<<<<< HEAD
   "execution_count": 20,
=======
   "execution_count": 29,
>>>>>>> 2d61cef066595bba7da1029f682daa266a9e0a78
   "metadata": {
    "ExecuteTime": {
     "end_time": "2016-07-15T21:54:05.817086",
     "start_time": "2016-07-15T21:54:05.493957"
    },
    "collapsed": false
   },
   "outputs": [
    {
     "name": "stdout",
     "output_type": "stream",
     "text": [
<<<<<<< HEAD
      "X shape, y shape:  (200000, 100) (200000, 10)\n",
      "X_train shape, y_train shape:  (120000, 100) (120000, 10)\n",
      "X_test shape, y_test shape:  (80000, 100) (80000, 10)\n"
=======
      "X shape, y shape:  (20000, 50) (20000, 10)\n",
      "X_train shape, y_train shape:  (14000, 50) (14000, 10)\n",
      "X_test shape, y_test shape:  (6000, 50) (6000, 10)\n"
>>>>>>> 2d61cef066595bba7da1029f682daa266a9e0a78
     ]
    }
   ],
   "source": [
    "# Split test and train\n",
    "test_frac = 0.3\n",
    "random_state = 5\n",
    "X_train, X_test, y_train, y_test = train_test_split(\n",
    "    X, y, test_size=test_frac, random_state=random_state\n",
    ")\n",
    "print(\"X shape, y shape: \", X.shape, y.shape)\n",
    "print(\"X_train shape, y_train shape: \", X_train.shape, y_train.shape)\n",
    "print(\"X_test shape, y_test shape: \", X_test.shape, y_test.shape)"
   ]
  },
  {
   "cell_type": "markdown",
   "metadata": {},
   "source": [
    "# Neural network"
   ]
  },
  {
   "cell_type": "markdown",
   "metadata": {
    "collapsed": true
   },
   "source": [
    "## Pipeline\n",
    "We build a pipeline with 2 steps:\n",
    "\n",
    "1. Scale the inputs.\n",
    "2. Train the Neural network."
   ]
  },
  {
   "cell_type": "code",
<<<<<<< HEAD
   "execution_count": 21,
=======
   "execution_count": 30,
>>>>>>> 2d61cef066595bba7da1029f682daa266a9e0a78
   "metadata": {
    "ExecuteTime": {
     "end_time": "2016-07-15T21:54:05.851103",
     "start_time": "2016-07-15T21:54:05.819322"
    },
    "collapsed": true
   },
   "outputs": [],
   "source": [
    "from sklearn.preprocessing import StandardScaler\n",
    "from sklearn.neural_network import MLPRegressor\n",
    "from sklearn.pipeline import Pipeline"
   ]
  },
  {
   "cell_type": "code",
<<<<<<< HEAD
   "execution_count": 22,
=======
   "execution_count": 31,
>>>>>>> 2d61cef066595bba7da1029f682daa266a9e0a78
   "metadata": {
    "ExecuteTime": {
     "end_time": "2016-07-15T21:54:05.889032",
     "start_time": "2016-07-15T21:54:05.852889"
    },
    "collapsed": false
   },
   "outputs": [],
   "source": [
    "# The Scaler\n",
    "scale = StandardScaler(with_std=False)\n",
    "\n",
    "# The NN regression model\n",
    "from sklearn.neural_network import MLPRegressor\n",
    "from sklearn.preprocessing import StandardScaler\n",
    "hidden_layers = (100,)\n",
    "regr =MLPRegressor(hidden_layer_sizes=hidden_layers,\n",
    "                   activation = 'tanh',\n",
    "                   algorithm = 'adam',\n",
    "                   alpha = 0.1,\n",
    "                   beta_1 = 0.85,\n",
    "                   beta_2 = 0.9,\n",
    "                   batch_size = 'auto',\n",
    "                   max_iter = 500,\n",
    "                   tol = 1e-6,\n",
    "                   learning_rate_init = 0.001,\n",
    "                   verbose = False\n",
    "                 )\n",
    "\n",
    "steps = [('scale', scale), ('regr', regr)]\n",
    "model = Pipeline(steps)\n",
    "#pprint.pprint(model.get_params())"
   ]
  },
  {
   "cell_type": "markdown",
   "metadata": {},
   "source": [
    "## Model selection\n",
    "We now use grid search to determine the optimum values of some import hyperparameters for the neural network model. For descriptions of the neural network parameters, the `scikit-learn` documentation for [`sklearn.neural_network.MLPRegressor`](http://scikit-learn.org/dev/modules/generated/sklearn.neural_network.MLPRegressor.html)."
   ]
  },
  {
   "cell_type": "markdown",
   "metadata": {},
   "source": [
    "### Architecture tuning"
   ]
  },
  {
   "cell_type": "markdown",
   "metadata": {},
   "source": [
    "#### A single hidden layer"
   ]
  },
  {
   "cell_type": "code",
<<<<<<< HEAD
   "execution_count": 23,
=======
   "execution_count": 32,
>>>>>>> 2d61cef066595bba7da1029f682daa266a9e0a78
   "metadata": {
    "ExecuteTime": {
     "end_time": "2016-07-15T21:54:05.904164",
     "start_time": "2016-07-15T21:54:05.892225"
    },
    "collapsed": false
   },
   "outputs": [
    {
     "name": "stdout",
     "output_type": "stream",
     "text": [
      "Fitting 3 folds for each of 8 candidates, totalling 24 fits\n",
      "[CV] regr__hidden_layer_sizes=(30,) ..................................\n",
      "[CV] regr__hidden_layer_sizes=(30,) ..................................\n",
      "[CV] regr__hidden_layer_sizes=(30,) ..................................\n",
      "[CV] regr__hidden_layer_sizes=(40,) ..................................\n",
      "[CV] regr__hidden_layer_sizes=(40,) ..................................\n",
      "[CV] regr__hidden_layer_sizes=(40,) ..................................\n",
      "[CV] ......... regr__hidden_layer_sizes=(30,), score=0.957759 -  47.8s\n",
      "[CV] regr__hidden_layer_sizes=(50,) ..................................\n",
      "[CV] ......... regr__hidden_layer_sizes=(40,), score=0.968450 -  55.9s\n",
      "[CV] regr__hidden_layer_sizes=(50,) ..................................\n",
      "[CV] ......... regr__hidden_layer_sizes=(30,), score=0.955604 -  59.6s\n",
      "[CV] regr__hidden_layer_sizes=(50,) ..................................\n",
      "[CV] ......... regr__hidden_layer_sizes=(30,), score=0.961466 - 1.0min\n",
      "[CV] regr__hidden_layer_sizes=(60,) ..................................\n",
      "[CV] ......... regr__hidden_layer_sizes=(40,), score=0.970084 - 1.1min\n",
      "[CV] regr__hidden_layer_sizes=(60,) ..................................\n",
      "[CV] ......... regr__hidden_layer_sizes=(40,), score=0.972665 - 1.3min\n",
      "[CV] regr__hidden_layer_sizes=(60,) ..................................\n",
      "[CV] ......... regr__hidden_layer_sizes=(50,), score=0.976538 - 1.1min\n",
      "[CV] regr__hidden_layer_sizes=(70,) ..................................\n",
      "[CV] ......... regr__hidden_layer_sizes=(50,), score=0.973517 - 1.1min\n",
      "[CV] regr__hidden_layer_sizes=(70,) ..................................\n",
      "[CV] ......... regr__hidden_layer_sizes=(60,), score=0.973579 - 1.0min\n",
      "[CV] regr__hidden_layer_sizes=(70,) ..................................\n",
      "[CV] ......... regr__hidden_layer_sizes=(50,), score=0.976301 - 1.1min\n",
      "[CV] regr__hidden_layer_sizes=(80,) ..................................\n",
      "[CV] ......... regr__hidden_layer_sizes=(60,), score=0.978282 - 1.0min\n",
      "[CV] regr__hidden_layer_sizes=(80,) ..................................\n",
      "[CV] ......... regr__hidden_layer_sizes=(60,), score=0.977950 - 1.3min\n",
      "[CV] regr__hidden_layer_sizes=(80,) ..................................\n",
      "[CV] ......... regr__hidden_layer_sizes=(70,), score=0.985099 - 1.2min\n",
      "[CV] regr__hidden_layer_sizes=(90,) ..................................\n"
     ]
    },
    {
     "name": "stderr",
     "output_type": "stream",
     "text": [
      "[Parallel(n_jobs=6)]: Done  13 tasks      | elapsed:  3.3min\n"
     ]
    },
    {
     "name": "stdout",
     "output_type": "stream",
     "text": [
      "[CV] ......... regr__hidden_layer_sizes=(70,), score=0.983222 - 1.3min\n",
      "[CV] regr__hidden_layer_sizes=(90,) ..................................\n",
      "[CV] ......... regr__hidden_layer_sizes=(70,), score=0.980398 - 1.5min\n",
      "[CV] regr__hidden_layer_sizes=(90,) ..................................\n",
      "[CV] ......... regr__hidden_layer_sizes=(80,), score=0.983889 - 1.4min\n",
      "[CV] regr__hidden_layer_sizes=(100,) .................................\n",
      "[CV] ......... regr__hidden_layer_sizes=(80,), score=0.984412 - 1.5min\n",
      "[CV] regr__hidden_layer_sizes=(100,) .................................\n",
      "[CV] ......... regr__hidden_layer_sizes=(80,), score=0.986346 - 1.5min\n",
      "[CV] regr__hidden_layer_sizes=(100,) .................................\n",
      "[CV] ......... regr__hidden_layer_sizes=(90,), score=0.984662 - 1.4min\n",
      "[CV] ......... regr__hidden_layer_sizes=(90,), score=0.986085 - 1.5min\n",
      "[CV] ......... regr__hidden_layer_sizes=(90,), score=0.986095 - 1.6min\n",
      "[CV] ........ regr__hidden_layer_sizes=(100,), score=0.985146 - 1.5min\n",
      "[CV] ........ regr__hidden_layer_sizes=(100,), score=0.982498 - 1.2min\n",
      "[CV] ........ regr__hidden_layer_sizes=(100,), score=0.986487 - 1.2min\n"
     ]
    },
    {
     "name": "stderr",
     "output_type": "stream",
     "text": [
      "[Parallel(n_jobs=6)]: Done  24 out of  24 | elapsed:  5.0min finished\n"
     ]
    }
   ],
   "source": [
    "from sklearn.model_selection import GridSearchCV\n",
    "params_A1 = dict(\n",
    "    regr__hidden_layer_sizes = [(30,),(40,),(50,),(60,),(70,),(80,),(90,),(100,)]\n",
    "    )\n",
    "\n",
    "model_gs_A1 = GridSearchCV(model, \n",
    "                        param_grid = params_A1,\n",
    "                        verbose = 4,\n",
    "                        n_jobs = 6\n",
    "                       )\n",
    "model_gs_A1.fit(X_train, y_train);"
   ]
  },
  {
   "cell_type": "code",
<<<<<<< HEAD
   "execution_count": null,
=======
   "execution_count": 33,
>>>>>>> 2d61cef066595bba7da1029f682daa266a9e0a78
   "metadata": {
    "ExecuteTime": {
     "start_time": "2016-07-16T01:54:03.075Z"
    },
    "collapsed": false
   },
   "outputs": [
    {
     "name": "stdout",
     "output_type": "stream",
     "text": [
      "Optimal_params:  {'regr__hidden_layer_sizes': (90,)}\n"
     ]
    }
   ],
   "source": [
    "print(\"Optimal_params: \", model_gs_A1.best_params_)\n",
    "A1_df = pd.DataFrame(model_gs_A1.results_)"
   ]
  },
  {
   "cell_type": "markdown",
   "metadata": {},
   "source": [
    "#### Two hidden layers"
   ]
  },
  {
   "cell_type": "code",
<<<<<<< HEAD
   "execution_count": null,
=======
   "execution_count": 34,
>>>>>>> 2d61cef066595bba7da1029f682daa266a9e0a78
   "metadata": {
    "ExecuteTime": {
     "start_time": "2016-07-16T01:54:03.077Z"
    },
    "collapsed": false
   },
   "outputs": [
    {
     "name": "stdout",
     "output_type": "stream",
     "text": [
<<<<<<< HEAD
      "Fitting 3 folds for each of 42 candidates, totalling 126 fits\n",
      "[CV] regr__hidden_layer_sizes=(40, 10) ...............................\n"
=======
      "Fitting 3 folds for each of 8 candidates, totalling 24 fits\n",
      "[CV] regr__hidden_layer_sizes=(30, 30) ...............................\n",
      "[CV] regr__hidden_layer_sizes=(30, 30) ...............................\n",
      "[CV] regr__hidden_layer_sizes=(30, 30) ...............................\n",
      "[CV] regr__hidden_layer_sizes=(40, 40) ...............................\n",
      "[CV] regr__hidden_layer_sizes=(40, 40) ...............................\n",
      "[CV] regr__hidden_layer_sizes=(40, 40) ...............................\n",
      "[CV] ...... regr__hidden_layer_sizes=(30, 30), score=0.969684 - 1.2min\n",
      "[CV] regr__hidden_layer_sizes=(50, 50) ...............................\n",
      "[CV] ...... regr__hidden_layer_sizes=(30, 30), score=0.969267 - 1.2min\n",
      "[CV] regr__hidden_layer_sizes=(50, 50) ...............................\n",
      "[CV] ...... regr__hidden_layer_sizes=(40, 40), score=0.975454 - 1.3min\n",
      "[CV] regr__hidden_layer_sizes=(50, 50) ...............................\n",
      "[CV] ...... regr__hidden_layer_sizes=(30, 30), score=0.967390 - 1.3min\n",
      "[CV] regr__hidden_layer_sizes=(60, 60) ...............................\n",
      "[CV] ...... regr__hidden_layer_sizes=(40, 40), score=0.975579 - 1.3min\n",
      "[CV] regr__hidden_layer_sizes=(60, 60) ...............................\n",
      "[CV] ...... regr__hidden_layer_sizes=(40, 40), score=0.976420 - 1.3min\n",
      "[CV] regr__hidden_layer_sizes=(60, 60) ...............................\n",
      "[CV] ...... regr__hidden_layer_sizes=(50, 50), score=0.977925 - 1.5min\n",
      "[CV] regr__hidden_layer_sizes=(70, 70) ...............................\n",
      "[CV] ...... regr__hidden_layer_sizes=(50, 50), score=0.978018 - 1.5min\n",
      "[CV] regr__hidden_layer_sizes=(70, 70) ...............................\n",
      "[CV] ...... regr__hidden_layer_sizes=(50, 50), score=0.979501 - 1.7min\n",
      "[CV] regr__hidden_layer_sizes=(70, 70) ...............................\n",
      "[CV] ...... regr__hidden_layer_sizes=(60, 60), score=0.981607 - 1.7min\n",
      "[CV] regr__hidden_layer_sizes=(80, 80) ...............................\n",
      "[CV] ...... regr__hidden_layer_sizes=(60, 60), score=0.980547 - 1.9min\n",
      "[CV] regr__hidden_layer_sizes=(80, 80) ...............................\n",
      "[CV] ...... regr__hidden_layer_sizes=(60, 60), score=0.982570 - 2.0min\n",
      "[CV] regr__hidden_layer_sizes=(80, 80) ...............................\n",
      "[CV] ...... regr__hidden_layer_sizes=(70, 70), score=0.983501 - 1.8min\n",
      "[CV] regr__hidden_layer_sizes=(90, 90) ...............................\n"
     ]
    },
    {
     "name": "stderr",
     "output_type": "stream",
     "text": [
      "[Parallel(n_jobs=6)]: Done  13 tasks      | elapsed:  4.5min\n"
     ]
    },
    {
     "name": "stdout",
     "output_type": "stream",
     "text": [
      "[CV] ...... regr__hidden_layer_sizes=(80, 80), score=0.983226 - 1.8min\n",
      "[CV] regr__hidden_layer_sizes=(90, 90) ...............................\n",
      "[CV] ...... regr__hidden_layer_sizes=(80, 80), score=0.982567 - 1.7min\n",
      "[CV] regr__hidden_layer_sizes=(90, 90) ...............................\n",
      "[CV] ...... regr__hidden_layer_sizes=(70, 70), score=0.983467 - 1.9min\n",
      "[CV] regr__hidden_layer_sizes=(100, 100) .............................\n",
      "[CV] ...... regr__hidden_layer_sizes=(70, 70), score=0.982298 - 2.1min\n",
      "[CV] regr__hidden_layer_sizes=(100, 100) .............................\n",
      "[CV] ...... regr__hidden_layer_sizes=(80, 80), score=0.982877 - 1.9min\n",
      "[CV] regr__hidden_layer_sizes=(100, 100) .............................\n",
      "[CV] ...... regr__hidden_layer_sizes=(90, 90), score=0.982967 - 1.9min\n",
      "[CV] ...... regr__hidden_layer_sizes=(90, 90), score=0.983218 - 1.7min\n",
      "[CV] .... regr__hidden_layer_sizes=(100, 100), score=0.984398 - 1.8min\n",
      "[CV] ...... regr__hidden_layer_sizes=(90, 90), score=0.984938 - 1.9min\n",
      "[CV] .... regr__hidden_layer_sizes=(100, 100), score=0.984874 - 2.0min\n",
      "[CV] .... regr__hidden_layer_sizes=(100, 100), score=0.983102 - 1.6min\n"
     ]
    },
    {
     "name": "stderr",
     "output_type": "stream",
     "text": [
      "[Parallel(n_jobs=6)]: Done  24 out of  24 | elapsed:  6.9min finished\n"
>>>>>>> 2d61cef066595bba7da1029f682daa266a9e0a78
     ]
    }
   ],
   "source": [
    "params_A2 = dict(\n",
    "    regr__hidden_layer_sizes = [(30,30),(40,40),(50,50),(60,60),(70,70),(80,80),(90,90),(100,100)]\n",
    "    )\n",
    "\n",
    "model_gs_A2 = GridSearchCV(model, \n",
    "                        param_grid = params_A2,\n",
    "                        verbose = 4,\n",
    "                        n_jobs = 6\n",
    "                       )\n",
    "model_gs_A2.fit(X_train, y_train);"
   ]
  },
  {
   "cell_type": "code",
<<<<<<< HEAD
   "execution_count": null,
=======
   "execution_count": 44,
>>>>>>> 2d61cef066595bba7da1029f682daa266a9e0a78
   "metadata": {
    "ExecuteTime": {
     "start_time": "2016-07-16T01:54:03.080Z"
    },
    "collapsed": false
   },
<<<<<<< HEAD
   "outputs": [],
=======
   "outputs": [
    {
     "name": "stdout",
     "output_type": "stream",
     "text": [
      "Optimal_params:  {'regr__hidden_layer_sizes': (100, 100)}\n"
     ]
    }
   ],
>>>>>>> 2d61cef066595bba7da1029f682daa266a9e0a78
   "source": [
    "print(\"Optimal_params: \", model_gs_A2.best_params_)\n",
    "A2_df = pd.DataFrame(model_gs_A2.results_)"
   ]
  },
  {
   "cell_type": "markdown",
   "metadata": {},
   "source": [
    "#### Plot of architecture dependence"
   ]
  },
  {
   "cell_type": "code",
<<<<<<< HEAD
   "execution_count": null,
=======
   "execution_count": 45,
>>>>>>> 2d61cef066595bba7da1029f682daa266a9e0a78
   "metadata": {
    "ExecuteTime": {
     "start_time": "2016-07-16T01:54:03.082Z"
    },
    "collapsed": false
   },
<<<<<<< HEAD
   "outputs": [],
=======
   "outputs": [
    {
     "data": {
      "text/plain": [
       "Index(['param_regr__hidden_layer_sizes', 'params', 'test_mean_score',\n",
       "       'test_rank_score', 'test_split0_score', 'test_split1_score',\n",
       "       'test_split2_score', 'test_std_score'],\n",
       "      dtype='object')"
      ]
     },
     "execution_count": 45,
     "metadata": {},
     "output_type": "execute_result"
    }
   ],
>>>>>>> 2d61cef066595bba7da1029f682daa266a9e0a78
   "source": [
    "A2_df.columns"
   ]
  },
  {
   "cell_type": "code",
<<<<<<< HEAD
   "execution_count": null,
=======
   "execution_count": 47,
>>>>>>> 2d61cef066595bba7da1029f682daa266a9e0a78
   "metadata": {
    "ExecuteTime": {
     "start_time": "2016-07-16T01:54:03.084Z"
    },
    "collapsed": false
   },
<<<<<<< HEAD
   "outputs": [],
=======
   "outputs": [
    {
     "data": {
      "image/png": "iVBORw0KGgoAAAANSUhEUgAAAYYAAAEPCAYAAABGP2P1AAAABHNCSVQICAgIfAhkiAAAAAlwSFlz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\nSUVORK5CYII=\n",
      "text/plain": [
       "<matplotlib.figure.Figure at 0x7f64d80b1a20>"
      ]
     },
     "metadata": {},
     "output_type": "display_data"
    }
   ],
>>>>>>> 2d61cef066595bba7da1029f682daa266a9e0a78
   "source": [
    "x = np.linspace(1,10, len(A1_df.test_mean_score))\n",
    "plt.xlim = [0,11]\n",
    "plt.plot(x, np.abs(1-A1_df.test_mean_score), color = 'r', marker = 'o', label=\"1 layer\")\n",
    "plt.plot(x, np.abs(1-A2_df.test_mean_score), color = 'b', marker = '^', label=\"2 layers\")\n",
    "plt.axis([0, 11, 0, 0.05])\n",
    "plt.xlabel('Parameter case')\n",
    "plt.ylabel('% Error')\n",
    "plt.show()"
   ]
  },
  {
   "cell_type": "markdown",
   "metadata": {},
   "source": [
    "We will use the 6th case of the single-layer NN. Beyond this point, you get diminishing returns, and it doesn't appear that the 2-layer network offers any improvement."
   ]
  },
  {
   "cell_type": "markdown",
   "metadata": {},
   "source": [
    "### Hyperparameter tuning"
   ]
  },
  {
   "cell_type": "code",
   "execution_count": 38,
   "metadata": {
    "ExecuteTime": {
     "start_time": "2016-07-16T01:54:03.087Z"
    },
    "collapsed": false
   },
   "outputs": [
    {
     "name": "stdout",
     "output_type": "stream",
     "text": [
      "Fitting 3 folds for each of 12 candidates, totalling 36 fits\n",
      "[CV] regr__beta_2=0.8, regr__alpha=0.09, regr__beta_1=0.75, regr__hidden_layer_sizes=(50, 50) \n",
      "[CV] regr__beta_2=0.8, regr__alpha=0.09, regr__beta_1=0.75, regr__hidden_layer_sizes=(50, 50) \n",
      "[CV] regr__beta_2=0.8, regr__alpha=0.09, regr__beta_1=0.75, regr__hidden_layer_sizes=(50, 50) \n",
      "[CV] regr__beta_2=0.9, regr__alpha=0.09, regr__beta_1=0.75, regr__hidden_layer_sizes=(50, 50) \n",
      "[CV] regr__beta_2=0.9, regr__alpha=0.09, regr__beta_1=0.75, regr__hidden_layer_sizes=(50, 50) \n",
      "[CV] regr__beta_2=0.9, regr__alpha=0.09, regr__beta_1=0.75, regr__hidden_layer_sizes=(50, 50) \n",
      "[CV]  regr__beta_2=0.9, regr__alpha=0.09, regr__beta_1=0.75, regr__hidden_layer_sizes=(50, 50), score=0.977199 - 1.6min\n",
      "[CV] regr__beta_2=0.8, regr__alpha=0.09, regr__beta_1=0.85, regr__hidden_layer_sizes=(50, 50) \n",
      "[CV]  regr__beta_2=0.8, regr__alpha=0.09, regr__beta_1=0.75, regr__hidden_layer_sizes=(50, 50), score=0.982118 - 1.6min\n",
      "[CV] regr__beta_2=0.8, regr__alpha=0.09, regr__beta_1=0.85, regr__hidden_layer_sizes=(50, 50) \n",
      "[CV]  regr__beta_2=0.8, regr__alpha=0.09, regr__beta_1=0.75, regr__hidden_layer_sizes=(50, 50), score=0.978844 - 1.6min\n",
      "[CV] regr__beta_2=0.8, regr__alpha=0.09, regr__beta_1=0.85, regr__hidden_layer_sizes=(50, 50) \n",
      "[CV]  regr__beta_2=0.8, regr__alpha=0.09, regr__beta_1=0.75, regr__hidden_layer_sizes=(50, 50), score=0.978963 - 1.7min\n",
      "[CV] regr__beta_2=0.9, regr__alpha=0.09, regr__beta_1=0.85, regr__hidden_layer_sizes=(50, 50) \n",
      "[CV]  regr__beta_2=0.9, regr__alpha=0.09, regr__beta_1=0.75, regr__hidden_layer_sizes=(50, 50), score=0.978579 - 1.8min\n",
      "[CV] regr__beta_2=0.9, regr__alpha=0.09, regr__beta_1=0.85, regr__hidden_layer_sizes=(50, 50) \n",
      "[CV]  regr__beta_2=0.9, regr__alpha=0.09, regr__beta_1=0.75, regr__hidden_layer_sizes=(50, 50), score=0.981384 - 1.9min\n",
      "[CV] regr__beta_2=0.9, regr__alpha=0.09, regr__beta_1=0.85, regr__hidden_layer_sizes=(50, 50) \n",
      "[CV]  regr__beta_2=0.8, regr__alpha=0.09, regr__beta_1=0.85, regr__hidden_layer_sizes=(50, 50), score=0.980231 - 1.4min\n",
      "[CV] regr__beta_2=0.8, regr__alpha=0.1, regr__beta_1=0.75, regr__hidden_layer_sizes=(50, 50) \n",
      "[CV]  regr__beta_2=0.8, regr__alpha=0.09, regr__beta_1=0.85, regr__hidden_layer_sizes=(50, 50), score=0.977475 - 1.5min\n",
      "[CV] regr__beta_2=0.8, regr__alpha=0.1, regr__beta_1=0.75, regr__hidden_layer_sizes=(50, 50) \n",
      "[CV]  regr__beta_2=0.9, regr__alpha=0.09, regr__beta_1=0.85, regr__hidden_layer_sizes=(50, 50), score=0.981577 - 1.4min\n",
      "[CV] regr__beta_2=0.8, regr__alpha=0.1, regr__beta_1=0.75, regr__hidden_layer_sizes=(50, 50) \n",
      "[CV]  regr__beta_2=0.8, regr__alpha=0.09, regr__beta_1=0.85, regr__hidden_layer_sizes=(50, 50), score=0.978606 - 1.6min\n",
      "[CV] regr__beta_2=0.9, regr__alpha=0.1, regr__beta_1=0.75, regr__hidden_layer_sizes=(50, 50) \n",
      "[CV]  regr__beta_2=0.9, regr__alpha=0.09, regr__beta_1=0.85, regr__hidden_layer_sizes=(50, 50), score=0.979006 - 1.5min\n",
      "[CV] regr__beta_2=0.9, regr__alpha=0.1, regr__beta_1=0.75, regr__hidden_layer_sizes=(50, 50) \n",
      "[CV]  regr__beta_2=0.9, regr__alpha=0.09, regr__beta_1=0.85, regr__hidden_layer_sizes=(50, 50), score=0.980618 - 1.7min\n",
      "[CV] regr__beta_2=0.9, regr__alpha=0.1, regr__beta_1=0.75, regr__hidden_layer_sizes=(50, 50) \n",
      "[CV]  regr__beta_2=0.8, regr__alpha=0.1, regr__beta_1=0.75, regr__hidden_layer_sizes=(50, 50), score=0.976297 - 1.5min\n",
      "[CV] regr__beta_2=0.8, regr__alpha=0.1, regr__beta_1=0.85, regr__hidden_layer_sizes=(50, 50) \n"
     ]
    },
    {
     "name": "stderr",
     "output_type": "stream",
     "text": [
      "[Parallel(n_jobs=6)]: Done  13 tasks      | elapsed:  4.6min\n"
     ]
    },
    {
     "name": "stdout",
     "output_type": "stream",
     "text": [
      "[CV]  regr__beta_2=0.8, regr__alpha=0.1, regr__beta_1=0.75, regr__hidden_layer_sizes=(50, 50), score=0.979474 - 1.5min\n",
      "[CV] regr__beta_2=0.8, regr__alpha=0.1, regr__beta_1=0.85, regr__hidden_layer_sizes=(50, 50) \n",
      "[CV]  regr__beta_2=0.9, regr__alpha=0.1, regr__beta_1=0.75, regr__hidden_layer_sizes=(50, 50), score=0.980145 - 1.4min\n",
      "[CV] regr__beta_2=0.8, regr__alpha=0.1, regr__beta_1=0.85, regr__hidden_layer_sizes=(50, 50) \n",
      "[CV]  regr__beta_2=0.9, regr__alpha=0.1, regr__beta_1=0.75, regr__hidden_layer_sizes=(50, 50), score=0.976968 - 1.7min\n",
      "[CV] regr__beta_2=0.9, regr__alpha=0.1, regr__beta_1=0.85, regr__hidden_layer_sizes=(50, 50) \n",
      "[CV]  regr__beta_2=0.8, regr__alpha=0.1, regr__beta_1=0.75, regr__hidden_layer_sizes=(50, 50), score=0.978647 - 1.8min\n",
      "[CV] regr__beta_2=0.9, regr__alpha=0.1, regr__beta_1=0.85, regr__hidden_layer_sizes=(50, 50) \n",
      "[CV]  regr__beta_2=0.9, regr__alpha=0.1, regr__beta_1=0.75, regr__hidden_layer_sizes=(50, 50), score=0.976466 - 1.4min\n",
      "[CV] regr__beta_2=0.9, regr__alpha=0.1, regr__beta_1=0.85, regr__hidden_layer_sizes=(50, 50) \n",
      "[CV]  regr__beta_2=0.8, regr__alpha=0.1, regr__beta_1=0.85, regr__hidden_layer_sizes=(50, 50), score=0.978194 - 1.6min\n",
      "[CV] regr__beta_2=0.8, regr__alpha=0.11, regr__beta_1=0.75, regr__hidden_layer_sizes=(50, 50) \n",
      "[CV]  regr__beta_2=0.8, regr__alpha=0.1, regr__beta_1=0.85, regr__hidden_layer_sizes=(50, 50), score=0.975736 - 1.4min\n",
      "[CV] regr__beta_2=0.8, regr__alpha=0.11, regr__beta_1=0.75, regr__hidden_layer_sizes=(50, 50) \n",
      "[CV]  regr__beta_2=0.8, regr__alpha=0.1, regr__beta_1=0.85, regr__hidden_layer_sizes=(50, 50), score=0.977922 - 1.5min\n",
      "[CV] regr__beta_2=0.8, regr__alpha=0.11, regr__beta_1=0.75, regr__hidden_layer_sizes=(50, 50) \n",
      "[CV]  regr__beta_2=0.9, regr__alpha=0.1, regr__beta_1=0.85, regr__hidden_layer_sizes=(50, 50), score=0.981418 - 1.3min\n",
      "[CV] regr__beta_2=0.9, regr__alpha=0.11, regr__beta_1=0.75, regr__hidden_layer_sizes=(50, 50) \n",
      "[CV]  regr__beta_2=0.9, regr__alpha=0.1, regr__beta_1=0.85, regr__hidden_layer_sizes=(50, 50), score=0.977739 - 1.6min\n",
      "[CV] regr__beta_2=0.9, regr__alpha=0.11, regr__beta_1=0.75, regr__hidden_layer_sizes=(50, 50) \n",
      "[CV]  regr__beta_2=0.9, regr__alpha=0.1, regr__beta_1=0.85, regr__hidden_layer_sizes=(50, 50), score=0.981059 - 1.6min\n",
      "[CV] regr__beta_2=0.9, regr__alpha=0.11, regr__beta_1=0.75, regr__hidden_layer_sizes=(50, 50) \n",
      "[CV]  regr__beta_2=0.8, regr__alpha=0.11, regr__beta_1=0.75, regr__hidden_layer_sizes=(50, 50), score=0.975295 - 1.5min\n",
      "[CV] regr__beta_2=0.8, regr__alpha=0.11, regr__beta_1=0.85, regr__hidden_layer_sizes=(50, 50) \n",
      "[CV]  regr__beta_2=0.8, regr__alpha=0.11, regr__beta_1=0.75, regr__hidden_layer_sizes=(50, 50), score=0.978498 - 1.4min\n",
      "[CV] regr__beta_2=0.8, regr__alpha=0.11, regr__beta_1=0.85, regr__hidden_layer_sizes=(50, 50) \n",
      "[CV]  regr__beta_2=0.9, regr__alpha=0.11, regr__beta_1=0.75, regr__hidden_layer_sizes=(50, 50), score=0.975954 - 1.2min\n",
      "[CV] regr__beta_2=0.8, regr__alpha=0.11, regr__beta_1=0.85, regr__hidden_layer_sizes=(50, 50) \n",
      "[CV]  regr__beta_2=0.8, regr__alpha=0.11, regr__beta_1=0.75, regr__hidden_layer_sizes=(50, 50), score=0.977770 - 1.6min\n",
      "[CV] regr__beta_2=0.9, regr__alpha=0.11, regr__beta_1=0.85, regr__hidden_layer_sizes=(50, 50) \n",
      "[CV]  regr__beta_2=0.9, regr__alpha=0.11, regr__beta_1=0.75, regr__hidden_layer_sizes=(50, 50), score=0.976782 - 1.6min\n",
      "[CV] regr__beta_2=0.9, regr__alpha=0.11, regr__beta_1=0.85, regr__hidden_layer_sizes=(50, 50) \n",
      "[CV]  regr__beta_2=0.9, regr__alpha=0.11, regr__beta_1=0.75, regr__hidden_layer_sizes=(50, 50), score=0.972299 - 1.7min\n",
      "[CV] regr__beta_2=0.9, regr__alpha=0.11, regr__beta_1=0.85, regr__hidden_layer_sizes=(50, 50) \n",
      "[CV]  regr__beta_2=0.8, regr__alpha=0.11, regr__beta_1=0.85, regr__hidden_layer_sizes=(50, 50), score=0.974139 - 1.4min\n",
      "[CV]  regr__beta_2=0.8, regr__alpha=0.11, regr__beta_1=0.85, regr__hidden_layer_sizes=(50, 50), score=0.977626 - 1.4min\n",
      "[CV]  regr__beta_2=0.8, regr__alpha=0.11, regr__beta_1=0.85, regr__hidden_layer_sizes=(50, 50), score=0.976679 - 1.4min\n",
      "[CV]  regr__beta_2=0.9, regr__alpha=0.11, regr__beta_1=0.85, regr__hidden_layer_sizes=(50, 50), score=0.978839 - 1.4min\n",
      "[CV]  regr__beta_2=0.9, regr__alpha=0.11, regr__beta_1=0.85, regr__hidden_layer_sizes=(50, 50), score=0.977142 - 1.3min\n",
      "[CV]  regr__beta_2=0.9, regr__alpha=0.11, regr__beta_1=0.85, regr__hidden_layer_sizes=(50, 50), score=0.980131 - 1.0min\n"
     ]
    },
    {
     "name": "stderr",
     "output_type": "stream",
     "text": [
      "[Parallel(n_jobs=6)]: Done  36 out of  36 | elapsed:  9.3min finished\n"
     ]
    },
    {
     "data": {
      "text/plain": [
       "GridSearchCV(cv=None, error_score='raise',\n",
       "       estimator=Pipeline(steps=[('scale', StandardScaler(copy=True, with_mean=True, with_std=False)), ('regr', MLPRegressor(activation='tanh', algorithm='adam', alpha=0.1,\n",
       "       batch_size='auto', beta_1=0.85, beta_2=0.9, early_stopping=False,\n",
       "       epsilon=1e-08, hidden_layer_sizes=(100,), learning_rate='constant',\n",
       "     ...,\n",
       "       shuffle=True, tol=1e-06, validation_fraction=0.1, verbose=False,\n",
       "       warm_start=False))]),\n",
       "       fit_params={}, iid=True, n_jobs=6,\n",
       "       param_grid={'regr__beta_2': [0.8, 0.9], 'regr__alpha': [0.09, 0.1, 0.11], 'regr__beta_1': [0.75, 0.85], 'regr__hidden_layer_sizes': [(50, 50)]},\n",
       "       pre_dispatch='2*n_jobs', refit=True, scoring=None, verbose=4)"
      ]
     },
     "execution_count": 38,
     "metadata": {},
     "output_type": "execute_result"
    }
   ],
   "source": [
    "params_P = dict(\n",
    "    regr__hidden_layer_sizes = [(50,50)],\n",
    "    regr__alpha = [0.09, 0.1,0.11],\n",
    "    regr__beta_1 = [0.75, 0.85],\n",
    "    regr__beta_2 = [0.8,0.9]\n",
    "    )\n",
    "\n",
    "model_gs_P = GridSearchCV(model, \n",
    "                        param_grid = params_P,\n",
    "                        verbose = 4,\n",
    "                        n_jobs = 6\n",
    "                       )\n",
    "model_gs_P.fit(X_train, y_train)"
   ]
  },
  {
   "cell_type": "code",
   "execution_count": 39,
   "metadata": {
    "ExecuteTime": {
     "start_time": "2016-07-16T01:54:03.089Z"
    },
    "collapsed": false
   },
   "outputs": [
    {
     "name": "stdout",
     "output_type": "stream",
     "text": [
      "Best parameters:\n",
      "  {'regr__beta_2': 0.9, 'regr__alpha': 0.09, 'regr__beta_1': 0.85, 'regr__hidden_layer_sizes': (50, 50)}\n",
      "Best score:\n",
      " 0.980400397963\n"
     ]
    }
   ],
   "source": [
    "print(\"Best parameters:\\n \", model_gs_P.best_params_)\n",
    "print(\"Best score:\\n\", model_gs_P.best_score_)\n",
    "model_best = model_gs_P.best_estimator_"
   ]
  },
  {
   "cell_type": "code",
   "execution_count": 48,
   "metadata": {
    "ExecuteTime": {
     "start_time": "2016-07-16T01:54:03.093Z"
    },
    "collapsed": false
   },
   "outputs": [
    {
     "name": "stdout",
     "output_type": "stream",
     "text": [
      "Iteration 247, loss = 0.00273839\n",
      "Training loss did not improve more than tol=0.000001 for two consecutive epochs. Stopping.\n"
     ]
    },
    {
     "data": {
      "text/plain": [
       "Pipeline(steps=[('scale', StandardScaler(copy=True, with_mean=True, with_std=False)), ('regr', MLPRegressor(activation='tanh', algorithm='adam', alpha=0.09,\n",
       "       batch_size='auto', beta_1=0.85, beta_2=0.9, early_stopping=False,\n",
       "       epsilon=1e-08, hidden_layer_sizes=(50, 50),\n",
       "       learning_rate='consta...tate=None, shuffle=True, tol=1e-06, validation_fraction=0.1,\n",
       "       verbose=True, warm_start=True))])"
      ]
     },
     "execution_count": 48,
     "metadata": {},
     "output_type": "execute_result"
    }
   ],
   "source": [
    "model_best.set_params(regr__verbose = True, regr__warm_start = True)\n",
    "model_best.fit(X_train, y_train)"
   ]
  },
  {
   "cell_type": "code",
   "execution_count": 49,
   "metadata": {
    "ExecuteTime": {
     "start_time": "2016-07-16T01:54:03.099Z"
    },
    "collapsed": true
   },
   "outputs": [],
   "source": [
    "# Save the network:\n",
    "from sklearn.externals import joblib\n",
    "filepath = \"../Data/NN/NN\" + str(NV) \\\n",
    "    + \"_NB\" + str(NB) + \"_lam\" \\\n",
    "    + str(lam) + \"_V20\" + str(V20) + \".pkl\"\n",
    "joblib.dump(model_best, filepath);"
   ]
  },
  {
   "cell_type": "markdown",
   "metadata": {},
   "source": [
    "## Validation"
   ]
  },
  {
   "cell_type": "markdown",
   "metadata": {},
   "source": [
    "We now test the NN on the test set. We measure the error for each eigenvalue relative to the width of the distribution of that eigenvalue over all of the generated potentials. Alternatively (and similarly) one could measure the error relative to the error incurred by simply guessing that the correct value equaled the uniform square-well value."
   ]
  },
  {
   "cell_type": "code",
   "execution_count": 50,
   "metadata": {
    "ExecuteTime": {
     "start_time": "2016-07-16T01:54:03.103Z"
    },
    "collapsed": false
   },
   "outputs": [
    {
     "name": "stdout",
     "output_type": "stream",
     "text": [
      "Scaled RMS error by eigenvalue:\n",
      " [ 0.06818981  0.09077629  0.11798028  0.13206868  0.14906119  0.17305278\n",
      "  0.24143632  0.22103638  0.24872646  0.1604767 ]\n",
      "Average of scaled RMS errors:\n",
      "  0.160280489574\n"
     ]
    }
   ],
   "source": [
    "y_pred = model_best.predict(X_test)\n",
    "y_scaled_err = np.sqrt(np.mean((y_pred - y_test)**2/dataSD[0:numeigs]**2, axis = 0))\n",
    "print(\"Scaled RMS error by eigenvalue:\\n\", y_scaled_err)\n",
    "print(\"Average of scaled RMS errors:\\n \", np.mean(np.abs(y_scaled_err)))"
   ]
  },
  {
   "cell_type": "markdown",
   "metadata": {},
   "source": [
    "# Visualizing the results"
   ]
  },
  {
   "cell_type": "code",
   "execution_count": 65,
   "metadata": {
    "ExecuteTime": {
     "start_time": "2016-07-16T01:54:03.107Z"
    },
    "collapsed": false
   },
   "outputs": [
    {
     "data": {
      "text/plain": [
       "<matplotlib.figure.Figure at 0x7f64c8ad7f28>"
      ]
     },
     "metadata": {},
     "output_type": "display_data"
    },
    {
     "data": {
      "image/png": "iVBORw0KGgoAAAANSUhEUgAAA1kAAALKCAYAAADAhJtqAAAABHNCSVQICAgIfAhkiAAAAAlwSFlz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\nbRVoaXgfHAAAAABJRU5ErkJggg==\n",
      "text/plain": [
       "<matplotlib.figure.Figure at 0x7f64d8161a20>"
      ]
     },
     "metadata": {},
     "output_type": "display_data"
    },
    {
     "data": {
      "text/plain": [
       "<matplotlib.figure.Figure at 0x7f64c8ae1978>"
      ]
     },
     "metadata": {},
     "output_type": "display_data"
    }
   ],
   "source": [
    "nrows = 1\n",
    "ncols = 4\n",
    "nplot = nrows * ncols\n",
    "indplt = randint(0,X_test.shape[0], nplot)\n",
    "numeigsplt = 4\n",
    "\n",
    "def E0(n):\n",
    "    return n**2 * np.pi**2 / 8.\n",
    "\n",
    "plt.clf()\n",
    "fig, axes = plt.subplots(nrows = nrows, ncols = ncols)\n",
    "fig.set_size_inches(3*ncols,10*nrows)\n",
    "subax = axes.flat\n",
    "\n",
    "for i in range(0, len(indplt)):\n",
    "        subax[i].plot(xs, X_test[indplt[i]], linewidth = 2, label='$V(x)$')\n",
    "        subax[i].axhline(y=0,xmin=-1,xmax=1, linestyle='solid' ,color = 'k', lw=0.5)\n",
    "        for j in range(0, numeigsplt):\n",
    "            lastaxNN = subax[i].axhline(y=E0(j+1)+y_pred[indplt[i],j], xmin = -1, xmax = 1, \n",
    "                             ls = 'solid', color = 'r', lw = 3, label = 'Neural Network')\n",
    "            lastaxSE = subax[i].axhline(y=E0(j+1)+y_test[indplt[i],j], xmin = -1, xmax = 1, \n",
    "                             ls = 'dashed', color = 'k', lw =3, label = 'Schr. Eqn.')\n",
    "\n",
    "        subax[i].set_xlabel(\"x\")\n",
    "        subax[i].set_ylabel(\"V(x)\")\n",
    "        subax[i].set_ylim((-V20, 1.2*E0(numeigsplt)))\n",
    "        subax[i].legend([lastaxNN, lastaxSE], [\"Neural Network\", \"Schr. Eqn.\"])\n",
    "\n",
    "plt.tight_layout();\n",
    "plt.show();\n",
    "plt.draw();\n",
    "fig.savefig(\"../Plots/NNPred.png\");"
   ]
  },
  {
   "cell_type": "code",
   "execution_count": null,
   "metadata": {
    "collapsed": true
   },
   "outputs": [],
   "source": []
  }
 ],
 "metadata": {
  "anaconda-cloud": {},
  "kernelspec": {
   "display_name": "Python [Root]",
   "language": "python",
   "name": "Python [Root]"
  },
  "language_info": {
   "codemirror_mode": {
    "name": "ipython",
    "version": 3
   },
   "file_extension": ".py",
   "mimetype": "text/x-python",
   "name": "python",
   "nbconvert_exporter": "python",
   "pygments_lexer": "ipython3",
   "version": "3.5.1"
  },
  "toc": {
   "toc_cell": false,
   "toc_number_sections": true,
   "toc_threshold": 6,
   "toc_window_display": false
  }
 },
 "nbformat": 4,
 "nbformat_minor": 0
}
