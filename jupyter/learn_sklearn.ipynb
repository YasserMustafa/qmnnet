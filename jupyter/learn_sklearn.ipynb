{
 "cells": [
  {
   "cell_type": "markdown",
   "metadata": {},
   "source": [
    "# Introduction\n",
    "\n",
    "Using the development version of [scikit-learn](http://scikit-learn.org/dev/documentation.html), we construct a neural network (NN) regression model to map from a quantum mechanical potential to the energy levels (eigenvalues) for the single-particle system. The potential $V(x)$ is defined in the range $x\\in [-1,1]$ and has the boundary conditions $V(\\pm 1) = \\infty$. The primary purpose of this notebook is to determine the optimal parameters of the NN. We do this using $10^4$ training examples. We train using these parameters. \n",
    "\n",
    "The potentials used for training and testing are generated in [potentials.ipynb](potentials.ipynb). The eigenvalues for all potentials are calculated in [eigenvalues.ipynb](eigenvalues.ipynb).\n",
    "\n",
    "Documentation for `sklearn`'s supervised NN tools can be found here: http://scikit-learn.org/dev/modules/neural_networks_supervised.html. While already quite good, this documentation still appears to be \"under construction\"."
   ]
  },
  {
   "cell_type": "markdown",
   "metadata": {},
   "source": [
    "# Preliminaries"
   ]
  },
  {
   "cell_type": "code",
   "execution_count": 14,
   "metadata": {
    "ExecuteTime": {
     "end_time": "2016-07-15T21:54:03.271350",
     "start_time": "2016-07-15T21:54:03.063645"
    },
    "collapsed": false
   },
   "outputs": [],
   "source": [
    "%matplotlib inline\n",
    "import numpy as np\n",
    "from numpy.random import randint\n",
    "import matplotlib.pyplot as plt\n",
    "import pprint\n",
    "from sklearn.model_selection import train_test_split\n",
    "import pandas as pd"
   ]
  },
  {
   "cell_type": "code",
   "execution_count": 15,
   "metadata": {
    "ExecuteTime": {
     "end_time": "2016-07-15T21:54:03.388422",
     "start_time": "2016-07-15T21:54:03.274369"
    },
    "collapsed": false
   },
   "outputs": [],
   "source": [
    "# Number of basis states for the wavefunctions\n",
    "NBW = 50\n",
    "nbws = np.arange(1, NBW+1)\n",
    "# Number of potentials:\n",
    "NV = int(1E5)\n",
    "# Number of basis states in the potential:\n",
    "NB = 10\n",
    "ns = np.arange(1, NB+1)\n",
    "# lambda (variance of Legendre coefficients):\n",
    "lam = 0.75\n",
    "# The variance of the n=0 legendre coefficient V_0:\n",
    "V20 = 10\n",
    "\n",
    "# Input file:\n",
    "filepath = \"../Data/eigenvalues_NV\" + str(NV) \\\n",
    "    + \"_NB\" + str(NB) + \"_lam\" \\\n",
    "    + str(lam) + \"_V20\" + str(V20) + \".npy\"\n",
    "filepathSD = \"../Data/eigenvaluesSD_NV\" + str(NV) \\\n",
    "    + \"_NB\" + str(NB) + \"_lam\" \\\n",
    "    + str(lam) + \"_V20\" + str(V20) + \".npy\"\n",
    "data = np.load(filepath)\n",
    "dataSD = np.load(filepathSD)\n",
    "VSns = data[::,0:10]\n",
    "VCns = data[::,10:20]\n",
    "eigs = data[::,20::]"
   ]
  },
  {
   "cell_type": "code",
   "execution_count": 16,
   "metadata": {
    "ExecuteTime": {
     "end_time": "2016-07-15T21:54:03.398689",
     "start_time": "2016-07-15T21:54:03.390822"
    },
    "collapsed": false
   },
   "outputs": [
    {
     "name": "stdout",
     "output_type": "stream",
     "text": [
      "Data shape:  (100000, 60) \n",
      "Sine coefficients shape:  (100000, 10) \n",
      "Cosine coefficients shape:  (100000, 10) (100000, 40) \n",
      "Std. dev. shape:  (40,)\n"
     ]
    }
   ],
   "source": [
    "print(\"Data shape: \", data.shape, \n",
    "      \"\\nSine coefficients shape: \", VSns.shape,\n",
    "      \"\\nCosine coefficients shape: \", VCns.shape, eigs.shape,\n",
    "      \"\\nStd. dev. shape: \", dataSD.shape\n",
    "     )"
   ]
  },
  {
   "cell_type": "markdown",
   "metadata": {},
   "source": [
    "# Preprocessing\n",
    "\n",
    "We know that the spectrum is symmetric under $x\\to -x$. We can build this into our dataset. To do this, we duplicate the entire dataset but set all the Sine coefficients to their negative value. This is equivalent to taking $x\\to-x$.\n",
    "\n",
    "We extract the values of the potentials at a discreet, linear grid of $x$ points: $\\left\\{V(x) \\,\\, \\mid \\,\\, x \\in \\{x_1,\\,x_2,\\ldots,x_{N_x}\\}\\right\\}$. This grid of potential values will serve as the input to our NN model."
   ]
  },
  {
   "cell_type": "code",
   "execution_count": 17,
   "metadata": {
    "ExecuteTime": {
     "end_time": "2016-07-15T21:54:03.409950",
     "start_time": "2016-07-15T21:54:03.401966"
    },
    "collapsed": true
   },
   "outputs": [],
   "source": [
    "# We first define functios that help us map the Fourier-space potentials into coordinate space.\n",
    "def VS(ns, xs):\n",
    "    return np.sin(np.pi*np.outer(ns,xs))\n",
    "def VC(ns, xs):\n",
    "    return np.cos(np.pi*np.outer(ns,xs))"
   ]
  },
  {
   "cell_type": "code",
   "execution_count": 18,
   "metadata": {
    "ExecuteTime": {
     "end_time": "2016-07-15T21:54:04.177240",
     "start_time": "2016-07-15T21:54:03.413578"
    },
    "collapsed": false
   },
   "outputs": [
    {
     "name": "stdout",
     "output_type": "stream",
     "text": [
      "First 4 values of Vgrid[78696]: [-6.5365948  -6.97817217 -7.21272515 -7.1882941 ]\n",
      "Last 4 values of VgridFlipped[78696]: [-7.1882941  -7.21272515 -6.97817217 -6.5365948 ]\n"
     ]
    }
   ],
   "source": [
    "# Number of x coordinates:\n",
    "Nx = 100\n",
    "xs = np.linspace(-1,1,Nx)\n",
    "\n",
    "# The coordinate space potentials:\n",
    "VSs = VS(ns,xs)\n",
    "VCs = VC(ns,xs)\n",
    "Vgrid = np.dot(VSns,VSs) + np.dot(VCns,VCs)\n",
    "VgridFlipped = np.dot(-VSns,VSs) + np.dot(VCns,VCs)\n",
    "\n",
    "# Make sure the flip worked by looking at a random potential:\n",
    "rint = randint(0, NV)\n",
    "print(\"First 4 values of Vgrid[\"+str(rint)+\"]:\" , Vgrid[rint][0:4])\n",
    "print(\"Last 4 values of VgridFlipped[\"+str(rint)+\"]:\", VgridFlipped[rint][-4::])"
   ]
  },
  {
   "cell_type": "code",
   "execution_count": 19,
   "metadata": {
    "ExecuteTime": {
     "end_time": "2016-07-15T21:54:05.491450",
     "start_time": "2016-07-15T21:54:04.179075"
    },
    "collapsed": false
   },
   "outputs": [],
   "source": [
    "numeigs = 10\n",
    "X = np.concatenate( (Vgrid, VgridFlipped) )\n",
    "y = np.concatenate( (eigs, eigs) )[::,1:numeigs+1]\n",
    "\n",
    "pathOut = \"../Data/potentialGrid_\" + str(NV) \\\n",
    "    + \"_NB\" + str(NB) + \"_lam\" \\\n",
    "    + str(lam) + \"_V20\" + str(V20) + \".npy\"\n",
    "    \n",
    "Vgridout = np.concatenate((X,y), axis = 1)\n",
    "np.save( pathOut, Vgridout )"
   ]
  },
  {
   "cell_type": "code",
   "execution_count": 20,
   "metadata": {
    "ExecuteTime": {
     "end_time": "2016-07-15T21:54:05.817086",
     "start_time": "2016-07-15T21:54:05.493957"
    },
    "collapsed": false
   },
   "outputs": [
    {
     "name": "stdout",
     "output_type": "stream",
     "text": [
      "X shape, y shape:  (200000, 100) (200000, 10)\n",
      "X_train shape, y_train shape:  (120000, 100) (120000, 10)\n",
      "X_test shape, y_test shape:  (80000, 100) (80000, 10)\n"
     ]
    }
   ],
   "source": [
    "# Split test and train\n",
    "test_frac = 0.4\n",
    "random_state = 5\n",
    "X_train, X_test, y_train, y_test = train_test_split(\n",
    "    X, y, test_size=test_frac, random_state=random_state\n",
    ")\n",
    "print(\"X shape, y shape: \", X.shape, y.shape)\n",
    "print(\"X_train shape, y_train shape: \", X_train.shape, y_train.shape)\n",
    "print(\"X_test shape, y_test shape: \", X_test.shape, y_test.shape)"
   ]
  },
  {
   "cell_type": "markdown",
   "metadata": {},
   "source": [
    "# Neural network"
   ]
  },
  {
   "cell_type": "markdown",
   "metadata": {
    "collapsed": true
   },
   "source": [
    "## Pipeline\n",
    "We build a pipeline with 2 steps:\n",
    "\n",
    "1. Scale the inputs.\n",
    "2. Train the Neural network."
   ]
  },
  {
   "cell_type": "code",
   "execution_count": 21,
   "metadata": {
    "ExecuteTime": {
     "end_time": "2016-07-15T21:54:05.851103",
     "start_time": "2016-07-15T21:54:05.819322"
    },
    "collapsed": true
   },
   "outputs": [],
   "source": [
    "from sklearn.preprocessing import StandardScaler\n",
    "from sklearn.neural_network import MLPRegressor\n",
    "from sklearn.pipeline import Pipeline"
   ]
  },
  {
   "cell_type": "code",
   "execution_count": 22,
   "metadata": {
    "ExecuteTime": {
     "end_time": "2016-07-15T21:54:05.889032",
     "start_time": "2016-07-15T21:54:05.852889"
    },
    "collapsed": false
   },
   "outputs": [],
   "source": [
    "# The Scaler\n",
    "scale = StandardScaler(with_std=False)\n",
    "\n",
    "# The NN regression model\n",
    "from sklearn.neural_network import MLPRegressor\n",
    "from sklearn.preprocessing import StandardScaler\n",
    "hidden_layers = (100,)\n",
    "regr =MLPRegressor(hidden_layer_sizes=hidden_layers,\n",
    "                  activation = 'tanh',\n",
    "                  algorithm = 'adam',\n",
    "                  alpha = 0.1,\n",
    "                  beta_1 = 0.85,\n",
    "                  beta_2 = 0.9,\n",
    "                  batch_size = 'auto',\n",
    "                  max_iter = 500,\n",
    "                  tol = 1e-6,\n",
    "                  learning_rate_init = 0.001,\n",
    "                  verbose = False\n",
    "                 )\n",
    "\n",
    "steps = [('scale', scale), ('regr', regr)]\n",
    "model = Pipeline(steps)\n",
    "#pprint.pprint(model.get_params())"
   ]
  },
  {
   "cell_type": "markdown",
   "metadata": {},
   "source": [
    "## Model selection\n",
    "We now use grid search to determine the optimum values of some import hyperparameters for the neural network model. For descriptions of the neural network parameters, the `scikit-learn` documentation for [`sklearn.neural_network.MLPRegressor`](http://scikit-learn.org/dev/modules/generated/sklearn.neural_network.MLPRegressor.html)."
   ]
  },
  {
   "cell_type": "markdown",
   "metadata": {},
   "source": [
    "### Architecture tuning"
   ]
  },
  {
   "cell_type": "markdown",
   "metadata": {},
   "source": [
    "#### A single hidden layer"
   ]
  },
  {
   "cell_type": "code",
   "execution_count": 23,
   "metadata": {
    "ExecuteTime": {
     "end_time": "2016-07-15T21:54:05.904164",
     "start_time": "2016-07-15T21:54:05.892225"
    },
    "collapsed": false
   },
   "outputs": [],
   "source": [
    "from sklearn.model_selection import GridSearchCV\n",
    "# params_A1 = dict(\n",
    "#     regr__hidden_layer_sizes = [(20,),(30,),(40,),(50,),(60,),(70,),(80,),(90,),(100,)]\n",
    "#     )\n",
    "\n",
    "# model_gs_A1 = GridSearchCV(model, \n",
    "#                         param_grid = params_A1,\n",
    "#                         verbose = 4\n",
    "#                        )\n",
    "# model_gs_A1.fit(X_train, y_train);"
   ]
  },
  {
   "cell_type": "code",
   "execution_count": null,
   "metadata": {
    "ExecuteTime": {
     "start_time": "2016-07-16T01:54:03.075Z"
    },
    "collapsed": false
   },
   "outputs": [],
   "source": [
    "# print(\"Optimal_params: \", model_gs_A1.best_params_)\n",
    "# A1_df = pd.DataFrame(model_gs_A1.results_)"
   ]
  },
  {
   "cell_type": "markdown",
   "metadata": {},
   "source": [
    "#### Two hidden layers"
   ]
  },
  {
   "cell_type": "code",
   "execution_count": null,
   "metadata": {
    "ExecuteTime": {
     "start_time": "2016-07-16T01:54:03.077Z"
    },
    "collapsed": false
   },
   "outputs": [
    {
     "name": "stdout",
     "output_type": "stream",
     "text": [
      "Fitting 3 folds for each of 42 candidates, totalling 126 fits\n",
      "[CV] regr__hidden_layer_sizes=(40, 10) ...............................\n"
     ]
    }
   ],
   "source": [
    "params_A2 = dict(\n",
    "    regr__hidden_layer_sizes = [(40,10),(40,20),(40,30),(40,40),(40,50),(40,60),(40,70),\n",
    "                                (50,10),(50,20),(50,30),(50,40),(50,50),(50,60),(50,70),\n",
    "                               (60,10),(60,20),(60,30),(60,40),(60,50),(60,60),(60,70),\n",
    "                               (70,10),(70,20),(70,30),(70,40),(70,50),(70,60),(70,70),\n",
    "                               (80,10),(80,20),(80,30),(80,40),(80,50),(80,60),(80,70),\n",
    "                               (90,10),(90,20),(90,30),(90,40),(90,50),(90,60),(90,70)]\n",
    "    )\n",
    "\n",
    "model_gs_A2 = GridSearchCV(model, \n",
    "                        param_grid = params_A2,\n",
    "                        verbose = 4\n",
    "                       )\n",
    "model_gs_A2.fit(X_train, y_train);"
   ]
  },
  {
   "cell_type": "code",
   "execution_count": null,
   "metadata": {
    "ExecuteTime": {
     "start_time": "2016-07-16T01:54:03.080Z"
    },
    "collapsed": false
   },
   "outputs": [],
   "source": [
    "print(\"Optimal_params: \", model_gs_A2.best_params_)\n",
    "A2_df = pd.DataFrame(model_gs_A2.results_)"
   ]
  },
  {
   "cell_type": "markdown",
   "metadata": {},
   "source": [
    "#### Plot of architecture dependence"
   ]
  },
  {
   "cell_type": "code",
   "execution_count": null,
   "metadata": {
    "ExecuteTime": {
     "start_time": "2016-07-16T01:54:03.082Z"
    },
    "collapsed": false
   },
   "outputs": [],
   "source": [
    "A2_df.columns"
   ]
  },
  {
   "cell_type": "code",
   "execution_count": null,
   "metadata": {
    "ExecuteTime": {
     "start_time": "2016-07-16T01:54:03.084Z"
    },
    "collapsed": false
   },
   "outputs": [],
   "source": [
    "x = np.linspace(1,10,9)\n",
    "plt.xlim = [0,11]\n",
    "# plt.plot(x, np.abs(1-A1_df.test_mean_score), color = 'r', marker = 'o', label=\"1 layer\")\n",
    "plt.plot(x, np.abs(1-A2_df.test_mean_score), color = 'b', marker = '^', label=\"2 layers\")\n",
    "plt.axis([0, 11, 0, 0.1])\n",
    "plt.xlabel('Parameter case')\n",
    "plt.ylabel('% Error')\n",
    "plt.show()"
   ]
  },
  {
   "cell_type": "markdown",
   "metadata": {},
   "source": [
    "We will use the 6th case of the single-layer NN. Beyond this point, you get diminishing returns, and it doesn't appear that the 2-layer network offers any improvement."
   ]
  },
  {
   "cell_type": "markdown",
   "metadata": {},
   "source": [
    "### Hyperparameter tuning"
   ]
  },
  {
   "cell_type": "code",
   "execution_count": null,
   "metadata": {
    "ExecuteTime": {
     "start_time": "2016-07-16T01:54:03.087Z"
    },
    "collapsed": false
   },
   "outputs": [],
   "source": [
    "params_P = dict(\n",
    "    regr__hidden_layer_sizes = [(50,50)],\n",
    "    regr__alpha = [0.09, 0.1,0.11],\n",
    "    regr__beta_1 = [0.75, 0.85],\n",
    "    regr__beta_2 = [0.8,0.9]\n",
    "    )\n",
    "\n",
    "model_gs_P = GridSearchCV(model, \n",
    "                        param_grid = params_P,\n",
    "                        verbose = 4\n",
    "                       )\n",
    "model_gs_P.fit(X_train, y_train)"
   ]
  },
  {
   "cell_type": "code",
   "execution_count": null,
   "metadata": {
    "ExecuteTime": {
     "start_time": "2016-07-16T01:54:03.089Z"
    },
    "collapsed": false
   },
   "outputs": [],
   "source": [
    "print(\"Best parameters:\\n \", model_gs_P.best_params_)\n",
    "print(\"Best score:\\n\", model_gs_P.best_score_)\n",
    "model_best = model_gs_P.best_estimator_"
   ]
  },
  {
   "cell_type": "code",
   "execution_count": null,
   "metadata": {
    "ExecuteTime": {
     "start_time": "2016-07-16T01:54:03.093Z"
    },
    "collapsed": false
   },
   "outputs": [],
   "source": [
    "model_best.set_params(regr__verbose = True, regr__warm_start = True)\n",
    "model_best.fit(X_train, y_train)"
   ]
  },
  {
   "cell_type": "code",
   "execution_count": null,
   "metadata": {
    "ExecuteTime": {
     "start_time": "2016-07-16T01:54:03.099Z"
    },
    "collapsed": true
   },
   "outputs": [],
   "source": [
    "# Save the network:\n",
    "from sklearn.externals import joblib\n",
    "filepath = \"../Data/NN/NN\" + str(NV) \\\n",
    "    + \"_NB\" + str(NB) + \"_lam\" \\\n",
    "    + str(lam) + \"_V20\" + str(V20) + \".pkl\"\n",
    "joblib.dump(model_best, filepath);"
   ]
  },
  {
   "cell_type": "markdown",
   "metadata": {},
   "source": [
    "## Validation"
   ]
  },
  {
   "cell_type": "markdown",
   "metadata": {},
   "source": [
    "We now test the NN on the test set. We measure the error for each eigenvalue relative to the width of the distribution of that eigenvalue over all of the generated potentials. Alternatively (and similarly) one could measure the error relative to the error incurred by simply guessing that the correct value equaled the uniform square-well value."
   ]
  },
  {
   "cell_type": "code",
   "execution_count": null,
   "metadata": {
    "ExecuteTime": {
     "start_time": "2016-07-16T01:54:03.103Z"
    },
    "collapsed": false
   },
   "outputs": [],
   "source": [
    "y_pred = model_best.predict(X_test)\n",
    "y_scaled_err = np.sqrt(np.mean((y_pred - y_test)**2/dataSD[0:numeigs]**2, axis = 0))\n",
    "print(\"Scaled RMS error by eigenvalue:\\n\", y_scaled_err)\n",
    "print(\"Average of scaled RMS errors:\\n \", np.mean(np.abs(y_scaled_err)))"
   ]
  },
  {
   "cell_type": "markdown",
   "metadata": {},
   "source": [
    "# Visualizing the results"
   ]
  },
  {
   "cell_type": "code",
   "execution_count": null,
   "metadata": {
    "ExecuteTime": {
     "start_time": "2016-07-16T01:54:03.107Z"
    },
    "collapsed": false
   },
   "outputs": [],
   "source": [
    "nrows = 1\n",
    "ncols = 4\n",
    "nplot = nrows * ncols\n",
    "indplt = randint(0,X_test.shape[0], nplot)\n",
    "numeigsplt = 4\n",
    "\n",
    "def E0(n):\n",
    "    return n**2 * np.pi**2 / 8.\n",
    "\n",
    "plt.clf()\n",
    "fig, axes = plt.subplots(nrows = nrows, ncols = ncols)\n",
    "fig.set_size_inches(3*ncols,10*nrows)\n",
    "subax = axes.flat\n",
    "\n",
    "for i in range(0, len(indplt)):\n",
    "        subax[i].plot(xs, X_test[indplt[i]], linewidth = 2, label='$V(x)$')\n",
    "        subax[i].axhline(y=0,xmin=-1,xmax=1, linestyle='solid' ,color = 'k', lw=0.5)\n",
    "        for j in range(0, numeigsplt):\n",
    "            lastaxNN = subax[i].axhline(y=E0(j+1)+y_pred[indplt[i],j], xmin = -1, xmax = 1, \n",
    "                             ls = 'solid', color = 'r', lw = 3, label = 'Neural Network')\n",
    "            lastaxSE = subax[i].axhline(y=E0(j+1)+y_test[indplt[i],j], xmin = -1, xmax = 1, \n",
    "                             ls = 'dashed', color = 'k', lw =3, label = 'Schr. Eqn.')\n",
    "\n",
    "        subax[i].set_xlabel(\"x\")\n",
    "        subax[i].set_ylabel(\"V(x)\")\n",
    "        subax[i].set_ylim((-V20, 1.2*E0(numeigsplt)))\n",
    "        subax[i].legend([lastaxNN, lastaxSE], [\"Neural Network\", \"Schr. Eqn.\"])\n",
    "\n",
    "plt.tight_layout();\n",
    "plt.show();\n",
    "plt.draw()\n",
    "fig.savefig(\"../Plots/NNPred.png\")"
   ]
  }
 ],
 "metadata": {
  "anaconda-cloud": {},
  "kernelspec": {
   "display_name": "Python [Root]",
   "language": "python",
   "name": "Python [Root]"
  },
  "language_info": {
   "codemirror_mode": {
    "name": "ipython",
    "version": 3
   },
   "file_extension": ".py",
   "mimetype": "text/x-python",
   "name": "python",
   "nbconvert_exporter": "python",
   "pygments_lexer": "ipython3",
   "version": "3.5.1"
  },
  "toc": {
   "toc_cell": false,
   "toc_number_sections": true,
   "toc_threshold": 6,
   "toc_window_display": false
  }
 },
 "nbformat": 4,
 "nbformat_minor": 0
}
