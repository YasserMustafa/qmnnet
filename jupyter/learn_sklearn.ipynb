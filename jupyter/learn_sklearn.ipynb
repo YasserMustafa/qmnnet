{
 "cells": [
  {
   "cell_type": "markdown",
   "metadata": {},
   "source": [
    "# Introduction\n",
    "\n",
    "We will use the python bindings for the [FANN](http://leenissen.dk/fann/wp/) (Fast Artificial Neural Networks) C-library to construct a neural network to map from the potential (represented by Fourier components, see [potentials.ipynb](potentials.ipynb)) to the eigenvalues (really, the difference between the eigenvalues and the square-well eigenvalues normalized by $\\sqrt{\\langle V_0^2 \\rangle}$, see [eigenvalues.ipynb](eigenvalues.ipynb)). For FANN documentation, see [http://libfann.github.io/fann/docs/files/fann-h.html](http://libfann.github.io/fann/docs/files/fann-h.html)."
   ]
  },
  {
   "cell_type": "markdown",
   "metadata": {},
   "source": [
    "# Preliminaries"
   ]
  },
  {
   "cell_type": "code",
   "execution_count": 79,
   "metadata": {
    "ExecuteTime": {
     "end_time": "2016-07-10T21:51:23.541899",
     "start_time": "2016-07-10T21:51:23.431446"
    },
    "collapsed": false
   },
   "outputs": [],
   "source": [
    "%matplotlib inline\n",
    "import numpy as np\n",
    "from numpy.random import normal, randint\n",
    "import matplotlib.pyplot as plt\n",
    "from fann2 import libfann\n",
    "from sklearn.cross_validation import train_test_split\n",
    "\n",
    "# Number of basis states for the wavefunctions\n",
    "NBW = 50\n",
    "nbws = np.arange(1, NBW+1)\n",
    "# Number of potentials:\n",
    "NV = int(1E5)\n",
    "# Number of basis states in the potential:\n",
    "NB = 10\n",
    "ns = np.arange(1, NB+1)\n",
    "# lambda (variance of Legendre coefficients):\n",
    "lam = 0.75\n",
    "# The variance of the n=0 legendre coefficient V_0:\n",
    "V20 = 10\n",
    "\n",
    "# Input file:\n",
    "filepath = \"../Data/eigenvalues_NV\" + str(NV) \\\n",
    "    + \"_NB\" + str(NB) + \"_lam\" \\\n",
    "    + str(lam) + \"_V20\" + str(V20) + \".npy\"\n",
    "filepathSD = \"../Data/eigenvaluesSD_NV\" + str(NV) \\\n",
    "    + \"_NB\" + str(NB) + \"_lam\" \\\n",
    "    + str(lam) + \"_V20\" + str(V20) + \".npy\"\n",
    "data = np.load(filepath)\n",
    "dataSD = np.load(filepathSD)\n",
    "VSns = data[::,0:10]\n",
    "VCns = data[::,10:20]\n",
    "eigs = data[::,20::]"
   ]
  },
  {
   "cell_type": "code",
   "execution_count": 80,
   "metadata": {
    "ExecuteTime": {
     "end_time": "2016-07-10T21:51:23.547353",
     "start_time": "2016-07-10T21:51:23.543823"
    },
    "collapsed": false
   },
   "outputs": [
    {
     "name": "stdout",
     "output_type": "stream",
     "text": [
      "(100000, 60) (100000, 10) (100000, 10) (100000, 40)\n",
      "(40,)\n"
     ]
    }
   ],
   "source": [
    "print(data.shape, VSns.shape, VCns.shape, eigs.shape)\n",
    "print(dataSD.shape)"
   ]
  },
  {
   "cell_type": "markdown",
   "metadata": {},
   "source": [
    "# Preprocessing\n",
    "We know that the spectrum is symmetric under $x\\to -x$. We can build this into our dataset. We can duplicate the entire dataset but set all the Sine coefficients to their negative value. This effectively reflects the potential around the $y$-axis."
   ]
  },
  {
   "cell_type": "code",
   "execution_count": 81,
   "metadata": {
    "ExecuteTime": {
     "end_time": "2016-07-10T21:51:23.857246",
     "start_time": "2016-07-10T21:51:23.549713"
    },
    "collapsed": false
   },
   "outputs": [
    {
     "name": "stdout",
     "output_type": "stream",
     "text": [
      "(100000, 100)\n"
     ]
    }
   ],
   "source": [
    "def VS(ns, xs):\n",
    "    return np.sin(np.pi*np.outer(ns,xs))\n",
    "def VC(ns, xs):\n",
    "    return np.cos(np.pi*np.outer(ns,xs))\n",
    "Nx = 100\n",
    "xs = np.linspace(-1,1,Nx)\n",
    "#Vgrid = legval(xs, np.transpose(Vns))\n",
    "VSs = VS(ns,xs)\n",
    "VCs = VC(ns,xs)\n",
    "\n",
    "Vgrid = np.dot(VSns,VSs) + np.dot(VCns,VCs)\n",
    "VgridFlipped = Vgrid[::,::-1]\n",
    "print(Vgrid.shape)"
   ]
  },
  {
   "cell_type": "code",
   "execution_count": 82,
   "metadata": {
    "ExecuteTime": {
     "end_time": "2016-07-10T21:51:24.067493",
     "start_time": "2016-07-10T21:51:23.858721"
    },
    "collapsed": false
   },
   "outputs": [],
   "source": [
    "numeigs = 10\n",
    "X = np.concatenate( (np.concatenate((VSns, VCns), axis = 1), np.concatenate((-VSns, VCns), axis =1)) )\n",
    "Xgrid = np.concatenate( (Vgrid, Vgrid[::,::-1]) )\n",
    "y = np.concatenate( (eigs, eigs) )[::,1:numeigs+1]"
   ]
  },
  {
   "cell_type": "code",
   "execution_count": 83,
   "metadata": {
    "ExecuteTime": {
     "end_time": "2016-07-10T21:51:24.346137",
     "start_time": "2016-07-10T21:51:24.069927"
    },
    "collapsed": false
   },
   "outputs": [],
   "source": [
    "# Split test and train\n",
    "test_frac = 0.4\n",
    "X_train, X_test, y_train, y_test = train_test_split(\n",
    "    X, y, test_size=test_frac, random_state=7\n",
    ")\n",
    "test_frac = 0.4\n",
    "Xgrid_train, Xgrid_test, y_train, y_test = train_test_split(\n",
    "    Xgrid, y, test_size=test_frac, random_state=7\n",
    ")"
   ]
  },
  {
   "cell_type": "code",
   "execution_count": 84,
   "metadata": {
    "ExecuteTime": {
     "end_time": "2016-07-10T21:51:24.353763",
     "start_time": "2016-07-10T21:51:24.348553"
    },
    "collapsed": false
   },
   "outputs": [
    {
     "name": "stdout",
     "output_type": "stream",
     "text": [
      "(200000, 20) (200000, 10)\n",
      "(120000, 20) (120000, 10)\n",
      "(80000, 20) (80000, 10)\n",
      "(200000, 100) (200000, 10)\n",
      "(120000, 100) (120000, 10)\n",
      "(80000, 100) (80000, 10)\n"
     ]
    }
   ],
   "source": [
    "print(X.shape, y.shape)\n",
    "print(X_train.shape, y_train.shape)\n",
    "print(X_test.shape, y_test.shape)\n",
    "\n",
    "print(Xgrid.shape, y.shape)\n",
    "print(Xgrid_train.shape, y_train.shape)\n",
    "print(Xgrid_test.shape, y_test.shape)"
   ]
  },
  {
   "cell_type": "markdown",
   "metadata": {
    "collapsed": true
   },
   "source": [
    "# Neural network"
   ]
  },
  {
   "cell_type": "code",
   "execution_count": 110,
   "metadata": {
    "collapsed": false
   },
   "outputs": [],
   "source": [
    "# Initialize the NN regression model\n",
    "from sklearn.neural_network import MLPRegressor\n",
    "hidden_layers = (55,32)\n",
    "regr =MLPRegressor(hidden_layer_sizes=hidden_layers,\n",
    "                  activation = 'tanh',\n",
    "                  algorithm = 'adam',\n",
    "                  alpha = 0.0001,\n",
    "                  batch_size = 'auto',\n",
    "                  #learning_rate = 'adaptive',\n",
    "                  max_iter = 1000,\n",
    "                  tol = 1e-6,\n",
    "                  learning_rate_init = 0.001,\n",
    "                  verbose = True\n",
    "                 )"
   ]
  },
  {
   "cell_type": "code",
   "execution_count": 111,
   "metadata": {
    "collapsed": false
   },
   "outputs": [
    {
     "name": "stdout",
     "output_type": "stream",
     "text": [
      "Iteration 1, loss = 0.02382431\n",
      "Iteration 2, loss = 0.00515671\n",
      "Iteration 3, loss = 0.00287367\n",
      "Iteration 4, loss = 0.00169395\n",
      "Iteration 5, loss = 0.00115673\n",
      "Iteration 6, loss = 0.00085570\n",
      "Iteration 7, loss = 0.00070107\n",
      "Iteration 8, loss = 0.00059346\n",
      "Iteration 9, loss = 0.00052822\n",
      "Iteration 10, loss = 0.00047810\n",
      "Iteration 11, loss = 0.00043547\n",
      "Iteration 12, loss = 0.00041676\n",
      "Iteration 13, loss = 0.00039268\n",
      "Iteration 14, loss = 0.00037840\n",
      "Iteration 15, loss = 0.00036165\n",
      "Iteration 16, loss = 0.00035814\n",
      "Iteration 17, loss = 0.00035302\n",
      "Iteration 18, loss = 0.00033072\n",
      "Iteration 19, loss = 0.00032936\n",
      "Iteration 20, loss = 0.00031749\n",
      "Iteration 21, loss = 0.00031694\n",
      "Iteration 22, loss = 0.00030837\n",
      "Iteration 23, loss = 0.00030520\n",
      "Iteration 24, loss = 0.00029562\n",
      "Iteration 25, loss = 0.00029537\n",
      "Iteration 26, loss = 0.00030084\n",
      "Iteration 27, loss = 0.00029178\n",
      "Iteration 28, loss = 0.00028610\n",
      "Iteration 29, loss = 0.00028211\n",
      "Iteration 30, loss = 0.00027602\n",
      "Iteration 31, loss = 0.00027361\n",
      "Iteration 32, loss = 0.00027624\n",
      "Iteration 33, loss = 0.00026445\n",
      "Iteration 34, loss = 0.00025914\n",
      "Iteration 35, loss = 0.00026233\n",
      "Iteration 36, loss = 0.00026244\n",
      "Iteration 37, loss = 0.00025023\n",
      "Iteration 38, loss = 0.00025033\n",
      "Iteration 39, loss = 0.00024705\n",
      "Iteration 40, loss = 0.00024114\n",
      "Iteration 41, loss = 0.00024502\n",
      "Iteration 42, loss = 0.00023562\n",
      "Iteration 43, loss = 0.00023587\n",
      "Iteration 44, loss = 0.00022926\n",
      "Iteration 45, loss = 0.00023383\n",
      "Iteration 46, loss = 0.00022309\n",
      "Iteration 47, loss = 0.00021951\n",
      "Iteration 48, loss = 0.00022172\n",
      "Iteration 49, loss = 0.00021946\n",
      "Iteration 50, loss = 0.00021849\n",
      "Training loss did not improve more than tol=0.000001 for two consecutive epochs. Stopping.\n"
     ]
    }
   ],
   "source": [
    "regr.fit(Xgrid_train, y_train);"
   ]
  },
  {
   "cell_type": "code",
   "execution_count": 112,
   "metadata": {
    "collapsed": false
   },
   "outputs": [
    {
     "name": "stdout",
     "output_type": "stream",
     "text": [
      "[-0.00597718 -0.00811969  0.01739104 -0.01435447 -0.01575549 -0.02272446\n",
      " -0.01178336 -0.01526512  0.07786113  0.05217064]\n"
     ]
    }
   ],
   "source": [
    "y_pred = regr.predict(Xgrid_test)\n",
    "y_scaled_err = np.mean((y_pred - y_test)/dataSD[0:numeigs], axis = 0)\n",
    "print(y_scaled_err)"
   ]
  },
  {
   "cell_type": "markdown",
   "metadata": {},
   "source": [
    "Save the network:"
   ]
  },
  {
   "cell_type": "code",
   "execution_count": 115,
   "metadata": {
    "collapsed": false
   },
   "outputs": [],
   "source": [
    "from sklearn.externals import joblib\n",
    "import os\n",
    "os.remove(\"ChangedFile.csv\")\n",
    "# Input file:\n",
    "filepath = \"../Data/NN/NN\" + str(NV) \\\n",
    "    + \"_NB\" + str(NB) + \"_lam\" \\\n",
    "    + str(lam) + \"_V20\" + str(V20) + \".pkl\"\n",
    "joblib.dump(regr, filepath);"
   ]
  },
  {
   "cell_type": "markdown",
   "metadata": {},
   "source": [
    "# Visualizing the results"
   ]
  },
  {
   "cell_type": "code",
   "execution_count": 168,
   "metadata": {
    "collapsed": false
   },
   "outputs": [
    {
     "data": {
      "text/plain": [
       "<matplotlib.figure.Figure at 0x7fbdf8a92080>"
      ]
     },
     "metadata": {},
     "output_type": "display_data"
    },
    {
     "data": {
      "image/png": "[encoded data removed]",
      "text/plain": [
       "<matplotlib.figure.Figure at 0x7fbdf92d62b0>"
      ]
     },
     "metadata": {},
     "output_type": "display_data"
    },
    {
     "data": {
      "text/plain": [
       "<matplotlib.figure.Figure at 0x7fbdf46a0828>"
      ]
     },
     "metadata": {},
     "output_type": "display_data"
    }
   ],
   "source": [
    "nrows = 1\n",
    "ncols = 4\n",
    "nplot = nrows * ncols\n",
    "indplt = randint(0,X_test.shape[0], nplot)\n",
    "numeigsplt = 4\n",
    "\n",
    "def E0(n):\n",
    "    return n**2 * np.pi**2 / 8.\n",
    "\n",
    "plt.clf()\n",
    "fig, axes = plt.subplots(nrows = nrows, ncols = ncols)\n",
    "fig.set_size_inches(3*ncols,10*nrows)\n",
    "subax = axes.flat\n",
    "\n",
    "for i in range(0, len(indplt)):\n",
    "        subax[i].plot(xs, Xgrid_test[indplt[i]], linewidth = 2, label='$V(x)$')\n",
    "        subax[i].axhline(y=0,xmin=-1,xmax=1, linestyle='solid' ,color = 'k', lw=0.5)\n",
    "        for j in range(0, numeigsplt):\n",
    "            lastaxNN = subax[i].axhline(y=E0(j+1)+y_pred[indplt[i],j], xmin = -1, xmax = 1, \n",
    "                             ls = 'solid', color = 'r', lw = 3, label = 'Neural Network')\n",
    "            lastaxSE = subax[i].axhline(y=E0(j+1)+y_test[indplt[i],j], xmin = -1, xmax = 1, \n",
    "                             ls = 'dashed', color = 'k', lw =3, label = 'Schr. Eqn.')\n",
    "\n",
    "        subax[i].set_xlabel(\"x\")\n",
    "        subax[i].set_ylabel(\"V(x)\")\n",
    "        subax[i].set_ylim((-V20, 1.2*E0(numeigsplt)))\n",
    "        subax[i].legend([lastaxNN, lastaxSE], [\"Neural Network\", \"Schr. Eqn.\"])\n",
    "\n",
    "plt.tight_layout();\n",
    "plt.show();\n",
    "plt.draw()\n",
    "fig.savefig(\"../Plots/NNPred.png\")"
   ]
  },
  {
   "cell_type": "code",
   "execution_count": null,
   "metadata": {
    "collapsed": true
   },
   "outputs": [],
   "source": []
  }
 ],
 "metadata": {
  "anaconda-cloud": {},
  "kernelspec": {
   "display_name": "Python [Root]",
   "language": "python",
   "name": "Python [Root]"
  },
  "language_info": {
   "codemirror_mode": {
    "name": "ipython",
    "version": 3
   },
   "file_extension": ".py",
   "mimetype": "text/x-python",
   "name": "python",
   "nbconvert_exporter": "python",
   "pygments_lexer": "ipython3",
   "version": "3.5.1"
  },
  "toc": {
   "toc_cell": false,
   "toc_number_sections": true,
   "toc_threshold": 6,
   "toc_window_display": false
  }
 },
 "nbformat": 4,
 "nbformat_minor": 0
}
