{
 "cells": [
  {
   "cell_type": "markdown",
   "metadata": {},
   "source": [
    "# Introduction\n",
    "\n",
    "Using the development version of [scikit-learn](http://scikit-learn.org/dev/documentation.html), we construct a neural network (NN) regression model to map from a quantum mechanical potential to the energy levels (eigenvalues) for the single-particle system. The potential $V(x)$ is defined in the range $x\\in [-1,1]$ and has the boundary conditions $V(\\pm 1) = \\infty$. The primary purpose of this notebook is to determine the optimal parameters of the NN. We do this using $10^4$ training examples. We train using these parameters. \n",
    "\n",
    "The potentials used for training and testing are generated in [potentials.ipynb](potentials.ipynb). The eigenvalues for all potentials are calculated in [eigenvalues.ipynb](eigenvalues.ipynb).\n",
    "\n",
    "Documentation for `sklearn`'s supervised NN tools can be found here: http://scikit-learn.org/dev/modules/neural_networks_supervised.html. While already quite good, this documentation still appears to be \"under construction\"."
   ]
  },
  {
   "cell_type": "markdown",
   "metadata": {},
   "source": [
    "# Preliminaries"
   ]
  },
  {
   "cell_type": "code",
   "execution_count": 73,
   "metadata": {
    "ExecuteTime": {
     "end_time": "2016-07-12T16:54:59.975288",
     "start_time": "2016-07-12T16:54:59.960194"
    },
    "collapsed": false
   },
   "outputs": [],
   "source": [
    "%matplotlib inline\n",
    "import numpy as np\n",
    "from numpy.random import randint\n",
    "import matplotlib.pyplot as plt\n",
    "import pprint\n",
    "from sklearn.model_selection import train_test_split\n",
    "import pandas as pd"
   ]
  },
  {
   "cell_type": "code",
   "execution_count": 74,
   "metadata": {
    "ExecuteTime": {
     "end_time": "2016-07-12T16:55:00.073596",
     "start_time": "2016-07-12T16:54:59.977057"
    },
    "collapsed": false
   },
   "outputs": [],
   "source": [
    "# Number of basis states for the wavefunctions\n",
    "NBW = 50\n",
    "nbws = np.arange(1, NBW+1)\n",
    "# Number of potentials:\n",
    "NV = int(1E5)\n",
    "# Number of basis states in the potential:\n",
    "NB = 10\n",
    "ns = np.arange(1, NB+1)\n",
    "# lambda (variance of Legendre coefficients):\n",
    "lam = 0.75\n",
    "# The variance of the n=0 legendre coefficient V_0:\n",
    "V20 = 10\n",
    "\n",
    "# Input file:\n",
    "filepath = \"../Data/eigenvalues_NV\" + str(NV) \\\n",
    "    + \"_NB\" + str(NB) + \"_lam\" \\\n",
    "    + str(lam) + \"_V20\" + str(V20) + \".npy\"\n",
    "filepathSD = \"../Data/eigenvaluesSD_NV\" + str(NV) \\\n",
    "    + \"_NB\" + str(NB) + \"_lam\" \\\n",
    "    + str(lam) + \"_V20\" + str(V20) + \".npy\"\n",
    "data = np.load(filepath)\n",
    "dataSD = np.load(filepathSD)\n",
    "VSns = data[::,0:10]\n",
    "VCns = data[::,10:20]\n",
    "eigs = data[::,20::]"
   ]
  },
  {
   "cell_type": "code",
   "execution_count": 75,
   "metadata": {
    "ExecuteTime": {
     "end_time": "2016-07-12T16:55:00.083732",
     "start_time": "2016-07-12T16:55:00.075656"
    },
    "collapsed": false
   },
   "outputs": [
    {
     "name": "stdout",
     "output_type": "stream",
     "text": [
      "Data shape:  (100000, 60) \n",
      "Sine coefficients shape:  (100000, 10) \n",
      "Cosine coefficients shape:  (100000, 10) (100000, 40) \n",
      "Std. dev. shape:  (40,)\n"
     ]
    }
   ],
   "source": [
    "print(\"Data shape: \", data.shape, \n",
    "      \"\\nSine coefficients shape: \", VSns.shape,\n",
    "      \"\\nCosine coefficients shape: \", VCns.shape, eigs.shape,\n",
    "      \"\\nStd. dev. shape: \", dataSD.shape\n",
    "     )"
   ]
  },
  {
   "cell_type": "markdown",
   "metadata": {},
   "source": [
    "# Preprocessing\n",
    "\n",
    "We know that the spectrum is symmetric under $x\\to -x$. We can build this into our dataset. To do this, we duplicate the entire dataset but set all the Sine coefficients to their negative value. This is equivalent to taking $x\\to-x$.\n",
    "\n",
    "We extract the values of the potentials at a discreet, linear grid of $x$ points: $\\left\\{V(x) \\,\\, \\mid \\,\\, x \\in \\{x_1,\\,x_2,\\ldots,x_{N_x}\\}\\right\\}$. This grid of potential values will serve as the input to our NN model."
   ]
  },
  {
   "cell_type": "code",
   "execution_count": 76,
   "metadata": {
    "ExecuteTime": {
     "end_time": "2016-07-12T16:55:00.092449",
     "start_time": "2016-07-12T16:55:00.085735"
    },
    "collapsed": true
   },
   "outputs": [],
   "source": [
    "# We first define functios that help us map the Fourier-space potentials into coordinate space.\n",
    "def VS(ns, xs):\n",
    "    return np.sin(np.pi*np.outer(ns,xs))\n",
    "def VC(ns, xs):\n",
    "    return np.cos(np.pi*np.outer(ns,xs))"
   ]
  },
  {
   "cell_type": "code",
   "execution_count": 77,
   "metadata": {
    "ExecuteTime": {
     "end_time": "2016-07-12T16:55:00.725204",
     "start_time": "2016-07-12T16:55:00.094346"
    },
    "collapsed": false
   },
   "outputs": [
    {
     "name": "stdout",
     "output_type": "stream",
     "text": [
      "First 4 values of Vgrid[60991]: [ 1.11486736  0.75982662  0.25859738 -0.32690938]\n",
      "Last 4 values of VgridFlipped[60991]: [-0.32690938  0.25859738  0.75982662  1.11486736]\n"
     ]
    }
   ],
   "source": [
    "# Number of x coordinates:\n",
    "Nx = 100\n",
    "xs = np.linspace(-1,1,Nx)\n",
    "\n",
    "# The coordinate space potentials:\n",
    "VSs = VS(ns,xs)\n",
    "VCs = VC(ns,xs)\n",
    "Vgrid = np.dot(VSns,VSs) + np.dot(VCns,VCs)\n",
    "VgridFlipped = np.dot(-VSns,VSs) + np.dot(VCns,VCs)\n",
    "\n",
    "# Make sure the flip worked by looking at a random potential:\n",
    "rint = randint(0, NV)\n",
    "print(\"First 4 values of Vgrid[\"+str(rint)+\"]:\" , Vgrid[rint][0:4])\n",
    "print(\"Last 4 values of VgridFlipped[\"+str(rint)+\"]:\", VgridFlipped[rint][-4::])"
   ]
  },
  {
   "cell_type": "code",
   "execution_count": 78,
   "metadata": {
    "ExecuteTime": {
     "end_time": "2016-07-12T16:55:01.017758",
     "start_time": "2016-07-12T16:55:00.727720"
    },
    "collapsed": false
   },
   "outputs": [],
   "source": [
    "numeigs = 10\n",
    "X = np.concatenate( (Vgrid, VgridFlipped) )\n",
    "y = np.concatenate( (eigs, eigs) )[::,1:numeigs+1]"
   ]
  },
  {
   "cell_type": "code",
   "execution_count": 79,
   "metadata": {
    "ExecuteTime": {
     "end_time": "2016-07-12T16:55:01.255323",
     "start_time": "2016-07-12T16:55:01.021291"
    },
    "collapsed": false
   },
   "outputs": [
    {
     "name": "stdout",
     "output_type": "stream",
     "text": [
      "X shape, y shape:  (200000, 100) (200000, 10)\n",
      "X_train shape, y_train shape:  (120000, 100) (120000, 10)\n",
      "X_test shape, y_test shape:  (80000, 100) (80000, 10)\n"
     ]
    }
   ],
   "source": [
    "# Split test and train\n",
    "test_frac = 0.4\n",
    "random_state = 5\n",
    "X_train, X_test, y_train, y_test = train_test_split(\n",
    "    X, y, test_size=test_frac, random_state=random_state\n",
    ")\n",
    "print(\"X shape, y shape: \", X.shape, y.shape)\n",
    "print(\"X_train shape, y_train shape: \", X_train.shape, y_train.shape)\n",
    "print(\"X_test shape, y_test shape: \", X_test.shape, y_test.shape)"
   ]
  },
  {
   "cell_type": "markdown",
   "metadata": {},
   "source": [
    "# Neural network"
   ]
  },
  {
   "cell_type": "markdown",
   "metadata": {
    "collapsed": true
   },
   "source": [
    "## Pipeline\n",
    "We build a pipeline with 2 steps:\n",
    "\n",
    "1. Scale the inputs.\n",
    "2. Train the Neural network."
   ]
  },
  {
   "cell_type": "code",
   "execution_count": 80,
   "metadata": {
    "ExecuteTime": {
     "end_time": "2016-07-12T16:55:01.262869",
     "start_time": "2016-07-12T16:55:01.257394"
    },
    "collapsed": true
   },
   "outputs": [],
   "source": [
    "from sklearn.preprocessing import StandardScaler\n",
    "from sklearn.neural_network import MLPRegressor\n",
    "from sklearn.pipeline import Pipeline"
   ]
  },
  {
   "cell_type": "code",
   "execution_count": 81,
   "metadata": {
    "ExecuteTime": {
     "end_time": "2016-07-12T16:55:01.283052",
     "start_time": "2016-07-12T16:55:01.265258"
    },
    "collapsed": false
   },
   "outputs": [],
   "source": [
    "# The Scaler\n",
    "scale = StandardScaler(with_std=False)\n",
    "\n",
    "# The NN regression model\n",
    "from sklearn.neural_network import MLPRegressor\n",
    "from sklearn.preprocessing import StandardScaler\n",
    "hidden_layers = (100,)\n",
    "regr =MLPRegressor(hidden_layer_sizes=hidden_layers,\n",
    "                  activation = 'tanh',\n",
    "                  algorithm = 'adam',\n",
    "                  alpha = 0.1,\n",
    "                  beta_1 = 0.85,\n",
    "                  beta_2 = 0.9,\n",
    "                  batch_size = 'auto',\n",
    "                  max_iter = 500,\n",
    "                  tol = 1e-6,\n",
    "                  learning_rate_init = 0.001,\n",
    "                  verbose = False\n",
    "                 )\n",
    "\n",
    "steps = [('scale', scale), ('regr', regr)]\n",
    "model = Pipeline(steps)\n",
    "#pprint.pprint(model.get_params())"
   ]
  },
  {
   "cell_type": "markdown",
   "metadata": {},
   "source": [
    "## Model selection\n",
    "We now use grid search to determine the optimum values of some import hyperparameters for the neural network model. For descriptions of the neural network parameters, the `scikit-learn` documentation for [`sklearn.neural_network.MLPRegressor`](http://scikit-learn.org/dev/modules/generated/sklearn.neural_network.MLPRegressor.html)."
   ]
  },
  {
   "cell_type": "markdown",
   "metadata": {},
   "source": [
    "### Architecture tuning"
   ]
  },
  {
   "cell_type": "markdown",
   "metadata": {},
   "source": [
    "#### A single hidden layer"
   ]
  },
  {
   "cell_type": "code",
   "execution_count": 82,
   "metadata": {
    "ExecuteTime": {
     "end_time": "2016-07-12T17:33:34.879865",
     "start_time": "2016-07-12T16:55:01.285619"
    },
    "collapsed": false
   },
   "outputs": [
    {
     "name": "stdout",
     "output_type": "stream",
     "text": [
      "Fitting 3 folds for each of 9 candidates, totalling 27 fits\n",
      "[CV] regr__hidden_layer_sizes=(20,) ..................................\n",
      "[CV] ......... regr__hidden_layer_sizes=(20,), score=0.922037 -  40.5s\n",
      "[CV] regr__hidden_layer_sizes=(20,) ..................................\n",
      "[CV] ......... regr__hidden_layer_sizes=(20,), score=0.930128 -  43.6s\n",
      "[CV] regr__hidden_layer_sizes=(20,) ..................................\n",
      "[CV] ......... regr__hidden_layer_sizes=(20,), score=0.923975 -  35.6s\n",
      "[CV] regr__hidden_layer_sizes=(30,) ..................................\n",
      "[CV] ......... regr__hidden_layer_sizes=(30,), score=0.953287 -  47.6s\n",
      "[CV] regr__hidden_layer_sizes=(30,) ..................................\n",
      "[CV] ......... regr__hidden_layer_sizes=(30,), score=0.951007 -  45.4s\n",
      "[CV] regr__hidden_layer_sizes=(30,) ..................................\n",
      "[CV] ......... regr__hidden_layer_sizes=(30,), score=0.955094 -  49.6s\n",
      "[CV] regr__hidden_layer_sizes=(40,) ..................................\n",
      "[CV] ......... regr__hidden_layer_sizes=(40,), score=0.971179 -  42.3s\n",
      "[CV] regr__hidden_layer_sizes=(40,) ..................................\n",
      "[CV] ......... regr__hidden_layer_sizes=(40,), score=0.968597 -  38.0s\n",
      "[CV] regr__hidden_layer_sizes=(40,) ..................................\n",
      "[CV] ......... regr__hidden_layer_sizes=(40,), score=0.967781 -  43.1s\n",
      "[CV] regr__hidden_layer_sizes=(50,) ..................................\n",
      "[CV] ......... regr__hidden_layer_sizes=(50,), score=0.967014 -  46.0s\n",
      "[CV] regr__hidden_layer_sizes=(50,) ..................................\n",
      "[CV] ......... regr__hidden_layer_sizes=(50,), score=0.970839 -  43.9s\n",
      "[CV] regr__hidden_layer_sizes=(50,) ..................................\n",
      "[CV] ......... regr__hidden_layer_sizes=(50,), score=0.974436 -  43.0s\n",
      "[CV] regr__hidden_layer_sizes=(60,) ..................................\n",
      "[CV] ......... regr__hidden_layer_sizes=(60,), score=0.975283 -  50.3s\n",
      "[CV] regr__hidden_layer_sizes=(60,) ..................................\n",
      "[CV] ......... regr__hidden_layer_sizes=(60,), score=0.976186 -  50.6s\n",
      "[CV] regr__hidden_layer_sizes=(60,) ..................................\n",
      "[CV] ......... regr__hidden_layer_sizes=(60,), score=0.974864 -  42.0s\n",
      "[CV] regr__hidden_layer_sizes=(70,) ..................................\n",
      "[CV] ......... regr__hidden_layer_sizes=(70,), score=0.978192 -  45.2s\n",
      "[CV] regr__hidden_layer_sizes=(70,) ..................................\n",
      "[CV] ......... regr__hidden_layer_sizes=(70,), score=0.977913 -  48.8s\n",
      "[CV] regr__hidden_layer_sizes=(70,) ..................................\n",
      "[CV] ......... regr__hidden_layer_sizes=(70,), score=0.980995 -  48.2s\n",
      "[CV] regr__hidden_layer_sizes=(80,) ..................................\n",
      "[CV] ......... regr__hidden_layer_sizes=(80,), score=0.982301 -  51.3s\n",
      "[CV] regr__hidden_layer_sizes=(80,) ..................................\n",
      "[CV] ......... regr__hidden_layer_sizes=(80,), score=0.978377 -  47.8s\n",
      "[CV] regr__hidden_layer_sizes=(80,) ..................................\n",
      "[CV] ......... regr__hidden_layer_sizes=(80,), score=0.981240 -  47.3s\n",
      "[CV] regr__hidden_layer_sizes=(90,) ..................................\n",
      "[CV] ......... regr__hidden_layer_sizes=(90,), score=0.984451 -  49.1s\n",
      "[CV] regr__hidden_layer_sizes=(90,) ..................................\n",
      "[CV] ......... regr__hidden_layer_sizes=(90,), score=0.983480 -  48.8s\n",
      "[CV] regr__hidden_layer_sizes=(90,) ..................................\n",
      "[CV] ......... regr__hidden_layer_sizes=(90,), score=0.982585 -  47.9s\n",
      "[CV] regr__hidden_layer_sizes=(100,) .................................\n"
     ]
    },
    {
     "name": "stderr",
     "output_type": "stream",
     "text": [
      "[Parallel(n_jobs=1)]: Done  24 tasks       | elapsed: 18.3min\n"
     ]
    },
    {
     "name": "stdout",
     "output_type": "stream",
     "text": [
      "[CV] ........ regr__hidden_layer_sizes=(100,), score=0.983970 -  51.0s\n",
      "[CV] regr__hidden_layer_sizes=(100,) .................................\n",
      "[CV] ........ regr__hidden_layer_sizes=(100,), score=0.979301 -  45.0s\n",
      "[CV] regr__hidden_layer_sizes=(100,) .................................\n",
      "[CV] ........ regr__hidden_layer_sizes=(100,), score=0.983918 -17.7min\n"
     ]
    },
    {
     "name": "stderr",
     "output_type": "stream",
     "text": [
      "[Parallel(n_jobs=1)]: Done  27 out of  27 | elapsed: 37.6min finished\n"
     ]
    }
   ],
   "source": [
    "from sklearn.model_selection import GridSearchCV\n",
    "params_A1 = dict(\n",
    "    regr__hidden_layer_sizes = [(20,),(30,),(40,),(50,),(60,),(70,),(80,),(90,),(100,)]\n",
    "    )\n",
    "\n",
    "model_gs_A1 = GridSearchCV(model, \n",
    "                        param_grid = params_A1,\n",
    "                        verbose = 4\n",
    "                       )\n",
    "model_gs_A1.fit(X_train, y_train);"
   ]
  },
  {
   "cell_type": "code",
   "execution_count": null,
   "metadata": {
    "ExecuteTime": {
     "start_time": "2016-07-12T20:54:59.984Z"
    },
    "collapsed": false
   },
   "outputs": [
    {
     "name": "stdout",
     "output_type": "stream",
     "text": [
      "Optimal_params:  {'regr__hidden_layer_sizes': (90,)}\n"
     ]
    }
   ],
   "source": [
    "print(\"Optimal_params: \", model_gs_A1.best_params_)\n",
    "A1_df = pd.DataFrame(model_gs_A1.results_)"
   ]
  },
  {
   "cell_type": "markdown",
   "metadata": {},
   "source": [
    "#### Two hidden layers"
   ]
  },
  {
   "cell_type": "code",
   "execution_count": null,
   "metadata": {
    "ExecuteTime": {
     "start_time": "2016-07-12T20:54:59.987Z"
    },
    "collapsed": false
   },
   "outputs": [
    {
     "name": "stdout",
     "output_type": "stream",
     "text": [
      "Fitting 3 folds for each of 9 candidates, totalling 27 fits\n",
      "[CV] regr__hidden_layer_sizes=(20, 20) ...............................\n",
      "[CV] ...... regr__hidden_layer_sizes=(20, 20), score=0.953944 -  52.5s\n",
      "[CV] regr__hidden_layer_sizes=(20, 20) ...............................\n",
      "[CV] ...... regr__hidden_layer_sizes=(20, 20), score=0.950258 -  43.5s\n",
      "[CV] regr__hidden_layer_sizes=(20, 20) ...............................\n",
      "[CV] ...... regr__hidden_layer_sizes=(20, 20), score=0.951570 -  47.2s\n",
      "[CV] regr__hidden_layer_sizes=(30, 30) ...............................\n",
      "[CV] ...... regr__hidden_layer_sizes=(30, 30), score=0.969224 - 1.2min\n",
      "[CV] regr__hidden_layer_sizes=(30, 30) ...............................\n",
      "[CV] ...... regr__hidden_layer_sizes=(30, 30), score=0.968399 -  52.2s\n",
      "[CV] regr__hidden_layer_sizes=(30, 30) ...............................\n",
      "[CV] ...... regr__hidden_layer_sizes=(30, 30), score=0.968853 -  46.8s\n",
      "[CV] regr__hidden_layer_sizes=(40, 40) ...............................\n",
      "[CV] ...... regr__hidden_layer_sizes=(40, 40), score=0.974270 - 1.4min\n",
      "[CV] regr__hidden_layer_sizes=(40, 40) ...............................\n",
      "[CV] ...... regr__hidden_layer_sizes=(40, 40), score=0.978616 - 1.2min\n",
      "[CV] regr__hidden_layer_sizes=(40, 40) ...............................\n",
      "[CV] ...... regr__hidden_layer_sizes=(40, 40), score=0.975226 -  50.8s\n",
      "[CV] regr__hidden_layer_sizes=(50, 50) ...............................\n",
      "[CV] ...... regr__hidden_layer_sizes=(50, 50), score=0.981418 - 1.0min\n",
      "[CV] regr__hidden_layer_sizes=(50, 50) ...............................\n",
      "[CV] ...... regr__hidden_layer_sizes=(50, 50), score=0.980336 -  50.3s\n",
      "[CV] regr__hidden_layer_sizes=(50, 50) ...............................\n",
      "[CV] ...... regr__hidden_layer_sizes=(50, 50), score=0.980024 - 1.2min\n",
      "[CV] regr__hidden_layer_sizes=(60, 60) ...............................\n",
      "[CV] ...... regr__hidden_layer_sizes=(60, 60), score=0.980290 - 1.1min\n",
      "[CV] regr__hidden_layer_sizes=(60, 60) ...............................\n",
      "[CV] ...... regr__hidden_layer_sizes=(60, 60), score=0.982358 - 1.1min\n",
      "[CV] regr__hidden_layer_sizes=(60, 60) ...............................\n",
      "[CV] ...... regr__hidden_layer_sizes=(60, 60), score=0.983242 - 1.5min\n",
      "[CV] regr__hidden_layer_sizes=(70, 70) ...............................\n",
      "[CV] ...... regr__hidden_layer_sizes=(70, 70), score=0.985684 - 1.8min\n",
      "[CV] regr__hidden_layer_sizes=(70, 70) ...............................\n",
      "[CV] ...... regr__hidden_layer_sizes=(70, 70), score=0.985381 - 1.9min\n",
      "[CV] regr__hidden_layer_sizes=(70, 70) ...............................\n",
      "[CV] ...... regr__hidden_layer_sizes=(70, 70), score=0.982509 - 1.6min\n",
      "[CV] regr__hidden_layer_sizes=(80, 80) ...............................\n",
      "[CV] ...... regr__hidden_layer_sizes=(80, 80), score=0.985295 - 1.8min\n",
      "[CV] regr__hidden_layer_sizes=(80, 80) ...............................\n",
      "[CV] ...... regr__hidden_layer_sizes=(80, 80), score=0.985742 - 1.9min\n",
      "[CV] regr__hidden_layer_sizes=(80, 80) ...............................\n",
      "[CV] ...... regr__hidden_layer_sizes=(80, 80), score=0.985824 - 1.9min\n",
      "[CV] regr__hidden_layer_sizes=(90, 90) ...............................\n",
      "[CV] ...... regr__hidden_layer_sizes=(90, 90), score=0.988320 - 2.0min\n",
      "[CV] regr__hidden_layer_sizes=(90, 90) ...............................\n",
      "[CV] ...... regr__hidden_layer_sizes=(90, 90), score=0.985940 - 2.3min\n",
      "[CV] regr__hidden_layer_sizes=(90, 90) ...............................\n",
      "[CV] ...... regr__hidden_layer_sizes=(90, 90), score=0.985786 - 2.0min\n",
      "[CV] regr__hidden_layer_sizes=(100, 100) .............................\n"
     ]
    },
    {
     "name": "stderr",
     "output_type": "stream",
     "text": [
      "[Parallel(n_jobs=1)]: Done  24 tasks       | elapsed: 32.7min\n"
     ]
    }
   ],
   "source": [
    "params_A2 = dict(\n",
    "    regr__hidden_layer_sizes = [(20,20),(30,30),(40,40),(50,50),(60,60),(70,70),(80,80),(90,90),(100,100)]\n",
    "    )\n",
    "\n",
    "model_gs_A2 = GridSearchCV(model, \n",
    "                        param_grid = params_A2,\n",
    "                        verbose = 4\n",
    "                       )\n",
    "model_gs_A2.fit(X_train, y_train);"
   ]
  },
  {
   "cell_type": "code",
   "execution_count": null,
   "metadata": {
    "ExecuteTime": {
     "start_time": "2016-07-12T20:54:59.990Z"
    },
    "collapsed": false
   },
   "outputs": [],
   "source": [
    "print(\"Optimal_params: \", model_gs_A2.best_params_)\n",
    "A2_df = pd.DataFrame(model_gs_A2.results_)"
   ]
  },
  {
   "cell_type": "markdown",
   "metadata": {},
   "source": [
    "#### Plot of architecture dependence"
   ]
  },
  {
   "cell_type": "code",
   "execution_count": null,
   "metadata": {
    "ExecuteTime": {
     "start_time": "2016-07-12T20:54:59.995Z"
    },
    "collapsed": false
   },
   "outputs": [],
   "source": [
    "A2_df.columns"
   ]
  },
  {
   "cell_type": "code",
   "execution_count": null,
   "metadata": {
    "ExecuteTime": {
     "start_time": "2016-07-12T20:54:59.998Z"
    },
    "collapsed": false
   },
   "outputs": [],
   "source": [
    "x = np.linspace(1,10,9)\n",
    "plt.xlim = [0,11]\n",
    "plt.plot(x, np.abs(1-A1_df.test_mean_score), color = 'r', marker = 'o', label=\"1 layer\")\n",
    "plt.plot(x, np.abs(1-A2_df.test_mean_score), color = 'b', marker = '^', label=\"2 layers\")\n",
    "plt.axis([0, 11, 0, 0.1])\n",
    "plt.xlabel('Parameter case')\n",
    "plt.ylabel('% Error')\n",
    "plt.show()"
   ]
  },
  {
   "cell_type": "markdown",
   "metadata": {},
   "source": [
    "We will use the 6th case of the single-layer NN. Beyond this point, you get diminishing returns, and it doesn't appear that the 2-layer network offers any improvement."
   ]
  },
  {
   "cell_type": "markdown",
   "metadata": {},
   "source": [
    "### Hyperparameter tuning"
   ]
  },
  {
   "cell_type": "code",
   "execution_count": null,
   "metadata": {
    "ExecuteTime": {
     "start_time": "2016-07-12T20:55:00.002Z"
    },
    "collapsed": false
   },
   "outputs": [],
   "source": [
    "params_P = dict(\n",
    "    regr__hidden_layer_sizes = [(70,)],\n",
    "    regr__alpha = [0.09, 0.1,0.11],\n",
    "    regr__beta_1 = [0.75, 0.85],\n",
    "    regr__beta_2 = [0.8,0.9]\n",
    "    )\n",
    "\n",
    "model_gs_P = GridSearchCV(model, \n",
    "                        param_grid = params_P,\n",
    "                        verbose = 4\n",
    "                       )\n",
    "model_gs_P.fit(X_train, y_train)"
   ]
  },
  {
   "cell_type": "code",
   "execution_count": null,
   "metadata": {
    "ExecuteTime": {
     "start_time": "2016-07-12T20:55:00.006Z"
    },
    "collapsed": false
   },
   "outputs": [],
   "source": [
    "print(\"Best parameters:\\n \", model_gs_P.best_params_)\n",
    "print(\"Best score:\\n\", model_gs_P.best_score_)\n",
    "model_best = model_gs_P.best_estimator_"
   ]
  },
  {
   "cell_type": "code",
   "execution_count": null,
   "metadata": {
    "ExecuteTime": {
     "start_time": "2016-07-12T20:55:00.013Z"
    },
    "collapsed": false
   },
   "outputs": [],
   "source": [
    "model_best.set_params(regr__verbose = True, regr__warm_start = True)\n",
    "model_best.fit(X_train, y_train)"
   ]
  },
  {
   "cell_type": "code",
   "execution_count": null,
   "metadata": {
    "ExecuteTime": {
     "start_time": "2016-07-12T20:55:00.015Z"
    },
    "collapsed": true
   },
   "outputs": [],
   "source": [
    "# Save the network:\n",
    "from sklearn.externals import joblib\n",
    "filepath = \"../Data/NN/NN\" + str(NV) \\\n",
    "    + \"_NB\" + str(NB) + \"_lam\" \\\n",
    "    + str(lam) + \"_V20\" + str(V20) + \".pkl\"\n",
    "joblib.dump(model_best, filepath);"
   ]
  },
  {
   "cell_type": "markdown",
   "metadata": {},
   "source": [
    "## Validation"
   ]
  },
  {
   "cell_type": "markdown",
   "metadata": {},
   "source": [
    "We now test the NN on the test set. We measure the error for each eigenvalue relative to the width of the distribution of that eigenvalue over all of the generated potentials. Alternatively (and similarly) one could measure the error relative to the error incurred by simply guessing that the correct value equaled the uniform square-well value."
   ]
  },
  {
   "cell_type": "code",
   "execution_count": null,
   "metadata": {
    "ExecuteTime": {
     "start_time": "2016-07-12T20:55:00.018Z"
    },
    "collapsed": false
   },
   "outputs": [],
   "source": [
    "y_pred = model_best.predict(X_test)\n",
    "y_scaled_err = np.sqrt(np.mean((y_pred - y_test)**2/dataSD[0:numeigs]**2, axis = 0))\n",
    "print(\"Scaled RMS error by eigenvalue:\\n\", y_scaled_err)\n",
    "print(\"Average of scaled RMS errors:\\n \", np.mean(np.abs(y_scaled_err)))"
   ]
  },
  {
   "cell_type": "markdown",
   "metadata": {},
   "source": [
    "# Visualizing the results"
   ]
  },
  {
   "cell_type": "code",
   "execution_count": null,
   "metadata": {
    "ExecuteTime": {
     "start_time": "2016-07-12T20:55:00.022Z"
    },
    "collapsed": false
   },
   "outputs": [],
   "source": [
    "nrows = 1\n",
    "ncols = 4\n",
    "nplot = nrows * ncols\n",
    "indplt = randint(0,X_test.shape[0], nplot)\n",
    "numeigsplt = 4\n",
    "\n",
    "def E0(n):\n",
    "    return n**2 * np.pi**2 / 8.\n",
    "\n",
    "plt.clf()\n",
    "fig, axes = plt.subplots(nrows = nrows, ncols = ncols)\n",
    "fig.set_size_inches(3*ncols,10*nrows)\n",
    "subax = axes.flat\n",
    "\n",
    "for i in range(0, len(indplt)):\n",
    "        subax[i].plot(xs, X_test[indplt[i]], linewidth = 2, label='$V(x)$')\n",
    "        subax[i].axhline(y=0,xmin=-1,xmax=1, linestyle='solid' ,color = 'k', lw=0.5)\n",
    "        for j in range(0, numeigsplt):\n",
    "            lastaxNN = subax[i].axhline(y=E0(j+1)+y_pred[indplt[i],j], xmin = -1, xmax = 1, \n",
    "                             ls = 'solid', color = 'r', lw = 3, label = 'Neural Network')\n",
    "            lastaxSE = subax[i].axhline(y=E0(j+1)+y_test[indplt[i],j], xmin = -1, xmax = 1, \n",
    "                             ls = 'dashed', color = 'k', lw =3, label = 'Schr. Eqn.')\n",
    "\n",
    "        subax[i].set_xlabel(\"x\")\n",
    "        subax[i].set_ylabel(\"V(x)\")\n",
    "        subax[i].set_ylim((-V20, 1.2*E0(numeigsplt)))\n",
    "        subax[i].legend([lastaxNN, lastaxSE], [\"Neural Network\", \"Schr. Eqn.\"])\n",
    "\n",
    "plt.tight_layout();\n",
    "plt.show();\n",
    "plt.draw()\n",
    "fig.savefig(\"../Plots/NNPred.png\")"
   ]
  }
 ],
 "metadata": {
  "anaconda-cloud": {},
  "kernelspec": {
   "display_name": "Python [Root]",
   "language": "python",
   "name": "Python [Root]"
  },
  "language_info": {
   "codemirror_mode": {
    "name": "ipython",
    "version": 3
   },
   "file_extension": ".py",
   "mimetype": "text/x-python",
   "name": "python",
   "nbconvert_exporter": "python",
   "pygments_lexer": "ipython3",
   "version": "3.5.1"
  },
  "toc": {
   "toc_cell": false,
   "toc_number_sections": true,
   "toc_threshold": 6,
   "toc_window_display": false
  }
 },
 "nbformat": 4,
 "nbformat_minor": 0
}
