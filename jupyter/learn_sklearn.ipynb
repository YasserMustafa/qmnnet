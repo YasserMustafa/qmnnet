{
 "cells": [
  {
   "cell_type": "markdown",
   "metadata": {},
   "source": [
    "# Introduction\n",
    "\n",
    "Using the development version of [scikit-learn](http://scikit-learn.org/dev/documentation.html), we construct a neural network (NN) regression model to map from a quantum mechanical potential to the energy levels (eigenvalues) for the single-particle system. The potential $V(x)$ is defined in the range $x\\in [-1,1]$ and has the boundary conditions $V(\\pm 1) = \\infty$. The primary purpose of this notebook is to determine the optimal parameters of the NN. We do this using $10^4$ training examples. We train using these parameters. \n",
    "\n",
    "The potentials used for training and testing are generated in [potentials.ipynb](potentials.ipynb). The eigenvalues for all potentials are calculated in [eigenvalues.ipynb](eigenvalues.ipynb).\n",
    "\n",
    "Documentation for `sklearn`'s supervised NN tools can be found here: http://scikit-learn.org/dev/modules/neural_networks_supervised.html. While already quite good, this documentation still appears to be \"under construction\"."
   ]
  },
  {
   "cell_type": "markdown",
   "metadata": {},
   "source": [
    "# Preliminaries"
   ]
  },
  {
   "cell_type": "code",
   "execution_count": 1,
   "metadata": {
    "ExecuteTime": {
     "end_time": "2016-07-12T21:48:28.544756",
     "start_time": "2016-07-12T21:48:26.977849"
    },
    "collapsed": false
   },
   "outputs": [],
   "source": [
    "%matplotlib inline\n",
    "import numpy as np\n",
    "from numpy.random import randint\n",
    "import matplotlib.pyplot as plt\n",
    "import pprint\n",
    "from sklearn.model_selection import train_test_split\n",
    "import pandas as pd"
   ]
  },
  {
   "cell_type": "code",
   "execution_count": 2,
   "metadata": {
    "ExecuteTime": {
     "end_time": "2016-07-12T21:48:28.564701",
     "start_time": "2016-07-12T21:48:28.546858"
    },
    "collapsed": false
   },
   "outputs": [],
   "source": [
    "# Number of basis states for the wavefunctions\n",
    "NBW = 50\n",
    "nbws = np.arange(1, NBW+1)\n",
    "# Number of potentials:\n",
    "NV = int(1E4)\n",
    "# Number of basis states in the potential:\n",
    "NB = 10\n",
    "ns = np.arange(1, NB+1)\n",
    "# lambda (variance of Legendre coefficients):\n",
    "lam = 0.75\n",
    "# The variance of the n=0 legendre coefficient V_0:\n",
    "V20 = 10\n",
    "\n",
    "# Input file:\n",
    "filepath = \"../Data/eigenvalues_NV\" + str(NV) \\\n",
    "    + \"_NB\" + str(NB) + \"_lam\" \\\n",
    "    + str(lam) + \"_V20\" + str(V20) + \".npy\"\n",
    "filepathSD = \"../Data/eigenvaluesSD_NV\" + str(NV) \\\n",
    "    + \"_NB\" + str(NB) + \"_lam\" \\\n",
    "    + str(lam) + \"_V20\" + str(V20) + \".npy\"\n",
    "data = np.load(filepath)\n",
    "dataSD = np.load(filepathSD)\n",
    "VSns = data[::,0:10]\n",
    "VCns = data[::,10:20]\n",
    "eigs = data[::,20::]"
   ]
  },
  {
   "cell_type": "code",
   "execution_count": 3,
   "metadata": {
    "ExecuteTime": {
     "end_time": "2016-07-12T21:48:28.573818",
     "start_time": "2016-07-12T21:48:28.566798"
    },
    "collapsed": false
   },
   "outputs": [
    {
     "name": "stdout",
     "output_type": "stream",
     "text": [
      "Data shape:  (10000, 60) \n",
      "Sine coefficients shape:  (10000, 10) \n",
      "Cosine coefficients shape:  (10000, 10) (10000, 40) \n",
      "Std. dev. shape:  (40,)\n"
     ]
    }
   ],
   "source": [
    "print(\"Data shape: \", data.shape, \n",
    "      \"\\nSine coefficients shape: \", VSns.shape,\n",
    "      \"\\nCosine coefficients shape: \", VCns.shape, eigs.shape,\n",
    "      \"\\nStd. dev. shape: \", dataSD.shape\n",
    "     )"
   ]
  },
  {
   "cell_type": "markdown",
   "metadata": {},
   "source": [
    "# Preprocessing\n",
    "\n",
    "We know that the spectrum is symmetric under $x\\to -x$. We can build this into our dataset. To do this, we duplicate the entire dataset but set all the Sine coefficients to their negative value. This is equivalent to taking $x\\to-x$.\n",
    "\n",
    "We extract the values of the potentials at a discreet, linear grid of $x$ points: $\\left\\{V(x) \\,\\, \\mid \\,\\, x \\in \\{x_1,\\,x_2,\\ldots,x_{N_x}\\}\\right\\}$. This grid of potential values will serve as the input to our NN model."
   ]
  },
  {
   "cell_type": "code",
   "execution_count": 4,
   "metadata": {
    "ExecuteTime": {
     "end_time": "2016-07-12T21:48:28.582517",
     "start_time": "2016-07-12T21:48:28.576153"
    },
    "collapsed": true
   },
   "outputs": [],
   "source": [
    "# We first define functios that help us map the Fourier-space potentials into coordinate space.\n",
    "def VS(ns, xs):\n",
    "    return np.sin(np.pi*np.outer(ns,xs))\n",
    "def VC(ns, xs):\n",
    "    return np.cos(np.pi*np.outer(ns,xs))"
   ]
  },
  {
   "cell_type": "code",
   "execution_count": 5,
   "metadata": {
    "ExecuteTime": {
     "end_time": "2016-07-12T21:48:28.679361",
     "start_time": "2016-07-12T21:48:28.584548"
    },
    "collapsed": false
   },
   "outputs": [
    {
     "name": "stdout",
     "output_type": "stream",
     "text": [
      "First 4 values of Vgrid[3830]: [-0.07250594 -0.467126   -0.88626739 -1.3135663 ]\n",
      "Last 4 values of VgridFlipped[3830]: [-1.3135663  -0.88626739 -0.467126   -0.07250594]\n"
     ]
    }
   ],
   "source": [
    "# Number of x coordinates:\n",
    "Nx = 200\n",
    "xs = np.linspace(-1,1,Nx)\n",
    "\n",
    "# The coordinate space potentials:\n",
    "VSs = VS(ns,xs)\n",
    "VCs = VC(ns,xs)\n",
    "Vgrid = np.dot(VSns,VSs) + np.dot(VCns,VCs)\n",
    "VgridFlipped = np.dot(-VSns,VSs) + np.dot(VCns,VCs)\n",
    "\n",
    "# Make sure the flip worked by looking at a random potential:\n",
    "rint = randint(0, NV)\n",
    "print(\"First 4 values of Vgrid[\"+str(rint)+\"]:\" , Vgrid[rint][0:4])\n",
    "print(\"Last 4 values of VgridFlipped[\"+str(rint)+\"]:\", VgridFlipped[rint][-4::])"
   ]
  },
  {
   "cell_type": "code",
   "execution_count": 6,
   "metadata": {
    "ExecuteTime": {
     "end_time": "2016-07-12T21:48:28.711961",
     "start_time": "2016-07-12T21:48:28.681303"
    },
    "collapsed": false
   },
   "outputs": [],
   "source": [
    "numeigs = 10\n",
    "X = np.concatenate( (Vgrid, VgridFlipped) )\n",
    "y = np.concatenate( (eigs, eigs) )[::,1:numeigs+1]"
   ]
  },
  {
   "cell_type": "code",
   "execution_count": 7,
   "metadata": {
    "ExecuteTime": {
     "end_time": "2016-07-12T21:48:28.746465",
     "start_time": "2016-07-12T21:48:28.714002"
    },
    "collapsed": false
   },
   "outputs": [
    {
     "name": "stdout",
     "output_type": "stream",
     "text": [
      "X shape, y shape:  (20000, 200) (20000, 10)\n",
      "X_train shape, y_train shape:  (12000, 200) (12000, 10)\n",
      "X_test shape, y_test shape:  (8000, 200) (8000, 10)\n"
     ]
    }
   ],
   "source": [
    "# Split test and train\n",
    "test_frac = 0.4\n",
    "random_state = 5\n",
    "X_train, X_test, y_train, y_test = train_test_split(\n",
    "    X, y, test_size=test_frac, random_state=random_state\n",
    ")\n",
    "print(\"X shape, y shape: \", X.shape, y.shape)\n",
    "print(\"X_train shape, y_train shape: \", X_train.shape, y_train.shape)\n",
    "print(\"X_test shape, y_test shape: \", X_test.shape, y_test.shape)"
   ]
  },
  {
   "cell_type": "markdown",
   "metadata": {},
   "source": [
    "# Neural network"
   ]
  },
  {
   "cell_type": "markdown",
   "metadata": {
    "collapsed": true
   },
   "source": [
    "## Pipeline\n",
    "We build a pipeline with 2 steps:\n",
    "\n",
    "1. Scale the inputs.\n",
    "2. Train the Neural network."
   ]
  },
  {
   "cell_type": "code",
   "execution_count": 8,
   "metadata": {
    "ExecuteTime": {
     "end_time": "2016-07-12T21:48:28.756470",
     "start_time": "2016-07-12T21:48:28.748668"
    },
    "collapsed": true
   },
   "outputs": [],
   "source": [
    "from sklearn.preprocessing import StandardScaler\n",
    "from sklearn.neural_network import MLPRegressor\n",
    "from sklearn.pipeline import Pipeline"
   ]
  },
  {
   "cell_type": "code",
   "execution_count": 9,
   "metadata": {
    "ExecuteTime": {
     "end_time": "2016-07-12T21:48:28.773701",
     "start_time": "2016-07-12T21:48:28.758680"
    },
    "collapsed": false
   },
   "outputs": [],
   "source": [
    "# The Scaler\n",
    "scale = StandardScaler(with_std=False)\n",
    "\n",
    "# The NN regression model\n",
    "from sklearn.neural_network import MLPRegressor\n",
    "from sklearn.preprocessing import StandardScaler\n",
    "hidden_layers = (100,)\n",
    "regr =MLPRegressor(hidden_layer_sizes=hidden_layers,\n",
    "                  activation = 'tanh',\n",
    "                  algorithm = 'adam',\n",
    "                  alpha = 0.1,\n",
    "                  beta_1 = 0.85,\n",
    "                  beta_2 = 0.9,\n",
    "                  batch_size = 'auto',\n",
    "                  max_iter = 500,\n",
    "                  tol = 1e-6,\n",
    "                  learning_rate_init = 0.001,\n",
    "                  verbose = False\n",
    "                 )\n",
    "\n",
    "steps = [('scale', scale), ('regr', regr)]\n",
    "model = Pipeline(steps)\n",
    "#pprint.pprint(model.get_params())"
   ]
  },
  {
   "cell_type": "markdown",
   "metadata": {},
   "source": [
    "## Model selection\n",
    "We now use grid search to determine the optimum values of some import hyperparameters for the neural network model. For descriptions of the neural network parameters, the `scikit-learn` documentation for [`sklearn.neural_network.MLPRegressor`](http://scikit-learn.org/dev/modules/generated/sklearn.neural_network.MLPRegressor.html)."
   ]
  },
  {
   "cell_type": "markdown",
   "metadata": {},
   "source": [
    "### Architecture tuning"
   ]
  },
  {
   "cell_type": "markdown",
   "metadata": {},
   "source": [
    "#### A single hidden layer"
   ]
  },
  {
   "cell_type": "code",
   "execution_count": 10,
   "metadata": {
    "ExecuteTime": {
     "end_time": "2016-07-12T21:48:28.787023",
     "start_time": "2016-07-12T21:48:28.775962"
    },
    "collapsed": false
   },
   "outputs": [],
   "source": [
    "from sklearn.model_selection import GridSearchCV\n",
    "# params_A1 = dict(\n",
    "#     regr__hidden_layer_sizes = [(20,),(30,),(40,),(50,),(60,),(70,),(80,),(90,),(100,)]\n",
    "#     )\n",
    "\n",
    "# model_gs_A1 = GridSearchCV(model, \n",
    "#                         param_grid = params_A1,\n",
    "#                         verbose = 4\n",
    "#                        )\n",
    "# model_gs_A1.fit(X_train, y_train);"
   ]
  },
  {
   "cell_type": "code",
   "execution_count": 11,
   "metadata": {
    "ExecuteTime": {
     "end_time": "2016-07-12T21:48:28.793289",
     "start_time": "2016-07-12T21:48:28.789254"
    },
    "collapsed": false
   },
   "outputs": [],
   "source": [
    "# print(\"Optimal_params: \", model_gs_A1.best_params_)\n",
    "# A1_df = pd.DataFrame(model_gs_A1.results_)"
   ]
  },
  {
   "cell_type": "markdown",
   "metadata": {},
   "source": [
    "#### Two hidden layers"
   ]
  },
  {
   "cell_type": "code",
   "execution_count": 12,
   "metadata": {
    "ExecuteTime": {
     "end_time": "2016-07-12T22:35:08.049047",
     "start_time": "2016-07-12T21:48:28.796998"
    },
    "collapsed": false
   },
   "outputs": [
    {
     "name": "stdout",
     "output_type": "stream",
     "text": [
      "Fitting 3 folds for each of 42 candidates, totalling 126 fits\n",
      "[CV] regr__hidden_layer_sizes=(40, 10) ...............................\n",
      "[CV] ...... regr__hidden_layer_sizes=(40, 10), score=0.927412 -  12.3s\n",
      "[CV] regr__hidden_layer_sizes=(40, 10) ...............................\n",
      "[CV] ...... regr__hidden_layer_sizes=(40, 10), score=0.946137 -  15.8s\n",
      "[CV] regr__hidden_layer_sizes=(40, 10) ...............................\n",
      "[CV] ...... regr__hidden_layer_sizes=(40, 10), score=0.947047 -  18.4s\n",
      "[CV] regr__hidden_layer_sizes=(40, 20) ...............................\n",
      "[CV] ...... regr__hidden_layer_sizes=(40, 20), score=0.955486 -  16.9s\n",
      "[CV] regr__hidden_layer_sizes=(40, 20) ...............................\n",
      "[CV] ...... regr__hidden_layer_sizes=(40, 20), score=0.953705 -  18.5s\n",
      "[CV] regr__hidden_layer_sizes=(40, 20) ...............................\n",
      "[CV] ...... regr__hidden_layer_sizes=(40, 20), score=0.950972 -  19.5s\n",
      "[CV] regr__hidden_layer_sizes=(40, 30) ...............................\n",
      "[CV] ...... regr__hidden_layer_sizes=(40, 30), score=0.962698 -  19.8s\n",
      "[CV] regr__hidden_layer_sizes=(40, 30) ...............................\n",
      "[CV] ...... regr__hidden_layer_sizes=(40, 30), score=0.959354 -  17.1s\n",
      "[CV] regr__hidden_layer_sizes=(40, 30) ...............................\n",
      "[CV] ...... regr__hidden_layer_sizes=(40, 30), score=0.957994 -  18.5s\n",
      "[CV] regr__hidden_layer_sizes=(40, 40) ...............................\n",
      "[CV] ...... regr__hidden_layer_sizes=(40, 40), score=0.962543 -  22.0s\n",
      "[CV] regr__hidden_layer_sizes=(40, 40) ...............................\n",
      "[CV] ...... regr__hidden_layer_sizes=(40, 40), score=0.962470 -  22.0s\n",
      "[CV] regr__hidden_layer_sizes=(40, 40) ...............................\n",
      "[CV] ...... regr__hidden_layer_sizes=(40, 40), score=0.961036 -  21.9s\n",
      "[CV] regr__hidden_layer_sizes=(40, 50) ...............................\n",
      "[CV] ...... regr__hidden_layer_sizes=(40, 50), score=0.959143 -  19.0s\n",
      "[CV] regr__hidden_layer_sizes=(40, 50) ...............................\n",
      "[CV] ...... regr__hidden_layer_sizes=(40, 50), score=0.960990 -  22.5s\n",
      "[CV] regr__hidden_layer_sizes=(40, 50) ...............................\n",
      "[CV] ...... regr__hidden_layer_sizes=(40, 50), score=0.956765 -  22.7s\n",
      "[CV] regr__hidden_layer_sizes=(40, 60) ...............................\n",
      "[CV] ...... regr__hidden_layer_sizes=(40, 60), score=0.965444 -  21.7s\n",
      "[CV] regr__hidden_layer_sizes=(40, 60) ...............................\n",
      "[CV] ...... regr__hidden_layer_sizes=(40, 60), score=0.963617 -  22.9s\n",
      "[CV] regr__hidden_layer_sizes=(40, 60) ...............................\n",
      "[CV] ...... regr__hidden_layer_sizes=(40, 60), score=0.960524 -  20.9s\n",
      "[CV] regr__hidden_layer_sizes=(40, 70) ...............................\n",
      "[CV] ...... regr__hidden_layer_sizes=(40, 70), score=0.962380 -  23.0s\n",
      "[CV] regr__hidden_layer_sizes=(40, 70) ...............................\n",
      "[CV] ...... regr__hidden_layer_sizes=(40, 70), score=0.962221 -  24.6s\n",
      "[CV] regr__hidden_layer_sizes=(40, 70) ...............................\n",
      "[CV] ...... regr__hidden_layer_sizes=(40, 70), score=0.958263 -  16.5s\n",
      "[CV] regr__hidden_layer_sizes=(50, 10) ...............................\n",
      "[CV] ...... regr__hidden_layer_sizes=(50, 10), score=0.953006 -  20.9s\n",
      "[CV] regr__hidden_layer_sizes=(50, 10) ...............................\n",
      "[CV] ...... regr__hidden_layer_sizes=(50, 10), score=0.958819 -  18.3s\n",
      "[CV] regr__hidden_layer_sizes=(50, 10) ...............................\n",
      "[CV] ...... regr__hidden_layer_sizes=(50, 10), score=0.947725 -  20.0s\n",
      "[CV] regr__hidden_layer_sizes=(50, 20) ...............................\n"
     ]
    },
    {
     "name": "stderr",
     "output_type": "stream",
     "text": [
      "[Parallel(n_jobs=1)]: Done  24 tasks       | elapsed:  7.9min\n"
     ]
    },
    {
     "name": "stdout",
     "output_type": "stream",
     "text": [
      "[CV] ...... regr__hidden_layer_sizes=(50, 20), score=0.957267 -  18.3s\n",
      "[CV] regr__hidden_layer_sizes=(50, 20) ...............................\n",
      "[CV] ...... regr__hidden_layer_sizes=(50, 20), score=0.953642 -  19.2s\n",
      "[CV] regr__hidden_layer_sizes=(50, 20) ...............................\n",
      "[CV] ...... regr__hidden_layer_sizes=(50, 20), score=0.957683 -  18.6s\n",
      "[CV] regr__hidden_layer_sizes=(50, 30) ...............................\n",
      "[CV] ...... regr__hidden_layer_sizes=(50, 30), score=0.964520 -  22.2s\n",
      "[CV] regr__hidden_layer_sizes=(50, 30) ...............................\n",
      "[CV] ...... regr__hidden_layer_sizes=(50, 30), score=0.960496 -  20.6s\n",
      "[CV] regr__hidden_layer_sizes=(50, 30) ...............................\n",
      "[CV] ...... regr__hidden_layer_sizes=(50, 30), score=0.961832 -  21.1s\n",
      "[CV] regr__hidden_layer_sizes=(50, 40) ...............................\n",
      "[CV] ...... regr__hidden_layer_sizes=(50, 40), score=0.966997 -  24.2s\n",
      "[CV] regr__hidden_layer_sizes=(50, 40) ...............................\n",
      "[CV] ...... regr__hidden_layer_sizes=(50, 40), score=0.958310 -  20.3s\n",
      "[CV] regr__hidden_layer_sizes=(50, 40) ...............................\n",
      "[CV] ...... regr__hidden_layer_sizes=(50, 40), score=0.962625 -  21.3s\n",
      "[CV] regr__hidden_layer_sizes=(50, 50) ...............................\n",
      "[CV] ...... regr__hidden_layer_sizes=(50, 50), score=0.966371 -  22.0s\n",
      "[CV] regr__hidden_layer_sizes=(50, 50) ...............................\n",
      "[CV] ...... regr__hidden_layer_sizes=(50, 50), score=0.963743 -  21.4s\n",
      "[CV] regr__hidden_layer_sizes=(50, 50) ...............................\n",
      "[CV] ...... regr__hidden_layer_sizes=(50, 50), score=0.964587 -  19.8s\n",
      "[CV] regr__hidden_layer_sizes=(50, 60) ...............................\n",
      "[CV] ...... regr__hidden_layer_sizes=(50, 60), score=0.966024 -  21.7s\n",
      "[CV] regr__hidden_layer_sizes=(50, 60) ...............................\n",
      "[CV] ...... regr__hidden_layer_sizes=(50, 60), score=0.962502 -  21.0s\n",
      "[CV] regr__hidden_layer_sizes=(50, 60) ...............................\n",
      "[CV] ...... regr__hidden_layer_sizes=(50, 60), score=0.963017 -  21.8s\n",
      "[CV] regr__hidden_layer_sizes=(50, 70) ...............................\n",
      "[CV] ...... regr__hidden_layer_sizes=(50, 70), score=0.965580 -  23.8s\n",
      "[CV] regr__hidden_layer_sizes=(50, 70) ...............................\n",
      "[CV] ...... regr__hidden_layer_sizes=(50, 70), score=0.967733 -  22.8s\n",
      "[CV] regr__hidden_layer_sizes=(50, 70) ...............................\n",
      "[CV] ...... regr__hidden_layer_sizes=(50, 70), score=0.961861 -  24.2s\n",
      "[CV] regr__hidden_layer_sizes=(60, 10) ...............................\n",
      "[CV] ...... regr__hidden_layer_sizes=(60, 10), score=0.960227 -  19.1s\n",
      "[CV] regr__hidden_layer_sizes=(60, 10) ...............................\n",
      "[CV] ...... regr__hidden_layer_sizes=(60, 10), score=0.954933 -  16.6s\n",
      "[CV] regr__hidden_layer_sizes=(60, 10) ...............................\n",
      "[CV] ...... regr__hidden_layer_sizes=(60, 10), score=0.955721 -  19.7s\n",
      "[CV] regr__hidden_layer_sizes=(60, 20) ...............................\n",
      "[CV] ...... regr__hidden_layer_sizes=(60, 20), score=0.965700 -  19.7s\n",
      "[CV] regr__hidden_layer_sizes=(60, 20) ...............................\n",
      "[CV] ...... regr__hidden_layer_sizes=(60, 20), score=0.962728 -  19.1s\n",
      "[CV] regr__hidden_layer_sizes=(60, 20) ...............................\n",
      "[CV] ...... regr__hidden_layer_sizes=(60, 20), score=0.962256 -  19.1s\n",
      "[CV] regr__hidden_layer_sizes=(60, 30) ...............................\n",
      "[CV] ...... regr__hidden_layer_sizes=(60, 30), score=0.964457 -  19.6s\n",
      "[CV] regr__hidden_layer_sizes=(60, 30) ...............................\n",
      "[CV] ...... regr__hidden_layer_sizes=(60, 30), score=0.961888 -  20.7s\n",
      "[CV] regr__hidden_layer_sizes=(60, 30) ...............................\n",
      "[CV] ...... regr__hidden_layer_sizes=(60, 30), score=0.964182 -  20.2s\n",
      "[CV] regr__hidden_layer_sizes=(60, 40) ...............................\n",
      "[CV] ...... regr__hidden_layer_sizes=(60, 40), score=0.966594 -  18.3s\n",
      "[CV] regr__hidden_layer_sizes=(60, 40) ...............................\n",
      "[CV] ...... regr__hidden_layer_sizes=(60, 40), score=0.967407 -  20.8s\n",
      "[CV] regr__hidden_layer_sizes=(60, 40) ...............................\n",
      "[CV] ...... regr__hidden_layer_sizes=(60, 40), score=0.969395 -  23.8s\n",
      "[CV] regr__hidden_layer_sizes=(60, 50) ...............................\n",
      "[CV] ...... regr__hidden_layer_sizes=(60, 50), score=0.966575 -  24.8s\n",
      "[CV] regr__hidden_layer_sizes=(60, 50) ...............................\n",
      "[CV] ...... regr__hidden_layer_sizes=(60, 50), score=0.961744 -  22.1s\n",
      "[CV] regr__hidden_layer_sizes=(60, 50) ...............................\n",
      "[CV] ...... regr__hidden_layer_sizes=(60, 50), score=0.967827 -  25.0s\n",
      "[CV] regr__hidden_layer_sizes=(60, 60) ...............................\n",
      "[CV] ...... regr__hidden_layer_sizes=(60, 60), score=0.968638 -  23.2s\n",
      "[CV] regr__hidden_layer_sizes=(60, 60) ...............................\n",
      "[CV] ...... regr__hidden_layer_sizes=(60, 60), score=0.966302 -  22.9s\n",
      "[CV] regr__hidden_layer_sizes=(60, 60) ...............................\n",
      "[CV] ...... regr__hidden_layer_sizes=(60, 60), score=0.969672 -  22.6s\n",
      "[CV] regr__hidden_layer_sizes=(60, 70) ...............................\n",
      "[CV] ...... regr__hidden_layer_sizes=(60, 70), score=0.967258 -  20.0s\n",
      "[CV] regr__hidden_layer_sizes=(60, 70) ...............................\n",
      "[CV] ...... regr__hidden_layer_sizes=(60, 70), score=0.967420 -  24.6s\n",
      "[CV] regr__hidden_layer_sizes=(60, 70) ...............................\n",
      "[CV] ...... regr__hidden_layer_sizes=(60, 70), score=0.968874 -  22.5s\n",
      "[CV] regr__hidden_layer_sizes=(70, 10) ...............................\n",
      "[CV] ...... regr__hidden_layer_sizes=(70, 10), score=0.959180 -  23.3s\n",
      "[CV] regr__hidden_layer_sizes=(70, 10) ...............................\n",
      "[CV] ...... regr__hidden_layer_sizes=(70, 10), score=0.957754 -  20.8s\n",
      "[CV] regr__hidden_layer_sizes=(70, 10) ...............................\n",
      "[CV] ...... regr__hidden_layer_sizes=(70, 10), score=0.957505 -  20.5s\n",
      "[CV] regr__hidden_layer_sizes=(70, 20) ...............................\n",
      "[CV] ...... regr__hidden_layer_sizes=(70, 20), score=0.968479 -  23.7s\n",
      "[CV] regr__hidden_layer_sizes=(70, 20) ...............................\n",
      "[CV] ...... regr__hidden_layer_sizes=(70, 20), score=0.962352 -  21.7s\n",
      "[CV] regr__hidden_layer_sizes=(70, 20) ...............................\n",
      "[CV] ...... regr__hidden_layer_sizes=(70, 20), score=0.963522 -  21.0s\n",
      "[CV] regr__hidden_layer_sizes=(70, 30) ...............................\n",
      "[CV] ...... regr__hidden_layer_sizes=(70, 30), score=0.967579 -  23.4s\n",
      "[CV] regr__hidden_layer_sizes=(70, 30) ...............................\n",
      "[CV] ...... regr__hidden_layer_sizes=(70, 30), score=0.970978 -  21.1s\n",
      "[CV] regr__hidden_layer_sizes=(70, 30) ...............................\n",
      "[CV] ...... regr__hidden_layer_sizes=(70, 30), score=0.962000 -  23.3s\n",
      "[CV] regr__hidden_layer_sizes=(70, 40) ...............................\n",
      "[CV] ...... regr__hidden_layer_sizes=(70, 40), score=0.966097 -  19.4s\n",
      "[CV] regr__hidden_layer_sizes=(70, 40) ...............................\n",
      "[CV] ...... regr__hidden_layer_sizes=(70, 40), score=0.969026 -  24.0s\n",
      "[CV] regr__hidden_layer_sizes=(70, 40) ...............................\n",
      "[CV] ...... regr__hidden_layer_sizes=(70, 40), score=0.964162 -  23.3s\n",
      "[CV] regr__hidden_layer_sizes=(70, 50) ...............................\n",
      "[CV] ...... regr__hidden_layer_sizes=(70, 50), score=0.967859 -  23.0s\n",
      "[CV] regr__hidden_layer_sizes=(70, 50) ...............................\n",
      "[CV] ...... regr__hidden_layer_sizes=(70, 50), score=0.969027 -  25.5s\n",
      "[CV] regr__hidden_layer_sizes=(70, 50) ...............................\n",
      "[CV] ...... regr__hidden_layer_sizes=(70, 50), score=0.967695 -  20.5s\n",
      "[CV] regr__hidden_layer_sizes=(70, 60) ...............................\n",
      "[CV] ...... regr__hidden_layer_sizes=(70, 60), score=0.969270 -  23.2s\n",
      "[CV] regr__hidden_layer_sizes=(70, 60) ...............................\n",
      "[CV] ...... regr__hidden_layer_sizes=(70, 60), score=0.967257 -  23.6s\n",
      "[CV] regr__hidden_layer_sizes=(70, 60) ...............................\n",
      "[CV] ...... regr__hidden_layer_sizes=(70, 60), score=0.966364 -  23.1s\n",
      "[CV] regr__hidden_layer_sizes=(70, 70) ...............................\n",
      "[CV] ...... regr__hidden_layer_sizes=(70, 70), score=0.966210 -  22.0s\n",
      "[CV] regr__hidden_layer_sizes=(70, 70) ...............................\n",
      "[CV] ...... regr__hidden_layer_sizes=(70, 70), score=0.971857 -  23.8s\n",
      "[CV] regr__hidden_layer_sizes=(70, 70) ...............................\n",
      "[CV] ...... regr__hidden_layer_sizes=(70, 70), score=0.964199 -  23.4s\n",
      "[CV] regr__hidden_layer_sizes=(80, 10) ...............................\n",
      "[CV] ...... regr__hidden_layer_sizes=(80, 10), score=0.955004 -  23.5s\n",
      "[CV] regr__hidden_layer_sizes=(80, 10) ...............................\n",
      "[CV] ...... regr__hidden_layer_sizes=(80, 10), score=0.952259 -  22.3s\n",
      "[CV] regr__hidden_layer_sizes=(80, 10) ...............................\n",
      "[CV] ...... regr__hidden_layer_sizes=(80, 10), score=0.963435 -  23.2s\n",
      "[CV] regr__hidden_layer_sizes=(80, 20) ...............................\n",
      "[CV] ...... regr__hidden_layer_sizes=(80, 20), score=0.967947 -  15.5s\n",
      "[CV] regr__hidden_layer_sizes=(80, 20) ...............................\n",
      "[CV] ...... regr__hidden_layer_sizes=(80, 20), score=0.968903 -  19.2s\n",
      "[CV] regr__hidden_layer_sizes=(80, 20) ...............................\n",
      "[CV] ...... regr__hidden_layer_sizes=(80, 20), score=0.968384 -  20.5s\n",
      "[CV] regr__hidden_layer_sizes=(80, 30) ...............................\n",
      "[CV] ...... regr__hidden_layer_sizes=(80, 30), score=0.969411 -  23.9s\n",
      "[CV] regr__hidden_layer_sizes=(80, 30) ...............................\n",
      "[CV] ...... regr__hidden_layer_sizes=(80, 30), score=0.970783 -  23.2s\n",
      "[CV] regr__hidden_layer_sizes=(80, 30) ...............................\n",
      "[CV] ...... regr__hidden_layer_sizes=(80, 30), score=0.967316 -  24.2s\n",
      "[CV] regr__hidden_layer_sizes=(80, 40) ...............................\n",
      "[CV] ...... regr__hidden_layer_sizes=(80, 40), score=0.967885 -  21.3s\n",
      "[CV] regr__hidden_layer_sizes=(80, 40) ...............................\n",
      "[CV] ...... regr__hidden_layer_sizes=(80, 40), score=0.971173 -  23.0s\n",
      "[CV] regr__hidden_layer_sizes=(80, 40) ...............................\n",
      "[CV] ...... regr__hidden_layer_sizes=(80, 40), score=0.968874 -  21.9s\n",
      "[CV] regr__hidden_layer_sizes=(80, 50) ...............................\n",
      "[CV] ...... regr__hidden_layer_sizes=(80, 50), score=0.973987 -  23.7s\n",
      "[CV] regr__hidden_layer_sizes=(80, 50) ...............................\n"
     ]
    },
    {
     "name": "stderr",
     "output_type": "stream",
     "text": [
      "[Parallel(n_jobs=1)]: Done  97 tasks       | elapsed: 34.4min\n"
     ]
    },
    {
     "name": "stdout",
     "output_type": "stream",
     "text": [
      "[CV] ...... regr__hidden_layer_sizes=(80, 50), score=0.967610 -  25.3s\n",
      "[CV] regr__hidden_layer_sizes=(80, 50) ...............................\n",
      "[CV] ...... regr__hidden_layer_sizes=(80, 50), score=0.970148 -  22.6s\n",
      "[CV] regr__hidden_layer_sizes=(80, 60) ...............................\n",
      "[CV] ...... regr__hidden_layer_sizes=(80, 60), score=0.974492 -  24.5s\n",
      "[CV] regr__hidden_layer_sizes=(80, 60) ...............................\n",
      "[CV] ...... regr__hidden_layer_sizes=(80, 60), score=0.969508 -  22.8s\n",
      "[CV] regr__hidden_layer_sizes=(80, 60) ...............................\n",
      "[CV] ...... regr__hidden_layer_sizes=(80, 60), score=0.969018 -  24.8s\n",
      "[CV] regr__hidden_layer_sizes=(80, 70) ...............................\n",
      "[CV] ...... regr__hidden_layer_sizes=(80, 70), score=0.971460 -  22.5s\n",
      "[CV] regr__hidden_layer_sizes=(80, 70) ...............................\n",
      "[CV] ...... regr__hidden_layer_sizes=(80, 70), score=0.968927 -  23.0s\n",
      "[CV] regr__hidden_layer_sizes=(80, 70) ...............................\n",
      "[CV] ...... regr__hidden_layer_sizes=(80, 70), score=0.966900 -  26.7s\n",
      "[CV] regr__hidden_layer_sizes=(90, 10) ...............................\n",
      "[CV] ...... regr__hidden_layer_sizes=(90, 10), score=0.966440 -  26.8s\n",
      "[CV] regr__hidden_layer_sizes=(90, 10) ...............................\n",
      "[CV] ...... regr__hidden_layer_sizes=(90, 10), score=0.953509 -  23.2s\n",
      "[CV] regr__hidden_layer_sizes=(90, 10) ...............................\n",
      "[CV] ...... regr__hidden_layer_sizes=(90, 10), score=0.958531 -  25.0s\n",
      "[CV] regr__hidden_layer_sizes=(90, 20) ...............................\n",
      "[CV] ...... regr__hidden_layer_sizes=(90, 20), score=0.970006 -  20.3s\n",
      "[CV] regr__hidden_layer_sizes=(90, 20) ...............................\n",
      "[CV] ...... regr__hidden_layer_sizes=(90, 20), score=0.966899 -  20.8s\n",
      "[CV] regr__hidden_layer_sizes=(90, 20) ...............................\n",
      "[CV] ...... regr__hidden_layer_sizes=(90, 20), score=0.965281 -  20.9s\n",
      "[CV] regr__hidden_layer_sizes=(90, 30) ...............................\n",
      "[CV] ...... regr__hidden_layer_sizes=(90, 30), score=0.969179 -  22.4s\n",
      "[CV] regr__hidden_layer_sizes=(90, 30) ...............................\n",
      "[CV] ...... regr__hidden_layer_sizes=(90, 30), score=0.971322 -  22.5s\n",
      "[CV] regr__hidden_layer_sizes=(90, 30) ...............................\n",
      "[CV] ...... regr__hidden_layer_sizes=(90, 30), score=0.969233 -  24.4s\n",
      "[CV] regr__hidden_layer_sizes=(90, 40) ...............................\n",
      "[CV] ...... regr__hidden_layer_sizes=(90, 40), score=0.972306 -  22.6s\n",
      "[CV] regr__hidden_layer_sizes=(90, 40) ...............................\n",
      "[CV] ...... regr__hidden_layer_sizes=(90, 40), score=0.972471 -  28.3s\n",
      "[CV] regr__hidden_layer_sizes=(90, 40) ...............................\n",
      "[CV] ...... regr__hidden_layer_sizes=(90, 40), score=0.970639 -  25.4s\n",
      "[CV] regr__hidden_layer_sizes=(90, 50) ...............................\n",
      "[CV] ...... regr__hidden_layer_sizes=(90, 50), score=0.973450 -  23.4s\n",
      "[CV] regr__hidden_layer_sizes=(90, 50) ...............................\n",
      "[CV] ...... regr__hidden_layer_sizes=(90, 50), score=0.972431 -  28.9s\n",
      "[CV] regr__hidden_layer_sizes=(90, 50) ...............................\n",
      "[CV] ...... regr__hidden_layer_sizes=(90, 50), score=0.969820 -  24.3s\n",
      "[CV] regr__hidden_layer_sizes=(90, 60) ...............................\n",
      "[CV] ...... regr__hidden_layer_sizes=(90, 60), score=0.970727 -  22.5s\n",
      "[CV] regr__hidden_layer_sizes=(90, 60) ...............................\n",
      "[CV] ...... regr__hidden_layer_sizes=(90, 60), score=0.973107 -  24.4s\n",
      "[CV] regr__hidden_layer_sizes=(90, 60) ...............................\n",
      "[CV] ...... regr__hidden_layer_sizes=(90, 60), score=0.968208 -  24.9s\n",
      "[CV] regr__hidden_layer_sizes=(90, 70) ...............................\n",
      "[CV] ...... regr__hidden_layer_sizes=(90, 70), score=0.974729 -  27.2s\n",
      "[CV] regr__hidden_layer_sizes=(90, 70) ...............................\n",
      "[CV] ...... regr__hidden_layer_sizes=(90, 70), score=0.972924 -  27.0s\n",
      "[CV] regr__hidden_layer_sizes=(90, 70) ...............................\n",
      "[CV] ...... regr__hidden_layer_sizes=(90, 70), score=0.972674 -  26.5s\n"
     ]
    },
    {
     "name": "stderr",
     "output_type": "stream",
     "text": [
      "[Parallel(n_jobs=1)]: Done 126 out of 126 | elapsed: 46.1min finished\n"
     ]
    }
   ],
   "source": [
    "params_A2 = dict(\n",
    "    regr__hidden_layer_sizes = [(40,10),(40,20),(40,30),(40,40),(40,50),(40,60),(40,70),\n",
    "                                (50,10),(50,20),(50,30),(50,40),(50,50),(50,60),(50,70),\n",
    "                               (60,10),(60,20),(60,30),(60,40),(60,50),(60,60),(60,70),\n",
    "                               (70,10),(70,20),(70,30),(70,40),(70,50),(70,60),(70,70),\n",
    "                               (80,10),(80,20),(80,30),(80,40),(80,50),(80,60),(80,70),\n",
    "                               (90,10),(90,20),(90,30),(90,40),(90,50),(90,60),(90,70)]\n",
    "    )\n",
    "\n",
    "model_gs_A2 = GridSearchCV(model, \n",
    "                        param_grid = params_A2,\n",
    "                        verbose = 4\n",
    "                       )\n",
    "model_gs_A2.fit(X_train, y_train);"
   ]
  },
  {
   "cell_type": "code",
   "execution_count": 13,
   "metadata": {
    "ExecuteTime": {
     "end_time": "2016-07-12T22:35:08.056513",
     "start_time": "2016-07-12T22:35:08.051424"
    },
    "collapsed": false
   },
   "outputs": [
    {
     "name": "stdout",
     "output_type": "stream",
     "text": [
      "Optimal_params:  {'regr__hidden_layer_sizes': (90, 70)}\n"
     ]
    }
   ],
   "source": [
    "print(\"Optimal_params: \", model_gs_A2.best_params_)\n",
    "A2_df = pd.DataFrame(model_gs_A2.results_)"
   ]
  },
  {
   "cell_type": "markdown",
   "metadata": {},
   "source": [
    "#### Plot of architecture dependence"
   ]
  },
  {
   "cell_type": "code",
   "execution_count": 14,
   "metadata": {
    "ExecuteTime": {
     "end_time": "2016-07-12T22:35:08.071268",
     "start_time": "2016-07-12T22:35:08.058734"
    },
    "collapsed": false
   },
   "outputs": [
    {
     "data": {
      "text/plain": [
       "Index(['param_regr__hidden_layer_sizes', 'params', 'test_mean_score',\n",
       "       'test_rank_score', 'test_split0_score', 'test_split1_score',\n",
       "       'test_split2_score', 'test_std_score'],\n",
       "      dtype='object')"
      ]
     },
     "execution_count": 14,
     "metadata": {},
     "output_type": "execute_result"
    }
   ],
   "source": [
    "A2_df.columns"
   ]
  },
  {
   "cell_type": "code",
   "execution_count": 15,
   "metadata": {
    "ExecuteTime": {
     "end_time": "2016-07-12T22:35:08.366220",
     "start_time": "2016-07-12T22:35:08.073613"
    },
    "collapsed": false
   },
   "outputs": [
    {
     "ename": "ValueError",
     "evalue": "x and y must have same first dimension",
     "output_type": "error",
     "traceback": [
      "\u001b[0;31m---------------------------------------------------------------------------\u001b[0m",
      "\u001b[0;31mValueError\u001b[0m                                Traceback (most recent call last)",
      "\u001b[0;32m<ipython-input-15-20bd57530267>\u001b[0m in \u001b[0;36m<module>\u001b[0;34m()\u001b[0m\n\u001b[1;32m      2\u001b[0m \u001b[0mplt\u001b[0m\u001b[0;34m.\u001b[0m\u001b[0mxlim\u001b[0m \u001b[0;34m=\u001b[0m \u001b[0;34m[\u001b[0m\u001b[0;36m0\u001b[0m\u001b[0;34m,\u001b[0m\u001b[0;36m11\u001b[0m\u001b[0;34m]\u001b[0m\u001b[0;34m\u001b[0m\u001b[0m\n\u001b[1;32m      3\u001b[0m \u001b[0;31m# plt.plot(x, np.abs(1-A1_df.test_mean_score), color = 'r', marker = 'o', label=\"1 layer\")\u001b[0m\u001b[0;34m\u001b[0m\u001b[0;34m\u001b[0m\u001b[0m\n\u001b[0;32m----> 4\u001b[0;31m \u001b[0mplt\u001b[0m\u001b[0;34m.\u001b[0m\u001b[0mplot\u001b[0m\u001b[0;34m(\u001b[0m\u001b[0mx\u001b[0m\u001b[0;34m,\u001b[0m \u001b[0mnp\u001b[0m\u001b[0;34m.\u001b[0m\u001b[0mabs\u001b[0m\u001b[0;34m(\u001b[0m\u001b[0;36m1\u001b[0m\u001b[0;34m-\u001b[0m\u001b[0mA2_df\u001b[0m\u001b[0;34m.\u001b[0m\u001b[0mtest_mean_score\u001b[0m\u001b[0;34m)\u001b[0m\u001b[0;34m,\u001b[0m \u001b[0mcolor\u001b[0m \u001b[0;34m=\u001b[0m \u001b[0;34m'b'\u001b[0m\u001b[0;34m,\u001b[0m \u001b[0mmarker\u001b[0m \u001b[0;34m=\u001b[0m \u001b[0;34m'^'\u001b[0m\u001b[0;34m,\u001b[0m \u001b[0mlabel\u001b[0m\u001b[0;34m=\u001b[0m\u001b[0;34m\"2 layers\"\u001b[0m\u001b[0;34m)\u001b[0m\u001b[0;34m\u001b[0m\u001b[0m\n\u001b[0m\u001b[1;32m      5\u001b[0m \u001b[0mplt\u001b[0m\u001b[0;34m.\u001b[0m\u001b[0maxis\u001b[0m\u001b[0;34m(\u001b[0m\u001b[0;34m[\u001b[0m\u001b[0;36m0\u001b[0m\u001b[0;34m,\u001b[0m \u001b[0;36m11\u001b[0m\u001b[0;34m,\u001b[0m \u001b[0;36m0\u001b[0m\u001b[0;34m,\u001b[0m \u001b[0;36m0.1\u001b[0m\u001b[0;34m]\u001b[0m\u001b[0;34m)\u001b[0m\u001b[0;34m\u001b[0m\u001b[0m\n\u001b[1;32m      6\u001b[0m \u001b[0mplt\u001b[0m\u001b[0;34m.\u001b[0m\u001b[0mxlabel\u001b[0m\u001b[0;34m(\u001b[0m\u001b[0;34m'Parameter case'\u001b[0m\u001b[0;34m)\u001b[0m\u001b[0;34m\u001b[0m\u001b[0m\n",
      "\u001b[0;32m/Users/dhudsonsmith/anaconda3/lib/python3.5/site-packages/matplotlib/pyplot.py\u001b[0m in \u001b[0;36mplot\u001b[0;34m(*args, **kwargs)\u001b[0m\n\u001b[1;32m   3152\u001b[0m         \u001b[0max\u001b[0m\u001b[0;34m.\u001b[0m\u001b[0mhold\u001b[0m\u001b[0;34m(\u001b[0m\u001b[0mhold\u001b[0m\u001b[0;34m)\u001b[0m\u001b[0;34m\u001b[0m\u001b[0m\n\u001b[1;32m   3153\u001b[0m     \u001b[0;32mtry\u001b[0m\u001b[0;34m:\u001b[0m\u001b[0;34m\u001b[0m\u001b[0m\n\u001b[0;32m-> 3154\u001b[0;31m         \u001b[0mret\u001b[0m \u001b[0;34m=\u001b[0m \u001b[0max\u001b[0m\u001b[0;34m.\u001b[0m\u001b[0mplot\u001b[0m\u001b[0;34m(\u001b[0m\u001b[0;34m*\u001b[0m\u001b[0margs\u001b[0m\u001b[0;34m,\u001b[0m \u001b[0;34m**\u001b[0m\u001b[0mkwargs\u001b[0m\u001b[0;34m)\u001b[0m\u001b[0;34m\u001b[0m\u001b[0m\n\u001b[0m\u001b[1;32m   3155\u001b[0m     \u001b[0;32mfinally\u001b[0m\u001b[0;34m:\u001b[0m\u001b[0;34m\u001b[0m\u001b[0m\n\u001b[1;32m   3156\u001b[0m         \u001b[0max\u001b[0m\u001b[0;34m.\u001b[0m\u001b[0mhold\u001b[0m\u001b[0;34m(\u001b[0m\u001b[0mwashold\u001b[0m\u001b[0;34m)\u001b[0m\u001b[0;34m\u001b[0m\u001b[0m\n",
      "\u001b[0;32m/Users/dhudsonsmith/anaconda3/lib/python3.5/site-packages/matplotlib/__init__.py\u001b[0m in \u001b[0;36minner\u001b[0;34m(ax, *args, **kwargs)\u001b[0m\n\u001b[1;32m   1810\u001b[0m                     warnings.warn(msg % (label_namer, func.__name__),\n\u001b[1;32m   1811\u001b[0m                                   RuntimeWarning, stacklevel=2)\n\u001b[0;32m-> 1812\u001b[0;31m             \u001b[0;32mreturn\u001b[0m \u001b[0mfunc\u001b[0m\u001b[0;34m(\u001b[0m\u001b[0max\u001b[0m\u001b[0;34m,\u001b[0m \u001b[0;34m*\u001b[0m\u001b[0margs\u001b[0m\u001b[0;34m,\u001b[0m \u001b[0;34m**\u001b[0m\u001b[0mkwargs\u001b[0m\u001b[0;34m)\u001b[0m\u001b[0;34m\u001b[0m\u001b[0m\n\u001b[0m\u001b[1;32m   1813\u001b[0m         \u001b[0mpre_doc\u001b[0m \u001b[0;34m=\u001b[0m \u001b[0minner\u001b[0m\u001b[0;34m.\u001b[0m\u001b[0m__doc__\u001b[0m\u001b[0;34m\u001b[0m\u001b[0m\n\u001b[1;32m   1814\u001b[0m         \u001b[0;32mif\u001b[0m \u001b[0mpre_doc\u001b[0m \u001b[0;32mis\u001b[0m \u001b[0;32mNone\u001b[0m\u001b[0;34m:\u001b[0m\u001b[0;34m\u001b[0m\u001b[0m\n",
      "\u001b[0;32m/Users/dhudsonsmith/anaconda3/lib/python3.5/site-packages/matplotlib/axes/_axes.py\u001b[0m in \u001b[0;36mplot\u001b[0;34m(self, *args, **kwargs)\u001b[0m\n\u001b[1;32m   1422\u001b[0m             \u001b[0mkwargs\u001b[0m\u001b[0;34m[\u001b[0m\u001b[0;34m'color'\u001b[0m\u001b[0;34m]\u001b[0m \u001b[0;34m=\u001b[0m \u001b[0mc\u001b[0m\u001b[0;34m\u001b[0m\u001b[0m\n\u001b[1;32m   1423\u001b[0m \u001b[0;34m\u001b[0m\u001b[0m\n\u001b[0;32m-> 1424\u001b[0;31m         \u001b[0;32mfor\u001b[0m \u001b[0mline\u001b[0m \u001b[0;32min\u001b[0m \u001b[0mself\u001b[0m\u001b[0;34m.\u001b[0m\u001b[0m_get_lines\u001b[0m\u001b[0;34m(\u001b[0m\u001b[0;34m*\u001b[0m\u001b[0margs\u001b[0m\u001b[0;34m,\u001b[0m \u001b[0;34m**\u001b[0m\u001b[0mkwargs\u001b[0m\u001b[0;34m)\u001b[0m\u001b[0;34m:\u001b[0m\u001b[0;34m\u001b[0m\u001b[0m\n\u001b[0m\u001b[1;32m   1425\u001b[0m             \u001b[0mself\u001b[0m\u001b[0;34m.\u001b[0m\u001b[0madd_line\u001b[0m\u001b[0;34m(\u001b[0m\u001b[0mline\u001b[0m\u001b[0;34m)\u001b[0m\u001b[0;34m\u001b[0m\u001b[0m\n\u001b[1;32m   1426\u001b[0m             \u001b[0mlines\u001b[0m\u001b[0;34m.\u001b[0m\u001b[0mappend\u001b[0m\u001b[0;34m(\u001b[0m\u001b[0mline\u001b[0m\u001b[0;34m)\u001b[0m\u001b[0;34m\u001b[0m\u001b[0m\n",
      "\u001b[0;32m/Users/dhudsonsmith/anaconda3/lib/python3.5/site-packages/matplotlib/axes/_base.py\u001b[0m in \u001b[0;36m_grab_next_args\u001b[0;34m(self, *args, **kwargs)\u001b[0m\n\u001b[1;32m    384\u001b[0m                 \u001b[0;32mreturn\u001b[0m\u001b[0;34m\u001b[0m\u001b[0m\n\u001b[1;32m    385\u001b[0m             \u001b[0;32mif\u001b[0m \u001b[0mlen\u001b[0m\u001b[0;34m(\u001b[0m\u001b[0mremaining\u001b[0m\u001b[0;34m)\u001b[0m \u001b[0;34m<=\u001b[0m \u001b[0;36m3\u001b[0m\u001b[0;34m:\u001b[0m\u001b[0;34m\u001b[0m\u001b[0m\n\u001b[0;32m--> 386\u001b[0;31m                 \u001b[0;32mfor\u001b[0m \u001b[0mseg\u001b[0m \u001b[0;32min\u001b[0m \u001b[0mself\u001b[0m\u001b[0;34m.\u001b[0m\u001b[0m_plot_args\u001b[0m\u001b[0;34m(\u001b[0m\u001b[0mremaining\u001b[0m\u001b[0;34m,\u001b[0m \u001b[0mkwargs\u001b[0m\u001b[0;34m)\u001b[0m\u001b[0;34m:\u001b[0m\u001b[0;34m\u001b[0m\u001b[0m\n\u001b[0m\u001b[1;32m    387\u001b[0m                     \u001b[0;32myield\u001b[0m \u001b[0mseg\u001b[0m\u001b[0;34m\u001b[0m\u001b[0m\n\u001b[1;32m    388\u001b[0m                 \u001b[0;32mreturn\u001b[0m\u001b[0;34m\u001b[0m\u001b[0m\n",
      "\u001b[0;32m/Users/dhudsonsmith/anaconda3/lib/python3.5/site-packages/matplotlib/axes/_base.py\u001b[0m in \u001b[0;36m_plot_args\u001b[0;34m(self, tup, kwargs)\u001b[0m\n\u001b[1;32m    362\u001b[0m             \u001b[0mx\u001b[0m\u001b[0;34m,\u001b[0m \u001b[0my\u001b[0m \u001b[0;34m=\u001b[0m \u001b[0mindex_of\u001b[0m\u001b[0;34m(\u001b[0m\u001b[0mtup\u001b[0m\u001b[0;34m[\u001b[0m\u001b[0;34m-\u001b[0m\u001b[0;36m1\u001b[0m\u001b[0;34m]\u001b[0m\u001b[0;34m)\u001b[0m\u001b[0;34m\u001b[0m\u001b[0m\n\u001b[1;32m    363\u001b[0m \u001b[0;34m\u001b[0m\u001b[0m\n\u001b[0;32m--> 364\u001b[0;31m         \u001b[0mx\u001b[0m\u001b[0;34m,\u001b[0m \u001b[0my\u001b[0m \u001b[0;34m=\u001b[0m \u001b[0mself\u001b[0m\u001b[0;34m.\u001b[0m\u001b[0m_xy_from_xy\u001b[0m\u001b[0;34m(\u001b[0m\u001b[0mx\u001b[0m\u001b[0;34m,\u001b[0m \u001b[0my\u001b[0m\u001b[0;34m)\u001b[0m\u001b[0;34m\u001b[0m\u001b[0m\n\u001b[0m\u001b[1;32m    365\u001b[0m \u001b[0;34m\u001b[0m\u001b[0m\n\u001b[1;32m    366\u001b[0m         \u001b[0;32mif\u001b[0m \u001b[0mself\u001b[0m\u001b[0;34m.\u001b[0m\u001b[0mcommand\u001b[0m \u001b[0;34m==\u001b[0m \u001b[0;34m'plot'\u001b[0m\u001b[0;34m:\u001b[0m\u001b[0;34m\u001b[0m\u001b[0m\n",
      "\u001b[0;32m/Users/dhudsonsmith/anaconda3/lib/python3.5/site-packages/matplotlib/axes/_base.py\u001b[0m in \u001b[0;36m_xy_from_xy\u001b[0;34m(self, x, y)\u001b[0m\n\u001b[1;32m    221\u001b[0m         \u001b[0my\u001b[0m \u001b[0;34m=\u001b[0m \u001b[0m_check_1d\u001b[0m\u001b[0;34m(\u001b[0m\u001b[0my\u001b[0m\u001b[0;34m)\u001b[0m\u001b[0;34m\u001b[0m\u001b[0m\n\u001b[1;32m    222\u001b[0m         \u001b[0;32mif\u001b[0m \u001b[0mx\u001b[0m\u001b[0;34m.\u001b[0m\u001b[0mshape\u001b[0m\u001b[0;34m[\u001b[0m\u001b[0;36m0\u001b[0m\u001b[0;34m]\u001b[0m \u001b[0;34m!=\u001b[0m \u001b[0my\u001b[0m\u001b[0;34m.\u001b[0m\u001b[0mshape\u001b[0m\u001b[0;34m[\u001b[0m\u001b[0;36m0\u001b[0m\u001b[0;34m]\u001b[0m\u001b[0;34m:\u001b[0m\u001b[0;34m\u001b[0m\u001b[0m\n\u001b[0;32m--> 223\u001b[0;31m             \u001b[0;32mraise\u001b[0m \u001b[0mValueError\u001b[0m\u001b[0;34m(\u001b[0m\u001b[0;34m\"x and y must have same first dimension\"\u001b[0m\u001b[0;34m)\u001b[0m\u001b[0;34m\u001b[0m\u001b[0m\n\u001b[0m\u001b[1;32m    224\u001b[0m         \u001b[0;32mif\u001b[0m \u001b[0mx\u001b[0m\u001b[0;34m.\u001b[0m\u001b[0mndim\u001b[0m \u001b[0;34m>\u001b[0m \u001b[0;36m2\u001b[0m \u001b[0;32mor\u001b[0m \u001b[0my\u001b[0m\u001b[0;34m.\u001b[0m\u001b[0mndim\u001b[0m \u001b[0;34m>\u001b[0m \u001b[0;36m2\u001b[0m\u001b[0;34m:\u001b[0m\u001b[0;34m\u001b[0m\u001b[0m\n\u001b[1;32m    225\u001b[0m             \u001b[0;32mraise\u001b[0m \u001b[0mValueError\u001b[0m\u001b[0;34m(\u001b[0m\u001b[0;34m\"x and y can be no greater than 2-D\"\u001b[0m\u001b[0;34m)\u001b[0m\u001b[0;34m\u001b[0m\u001b[0m\n",
      "\u001b[0;31mValueError\u001b[0m: x and y must have same first dimension"
     ]
    },
    {
     "data": {
      "image/png": "[encoded data removed]",
      "text/plain": [
       "<matplotlib.figure.Figure at 0x1144b3048>"
      ]
     },
     "metadata": {},
     "output_type": "display_data"
    }
   ],
   "source": [
    "x = np.linspace(1,10,9)\n",
    "plt.xlim = [0,11]\n",
    "# plt.plot(x, np.abs(1-A1_df.test_mean_score), color = 'r', marker = 'o', label=\"1 layer\")\n",
    "plt.plot(x, np.abs(1-A2_df.test_mean_score), color = 'b', marker = '^', label=\"2 layers\")\n",
    "plt.axis([0, 11, 0, 0.1])\n",
    "plt.xlabel('Parameter case')\n",
    "plt.ylabel('% Error')\n",
    "plt.show()"
   ]
  },
  {
   "cell_type": "markdown",
   "metadata": {},
   "source": [
    "We will use the 6th case of the single-layer NN. Beyond this point, you get diminishing returns, and it doesn't appear that the 2-layer network offers any improvement."
   ]
  },
  {
   "cell_type": "markdown",
   "metadata": {},
   "source": [
    "### Hyperparameter tuning"
   ]
  },
  {
   "cell_type": "code",
   "execution_count": null,
   "metadata": {
    "ExecuteTime": {
     "end_time": "2016-07-12T22:35:08.366882",
     "start_time": "2016-07-13T01:48:27.026Z"
    },
    "collapsed": false
   },
   "outputs": [],
   "source": [
    "params_P = dict(\n",
    "    regr__hidden_layer_sizes = [(50,50)],\n",
    "    regr__alpha = [0.09, 0.1,0.11],\n",
    "    regr__beta_1 = [0.75, 0.85],\n",
    "    regr__beta_2 = [0.8,0.9]\n",
    "    )\n",
    "\n",
    "model_gs_P = GridSearchCV(model, \n",
    "                        param_grid = params_P,\n",
    "                        verbose = 4\n",
    "                       )\n",
    "model_gs_P.fit(X_train, y_train)"
   ]
  },
  {
   "cell_type": "code",
   "execution_count": null,
   "metadata": {
    "ExecuteTime": {
     "end_time": "2016-07-12T22:35:08.367361",
     "start_time": "2016-07-13T01:48:27.028Z"
    },
    "collapsed": false
   },
   "outputs": [],
   "source": [
    "print(\"Best parameters:\\n \", model_gs_P.best_params_)\n",
    "print(\"Best score:\\n\", model_gs_P.best_score_)\n",
    "model_best = model_gs_P.best_estimator_"
   ]
  },
  {
   "cell_type": "code",
   "execution_count": null,
   "metadata": {
    "ExecuteTime": {
     "end_time": "2016-07-12T22:35:08.367705",
     "start_time": "2016-07-13T01:48:27.031Z"
    },
    "collapsed": false
   },
   "outputs": [],
   "source": [
    "model_best.set_params(regr__verbose = True, regr__warm_start = True)\n",
    "model_best.fit(X_train, y_train)"
   ]
  },
  {
   "cell_type": "code",
   "execution_count": null,
   "metadata": {
    "ExecuteTime": {
     "end_time": "2016-07-12T22:35:08.367965",
     "start_time": "2016-07-13T01:48:27.033Z"
    },
    "collapsed": true
   },
   "outputs": [],
   "source": [
    "# Save the network:\n",
    "from sklearn.externals import joblib\n",
    "filepath = \"../Data/NN/NN\" + str(NV) \\\n",
    "    + \"_NB\" + str(NB) + \"_lam\" \\\n",
    "    + str(lam) + \"_V20\" + str(V20) + \".pkl\"\n",
    "joblib.dump(model_best, filepath);"
   ]
  },
  {
   "cell_type": "markdown",
   "metadata": {},
   "source": [
    "## Validation"
   ]
  },
  {
   "cell_type": "markdown",
   "metadata": {},
   "source": [
    "We now test the NN on the test set. We measure the error for each eigenvalue relative to the width of the distribution of that eigenvalue over all of the generated potentials. Alternatively (and similarly) one could measure the error relative to the error incurred by simply guessing that the correct value equaled the uniform square-well value."
   ]
  },
  {
   "cell_type": "code",
   "execution_count": null,
   "metadata": {
    "ExecuteTime": {
     "end_time": "2016-07-12T22:35:08.368284",
     "start_time": "2016-07-13T01:48:27.035Z"
    },
    "collapsed": false
   },
   "outputs": [],
   "source": [
    "y_pred = model_best.predict(X_test)\n",
    "y_scaled_err = np.sqrt(np.mean((y_pred - y_test)**2/dataSD[0:numeigs]**2, axis = 0))\n",
    "print(\"Scaled RMS error by eigenvalue:\\n\", y_scaled_err)\n",
    "print(\"Average of scaled RMS errors:\\n \", np.mean(np.abs(y_scaled_err)))"
   ]
  },
  {
   "cell_type": "markdown",
   "metadata": {},
   "source": [
    "# Visualizing the results"
   ]
  },
  {
   "cell_type": "code",
   "execution_count": null,
   "metadata": {
    "ExecuteTime": {
     "end_time": "2016-07-12T22:35:08.368550",
     "start_time": "2016-07-13T01:48:27.039Z"
    },
    "collapsed": false
   },
   "outputs": [],
   "source": [
    "nrows = 1\n",
    "ncols = 4\n",
    "nplot = nrows * ncols\n",
    "indplt = randint(0,X_test.shape[0], nplot)\n",
    "numeigsplt = 4\n",
    "\n",
    "def E0(n):\n",
    "    return n**2 * np.pi**2 / 8.\n",
    "\n",
    "plt.clf()\n",
    "fig, axes = plt.subplots(nrows = nrows, ncols = ncols)\n",
    "fig.set_size_inches(3*ncols,10*nrows)\n",
    "subax = axes.flat\n",
    "\n",
    "for i in range(0, len(indplt)):\n",
    "        subax[i].plot(xs, X_test[indplt[i]], linewidth = 2, label='$V(x)$')\n",
    "        subax[i].axhline(y=0,xmin=-1,xmax=1, linestyle='solid' ,color = 'k', lw=0.5)\n",
    "        for j in range(0, numeigsplt):\n",
    "            lastaxNN = subax[i].axhline(y=E0(j+1)+y_pred[indplt[i],j], xmin = -1, xmax = 1, \n",
    "                             ls = 'solid', color = 'r', lw = 3, label = 'Neural Network')\n",
    "            lastaxSE = subax[i].axhline(y=E0(j+1)+y_test[indplt[i],j], xmin = -1, xmax = 1, \n",
    "                             ls = 'dashed', color = 'k', lw =3, label = 'Schr. Eqn.')\n",
    "\n",
    "        subax[i].set_xlabel(\"x\")\n",
    "        subax[i].set_ylabel(\"V(x)\")\n",
    "        subax[i].set_ylim((-V20, 1.2*E0(numeigsplt)))\n",
    "        subax[i].legend([lastaxNN, lastaxSE], [\"Neural Network\", \"Schr. Eqn.\"])\n",
    "\n",
    "plt.tight_layout();\n",
    "plt.show();\n",
    "plt.draw()\n",
    "fig.savefig(\"../Plots/NNPred.png\")"
   ]
  }
 ],
 "metadata": {
  "anaconda-cloud": {},
  "kernelspec": {
   "display_name": "Python [Root]",
   "language": "python",
   "name": "Python [Root]"
  },
  "language_info": {
   "codemirror_mode": {
    "name": "ipython",
    "version": 3
   },
   "file_extension": ".py",
   "mimetype": "text/x-python",
   "name": "python",
   "nbconvert_exporter": "python",
   "pygments_lexer": "ipython3",
   "version": "3.5.1"
  },
  "toc": {
   "toc_cell": false,
   "toc_number_sections": true,
   "toc_threshold": 6,
   "toc_window_display": false
  }
 },
 "nbformat": 4,
 "nbformat_minor": 0
}
