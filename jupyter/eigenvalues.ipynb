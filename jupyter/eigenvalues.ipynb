{
 "cells": [
  {
   "cell_type": "markdown",
   "metadata": {},
   "source": [
    "# Introduction\n",
    "In this notebook we solve Schroedinger's equation for the random potentials generated in the \"potentials.ipynb' jupyter notebook.\n",
    "\n",
    "We solve for the eigenspectrum by representing the Hamiltonian for the system in the basis of \"particle in a box\" states. Let $H_0$ be the Hamiltonian for the box potential $V_0(x) = 0,\\,\\,|x|<1$ and $V_0\\rightarrow \\infty,\\,\\,{\\rm else}$. Schroedinger's equation for the box potential is\n",
    "\n",
    "$$\n",
    "(T+V_0)|\\psi^0_n\\rangle = E_n^0 |\\psi^0_n\\rangle.\n",
    "$$\n",
    "\n",
    "The position-space box eigenstates are\n",
    "\n",
    "$$\n",
    "\\psi^0_n(x) = \\sin\\left[\\frac{n\\pi}{2}(x+1)\\right],\\,\\, |x|\\leq 1\n",
    "$$\n",
    "\n",
    "Outside the box, the eigenfunctions are zero. The eigenvalues are (using units where $\\hbar = m = 1$):\n",
    "\n",
    "$$\n",
    "E_n^0 = \\frac{n^2\\pi^2}{8}\n",
    "$$\n",
    "\n",
    "\n",
    "We wish to find the spectrum of the Hamiltonian with the randomly generated potential V. Schroedinger's equation is\n",
    "\n",
    "$$\n",
    "\\left[T+V_0 + (V - V_0)\\right]|\\psi\\rangle = E |\\psi\\rangle.\n",
    "$$\n",
    "\n",
    "We now expand $|\\psi_n\\rangle$ in box states:\n",
    "\n",
    "$$\n",
    "|\\psi\\rangle = \\sum\\limits_{n=1}^\\infty a_n |\\psi_n^0\\rangle.\n",
    "$$\n",
    "\n",
    "Projecting out the $\\langle\\psi_n^0|$ component, we obtain\n",
    "\n",
    "$$\n",
    "\\sum\\limits_{m = 1}^\\infty\\left[E_n^0\\delta_{nm} + \\langle\\psi_n^0|(V-V_0)| \\psi_m^0 \\rangle\\right] a_m = E_n a_n\n",
    "$$\n",
    "\n",
    "Thus, the problem of calculating the spectrum reduces to finding the eigensystem of the matrix $H$ with elements\n",
    "\n",
    "$$\n",
    "(H)_{nm} = E_n^0\\delta_{nm} + \\langle\\psi_n^0|(V-V_0)| \\psi_m^0 \\rangle\n",
    "$$\n",
    "\n",
    "As a final step, we note that we have randomly generated the potentials as Fourier series:\n",
    "$$\n",
    "V(x) = \\sum\\limits_{k=1}^{n_{\\rm max}} \\left[V_n^S\\sin(n\\pi x) + V_n^C \\cos(n\\pi x)\\right]\n",
    "$$\n",
    "Thus, the calculation of the matrix elements of $H$ can be expressed as calculating the matrix elements of the Fourier components, all of which can be done analytically. This we have done in the mathematica notebook titled 'matrixElements.nb'. We use those results here."
   ]
  },
  {
   "cell_type": "markdown",
   "metadata": {},
   "source": [
    "# Preliminaries"
   ]
  },
  {
   "cell_type": "code",
   "execution_count": null,
   "metadata": {
    "ExecuteTime": {
     "end_time": "2016-07-15T21:47:30.978328",
     "start_time": "2016-07-15T21:47:30.415867"
    },
    "collapsed": false
   },
   "outputs": [],
   "source": [
    "%matplotlib inline\n",
    "import numpy as np\n",
    "from numpy.random import normal, randint\n",
    "import matplotlib.pyplot as plt\n",
    "from numpy.polynomial.legendre import legval\n",
    "import pprint\n",
    "\n",
    "# Number of basis states for the wavefunctions\n",
    "NBW = 40\n",
    "nbws = np.arange(1, NBW+1)\n",
    "# Number of potentials:\n",
    "NV = int(1E5)\n",
    "# Number of basis states in the potential:\n",
    "NB = 10\n",
    "ns = np.arange(1, NB+1)\n",
    "# lambda (variance of Legendre coefficients):\n",
    "lam = 0.75\n",
    "# The variance of the n=0 legendre coefficient V_0:\n",
    "V20 = 10\n",
    "\n",
    "# Input file:\n",
    "filepath = \"../Data/potentials_NV\" + str(NV) \\\n",
    "    + \"_NB\" + str(NB) + \"_lam\" \\\n",
    "    + str(lam) + \"_V20\" + str(V20) + \".npy\"\n",
    "VSns, VCns = np.load(filepath)\n",
    "print(np.shape(VSns))\n",
    "print(np.shape(VCns))"
   ]
  },
  {
   "cell_type": "markdown",
   "metadata": {},
   "source": [
    "# Matrix elements of Fourier components"
   ]
  },
  {
   "cell_type": "code",
   "execution_count": null,
   "metadata": {
    "ExecuteTime": {
     "end_time": "2016-07-15T21:47:30.989405",
     "start_time": "2016-07-15T21:47:30.980005"
    },
    "collapsed": false
   },
   "outputs": [],
   "source": [
    "def matelS(indices):\n",
    "    n,m,k = indices\n",
    "    if(m==n-2*k or m==n+2*k or m==-n + 2*k):\n",
    "        return 0\n",
    "    else:\n",
    "        return (-8*(-1)**k*(-1 + (-1)**(m + n))*k*m*n)/ \\\n",
    "            ((2*k + m - n)*(2*k - m + n)*(-2*k + m + n)* \\\n",
    "             (2*k + m + n)*np.pi)\n",
    "\n",
    "def matelC(indices):\n",
    "    n,m,k = indices\n",
    "    if m==n-2*k or m==n+2*k:\n",
    "        return (-1)**k / 2.\n",
    "    elif m==-n+2*k:\n",
    "        return -(-1)**k / 2.\n",
    "    else:\n",
    "        return 0."
   ]
  },
  {
   "cell_type": "markdown",
   "metadata": {},
   "source": [
    "Precache all of the Fourier component matrix elements:"
   ]
  },
  {
   "cell_type": "code",
   "execution_count": null,
   "metadata": {
    "ExecuteTime": {
     "end_time": "2016-07-15T21:47:31.086889",
     "start_time": "2016-07-15T21:47:30.991239"
    },
    "collapsed": false
   },
   "outputs": [],
   "source": [
    "# We could use symmetry to reduce calculation time, but time doesn't seem to be an issue here\n",
    "VSmnk = np.zeros((NBW, NBW, NB));\n",
    "for n in range(1,NBW+1):\n",
    "    for m in range(1, NBW+1):\n",
    "        for k in range(1, NB):\n",
    "            VSmnk[n-1,m-1,k-1] = matelS([n,m,k])\n",
    "            \n",
    "VCmnk = np.zeros((NBW, NBW, NB));\n",
    "for n in range(1,NBW+1):\n",
    "    for m in range(1, NBW+1):\n",
    "        for k in range(1, NB+1):\n",
    "            VCmnk[n-1,m-1,k-1] = matelC([n,m,k])"
   ]
  },
  {
   "cell_type": "code",
   "execution_count": null,
   "metadata": {
    "ExecuteTime": {
     "end_time": "2016-07-15T21:47:31.093485",
     "start_time": "2016-07-15T21:47:31.088371"
    },
    "collapsed": false
   },
   "outputs": [],
   "source": [
    "print(VSmnk.shape)\n",
    "print(VCmnk.shape)"
   ]
  },
  {
   "cell_type": "markdown",
   "metadata": {},
   "source": [
    "## Visualize the matrices "
   ]
  },
  {
   "cell_type": "code",
   "execution_count": null,
   "metadata": {
    "ExecuteTime": {
     "end_time": "2016-07-15T21:47:31.102625",
     "start_time": "2016-07-15T21:47:31.095421"
    },
    "collapsed": false
   },
   "outputs": [],
   "source": [
    "X, Y = np.meshgrid(nbws,nbws)\n",
    "ZSs = VSmnk[X-1,Y-1,::]\n",
    "ZCs = VCmnk[X-1,Y-1,::]"
   ]
  },
  {
   "cell_type": "code",
   "execution_count": null,
   "metadata": {
    "ExecuteTime": {
     "end_time": "2016-07-15T21:47:34.169572",
     "start_time": "2016-07-15T21:47:31.104585"
    },
    "collapsed": false
   },
   "outputs": [],
   "source": [
    "nrows = 3\n",
    "ncols = 3\n",
    "nplot = nrows * ncols\n",
    "z_min, z_max = -np.abs(ZSs).max(), np.abs(ZSs).max()\n",
    "\n",
    "# The Sines\n",
    "plt.clf()\n",
    "fig, axes = plt.subplots(nrows = nrows, ncols = ncols)\n",
    "fig.subplots_adjust(hspace=0.3)\n",
    "fig.set_size_inches(2.5*ncols,2.5*nrows)\n",
    "subax = axes.flat\n",
    "\n",
    "for i in range(0,nplot):\n",
    "        im = subax[i].pcolor(X,Y, ZSs[::,::,i], cmap = 'RdBu', vmin = z_min, vmax = z_max)\n",
    "        subax[i].set_title(\"Sine, k=\"+str(i+1))\n",
    "\n",
    "fig.subplots_adjust(right=0.8)\n",
    "cbar_ax = fig.add_axes([0.85, 0.15, 0.05, 0.7])\n",
    "fig.colorbar(im, cax=cbar_ax)\n",
    "        \n",
    "#plt.tight_layout()\n",
    "plt.show()\n",
    "\n",
    "# The Cosines\n",
    "plt.clf()\n",
    "fig, axes = plt.subplots(nrows = nrows, ncols = ncols)\n",
    "fig.subplots_adjust(hspace=0.3)\n",
    "fig.set_size_inches(2.5*ncols,2.5*nrows)\n",
    "subax = axes.flat\n",
    "\n",
    "for i in range(0,nplot):\n",
    "        im = subax[i].pcolor(X,Y, ZCs[::,::,i], cmap = 'RdBu', vmin = z_min, vmax = z_max)\n",
    "        subax[i].set_title(\"Cosine, k=\"+str(i+1))\n",
    "        \n",
    "fig.subplots_adjust(right=0.8)\n",
    "cbar_ax = fig.add_axes([0.85, 0.15, 0.05, 0.7])\n",
    "fig.colorbar(im, cax=cbar_ax)\n",
    "        \n",
    "#plt.tight_layout()\n",
    "plt.show()"
   ]
  },
  {
   "cell_type": "markdown",
   "metadata": {},
   "source": [
    "# The Hamiltonian matrix elements"
   ]
  },
  {
   "cell_type": "code",
   "execution_count": null,
   "metadata": {
    "ExecuteTime": {
     "end_time": "2016-07-15T21:47:51.783882",
     "start_time": "2016-07-15T21:47:34.171108"
    },
    "collapsed": false
   },
   "outputs": [],
   "source": [
    "def E0(n):\n",
    "    return n**2 * np.pi**2 / 8.\n",
    "\n",
    "E0ns = np.diag(E0(nbws))\n",
    "print(VSns.shape, VCns.shape)\n",
    "print(VSmnk.shape, VCmnk.shape)\n",
    "\n",
    "# Be aware: for tensors, np.dot(A,B) sums over the last index of A\n",
    "# and the SECOND-TO-LAST index of B. It appears that you cannot change this\n",
    "Vmns = np.dot(VSns, np.transpose(VSmnk,axes=(0,2,1))) \\\n",
    "    + np.dot(VCns, np.transpose(VCmnk,axes=(0,2,1)))\n",
    "\n",
    "Hmns = E0ns + Vmns\n",
    "print(Vmns.shape)"
   ]
  },
  {
   "cell_type": "markdown",
   "metadata": {},
   "source": [
    "## Visualize the Hamiltonian matrices"
   ]
  },
  {
   "cell_type": "code",
   "execution_count": null,
   "metadata": {
    "ExecuteTime": {
     "end_time": "2016-07-15T21:47:51.799538",
     "start_time": "2016-07-15T21:47:51.786674"
    },
    "collapsed": false
   },
   "outputs": [],
   "source": [
    "X, Y = np.meshgrid(nbws,nbws)\n",
    "ZSs = VSmnk[X-1,Y-1,::]\n",
    "ZCs = VCmnk[X-1,Y-1,::]\n",
    "\n",
    "nrows = 2\n",
    "ncols = 2\n",
    "nplot = nrows * ncols\n",
    "Hints = randint(0,NV, nplot)\n",
    "Hplot = Vmns[Hints]\n",
    "z_min, z_max = -np.abs(Hplot).max(), np.abs(Hplot).max()"
   ]
  },
  {
   "cell_type": "code",
   "execution_count": null,
   "metadata": {
    "ExecuteTime": {
     "end_time": "2016-07-15T21:47:53.081280",
     "start_time": "2016-07-15T21:47:51.804586"
    },
    "collapsed": false
   },
   "outputs": [],
   "source": [
    "# The Sines\n",
    "plt.clf()\n",
    "fig, axes = plt.subplots(nrows = nrows, ncols = ncols)\n",
    "fig.subplots_adjust(hspace=0.3)\n",
    "fig.set_size_inches(4.5*ncols,4.5*nrows)\n",
    "subax = axes.flat\n",
    "\n",
    "for i in range(0,nplot):\n",
    "        im = subax[i].pcolor(X,Y, Hplot[i], cmap = 'RdBu', vmin = z_min, vmax = z_max)\n",
    "        subax[i].set_title(\"V, i=\"+str(Hints[i]))\n",
    "\n",
    "fig.subplots_adjust(right=0.8)\n",
    "cbar_ax = fig.add_axes([0.85, 0.15, 0.05, 0.7])\n",
    "fig.colorbar(im, cax=cbar_ax)\n",
    "        \n",
    "#plt.tight_layout()\n",
    "plt.show()"
   ]
  },
  {
   "cell_type": "markdown",
   "metadata": {},
   "source": [
    "# Eigenvalues"
   ]
  },
  {
   "cell_type": "code",
   "execution_count": null,
   "metadata": {
    "ExecuteTime": {
     "end_time": "2016-07-15T21:49:02.266802",
     "start_time": "2016-07-15T21:47:53.087861"
    },
    "collapsed": false
   },
   "outputs": [],
   "source": [
    "import time\n",
    "start = time.time()\n",
    "eigvals, eigvecs = np.linalg.eig(Hmns)\n",
    "end = time.time()\n",
    "print(\"Eigenvalues shape:\", eigvals.shape)\n",
    "print(\"Elapsed time:\", end-start, \"seconds\")\n",
    "print(\"Time per eigenvalue\", (end-start)/(NV*NBW))"
   ]
  },
  {
   "cell_type": "code",
   "execution_count": null,
   "metadata": {
    "collapsed": false
   },
   "outputs": [],
   "source": [
    "idx = eigvals.argsort()\n",
    "eigvals = np.asarray([eigvals[i,b] for i,b in enumerate(idx)])\n",
    "eigvecs = np.asarray([eigvecs[i,:,b] for i,b in enumerate(idx)])"
   ]
  },
  {
   "cell_type": "markdown",
   "metadata": {},
   "source": [
    "# Plot the potentials and eigenvalues"
   ]
  },
  {
   "cell_type": "code",
   "execution_count": null,
   "metadata": {
    "ExecuteTime": {
     "end_time": "2016-07-15T21:49:02.286789",
     "start_time": "2016-07-15T21:49:02.271405"
    },
    "collapsed": true
   },
   "outputs": [],
   "source": [
    "def VS(ns, xs):\n",
    "    return np.sin(np.pi*np.outer(ns,xs))\n",
    "def VC(ns, xs):\n",
    "    return np.cos(np.pi*np.outer(ns,xs))"
   ]
  },
  {
   "cell_type": "code",
   "execution_count": null,
   "metadata": {
    "ExecuteTime": {
     "end_time": "2016-07-15T21:49:02.760606",
     "start_time": "2016-07-15T21:49:02.288976"
    },
    "collapsed": false
   },
   "outputs": [],
   "source": [
    "Nx = 100\n",
    "xs = np.linspace(-1,1,100)\n",
    "#Vgrid = legval(xs, np.transpose(Vns))\n",
    "VSs = VS(ns,xs)\n",
    "VCs = VC(ns,xs)\n",
    "\n",
    "Vgrid = np.dot(VSns,VSs) + np.dot(VCns,VCs)"
   ]
  },
  {
   "cell_type": "code",
   "execution_count": null,
   "metadata": {
    "ExecuteTime": {
     "end_time": "2016-07-15T21:49:03.905319",
     "start_time": "2016-07-15T21:49:02.764214"
    },
    "collapsed": false
   },
   "outputs": [],
   "source": [
    "nrows = 1\n",
    "ncols = 4\n",
    "nplot = nrows * ncols\n",
    "Vints = randint(0,NV, nplot)\n",
    "Vplot = Vgrid[Vints,::]\n",
    "eigplot = eigvals[Vints,::]\n",
    "numeigs = 4\n",
    "\n",
    "plt.clf()\n",
    "fig, axes = plt.subplots(nrows = nrows, ncols = ncols)\n",
    "fig.set_size_inches(3*ncols,6*nrows)\n",
    "subax = axes.flat\n",
    "\n",
    "for i in range(0,nplot):\n",
    "        subax[i].plot(xs, Vplot[i], linewidth = 2)\n",
    "        subax[i].axhline(y=0,xmin=-1,xmax=1, linestyle='solid' ,color = 'k', lw=0.5)\n",
    "        for j in range(0, numeigs):\n",
    "            subax[i].axhline(y=eigplot[i,j], xmin = -1, xmax = 1, \n",
    "                             ls = 'solid', color = 'r', lw =2)\n",
    "            subax[i].axhline(y=E0(j+1), xmin = -1, xmax = 1, \n",
    "                             ls = 'dotted', color = 'k', lw = 2)\n",
    "        subax[i].set_xlabel(\"x\")\n",
    "        subax[i].set_ylabel(\"V(x)\")\n",
    "        subax[i].set_ylim((-3*np.sqrt(V20),1.5*E0(numeigs)))\n",
    "\n",
    "plt.tight_layout()\n",
    "plt.show()"
   ]
  },
  {
   "cell_type": "code",
   "execution_count": null,
   "metadata": {
    "collapsed": false
   },
   "outputs": [],
   "source": [
    "# Plot the probability distributions\n",
    "def psi0(n,x):\n",
    "    return np.sin(np.pi/2*np.outer(n,x+1))\n",
    "\n",
    "psiComp = psi0(nbws,xs)\n",
    "psi=np.dot(eigvecs,psiComp)\n",
    "prob = psi**2"
   ]
  },
  {
   "cell_type": "code",
   "execution_count": null,
   "metadata": {
    "collapsed": false
   },
   "outputs": [],
   "source": [
    "# Plot for presentation\n",
    "# Font size\n",
    "font = {'family': 'normal',\n",
    "        'weight': 'normal',\n",
    "        'size': 22}\n",
    "\n",
    "plt.rc('font', **font)\n",
    "\n",
    "nrows = 1\n",
    "ncols = 4\n",
    "nplot = nrows * ncols\n",
    "Vints = randint(0,NV, nplot)\n",
    "Vplot = Vgrid[Vints,::]\n",
    "eigplot = eigvals[Vints,::]\n",
    "numeigs = 4\n",
    "\n",
    "plt.clf()\n",
    "fig, axes = plt.subplots(nrows = nrows, ncols = ncols, sharey='all', sharex='all')\n",
    "fig.set_size_inches(8+8./3.,5)\n",
    "subax = axes.flat\n",
    "\n",
    "for i in range(0,nplot):\n",
    "        subax[i].plot(xs, Vplot[i], linewidth = 2)\n",
    "        for j in range(0, numeigs):\n",
    "            subax[i].fill_between(xs, eigplot[i,j], eigplot[i,j]+1.5*prob[Vints[i],j], lw=2, color='r')\n",
    "            subax[i].get_xaxis().set_ticks([-1,0,1])\n",
    "#             subax[i].get_yaxis().set_ticks([])\n",
    "            subax[i].axhline(y=eigplot[i,j], xmin = -1, xmax = 1, \n",
    "                             ls = 'dashed', color = 'k', lw =3)\n",
    "            subax[i].vlines(x=-1, ymin = Vplot[i,0], ymax = 3*E0(numeigs), lw=3, color='b')\n",
    "            subax[i].vlines(x=1, ymin = Vplot[i,-1], ymax = 3*E0(numeigs), lw=3, color='b')\n",
    "        if i >= (nrows-1)*ncols:\n",
    "            subax[i].set_xlabel(\"$x$\")\n",
    "        if i is 0 or i is ncols:\n",
    "            subax[i].set_ylabel(\"$V(x)$\")\n",
    "        subax[i].set_ylim((-2.85*np.sqrt(V20),1.2*E0(numeigs)))\n",
    "\n",
    "#plt.tight_layout()\n",
    "plt.show()\n",
    "fig.savefig(\"../Presentation/Plots/solution_ensemble.png\")"
   ]
  },
  {
   "cell_type": "markdown",
   "metadata": {},
   "source": [
    "# Distribution of the eigenvalues\n",
    "We now examine the distribution of the eigenvalues. In particular, we plot the distributions of\n",
    "$$\n",
    "\\Delta\\epsilon_n = \\frac{E_n - E_n^0}{\\sqrt{\\langle V_0^2 \\rangle}}\n",
    "$$\n",
    "This is the shift in the energy for the $n^{\\rm th}$ eigenvalue scaled by the variance in the first Fourier coefficient."
   ]
  },
  {
   "cell_type": "code",
   "execution_count": null,
   "metadata": {
    "ExecuteTime": {
     "end_time": "2016-07-15T21:49:03.963172",
     "start_time": "2016-07-15T21:49:03.907046"
    },
    "collapsed": false
   },
   "outputs": [],
   "source": [
    "deltaeps = (eigvals-np.diag(E0ns))/np.sqrt(V20)\n",
    "print(deltaeps.shape)"
   ]
  },
  {
   "cell_type": "code",
   "execution_count": null,
   "metadata": {
    "ExecuteTime": {
     "end_time": "2016-07-15T21:49:11.803857",
     "start_time": "2016-07-15T21:49:03.965094"
    },
    "collapsed": false
   },
   "outputs": [],
   "source": [
    "nrows = 10\n",
    "ncols = 1\n",
    "nplots = nrows*ncols\n",
    "plt.clf()\n",
    "fig, axes = plt.subplots(nrows, ncols)\n",
    "fig.set_size_inches(8*ncols,1.5*nrows)\n",
    "subax = axes.flat\n",
    "\n",
    "nbins = 60\n",
    "for i in range(0, nrows):\n",
    "    subax[i].hist(deltaeps[::,i], nbins*(i+1), normed = 1, facecolor = 'green', \n",
    "                  alpha = 1, range = [-3,1])\n",
    "\n",
    "plt.tight_layout()\n",
    "plt.show()"
   ]
  },
  {
   "cell_type": "markdown",
   "metadata": {},
   "source": [
    "We now calculate the standard deviation for each $\\Delta\\epsilon_n$. "
   ]
  },
  {
   "cell_type": "code",
   "execution_count": null,
   "metadata": {
    "ExecuteTime": {
     "end_time": "2016-07-15T21:49:11.848857",
     "start_time": "2016-07-15T21:49:11.805839"
    },
    "collapsed": false
   },
   "outputs": [],
   "source": [
    "mu = np.mean(deltaeps, axis = 0)\n",
    "stddev = np.std(deltaeps, axis = 0)"
   ]
  },
  {
   "cell_type": "code",
   "execution_count": null,
   "metadata": {
    "ExecuteTime": {
     "end_time": "2016-07-15T21:49:12.259363",
     "start_time": "2016-07-15T21:49:11.850857"
    },
    "collapsed": false
   },
   "outputs": [],
   "source": [
    "plt.clf()\n",
    "plt.plot(range(1,11), stddev[0:10], color = 'b', lw = 2)\n",
    "plt.plot(range(1,11), mu[0:10], color = 'r', lw = 2)\n",
    "\n",
    "plt.tight_layout()\n",
    "plt.show()"
   ]
  },
  {
   "cell_type": "markdown",
   "metadata": {
    "collapsed": true
   },
   "source": [
    "# Data Export\n",
    "We will export an array containing the Fourier coefficients for each potential and the first 20 corresponding eigenvalues. The shape of the resulting array will be (NV, 2NB + 20). Keeping this shape in mind is critical when reading back in the data. "
   ]
  },
  {
   "cell_type": "code",
   "execution_count": null,
   "metadata": {
    "ExecuteTime": {
     "end_time": "2016-07-15T21:49:12.264194",
     "start_time": "2016-07-15T21:49:12.260893"
    },
    "collapsed": false
   },
   "outputs": [],
   "source": [
    "print(VSns.shape, VCns.shape, deltaeps.shape)"
   ]
  },
  {
   "cell_type": "code",
   "execution_count": null,
   "metadata": {
    "ExecuteTime": {
     "end_time": "2016-07-15T21:49:12.310940",
     "start_time": "2016-07-15T21:49:12.266080"
    },
    "collapsed": false
   },
   "outputs": [],
   "source": [
    "# Output file:\n",
    "outfilepath = \"../Data/eigenvalues_NV\" + str(NV) \\\n",
    "    + \"_NB\" + str(NB) + \"_lam\" \\\n",
    "    + str(lam) + \"_V20\" + str(V20) + \".npy\"\n",
    "outfilepathSD = \"../Data/eigenvaluesSD_NV\" + str(NV) \\\n",
    "    + \"_NB\" + str(NB) + \"_lam\" \\\n",
    "    + str(lam) + \"_V20\" + str(V20) + \".npy\"\n",
    "\n",
    "\n",
    "outData = np.concatenate((VSns, VCns, deltaeps), axis = 1)"
   ]
  },
  {
   "cell_type": "code",
   "execution_count": null,
   "metadata": {
    "ExecuteTime": {
     "end_time": "2016-07-15T21:49:12.541150",
     "start_time": "2016-07-15T21:49:12.313209"
    },
    "collapsed": false
   },
   "outputs": [],
   "source": [
    "np.save(outfilepath, outData)\n",
    "print(outData.shape)\n",
    "\n",
    "np.save(outfilepathSD, stddev)\n",
    "stddev.shape"
   ]
  },
  {
   "cell_type": "code",
   "execution_count": null,
   "metadata": {
    "collapsed": true
   },
   "outputs": [],
   "source": []
  }
 ],
 "metadata": {
  "anaconda-cloud": {},
  "kernelspec": {
   "display_name": "Python [Root]",
   "language": "python",
   "name": "Python [Root]"
  },
  "language_info": {
   "codemirror_mode": {
    "name": "ipython",
    "version": 3
   },
   "file_extension": ".py",
   "mimetype": "text/x-python",
   "name": "python",
   "nbconvert_exporter": "python",
   "pygments_lexer": "ipython3",
   "version": "3.5.1"
  },
  "toc": {
   "toc_cell": false,
   "toc_number_sections": true,
   "toc_threshold": 6,
   "toc_window_display": false
  }
 },
 "nbformat": 4,
 "nbformat_minor": 0
}
